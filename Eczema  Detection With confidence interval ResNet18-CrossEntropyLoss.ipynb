{
 "cells": [
  {
   "cell_type": "code",
   "execution_count": 1,
   "id": "13249331",
   "metadata": {},
   "outputs": [
    {
     "name": "stdout",
     "output_type": "stream",
     "text": [
      "Requirement already satisfied: torchmetrics in c:\\users\\water\\.conda\\envs\\aihc-py39\\lib\\site-packages (1.6.0)\n",
      "Requirement already satisfied: numpy>1.20.0 in c:\\users\\water\\.conda\\envs\\aihc-py39\\lib\\site-packages (from torchmetrics) (2.0.2)\n",
      "Requirement already satisfied: packaging>17.1 in c:\\users\\water\\.conda\\envs\\aihc-py39\\lib\\site-packages (from torchmetrics) (24.1)\n",
      "Requirement already satisfied: torch>=2.0.0 in c:\\users\\water\\.conda\\envs\\aihc-py39\\lib\\site-packages (from torchmetrics) (2.5.1+cu121)\n",
      "Requirement already satisfied: lightning-utilities>=0.8.0 in c:\\users\\water\\.conda\\envs\\aihc-py39\\lib\\site-packages (from torchmetrics) (0.11.8)\n",
      "Requirement already satisfied: setuptools in c:\\users\\water\\.conda\\envs\\aihc-py39\\lib\\site-packages (from lightning-utilities>=0.8.0->torchmetrics) (75.1.0)\n",
      "Requirement already satisfied: typing-extensions in c:\\users\\water\\.conda\\envs\\aihc-py39\\lib\\site-packages (from lightning-utilities>=0.8.0->torchmetrics) (4.11.0)\n",
      "Requirement already satisfied: filelock in c:\\users\\water\\.conda\\envs\\aihc-py39\\lib\\site-packages (from torch>=2.0.0->torchmetrics) (3.13.1)\n",
      "Requirement already satisfied: networkx in c:\\users\\water\\.conda\\envs\\aihc-py39\\lib\\site-packages (from torch>=2.0.0->torchmetrics) (3.2.1)\n",
      "Requirement already satisfied: jinja2 in c:\\users\\water\\.conda\\envs\\aihc-py39\\lib\\site-packages (from torch>=2.0.0->torchmetrics) (3.1.4)\n",
      "Requirement already satisfied: fsspec in c:\\users\\water\\.conda\\envs\\aihc-py39\\lib\\site-packages (from torch>=2.0.0->torchmetrics) (2024.2.0)\n",
      "Requirement already satisfied: sympy==1.13.1 in c:\\users\\water\\.conda\\envs\\aihc-py39\\lib\\site-packages (from torch>=2.0.0->torchmetrics) (1.13.1)\n",
      "Requirement already satisfied: mpmath<1.4,>=1.1.0 in c:\\users\\water\\.conda\\envs\\aihc-py39\\lib\\site-packages (from sympy==1.13.1->torch>=2.0.0->torchmetrics) (1.3.0)\n",
      "Requirement already satisfied: MarkupSafe>=2.0 in c:\\users\\water\\.conda\\envs\\aihc-py39\\lib\\site-packages (from jinja2->torch>=2.0.0->torchmetrics) (3.0.1)\n"
     ]
    }
   ],
   "source": [
    "!pip install torchmetrics"
   ]
  },
  {
   "cell_type": "code",
   "execution_count": 2,
   "id": "74a6e9d4",
   "metadata": {},
   "outputs": [],
   "source": [
    "import pandas as pd\n",
    "from sklearn.model_selection import train_test_split\n",
    "import torch\n",
    "import torch.nn as nn\n",
    "import torchvision\n",
    "import torchvision.transforms as transforms\n",
    "from torchvision import datasets\n",
    "import matplotlib.pyplot as plt\n",
    "from sklearn.metrics import accuracy_score\n",
    "from sklearn.model_selection import train_test_split\n",
    "import pandas as pd\n",
    "import os\n",
    "import time\n",
    "\n",
    "# Load data files\n",
    "cases_df = pd.read_csv('dataset/scin_cases.csv')\n",
    "labels_df = pd.read_csv('dataset/scin_labels.csv')\n",
    "\n",
    "# Merge data frames on case_id\n",
    "merged_df = pd.merge(cases_df, labels_df, on='case_id')"
   ]
  },
  {
   "cell_type": "code",
   "execution_count": 3,
   "id": "6500e537",
   "metadata": {},
   "outputs": [
    {
     "data": {
      "text/plain": [
       "Index(['case_id', 'source', 'release', 'year', 'age_group', 'sex_at_birth',\n",
       "       'fitzpatrick_skin_type',\n",
       "       'race_ethnicity_american_indian_or_alaska_native',\n",
       "       'race_ethnicity_asian', 'race_ethnicity_black_or_african_american',\n",
       "       'race_ethnicity_hispanic_latino_or_spanish_origin',\n",
       "       'race_ethnicity_middle_eastern_or_north_african',\n",
       "       'race_ethnicity_native_hawaiian_or_pacific_islander',\n",
       "       'race_ethnicity_white', 'race_ethnicity_other_race',\n",
       "       'race_ethnicity_prefer_not_to_answer', 'textures_raised_or_bumpy',\n",
       "       'textures_flat', 'textures_rough_or_flaky', 'textures_fluid_filled',\n",
       "       'body_parts_head_or_neck', 'body_parts_arm', 'body_parts_palm',\n",
       "       'body_parts_back_of_hand', 'body_parts_torso_front',\n",
       "       'body_parts_torso_back', 'body_parts_genitalia_or_groin',\n",
       "       'body_parts_buttocks', 'body_parts_leg', 'body_parts_foot_top_or_side',\n",
       "       'body_parts_foot_sole', 'body_parts_other',\n",
       "       'condition_symptoms_bothersome_appearance',\n",
       "       'condition_symptoms_bleeding', 'condition_symptoms_increasing_size',\n",
       "       'condition_symptoms_darkening', 'condition_symptoms_itching',\n",
       "       'condition_symptoms_burning', 'condition_symptoms_pain',\n",
       "       'condition_symptoms_no_relevant_experience', 'other_symptoms_fever',\n",
       "       'other_symptoms_chills', 'other_symptoms_fatigue',\n",
       "       'other_symptoms_joint_pain', 'other_symptoms_mouth_sores',\n",
       "       'other_symptoms_shortness_of_breath',\n",
       "       'other_symptoms_no_relevant_symptoms', 'related_category',\n",
       "       'condition_duration', 'image_1_path', 'image_2_path', 'image_3_path',\n",
       "       'image_1_shot_type', 'image_2_shot_type', 'image_3_shot_type',\n",
       "       'combined_race', 'race_ethnicity_two_or_more_after_mitigation',\n",
       "       'dermatologist_gradable_for_skin_condition_1',\n",
       "       'dermatologist_gradable_for_skin_condition_2',\n",
       "       'dermatologist_gradable_for_skin_condition_3',\n",
       "       'dermatologist_skin_condition_on_label_name',\n",
       "       'dermatologist_skin_condition_confidence',\n",
       "       'weighted_skin_condition_label',\n",
       "       'dermatologist_gradable_for_fitzpatrick_skin_type_1',\n",
       "       'dermatologist_gradable_for_fitzpatrick_skin_type_2',\n",
       "       'dermatologist_gradable_for_fitzpatrick_skin_type_3',\n",
       "       'dermatologist_fitzpatrick_skin_type_label_1',\n",
       "       'dermatologist_fitzpatrick_skin_type_label_2',\n",
       "       'dermatologist_fitzpatrick_skin_type_label_3',\n",
       "       'gradable_for_monk_skin_tone_india', 'gradable_for_monk_skin_tone_us',\n",
       "       'monk_skin_tone_label_india', 'monk_skin_tone_label_us'],\n",
       "      dtype='object')"
      ]
     },
     "execution_count": 3,
     "metadata": {},
     "output_type": "execute_result"
    }
   ],
   "source": [
    "merged_df.columns"
   ]
  },
  {
   "cell_type": "code",
   "execution_count": 4,
   "id": "0a5f5892",
   "metadata": {
    "scrolled": true
   },
   "outputs": [
    {
     "data": {
      "text/plain": [
       "dermatologist_gradable_for_skin_condition_1\n",
       "DEFAULT_YES_IMAGE_QUALITY_SUFFICIENT                     3049\n",
       "NO_IMAGE_QUALITY_INSUFFICIENT                            1925\n",
       "YES_IMAGE_QUALITY_SUFFICIENT_NO_DISCERNIBLE_PATHOLOGY      59\n",
       "Name: count, dtype: int64"
      ]
     },
     "execution_count": 4,
     "metadata": {},
     "output_type": "execute_result"
    }
   ],
   "source": [
    "merged_df['dermatologist_gradable_for_skin_condition_1'].value_counts()"
   ]
  },
  {
   "cell_type": "code",
   "execution_count": 5,
   "id": "6abf5015",
   "metadata": {},
   "outputs": [
    {
     "data": {
      "text/plain": [
       "dermatologist_gradable_for_skin_condition_2\n",
       "DEFAULT_YES_IMAGE_QUALITY_SUFFICIENT                     464\n",
       "NO_IMAGE_QUALITY_INSUFFICIENT                            245\n",
       "YES_IMAGE_QUALITY_SUFFICIENT_NO_DISCERNIBLE_PATHOLOGY      7\n",
       "Name: count, dtype: int64"
      ]
     },
     "execution_count": 5,
     "metadata": {},
     "output_type": "execute_result"
    }
   ],
   "source": [
    "merged_df['dermatologist_gradable_for_skin_condition_2'].value_counts()"
   ]
  },
  {
   "cell_type": "code",
   "execution_count": 6,
   "id": "30a43ee6",
   "metadata": {},
   "outputs": [
    {
     "data": {
      "text/plain": [
       "dermatologist_gradable_for_skin_condition_3\n",
       "DEFAULT_YES_IMAGE_QUALITY_SUFFICIENT                     461\n",
       "NO_IMAGE_QUALITY_INSUFFICIENT                            243\n",
       "YES_IMAGE_QUALITY_SUFFICIENT_NO_DISCERNIBLE_PATHOLOGY     12\n",
       "Name: count, dtype: int64"
      ]
     },
     "execution_count": 6,
     "metadata": {},
     "output_type": "execute_result"
    }
   ],
   "source": [
    "merged_df['dermatologist_gradable_for_skin_condition_3'].value_counts()"
   ]
  },
  {
   "cell_type": "code",
   "execution_count": 7,
   "id": "1f3a47a0",
   "metadata": {},
   "outputs": [
    {
     "data": {
      "text/plain": [
       "dermatologist_skin_condition_confidence\n",
       "[]                          1972\n",
       "[5]                          312\n",
       "[4]                          208\n",
       "[2, 2, 2]                    178\n",
       "[2, 2]                       176\n",
       "                            ... \n",
       "[3, 3, 2, 4, 1, 1]             1\n",
       "[1, 1, 2, 2, 5]                1\n",
       "[1, 4, 1, 4, 2]                1\n",
       "[4, 4, 3, 1, 1]                1\n",
       "[4, 1, 1, 1, 1, 5, 4, 2]       1\n",
       "Name: count, Length: 547, dtype: int64"
      ]
     },
     "execution_count": 7,
     "metadata": {},
     "output_type": "execute_result"
    }
   ],
   "source": [
    "merged_df['dermatologist_skin_condition_confidence'].value_counts()"
   ]
  },
  {
   "cell_type": "code",
   "execution_count": 8,
   "id": "ebe100e0",
   "metadata": {},
   "outputs": [
    {
     "data": {
      "text/plain": [
       "weighted_skin_condition_label\n",
       "{}                                                                                                      1972\n",
       "{'Eczema': 1.0}                                                                                          127\n",
       "{'Urticaria': 1.0}                                                                                        85\n",
       "{'Allergic Contact Dermatitis': 1.0}                                                                      42\n",
       "{'Folliculitis': 1.0}                                                                                     38\n",
       "                                                                                                        ... \n",
       "{'Hidradenitis': 0.8, 'Abscess': 0.2}                                                                      1\n",
       "{'Drug Rash': 0.5, 'Allergic Contact Dermatitis': 0.5}                                                     1\n",
       "{'Rosacea': 0.55, 'Allergic Contact Dermatitis': 0.23, 'Cutaneous lupus': 0.23}                            1\n",
       "{'Chicken pox exanthem': 1.0}                                                                              1\n",
       "{'Leukocytoclastic Vasculitis': 0.55, 'Pigmented purpuric eruption': 0.27, 'Hypersensitivity': 0.18}       1\n",
       "Name: count, Length: 1942, dtype: int64"
      ]
     },
     "execution_count": 8,
     "metadata": {},
     "output_type": "execute_result"
    }
   ],
   "source": [
    "merged_df['weighted_skin_condition_label'].value_counts()"
   ]
  },
  {
   "cell_type": "code",
   "execution_count": 9,
   "id": "23296f5c",
   "metadata": {},
   "outputs": [
    {
     "data": {
      "text/plain": [
       "eczema\n",
       "-1    3423\n",
       " 0    1243\n",
       " 1     367\n",
       "Name: count, dtype: int64"
      ]
     },
     "execution_count": 9,
     "metadata": {},
     "output_type": "execute_result"
    }
   ],
   "source": [
    "import pandas as pd\n",
    "import ast\n",
    "\n",
    "def extract_eczema_value(row):\n",
    "    # Convert string to list and dictionary\n",
    "    confidence_list = ast.literal_eval(row['dermatologist_skin_condition_confidence'])\n",
    "    label_dict = ast.literal_eval(row['weighted_skin_condition_label'])\n",
    "\n",
    "    # Initialize eczema value to 0\n",
    "    eczema_value = -1 # not related to eczema or dermatitis\n",
    "\n",
    "    # Iterate over items in label dictionary\n",
    "    for i, (key, value) in enumerate(label_dict.items()):\n",
    "        column_name = f'dermatologist_gradable_for_skin_condition_{i+1}'\n",
    "        \n",
    "#         if i < 3: # only column_name_3 exists\n",
    "#             print(f\"column_name={column_name}, value ={row[column_name]} enumerate i ={i}\")\n",
    "        \n",
    "        # Check if key contains 'Eczema' or 'Dermatitis' and confidence is 4 or 5\n",
    "        if i< 3 and row[column_name] == 'DEFAULT_YES_IMAGE_QUALITY_SUFFICIENT':\n",
    "            if ('eczema' in key.lower() or 'dermatitis' in key.lower()) and confidence_list[i] in [3, 4, 5]:\n",
    "                eczema_value = value # eczema or dermatitis ccategory with positive samples\n",
    "                break\n",
    "            elif ('eczema' in key.lower() or 'dermatitis' in key.lower()) and confidence_list[i] in [1, 2]:\n",
    "                eczema_value = 0 # eczema or dermatitis ccategory but negative\n",
    "                break\n",
    "            else:\n",
    "                eczema_value = 0\n",
    "        else:\n",
    "            eczema_value = -1\n",
    "    \n",
    "    answer = -1\n",
    "    if eczema_value > 0.5:\n",
    "        answer = 1\n",
    "    elif eczema_value >= 0.0:\n",
    "        answer = 0\n",
    "    else:\n",
    "        answer = -1\n",
    "        \n",
    "    return answer\n",
    "\n",
    "# Apply function to dataframe\n",
    "merged_df['eczema'] = merged_df.apply(extract_eczema_value, axis=1)\n",
    "merged_df['eczema'].value_counts()"
   ]
  },
  {
   "cell_type": "code",
   "execution_count": 10,
   "id": "39eaf637",
   "metadata": {},
   "outputs": [
    {
     "data": {
      "text/plain": [
       "eczema\n",
       "-1    3423\n",
       " 0    1243\n",
       " 1     367\n",
       "Name: count, dtype: int64"
      ]
     },
     "execution_count": 10,
     "metadata": {},
     "output_type": "execute_result"
    }
   ],
   "source": [
    "merged_df['eczema'].value_counts()"
   ]
  },
  {
   "cell_type": "code",
   "execution_count": 11,
   "id": "ba161ef0",
   "metadata": {},
   "outputs": [
    {
     "data": {
      "text/html": [
       "<div>\n",
       "<style scoped>\n",
       "    .dataframe tbody tr th:only-of-type {\n",
       "        vertical-align: middle;\n",
       "    }\n",
       "\n",
       "    .dataframe tbody tr th {\n",
       "        vertical-align: top;\n",
       "    }\n",
       "\n",
       "    .dataframe thead th {\n",
       "        text-align: right;\n",
       "    }\n",
       "</style>\n",
       "<table border=\"1\" class=\"dataframe\">\n",
       "  <thead>\n",
       "    <tr style=\"text-align: right;\">\n",
       "      <th></th>\n",
       "      <th>dermatologist_skin_condition_confidence</th>\n",
       "      <th>weighted_skin_condition_label</th>\n",
       "      <th>dermatologist_gradable_for_skin_condition_1</th>\n",
       "      <th>dermatologist_gradable_for_skin_condition_2</th>\n",
       "      <th>dermatologist_gradable_for_skin_condition_3</th>\n",
       "      <th>eczema</th>\n",
       "    </tr>\n",
       "  </thead>\n",
       "  <tbody>\n",
       "    <tr>\n",
       "      <th>25</th>\n",
       "      <td>[5]</td>\n",
       "      <td>{'Eczema': 1.0}</td>\n",
       "      <td>DEFAULT_YES_IMAGE_QUALITY_SUFFICIENT</td>\n",
       "      <td>NaN</td>\n",
       "      <td>NaN</td>\n",
       "      <td>1</td>\n",
       "    </tr>\n",
       "    <tr>\n",
       "      <th>28</th>\n",
       "      <td>[3, 1, 1]</td>\n",
       "      <td>{'Infected eczema': 0.55, 'Psoriasis': 0.23, '...</td>\n",
       "      <td>DEFAULT_YES_IMAGE_QUALITY_SUFFICIENT</td>\n",
       "      <td>NaN</td>\n",
       "      <td>NaN</td>\n",
       "      <td>1</td>\n",
       "    </tr>\n",
       "    <tr>\n",
       "      <th>35</th>\n",
       "      <td>[5]</td>\n",
       "      <td>{'Eczema': 1.0}</td>\n",
       "      <td>DEFAULT_YES_IMAGE_QUALITY_SUFFICIENT</td>\n",
       "      <td>NaN</td>\n",
       "      <td>NaN</td>\n",
       "      <td>1</td>\n",
       "    </tr>\n",
       "    <tr>\n",
       "      <th>52</th>\n",
       "      <td>[5]</td>\n",
       "      <td>{'Eczema': 1.0}</td>\n",
       "      <td>DEFAULT_YES_IMAGE_QUALITY_SUFFICIENT</td>\n",
       "      <td>NaN</td>\n",
       "      <td>NaN</td>\n",
       "      <td>1</td>\n",
       "    </tr>\n",
       "    <tr>\n",
       "      <th>56</th>\n",
       "      <td>[5]</td>\n",
       "      <td>{'Chronic dermatitis, NOS': 1.0}</td>\n",
       "      <td>DEFAULT_YES_IMAGE_QUALITY_SUFFICIENT</td>\n",
       "      <td>NaN</td>\n",
       "      <td>NaN</td>\n",
       "      <td>1</td>\n",
       "    </tr>\n",
       "  </tbody>\n",
       "</table>\n",
       "</div>"
      ],
      "text/plain": [
       "   dermatologist_skin_condition_confidence  \\\n",
       "25                                     [5]   \n",
       "28                               [3, 1, 1]   \n",
       "35                                     [5]   \n",
       "52                                     [5]   \n",
       "56                                     [5]   \n",
       "\n",
       "                        weighted_skin_condition_label  \\\n",
       "25                                    {'Eczema': 1.0}   \n",
       "28  {'Infected eczema': 0.55, 'Psoriasis': 0.23, '...   \n",
       "35                                    {'Eczema': 1.0}   \n",
       "52                                    {'Eczema': 1.0}   \n",
       "56                   {'Chronic dermatitis, NOS': 1.0}   \n",
       "\n",
       "   dermatologist_gradable_for_skin_condition_1  \\\n",
       "25        DEFAULT_YES_IMAGE_QUALITY_SUFFICIENT   \n",
       "28        DEFAULT_YES_IMAGE_QUALITY_SUFFICIENT   \n",
       "35        DEFAULT_YES_IMAGE_QUALITY_SUFFICIENT   \n",
       "52        DEFAULT_YES_IMAGE_QUALITY_SUFFICIENT   \n",
       "56        DEFAULT_YES_IMAGE_QUALITY_SUFFICIENT   \n",
       "\n",
       "   dermatologist_gradable_for_skin_condition_2  \\\n",
       "25                                         NaN   \n",
       "28                                         NaN   \n",
       "35                                         NaN   \n",
       "52                                         NaN   \n",
       "56                                         NaN   \n",
       "\n",
       "   dermatologist_gradable_for_skin_condition_3  eczema  \n",
       "25                                         NaN       1  \n",
       "28                                         NaN       1  \n",
       "35                                         NaN       1  \n",
       "52                                         NaN       1  \n",
       "56                                         NaN       1  "
      ]
     },
     "execution_count": 11,
     "metadata": {},
     "output_type": "execute_result"
    }
   ],
   "source": [
    "merged_df[['dermatologist_skin_condition_confidence', 'weighted_skin_condition_label', 'dermatologist_gradable_for_skin_condition_1', 'dermatologist_gradable_for_skin_condition_2','dermatologist_gradable_for_skin_condition_3', 'eczema']][merged_df['eczema'] ==1].head()"
   ]
  },
  {
   "cell_type": "code",
   "execution_count": 12,
   "id": "db25e2d7",
   "metadata": {},
   "outputs": [
    {
     "data": {
      "text/html": [
       "<div>\n",
       "<style scoped>\n",
       "    .dataframe tbody tr th:only-of-type {\n",
       "        vertical-align: middle;\n",
       "    }\n",
       "\n",
       "    .dataframe tbody tr th {\n",
       "        vertical-align: top;\n",
       "    }\n",
       "\n",
       "    .dataframe thead th {\n",
       "        text-align: right;\n",
       "    }\n",
       "</style>\n",
       "<table border=\"1\" class=\"dataframe\">\n",
       "  <thead>\n",
       "    <tr style=\"text-align: right;\">\n",
       "      <th></th>\n",
       "      <th>dermatologist_skin_condition_confidence</th>\n",
       "      <th>weighted_skin_condition_label</th>\n",
       "      <th>dermatologist_gradable_for_skin_condition_1</th>\n",
       "      <th>dermatologist_gradable_for_skin_condition_2</th>\n",
       "      <th>dermatologist_gradable_for_skin_condition_3</th>\n",
       "      <th>eczema</th>\n",
       "    </tr>\n",
       "  </thead>\n",
       "  <tbody>\n",
       "    <tr>\n",
       "      <th>6</th>\n",
       "      <td>[4, 2, 5, 1, 1]</td>\n",
       "      <td>{'Urticaria': 0.6, 'Leukocytoclastic Vasculiti...</td>\n",
       "      <td>NO_IMAGE_QUALITY_INSUFFICIENT</td>\n",
       "      <td>DEFAULT_YES_IMAGE_QUALITY_SUFFICIENT</td>\n",
       "      <td>DEFAULT_YES_IMAGE_QUALITY_SUFFICIENT</td>\n",
       "      <td>0</td>\n",
       "    </tr>\n",
       "    <tr>\n",
       "      <th>8</th>\n",
       "      <td>[1, 3, 3, 2, 4, 3]</td>\n",
       "      <td>{'Eczema': 0.67, 'Psoriasis': 0.11, 'Acute and...</td>\n",
       "      <td>DEFAULT_YES_IMAGE_QUALITY_SUFFICIENT</td>\n",
       "      <td>DEFAULT_YES_IMAGE_QUALITY_SUFFICIENT</td>\n",
       "      <td>DEFAULT_YES_IMAGE_QUALITY_SUFFICIENT</td>\n",
       "      <td>0</td>\n",
       "    </tr>\n",
       "    <tr>\n",
       "      <th>9</th>\n",
       "      <td>[3]</td>\n",
       "      <td>{'Purpura': 1.0}</td>\n",
       "      <td>DEFAULT_YES_IMAGE_QUALITY_SUFFICIENT</td>\n",
       "      <td>NaN</td>\n",
       "      <td>NaN</td>\n",
       "      <td>0</td>\n",
       "    </tr>\n",
       "    <tr>\n",
       "      <th>10</th>\n",
       "      <td>[1, 5, 1]</td>\n",
       "      <td>{'Eczema': 0.55, 'Drug Rash': 0.23, 'Allergic ...</td>\n",
       "      <td>DEFAULT_YES_IMAGE_QUALITY_SUFFICIENT</td>\n",
       "      <td>NaN</td>\n",
       "      <td>NaN</td>\n",
       "      <td>0</td>\n",
       "    </tr>\n",
       "    <tr>\n",
       "      <th>11</th>\n",
       "      <td>[5]</td>\n",
       "      <td>{'Urticaria': 1.0}</td>\n",
       "      <td>DEFAULT_YES_IMAGE_QUALITY_SUFFICIENT</td>\n",
       "      <td>NaN</td>\n",
       "      <td>NaN</td>\n",
       "      <td>0</td>\n",
       "    </tr>\n",
       "  </tbody>\n",
       "</table>\n",
       "</div>"
      ],
      "text/plain": [
       "   dermatologist_skin_condition_confidence  \\\n",
       "6                          [4, 2, 5, 1, 1]   \n",
       "8                       [1, 3, 3, 2, 4, 3]   \n",
       "9                                      [3]   \n",
       "10                               [1, 5, 1]   \n",
       "11                                     [5]   \n",
       "\n",
       "                        weighted_skin_condition_label  \\\n",
       "6   {'Urticaria': 0.6, 'Leukocytoclastic Vasculiti...   \n",
       "8   {'Eczema': 0.67, 'Psoriasis': 0.11, 'Acute and...   \n",
       "9                                    {'Purpura': 1.0}   \n",
       "10  {'Eczema': 0.55, 'Drug Rash': 0.23, 'Allergic ...   \n",
       "11                                 {'Urticaria': 1.0}   \n",
       "\n",
       "   dermatologist_gradable_for_skin_condition_1  \\\n",
       "6                NO_IMAGE_QUALITY_INSUFFICIENT   \n",
       "8         DEFAULT_YES_IMAGE_QUALITY_SUFFICIENT   \n",
       "9         DEFAULT_YES_IMAGE_QUALITY_SUFFICIENT   \n",
       "10        DEFAULT_YES_IMAGE_QUALITY_SUFFICIENT   \n",
       "11        DEFAULT_YES_IMAGE_QUALITY_SUFFICIENT   \n",
       "\n",
       "   dermatologist_gradable_for_skin_condition_2  \\\n",
       "6         DEFAULT_YES_IMAGE_QUALITY_SUFFICIENT   \n",
       "8         DEFAULT_YES_IMAGE_QUALITY_SUFFICIENT   \n",
       "9                                          NaN   \n",
       "10                                         NaN   \n",
       "11                                         NaN   \n",
       "\n",
       "   dermatologist_gradable_for_skin_condition_3  eczema  \n",
       "6         DEFAULT_YES_IMAGE_QUALITY_SUFFICIENT       0  \n",
       "8         DEFAULT_YES_IMAGE_QUALITY_SUFFICIENT       0  \n",
       "9                                          NaN       0  \n",
       "10                                         NaN       0  \n",
       "11                                         NaN       0  "
      ]
     },
     "execution_count": 12,
     "metadata": {},
     "output_type": "execute_result"
    }
   ],
   "source": [
    "merged_df[['dermatologist_skin_condition_confidence', 'weighted_skin_condition_label', 'dermatologist_gradable_for_skin_condition_1', 'dermatologist_gradable_for_skin_condition_2','dermatologist_gradable_for_skin_condition_3', 'eczema']][merged_df['eczema'] ==0].head()"
   ]
  },
  {
   "cell_type": "code",
   "execution_count": 13,
   "id": "8f3b9784",
   "metadata": {},
   "outputs": [
    {
     "data": {
      "text/plain": [
       "eczema\n",
       "-1    3423\n",
       " 0    1243\n",
       " 1     367\n",
       "Name: count, dtype: int64"
      ]
     },
     "execution_count": 13,
     "metadata": {},
     "output_type": "execute_result"
    }
   ],
   "source": [
    "merged_df['eczema'].value_counts()"
   ]
  },
  {
   "cell_type": "code",
   "execution_count": 14,
   "id": "edc6e129",
   "metadata": {},
   "outputs": [
    {
     "data": {
      "text/plain": [
       "eczema\n",
       "0    1243\n",
       "1     367\n",
       "Name: count, dtype: int64"
      ]
     },
     "execution_count": 14,
     "metadata": {},
     "output_type": "execute_result"
    }
   ],
   "source": [
    "#ignore non eczema dataset\n",
    "merged_df = merged_df[merged_df['eczema'] != -1] \n",
    "merged_df['eczema'].value_counts()"
   ]
  },
  {
   "cell_type": "code",
   "execution_count": 15,
   "id": "f22f82f4",
   "metadata": {},
   "outputs": [
    {
     "data": {
      "text/html": [
       "<div>\n",
       "<style scoped>\n",
       "    .dataframe tbody tr th:only-of-type {\n",
       "        vertical-align: middle;\n",
       "    }\n",
       "\n",
       "    .dataframe tbody tr th {\n",
       "        vertical-align: top;\n",
       "    }\n",
       "\n",
       "    .dataframe thead th {\n",
       "        text-align: right;\n",
       "    }\n",
       "</style>\n",
       "<table border=\"1\" class=\"dataframe\">\n",
       "  <thead>\n",
       "    <tr style=\"text-align: right;\">\n",
       "      <th></th>\n",
       "      <th>dermatologist_skin_condition_confidence</th>\n",
       "      <th>weighted_skin_condition_label</th>\n",
       "      <th>eczema</th>\n",
       "    </tr>\n",
       "  </thead>\n",
       "  <tbody>\n",
       "    <tr>\n",
       "      <th>6</th>\n",
       "      <td>[4, 2, 5, 1, 1]</td>\n",
       "      <td>{'Urticaria': 0.6, 'Leukocytoclastic Vasculiti...</td>\n",
       "      <td>0</td>\n",
       "    </tr>\n",
       "    <tr>\n",
       "      <th>8</th>\n",
       "      <td>[1, 3, 3, 2, 4, 3]</td>\n",
       "      <td>{'Eczema': 0.67, 'Psoriasis': 0.11, 'Acute and...</td>\n",
       "      <td>0</td>\n",
       "    </tr>\n",
       "    <tr>\n",
       "      <th>9</th>\n",
       "      <td>[3]</td>\n",
       "      <td>{'Purpura': 1.0}</td>\n",
       "      <td>0</td>\n",
       "    </tr>\n",
       "    <tr>\n",
       "      <th>10</th>\n",
       "      <td>[1, 5, 1]</td>\n",
       "      <td>{'Eczema': 0.55, 'Drug Rash': 0.23, 'Allergic ...</td>\n",
       "      <td>0</td>\n",
       "    </tr>\n",
       "    <tr>\n",
       "      <th>11</th>\n",
       "      <td>[5]</td>\n",
       "      <td>{'Urticaria': 1.0}</td>\n",
       "      <td>0</td>\n",
       "    </tr>\n",
       "    <tr>\n",
       "      <th>...</th>\n",
       "      <td>...</td>\n",
       "      <td>...</td>\n",
       "      <td>...</td>\n",
       "    </tr>\n",
       "    <tr>\n",
       "      <th>5018</th>\n",
       "      <td>[5]</td>\n",
       "      <td>{'Psoriasis': 1.0}</td>\n",
       "      <td>0</td>\n",
       "    </tr>\n",
       "    <tr>\n",
       "      <th>5021</th>\n",
       "      <td>[4, 2, 2, 2, 3]</td>\n",
       "      <td>{'Eczema': 0.68, 'Scabies': 0.16, 'Hypersensit...</td>\n",
       "      <td>1</td>\n",
       "    </tr>\n",
       "    <tr>\n",
       "      <th>5024</th>\n",
       "      <td>[3, 4, 2, 5]</td>\n",
       "      <td>{'Stasis Dermatitis': 0.33, 'Pigmented purpuri...</td>\n",
       "      <td>0</td>\n",
       "    </tr>\n",
       "    <tr>\n",
       "      <th>5028</th>\n",
       "      <td>[5, 4, 5]</td>\n",
       "      <td>{'CD - Contact dermatitis': 0.33, 'Allergic Co...</td>\n",
       "      <td>0</td>\n",
       "    </tr>\n",
       "    <tr>\n",
       "      <th>5032</th>\n",
       "      <td>[5]</td>\n",
       "      <td>{'Folliculitis': 1.0}</td>\n",
       "      <td>0</td>\n",
       "    </tr>\n",
       "  </tbody>\n",
       "</table>\n",
       "<p>1610 rows × 3 columns</p>\n",
       "</div>"
      ],
      "text/plain": [
       "     dermatologist_skin_condition_confidence  \\\n",
       "6                            [4, 2, 5, 1, 1]   \n",
       "8                         [1, 3, 3, 2, 4, 3]   \n",
       "9                                        [3]   \n",
       "10                                 [1, 5, 1]   \n",
       "11                                       [5]   \n",
       "...                                      ...   \n",
       "5018                                     [5]   \n",
       "5021                         [4, 2, 2, 2, 3]   \n",
       "5024                            [3, 4, 2, 5]   \n",
       "5028                               [5, 4, 5]   \n",
       "5032                                     [5]   \n",
       "\n",
       "                          weighted_skin_condition_label  eczema  \n",
       "6     {'Urticaria': 0.6, 'Leukocytoclastic Vasculiti...       0  \n",
       "8     {'Eczema': 0.67, 'Psoriasis': 0.11, 'Acute and...       0  \n",
       "9                                      {'Purpura': 1.0}       0  \n",
       "10    {'Eczema': 0.55, 'Drug Rash': 0.23, 'Allergic ...       0  \n",
       "11                                   {'Urticaria': 1.0}       0  \n",
       "...                                                 ...     ...  \n",
       "5018                                 {'Psoriasis': 1.0}       0  \n",
       "5021  {'Eczema': 0.68, 'Scabies': 0.16, 'Hypersensit...       1  \n",
       "5024  {'Stasis Dermatitis': 0.33, 'Pigmented purpuri...       0  \n",
       "5028  {'CD - Contact dermatitis': 0.33, 'Allergic Co...       0  \n",
       "5032                              {'Folliculitis': 1.0}       0  \n",
       "\n",
       "[1610 rows x 3 columns]"
      ]
     },
     "execution_count": 15,
     "metadata": {},
     "output_type": "execute_result"
    }
   ],
   "source": [
    "merged_df[['dermatologist_skin_condition_confidence', 'weighted_skin_condition_label', 'eczema']]"
   ]
  },
  {
   "cell_type": "code",
   "execution_count": 16,
   "id": "9c49c213",
   "metadata": {},
   "outputs": [],
   "source": [
    "def calculate_image_path(row):\n",
    "    if row['image_1_shot_type'] == 'CLOSE_UP' and  row['dermatologist_gradable_for_skin_condition_1'] == 'DEFAULT_YES_IMAGE_QUALITY_SUFFICIENT': #CLOSE_UP, AT_DISTANCE\n",
    "        return ''+row['image_1_path']\n",
    "    elif row['image_2_shot_type'] == 'CLOSE_UP' and  row['dermatologist_gradable_for_skin_condition_2'] == 'DEFAULT_YES_IMAGE_QUALITY_SUFFICIENT':\n",
    "        return ''+row['image_2_path']\n",
    "    elif row['image_3_shot_type'] == 'CLOSE_UP' and  row['dermatologist_gradable_for_skin_condition_3'] == 'DEFAULT_YES_IMAGE_QUALITY_SUFFICIENT':\n",
    "        return str(row['image_3_path'])\n",
    "    else:\n",
    "        return ''  # or any default value if none is found"
   ]
  },
  {
   "cell_type": "code",
   "execution_count": 17,
   "id": "576a8d8c",
   "metadata": {},
   "outputs": [
    {
     "data": {
      "text/plain": [
       "1610"
      ]
     },
     "execution_count": 17,
     "metadata": {},
     "output_type": "execute_result"
    }
   ],
   "source": [
    "# Create image path column\n",
    "merged_df['image_path'] = merged_df.apply(calculate_image_path, axis=1)\n",
    "len(merged_df)"
   ]
  },
  {
   "cell_type": "code",
   "execution_count": 18,
   "id": "ffaeed04",
   "metadata": {},
   "outputs": [
    {
     "data": {
      "text/plain": [
       "1148"
      ]
     },
     "execution_count": 18,
     "metadata": {},
     "output_type": "execute_result"
    }
   ],
   "source": [
    "merged_df = merged_df[merged_df['image_path'].apply(os.path.exists)]\n",
    "len(merged_df)"
   ]
  },
  {
   "cell_type": "code",
   "execution_count": 19,
   "id": "b8bf3c1f",
   "metadata": {},
   "outputs": [
    {
     "data": {
      "text/plain": [
       "eczema\n",
       "0    910\n",
       "1    238\n",
       "Name: count, dtype: int64"
      ]
     },
     "execution_count": 19,
     "metadata": {},
     "output_type": "execute_result"
    }
   ],
   "source": [
    "merged_df['eczema'].value_counts()"
   ]
  },
  {
   "cell_type": "code",
   "execution_count": 20,
   "id": "5f738af2",
   "metadata": {},
   "outputs": [
    {
     "data": {
      "text/plain": [
       "'dataset/images/960187272475981264.png'"
      ]
     },
     "execution_count": 20,
     "metadata": {},
     "output_type": "execute_result"
    }
   ],
   "source": [
    "new_df = merged_df[merged_df['eczema'] ==1]['image_path'].reset_index()\n",
    "new_df.loc[1]['image_path']"
   ]
  },
  {
   "cell_type": "code",
   "execution_count": 21,
   "id": "5a97c1c4",
   "metadata": {},
   "outputs": [
    {
     "data": {
      "image/png": "[encoded data removed]",
      "text/plain": [
       "<Figure size 640x480 with 1 Axes>"
      ]
     },
     "metadata": {},
     "output_type": "display_data"
    },
    {
     "data": {
      "text/plain": [
       "torch.Size([192, 192, 3])"
      ]
     },
     "execution_count": 21,
     "metadata": {},
     "output_type": "execute_result"
    }
   ],
   "source": [
    "import torch\n",
    "import matplotlib.pyplot as plt\n",
    "from torchvision import transforms\n",
    "from PIL import Image\n",
    "\n",
    "# Load an image using PIL (you can replace this with your image path)\n",
    "image_path = new_df.loc[50]['image_path']\n",
    "image = Image.open(image_path)\n",
    "\n",
    "# Convert the image to a PyTorch tensor\n",
    "# transform =  transforms.Compose([ transforms.Resize((244, 244)),\n",
    "#                                 transforms.RandomResizedCrop(192, scale=(0.8, 1.0)),\n",
    "#                                 transforms.ToTensor()\n",
    "#                                 ])\n",
    "\n",
    "transform =  transforms.Compose([\n",
    "#         transforms.Resize((512, 512)),\n",
    "#         transforms.ColorJitter(0.5, 0.5, 0.5, 0.1),\n",
    "#         transforms.RandomHorizontalFlip(),\n",
    "        transforms.RandomRotation(15),  \n",
    "        transforms.RandomHorizontalFlip(p=0.3),  # Horizontal flip with 50% probability\n",
    "        transforms.RandomVerticalFlip(p=0.3),   \n",
    "        transforms.RandomResizedCrop(192, scale=(0.8, 1.0)),\n",
    "        transforms.RandomAffine(degrees=0, shear=10),\n",
    "#         transforms.ColorJitter(0.25, 0.25, 0.25, 0.1),\n",
    "        transforms.ToTensor(),\n",
    "        transforms.ConvertImageDtype(torch.float),        \n",
    "#         transforms.Normalize([0.485, 0.456, 0.406], [0.229, 0.224, 0.225]),\n",
    "    ])\n",
    "image_tensor = transform(image)\n",
    "\n",
    "# Convert the image tensor from [C, H, W] to [H, W, C] for displaying\n",
    "image_tensor = image_tensor.permute(1, 2, 0)\n",
    "\n",
    "# Plot the image using matplotlib\n",
    "plt.imshow(image_tensor)\n",
    "plt.axis('off')  # Hide axes for better visual appearance\n",
    "plt.show()\n",
    "image_tensor.shape"
   ]
  },
  {
   "cell_type": "code",
   "execution_count": 22,
   "id": "dfef6ba5",
   "metadata": {},
   "outputs": [
    {
     "data": {
      "text/plain": [
       "torch.Size([192, 192, 3])"
      ]
     },
     "execution_count": 22,
     "metadata": {},
     "output_type": "execute_result"
    }
   ],
   "source": [
    "image_tensor.shape"
   ]
  },
  {
   "cell_type": "code",
   "execution_count": 23,
   "id": "1f9a80be",
   "metadata": {},
   "outputs": [],
   "source": [
    "# Filter out missing labels and images\n",
    "filtered_df = merged_df.dropna(subset=['eczema', 'image_path'])\n",
    "\n",
    "# Split data into training and validation sets\n",
    "train_df, val_df = train_test_split(filtered_df, test_size=0.2, random_state=42)\n"
   ]
  },
  {
   "cell_type": "code",
   "execution_count": 24,
   "id": "37e857db",
   "metadata": {},
   "outputs": [
    {
     "data": {
      "text/plain": [
       "eczema\n",
       "0    727\n",
       "1    191\n",
       "Name: count, dtype: int64"
      ]
     },
     "execution_count": 24,
     "metadata": {},
     "output_type": "execute_result"
    }
   ],
   "source": [
    "train_df['eczema'].value_counts()"
   ]
  },
  {
   "cell_type": "code",
   "execution_count": 25,
   "id": "10d1df20",
   "metadata": {},
   "outputs": [
    {
     "data": {
      "text/plain": [
       "eczema\n",
       "0    183\n",
       "1     47\n",
       "Name: count, dtype: int64"
      ]
     },
     "execution_count": 25,
     "metadata": {},
     "output_type": "execute_result"
    }
   ],
   "source": [
    "val_df['eczema'].value_counts()"
   ]
  },
  {
   "cell_type": "code",
   "execution_count": 26,
   "id": "a1984597",
   "metadata": {},
   "outputs": [],
   "source": [
    "# Import necessary libraries\n",
    "from torch.utils.data import Dataset\n",
    "from PIL import Image\n",
    "import torch\n",
    "\n",
    "# Define custom dataset class\n",
    "class EczemaDataset(Dataset):\n",
    "    def __init__(self, df, transform):\n",
    "        self.df = df\n",
    "        self.transform = transform\n",
    "\n",
    "    def __len__(self):\n",
    "        return len(self.df)\n",
    "\n",
    "    def __getitem__(self, idx):\n",
    "        image_path = self.df.iloc[idx]['image_path']\n",
    "        image = Image.open(image_path).convert('RGB')\n",
    "        label = self.df.iloc[idx]['eczema']\n",
    "\n",
    "        image = self.transform(image)\n",
    "        label = torch.tensor(label)\n",
    "\n",
    "        return image, label"
   ]
  },
  {
   "cell_type": "code",
   "execution_count": 27,
   "id": "5f6e7e0c",
   "metadata": {},
   "outputs": [],
   "source": [
    "import torchvision.transforms as transforms\n",
    "\n",
    "data_transforms = {\n",
    "    'train': transforms.Compose([\n",
    "        transforms.Resize((299, 299)),\n",
    "#         transforms.ColorJitter(0.5, 0.5, 0.5, 0.1),\n",
    "#         transforms.RandomHorizontalFlip(),\n",
    "        \n",
    "        transforms.RandomRotation(15),  \n",
    "        transforms.RandomHorizontalFlip(p=0.3),  # Horizontal flip with 50% probability\n",
    "        transforms.RandomVerticalFlip(p=0.3),   \n",
    "        transforms.RandomResizedCrop(299, scale=(0.8, 1.0)),\n",
    "        transforms.RandomAffine(degrees=0, shear=10),\n",
    "        \n",
    "        transforms.ToTensor(),\n",
    "        transforms.ConvertImageDtype(torch.float),        \n",
    "#         transforms.Normalize([0.485, 0.456, 0.406], [0.229, 0.224, 0.225]),\n",
    "    ]),\n",
    "    'val': transforms.Compose([\n",
    "        transforms.Resize((299, 299)),\n",
    "        transforms.ToTensor(),\n",
    "        transforms.ConvertImageDtype(torch.float),\n",
    "#         transforms.Normalize([0.485, 0.456, 0.406], [0.229, 0.224, 0.225]),\n",
    "    ]),\n",
    "}"
   ]
  },
  {
   "cell_type": "code",
   "execution_count": 28,
   "id": "47307137",
   "metadata": {},
   "outputs": [],
   "source": [
    "import torch.nn as nn\n",
    "import torchvision.models as models\n",
    "\n",
    "# Define model\n",
    "class EczemaClassifier(nn.Module):\n",
    "    def __init__(self):\n",
    "        super(EczemaClassifier, self).__init__()\n",
    "        self.model = torchvision.models.resnet18(weights=torchvision.models.ResNet18_Weights.DEFAULT)\n",
    "#         self.model = torchvision.models.resnet50(weights=torchvision.models.ResNet50_Weights.DEFAULT)\n",
    "        # Freeze layers except for the final one\n",
    "        for param in self.model.parameters():\n",
    "            param.requires_grad = False        \n",
    "\n",
    "        self.model.fc = nn.Linear(self.model.fc.in_features, 2)\n",
    "        self.dropout = nn.Dropout(p=0.2)\n",
    "\n",
    "    def forward(self, x):\n",
    "        x = self.model(x)\n",
    "        x = self.dropout(x)\n",
    "        return x"
   ]
  },
  {
   "cell_type": "code",
   "execution_count": 29,
   "id": "5de648b3",
   "metadata": {},
   "outputs": [
    {
     "data": {
      "text/plain": [
       "(918, 230)"
      ]
     },
     "execution_count": 29,
     "metadata": {},
     "output_type": "execute_result"
    }
   ],
   "source": [
    "len(train_df), len(val_df)"
   ]
  },
  {
   "cell_type": "code",
   "execution_count": 30,
   "id": "291324bf",
   "metadata": {},
   "outputs": [],
   "source": [
    "def save_model(model, epoch, val_acc):\n",
    "    scripted_model = torch.jit.script(model)\n",
    "    torch.jit.save(scripted_model, f'resnet18-model-eczema-{epoch}-{val_acc:.4f}.pth')"
   ]
  },
  {
   "cell_type": "code",
   "execution_count": 31,
   "id": "2ac1335e",
   "metadata": {},
   "outputs": [
    {
     "name": "stdout",
     "output_type": "stream",
     "text": [
      "device=cuda\n"
     ]
    }
   ],
   "source": [
    "# Train model\n",
    "device = torch.device(\"cuda\" if torch.cuda.is_available() else \"cpu\")\n",
    "print(f'device={device}')\n",
    "\n",
    "from torch.utils.tensorboard import SummaryWriter\n",
    "writer = SummaryWriter()\n",
    "\n",
    "from torchmetrics.classification import ConfusionMatrix, Accuracy, F1Score\n",
    "conf_mat = ConfusionMatrix(num_classes=2, task=\"BINARY\").to(device)\n",
    "accuracy = Accuracy(num_classes=2, task=\"BINARY\").to(device)\n",
    "f1score = F1Score(num_classes=2, task=\"BINARY\").to(device)"
   ]
  },
  {
   "cell_type": "code",
   "execution_count": 32,
   "id": "10a7f6c2",
   "metadata": {},
   "outputs": [
    {
     "name": "stdout",
     "output_type": "stream",
     "text": [
      "Class distribution: Counter({0: 727, 1: 191})\n",
      "Number of positive samples: 191\n",
      "Number of negative samples: 727\n",
      "Pos weight calculated: 3.806282722513089\n"
     ]
    }
   ],
   "source": [
    "import torch\n",
    "from collections import Counter\n",
    "\n",
    "# Step 1: Load and prepare your dataset (assuming your dataset is loaded into `train_df`)\n",
    "# Assuming labels are stored in a column named 'label'\n",
    "\n",
    "# Check the distribution of the classes in your dataset\n",
    "class_counts = Counter(train_df['eczema'])\n",
    "print(f\"Class distribution: {class_counts}\")\n",
    "\n",
    "# Step 2: Calculate the number of samples for each class\n",
    "num_positive = class_counts[1]\n",
    "num_negative = class_counts[0]\n",
    "\n",
    "print(f\"Number of positive samples: {num_positive}\")\n",
    "print(f\"Number of negative samples: {num_negative}\")\n",
    "\n",
    "# Step 3: Compute the pos_weight\n",
    "# pos_weight is typically set to the ratio of negative to positive examples\n",
    "pos_weight = num_negative / num_positive\n",
    "print(f\"Pos weight calculated: {pos_weight}\")"
   ]
  },
  {
   "cell_type": "code",
   "execution_count": 33,
   "id": "0327e392",
   "metadata": {},
   "outputs": [],
   "source": [
    "# Create data loaders\n",
    "train_dataset = EczemaDataset(train_df, data_transforms['train'])\n",
    "val_dataset = EczemaDataset(val_df, data_transforms['val'])\n",
    "\n",
    "train_loader = torch.utils.data.DataLoader(train_dataset, batch_size=1500, shuffle=True) # 2500\n",
    "val_loader = torch.utils.data.DataLoader(val_dataset, batch_size=1500, shuffle=False)"
   ]
  },
  {
   "cell_type": "code",
   "execution_count": 34,
   "id": "387df554",
   "metadata": {},
   "outputs": [],
   "source": [
    "model = EczemaClassifier().to(device)\n",
    "\n",
    "# pos_weight_tensor = torch.tensor([pos_weight]).to(device)\n",
    "# print(f\"pos_weight_tensor={pos_weight_tensor}\")\n",
    "# criterion = torch.nn.BCEWithLogitsLoss(pos_weight=pos_weight_tensor)\n",
    "\n",
    "criterion = nn.CrossEntropyLoss(weight=torch.tensor([1.0, pos_weight])).to(device)\n",
    "\n",
    "# Initialize optimizers\n",
    "# optimizer = torch.optim.SGD(model.parameters(), lr=0.001)\n",
    "\n",
    "# rmsprop_optimizer = optim.RMSprop(model.parameters(), lr=0.01)\n",
    "# adagrad_optimizer = optim.Adagrad(model.parameters(), lr=0.01)\n",
    "\n",
    "# optimizer = torch.optim.AdamW(model.parameters(), lr=1e-4, weight_decay=1e-5)\n",
    "optimizer = torch.optim.Adam(model.parameters(), lr=0.0001)\n",
    "\n",
    "# scheduler = torch.optim.lr_scheduler.StepLR(optimizer, step_size=5, gamma=0.1)\n",
    "\n",
    "global_step = 0\n",
    "global_epochs = 0"
   ]
  },
  {
   "cell_type": "code",
   "execution_count": null,
   "id": "de385eaa",
   "metadata": {},
   "outputs": [
    {
     "name": "stdout",
     "output_type": "stream",
     "text": [
      "Epoch: 1, Training Loss: 0.7160218954086304, Time: 30.95 seconds \n",
      "Epoch: 2, Training Loss: 0.704708993434906, Time: 75.45 seconds \n",
      "Epoch: 3, Training Loss: 0.7150405049324036, Time: 64.15 seconds \n",
      "Epoch: 4, Training Loss: 0.7202828526496887, Time: 63.93 seconds \n",
      "Epoch: 5, Training Loss: 0.7218859791755676, Time: 64.45 seconds, Val Accuracy: 0.3957, f1Score: 0.3412\n",
      "Epoch: 6, Training Loss: 0.7265610098838806, Time: 65.09 seconds \n",
      "Epoch: 7, Training Loss: 0.7158023715019226, Time: 65.24 seconds \n",
      "Epoch: 8, Training Loss: 0.7144750952720642, Time: 64.07 seconds \n",
      "Epoch: 9, Training Loss: 0.7199560403823853, Time: 64.78 seconds \n",
      "Epoch: 10, Training Loss: 0.710944652557373, Time: 64.77 seconds, Val Accuracy: 0.3609, f1Score: 0.3440\n",
      "Confusion Matrix:\n",
      "tensor([[ 44, 139],\n",
      "        [  8,  39]], device='cuda:0')\n",
      "TP: 39, TN: 44, FP: 139, FN: 8\n",
      "Epoch: 11, Training Loss: 0.7225551605224609, Time: 65.46 seconds \n",
      "Epoch: 12, Training Loss: 0.7155864834785461, Time: 65.00 seconds \n",
      "Epoch: 13, Training Loss: 0.7181309461593628, Time: 64.62 seconds \n",
      "Epoch: 14, Training Loss: 0.7174122333526611, Time: 64.52 seconds \n",
      "Epoch: 15, Training Loss: 0.7067283391952515, Time: 64.45 seconds, Val Accuracy: 0.3391, f1Score: 0.3423\n",
      "Epoch: 16, Training Loss: 0.7185847163200378, Time: 64.92 seconds \n",
      "Epoch: 17, Training Loss: 0.7199801802635193, Time: 63.69 seconds \n",
      "Epoch: 18, Training Loss: 0.708055317401886, Time: 63.82 seconds \n",
      "Epoch: 19, Training Loss: 0.7117246985435486, Time: 65.01 seconds \n",
      "Epoch: 20, Training Loss: 0.721115231513977, Time: 64.77 seconds, Val Accuracy: 0.3478, f1Score: 0.3438\n",
      "Confusion Matrix:\n",
      "tensor([[ 40, 143],\n",
      "        [  7,  40]], device='cuda:0')\n",
      "TP: 40, TN: 40, FP: 143, FN: 7\n",
      "Epoch: 21, Training Loss: 0.724284291267395, Time: 64.46 seconds \n",
      "Epoch: 22, Training Loss: 0.7104184627532959, Time: 64.67 seconds \n",
      "Epoch: 23, Training Loss: 0.7203050255775452, Time: 63.99 seconds \n",
      "Epoch: 24, Training Loss: 0.7132188677787781, Time: 64.19 seconds \n",
      "Epoch: 25, Training Loss: 0.7177016139030457, Time: 63.93 seconds, Val Accuracy: 0.3522, f1Score: 0.3437\n",
      "Epoch: 26, Training Loss: 0.7169856429100037, Time: 64.87 seconds \n",
      "Epoch: 27, Training Loss: 0.7179133296012878, Time: 64.62 seconds \n",
      "Epoch: 28, Training Loss: 0.7238605618476868, Time: 64.86 seconds \n",
      "Epoch: 29, Training Loss: 0.7094473242759705, Time: 64.34 seconds \n",
      "Epoch: 30, Training Loss: 0.708040714263916, Time: 64.48 seconds, Val Accuracy: 0.3522, f1Score: 0.3398\n",
      "Confusion Matrix:\n",
      "tensor([[ 46, 137],\n",
      "        [ 12,  35]], device='cuda:0')\n",
      "TP: 35, TN: 46, FP: 137, FN: 12\n",
      "Epoch: 31, Training Loss: 0.7224201560020447, Time: 64.28 seconds \n",
      "Epoch: 32, Training Loss: 0.7060492634773254, Time: 64.60 seconds \n",
      "Epoch: 33, Training Loss: 0.714214026927948, Time: 64.55 seconds \n",
      "Epoch: 34, Training Loss: 0.7127701044082642, Time: 64.26 seconds \n",
      "Epoch: 35, Training Loss: 0.7268401980400085, Time: 64.39 seconds, Val Accuracy: 0.3826, f1Score: 0.3376\n",
      "Epoch: 36, Training Loss: 0.7017207741737366, Time: 64.53 seconds \n",
      "Epoch: 37, Training Loss: 0.722560465335846, Time: 64.44 seconds \n",
      "Epoch: 38, Training Loss: 0.7163004279136658, Time: 64.33 seconds \n",
      "Epoch: 39, Training Loss: 0.7223870158195496, Time: 64.24 seconds \n",
      "Epoch: 40, Training Loss: 0.7070730328559875, Time: 64.98 seconds, Val Accuracy: 0.4000, f1Score: 0.3352\n",
      "Confusion Matrix:\n",
      "tensor([[ 60, 123],\n",
      "        [ 15,  32]], device='cuda:0')\n",
      "TP: 32, TN: 60, FP: 123, FN: 15\n",
      "Epoch: 41, Training Loss: 0.7030396461486816, Time: 65.11 seconds \n",
      "Epoch: 42, Training Loss: 0.7019613981246948, Time: 64.63 seconds \n",
      "Epoch: 43, Training Loss: 0.7202208638191223, Time: 64.66 seconds \n",
      "Epoch: 44, Training Loss: 0.7128705978393555, Time: 64.72 seconds \n",
      "Epoch: 45, Training Loss: 0.7186601161956787, Time: 65.06 seconds, Val Accuracy: 0.4000, f1Score: 0.3340\n",
      "Epoch: 46, Training Loss: 0.7144933342933655, Time: 64.94 seconds \n",
      "Epoch: 47, Training Loss: 0.7122989892959595, Time: 64.80 seconds \n",
      "Epoch: 48, Training Loss: 0.7203436493873596, Time: 64.64 seconds \n",
      "Epoch: 49, Training Loss: 0.7027315497398376, Time: 64.57 seconds \n",
      "Epoch: 50, Training Loss: 0.6994368433952332, Time: 64.88 seconds, Val Accuracy: 0.4000, f1Score: 0.3312\n",
      "Confusion Matrix:\n",
      "tensor([[ 62, 121],\n",
      "        [ 17,  30]], device='cuda:0')\n",
      "TP: 30, TN: 62, FP: 121, FN: 17\n",
      "Epoch: 51, Training Loss: 0.6997209191322327, Time: 65.59 seconds \n",
      "Epoch: 52, Training Loss: 0.7122619152069092, Time: 64.86 seconds \n",
      "Epoch: 53, Training Loss: 0.7129471302032471, Time: 64.42 seconds \n",
      "Epoch: 54, Training Loss: 0.7173731327056885, Time: 64.66 seconds \n",
      "Epoch: 55, Training Loss: 0.710388720035553, Time: 64.29 seconds, Val Accuracy: 0.4043, f1Score: 0.3289\n",
      "Epoch: 56, Training Loss: 0.7237763404846191, Time: 64.64 seconds \n",
      "Epoch: 57, Training Loss: 0.7097652554512024, Time: 64.57 seconds \n",
      "Epoch: 58, Training Loss: 0.7066968083381653, Time: 64.40 seconds \n",
      "Epoch: 59, Training Loss: 0.7296462655067444, Time: 64.40 seconds \n",
      "Epoch: 60, Training Loss: 0.710581362247467, Time: 64.97 seconds, Val Accuracy: 0.4130, f1Score: 0.3278\n",
      "Confusion Matrix:\n",
      "tensor([[ 64, 119],\n",
      "        [ 16,  31]], device='cuda:0')\n",
      "TP: 31, TN: 64, FP: 119, FN: 16\n",
      "Epoch: 61, Training Loss: 0.7059273719787598, Time: 64.82 seconds \n",
      "Epoch: 62, Training Loss: 0.7058262228965759, Time: 64.77 seconds \n",
      "Epoch: 63, Training Loss: 0.7078919410705566, Time: 64.67 seconds \n",
      "Epoch: 64, Training Loss: 0.7253453135490417, Time: 64.28 seconds \n",
      "Epoch: 65, Training Loss: 0.7167913317680359, Time: 64.79 seconds, Val Accuracy: 0.4174, f1Score: 0.3270\n",
      "Epoch: 66, Training Loss: 0.717522144317627, Time: 64.82 seconds \n",
      "Epoch: 67, Training Loss: 0.7098866105079651, Time: 64.64 seconds \n",
      "Epoch: 68, Training Loss: 0.7117047905921936, Time: 65.02 seconds \n",
      "Epoch: 69, Training Loss: 0.7195528149604797, Time: 64.65 seconds \n",
      "Epoch: 70, Training Loss: 0.7256984710693359, Time: 64.59 seconds, Val Accuracy: 0.4174, f1Score: 0.3263\n",
      "Confusion Matrix:\n",
      "tensor([[ 65, 118],\n",
      "        [ 16,  31]], device='cuda:0')\n",
      "TP: 31, TN: 65, FP: 118, FN: 16\n",
      "Epoch: 71, Training Loss: 0.722409188747406, Time: 64.79 seconds \n",
      "Epoch: 72, Training Loss: 0.7267889976501465, Time: 64.62 seconds \n",
      "Epoch: 73, Training Loss: 0.7083320021629333, Time: 64.65 seconds \n",
      "Epoch: 74, Training Loss: 0.7069721221923828, Time: 64.33 seconds \n",
      "Epoch: 75, Training Loss: 0.7188962697982788, Time: 64.71 seconds, Val Accuracy: 0.4130, f1Score: 0.3252\n",
      "Epoch: 76, Training Loss: 0.7069857120513916, Time: 64.65 seconds \n",
      "Epoch: 77, Training Loss: 0.7176283597946167, Time: 64.75 seconds \n",
      "Epoch: 78, Training Loss: 0.725150465965271, Time: 65.12 seconds \n",
      "Epoch: 79, Training Loss: 0.7176175117492676, Time: 65.06 seconds \n",
      "Epoch: 80, Training Loss: 0.7217233777046204, Time: 64.59 seconds, Val Accuracy: 0.4174, f1Score: 0.3242\n",
      "Confusion Matrix:\n",
      "tensor([[ 66, 117],\n",
      "        [ 17,  30]], device='cuda:0')\n",
      "TP: 30, TN: 66, FP: 117, FN: 17\n",
      "Epoch: 81, Training Loss: 0.7198394536972046, Time: 64.54 seconds \n",
      "Epoch: 82, Training Loss: 0.7143036127090454, Time: 65.07 seconds \n",
      "Epoch: 83, Training Loss: 0.7116326093673706, Time: 64.68 seconds \n",
      "Epoch: 84, Training Loss: 0.7112436294555664, Time: 64.52 seconds \n",
      "Epoch: 85, Training Loss: 0.7164707183837891, Time: 64.67 seconds, Val Accuracy: 0.4174, f1Score: 0.3234\n",
      "Epoch: 86, Training Loss: 0.7174802422523499, Time: 64.42 seconds \n",
      "Epoch: 87, Training Loss: 0.705001711845398, Time: 64.85 seconds \n",
      "Epoch: 88, Training Loss: 0.7114728689193726, Time: 64.76 seconds \n",
      "Epoch: 89, Training Loss: 0.7081015706062317, Time: 64.71 seconds \n",
      "Epoch: 90, Training Loss: 0.7154614329338074, Time: 64.70 seconds, Val Accuracy: 0.4217, f1Score: 0.3228\n",
      "Confusion Matrix:\n",
      "tensor([[ 67, 116],\n",
      "        [ 17,  30]], device='cuda:0')\n",
      "TP: 30, TN: 67, FP: 116, FN: 17\n",
      "Epoch: 91, Training Loss: 0.7172521948814392, Time: 64.75 seconds \n",
      "Epoch: 92, Training Loss: 0.7062724232673645, Time: 64.95 seconds \n",
      "Epoch: 93, Training Loss: 0.7114866375923157, Time: 64.76 seconds \n",
      "Epoch: 94, Training Loss: 0.7050253748893738, Time: 64.63 seconds \n",
      "Epoch: 95, Training Loss: 0.7156527042388916, Time: 64.56 seconds, Val Accuracy: 0.4217, f1Score: 0.3222\n",
      "Epoch: 96, Training Loss: 0.7094608545303345, Time: 64.46 seconds \n",
      "Epoch: 97, Training Loss: 0.7177585959434509, Time: 64.43 seconds \n",
      "Epoch: 98, Training Loss: 0.7217496633529663, Time: 65.04 seconds \n"
     ]
    },
    {
     "name": "stdout",
     "output_type": "stream",
     "text": [
      "Epoch: 99, Training Loss: 0.6998181343078613, Time: 64.13 seconds \n",
      "Epoch: 100, Training Loss: 0.7068705558776855, Time: 64.28 seconds, Val Accuracy: 0.4174, f1Score: 0.3216\n",
      "Confusion Matrix:\n",
      "tensor([[ 66, 117],\n",
      "        [ 17,  30]], device='cuda:0')\n",
      "TP: 30, TN: 66, FP: 117, FN: 17\n",
      "Epoch: 101, Training Loss: 0.7144039273262024, Time: 64.92 seconds \n",
      "Epoch: 102, Training Loss: 0.719663679599762, Time: 65.00 seconds \n",
      "Epoch: 103, Training Loss: 0.7199895977973938, Time: 64.30 seconds \n",
      "Epoch: 104, Training Loss: 0.7236813902854919, Time: 64.80 seconds \n",
      "Epoch: 105, Training Loss: 0.7234604358673096, Time: 64.58 seconds, Val Accuracy: 0.4217, f1Score: 0.3211\n",
      "Epoch: 106, Training Loss: 0.6995209455490112, Time: 64.73 seconds \n",
      "Epoch: 107, Training Loss: 0.7251452803611755, Time: 64.62 seconds \n",
      "Epoch: 108, Training Loss: 0.7069094777107239, Time: 64.36 seconds \n",
      "Epoch: 109, Training Loss: 0.7184414267539978, Time: 64.69 seconds \n",
      "Epoch: 110, Training Loss: 0.7045307159423828, Time: 64.35 seconds, Val Accuracy: 0.4261, f1Score: 0.3207\n",
      "Confusion Matrix:\n",
      "tensor([[ 68, 115],\n",
      "        [ 17,  30]], device='cuda:0')\n",
      "TP: 30, TN: 68, FP: 115, FN: 17\n",
      "Epoch: 111, Training Loss: 0.7209292650222778, Time: 64.98 seconds \n",
      "Epoch: 112, Training Loss: 0.7104888558387756, Time: 64.22 seconds \n",
      "Epoch: 113, Training Loss: 0.7148684859275818, Time: 64.38 seconds \n",
      "Epoch: 114, Training Loss: 0.7114917635917664, Time: 63.87 seconds \n",
      "Epoch: 115, Training Loss: 0.6984857320785522, Time: 64.93 seconds, Val Accuracy: 0.4174, f1Score: 0.3202\n",
      "Epoch: 116, Training Loss: 0.7212584018707275, Time: 64.51 seconds \n",
      "Epoch: 117, Training Loss: 0.7040517926216125, Time: 64.84 seconds \n",
      "Epoch: 118, Training Loss: 0.7349159717559814, Time: 64.97 seconds \n",
      "Epoch: 119, Training Loss: 0.7182053923606873, Time: 64.56 seconds \n",
      "Epoch: 120, Training Loss: 0.7181073427200317, Time: 65.14 seconds, Val Accuracy: 0.4174, f1Score: 0.3198\n",
      "Confusion Matrix:\n",
      "tensor([[ 66, 117],\n",
      "        [ 17,  30]], device='cuda:0')\n",
      "TP: 30, TN: 66, FP: 117, FN: 17\n",
      "Epoch: 121, Training Loss: 0.7122969627380371, Time: 65.04 seconds \n",
      "Epoch: 122, Training Loss: 0.7069899439811707, Time: 64.54 seconds \n",
      "Epoch: 123, Training Loss: 0.7158843874931335, Time: 64.63 seconds \n",
      "Epoch: 124, Training Loss: 0.7175899744033813, Time: 64.84 seconds \n",
      "Epoch: 125, Training Loss: 0.7113386392593384, Time: 64.71 seconds, Val Accuracy: 0.4130, f1Score: 0.3193\n",
      "Epoch: 126, Training Loss: 0.7118251323699951, Time: 64.91 seconds \n",
      "Epoch: 127, Training Loss: 0.7209932804107666, Time: 64.26 seconds \n",
      "Epoch: 128, Training Loss: 0.7133758664131165, Time: 64.42 seconds \n",
      "Epoch: 129, Training Loss: 0.7269965410232544, Time: 64.35 seconds \n",
      "Epoch: 130, Training Loss: 0.7261013388633728, Time: 64.60 seconds, Val Accuracy: 0.4130, f1Score: 0.3189\n",
      "Confusion Matrix:\n",
      "tensor([[ 65, 118],\n",
      "        [ 17,  30]], device='cuda:0')\n",
      "TP: 30, TN: 65, FP: 118, FN: 17\n",
      "Epoch: 131, Training Loss: 0.7183270454406738, Time: 64.88 seconds \n",
      "Epoch: 132, Training Loss: 0.7143239378929138, Time: 64.68 seconds \n",
      "Epoch: 133, Training Loss: 0.7087814807891846, Time: 64.43 seconds \n",
      "Epoch: 134, Training Loss: 0.7164834141731262, Time: 64.13 seconds \n",
      "Epoch: 135, Training Loss: 0.7099142670631409, Time: 64.19 seconds, Val Accuracy: 0.4174, f1Score: 0.3186\n",
      "Epoch: 136, Training Loss: 0.7132716774940491, Time: 64.47 seconds \n",
      "Epoch: 137, Training Loss: 0.7236335873603821, Time: 64.80 seconds \n",
      "Epoch: 138, Training Loss: 0.7190861701965332, Time: 63.96 seconds \n",
      "Epoch: 139, Training Loss: 0.7042301297187805, Time: 63.65 seconds \n",
      "Epoch: 140, Training Loss: 0.7175716161727905, Time: 65.47 seconds, Val Accuracy: 0.4174, f1Score: 0.3182\n",
      "Confusion Matrix:\n",
      "tensor([[ 66, 117],\n",
      "        [ 17,  30]], device='cuda:0')\n",
      "TP: 30, TN: 66, FP: 117, FN: 17\n",
      "Epoch: 141, Training Loss: 0.7079945802688599, Time: 67.36 seconds \n",
      "Epoch: 142, Training Loss: 0.7166908979415894, Time: 71.79 seconds \n",
      "Epoch: 143, Training Loss: 0.7090736627578735, Time: 69.80 seconds \n",
      "Epoch: 144, Training Loss: 0.7104557156562805, Time: 69.64 seconds \n",
      "Epoch: 145, Training Loss: 0.7091425061225891, Time: 68.19 seconds, Val Accuracy: 0.4130, f1Score: 0.3179\n",
      "Epoch: 146, Training Loss: 0.7225581407546997, Time: 69.74 seconds \n",
      "Epoch: 147, Training Loss: 0.7300490140914917, Time: 70.81 seconds \n",
      "Epoch: 148, Training Loss: 0.7104349136352539, Time: 69.54 seconds \n",
      "Epoch: 149, Training Loss: 0.7131528258323669, Time: 66.95 seconds \n",
      "Epoch: 150, Training Loss: 0.7073580622673035, Time: 68.73 seconds, Val Accuracy: 0.4174, f1Score: 0.3176\n",
      "Confusion Matrix:\n",
      "tensor([[ 66, 117],\n",
      "        [ 17,  30]], device='cuda:0')\n",
      "TP: 30, TN: 66, FP: 117, FN: 17\n",
      "Epoch: 151, Training Loss: 0.7014867663383484, Time: 70.29 seconds \n",
      "Epoch: 152, Training Loss: 0.7208163142204285, Time: 69.09 seconds \n",
      "Epoch: 153, Training Loss: 0.7029785513877869, Time: 65.61 seconds \n",
      "Epoch: 154, Training Loss: 0.7159976363182068, Time: 65.56 seconds \n",
      "Epoch: 155, Training Loss: 0.7259898781776428, Time: 66.04 seconds, Val Accuracy: 0.4174, f1Score: 0.3174\n",
      "Epoch: 156, Training Loss: 0.7038520574569702, Time: 66.00 seconds \n",
      "Epoch: 157, Training Loss: 0.7043394446372986, Time: 66.91 seconds \n",
      "Epoch: 158, Training Loss: 0.7297250628471375, Time: 65.36 seconds \n",
      "Epoch: 159, Training Loss: 0.7062239646911621, Time: 65.26 seconds \n",
      "Epoch: 160, Training Loss: 0.7155292630195618, Time: 65.63 seconds, Val Accuracy: 0.4261, f1Score: 0.3172\n",
      "Confusion Matrix:\n",
      "tensor([[ 68, 115],\n",
      "        [ 17,  30]], device='cuda:0')\n",
      "TP: 30, TN: 68, FP: 115, FN: 17\n",
      "Epoch: 161, Training Loss: 0.7104793787002563, Time: 67.62 seconds \n",
      "Epoch: 162, Training Loss: 0.7245279550552368, Time: 65.44 seconds \n",
      "Epoch: 163, Training Loss: 0.7072455883026123, Time: 65.85 seconds \n",
      "Epoch: 164, Training Loss: 0.7094439268112183, Time: 66.55 seconds \n",
      "Epoch: 165, Training Loss: 0.6947144269943237, Time: 66.02 seconds, Val Accuracy: 0.4217, f1Score: 0.3170\n",
      "Epoch: 166, Training Loss: 0.7261113524436951, Time: 67.88 seconds \n",
      "Epoch: 167, Training Loss: 0.7136292457580566, Time: 65.50 seconds \n",
      "Epoch: 168, Training Loss: 0.7199496626853943, Time: 65.59 seconds \n",
      "Epoch: 169, Training Loss: 0.7082500457763672, Time: 64.99 seconds \n",
      "Epoch: 170, Training Loss: 0.7214985489845276, Time: 63.86 seconds, Val Accuracy: 0.4217, f1Score: 0.3169\n",
      "Confusion Matrix:\n",
      "tensor([[ 67, 116],\n",
      "        [ 17,  30]], device='cuda:0')\n",
      "TP: 30, TN: 67, FP: 116, FN: 17\n",
      "Epoch: 171, Training Loss: 0.7137938141822815, Time: 65.15 seconds \n",
      "Epoch: 172, Training Loss: 0.7058305740356445, Time: 64.36 seconds \n",
      "Epoch: 173, Training Loss: 0.7144998908042908, Time: 64.79 seconds \n",
      "Epoch: 174, Training Loss: 0.698947548866272, Time: 65.22 seconds \n",
      "Epoch: 175, Training Loss: 0.7089030742645264, Time: 64.86 seconds, Val Accuracy: 0.4174, f1Score: 0.3166\n",
      "Epoch: 176, Training Loss: 0.7102347016334534, Time: 65.02 seconds \n",
      "Epoch: 177, Training Loss: 0.6945525407791138, Time: 64.35 seconds \n",
      "Epoch: 178, Training Loss: 0.7148623466491699, Time: 63.80 seconds \n",
      "Epoch: 179, Training Loss: 0.7081761956214905, Time: 63.77 seconds \n",
      "Epoch: 180, Training Loss: 0.7175875902175903, Time: 70.38 seconds, Val Accuracy: 0.4217, f1Score: 0.3165\n",
      "Confusion Matrix:\n",
      "tensor([[ 67, 116],\n",
      "        [ 17,  30]], device='cuda:0')\n",
      "TP: 30, TN: 67, FP: 116, FN: 17\n",
      "Epoch: 181, Training Loss: 0.7161992788314819, Time: 64.86 seconds \n"
     ]
    }
   ],
   "source": [
    "for epoch in range(500):\n",
    "    start_time = time.time()  # Start timer\n",
    "\n",
    "    model.train()\n",
    "    running_loss = 0.0\n",
    "    for images, labels in train_loader:\n",
    "        global_epochs += 1\n",
    "        images, labels = images.to(device), labels.to(device)\n",
    "        optimizer.zero_grad()\n",
    "        outputs = model(images)\n",
    "                \n",
    "        loss = criterion(outputs, labels)\n",
    "        loss.backward()\n",
    "        optimizer.step()\n",
    "        writer.add_scalar('resnet-Loss/train', loss.item(), global_epochs)\n",
    "                \n",
    "        running_loss += loss.item()\n",
    "\n",
    "    #scheduler step()\n",
    "#     scheduler.step()\n",
    "        \n",
    "    end_time = time.time()  # End timer\n",
    "    epoch_time = end_time - start_time\n",
    "    global_step += 1\n",
    "    \n",
    "    if global_step % 5 !=0:\n",
    "        print(f'Epoch: {global_step}, Training Loss: {running_loss / len(train_loader)}, Time: {epoch_time:.2f} seconds ')\n",
    "    else:\n",
    "        conf_mat.reset()\n",
    "        accuracy.reset()\n",
    "        model.eval()\n",
    "        with torch.no_grad():\n",
    "            for images, labels in val_loader:\n",
    "                images, labels = images.to(device), labels.to(device)\n",
    "                outputs = model(images)\n",
    "                _, predicted = torch.max(outputs, 1)\n",
    "                conf_mat.update(predicted, labels)\n",
    "                accuracy.update(predicted, labels)\n",
    "                f1score.update(predicted, labels)\n",
    "            val_acc = accuracy.compute()\n",
    "            f1_acc = f1score.compute()\n",
    "            print(f'Epoch: {global_step}, Training Loss: {running_loss / len(train_loader)}, Time: {epoch_time:.2f} seconds, Val Accuracy: {val_acc:.4f}, f1Score: {f1_acc:.4f}')\n",
    "            if global_step % 10 ==0:\n",
    "                print('Confusion Matrix:')\n",
    "                print(conf_mat.compute())\n",
    "                print(f'TP: {conf_mat.compute()[1,1]}, TN: {conf_mat.compute()[0,0]}, FP: {conf_mat.compute()[0,1]}, FN: {conf_mat.compute()[1,0]}')\n",
    "            \n",
    "#             save_model(model,global_step,val_acc)"
   ]
  },
  {
   "cell_type": "code",
   "execution_count": null,
   "id": "c9eba936",
   "metadata": {},
   "outputs": [],
   "source": [
    "# scripted_model = torch.jit.script(model)\n",
    "# torch.jit.save(scripted_model, 'resnet18-model-eczema-0.7815.pth')"
   ]
  },
  {
   "cell_type": "code",
   "execution_count": null,
   "id": "740f19b2",
   "metadata": {},
   "outputs": [],
   "source": [
    "# loaded_model = loaded_model = torch.jit.load('resnet18-model-eczema-0.7815.pth')"
   ]
  },
  {
   "cell_type": "code",
   "execution_count": null,
   "id": "da16f512",
   "metadata": {},
   "outputs": [],
   "source": []
  }
 ],
 "metadata": {
  "kernelspec": {
   "display_name": "aihc-py39-kernel",
   "language": "python",
   "name": "aihc-py39-kernel"
  },
  "language_info": {
   "codemirror_mode": {
    "name": "ipython",
    "version": 3
   },
   "file_extension": ".py",
   "mimetype": "text/x-python",
   "name": "python",
   "nbconvert_exporter": "python",
   "pygments_lexer": "ipython3",
   "version": "3.9.20"
  }
 },
 "nbformat": 4,
 "nbformat_minor": 5
}
