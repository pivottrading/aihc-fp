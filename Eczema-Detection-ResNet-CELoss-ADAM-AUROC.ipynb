{
 "cells": [
  {
   "cell_type": "code",
   "execution_count": 1,
   "id": "13249331",
   "metadata": {},
   "outputs": [
    {
     "name": "stdout",
     "output_type": "stream",
     "text": [
      "Requirement already satisfied: torchmetrics in c:\\users\\water\\.conda\\envs\\aihc-py39\\lib\\site-packages (1.6.0)\n",
      "Requirement already satisfied: numpy>1.20.0 in c:\\users\\water\\.conda\\envs\\aihc-py39\\lib\\site-packages (from torchmetrics) (2.0.2)\n",
      "Requirement already satisfied: packaging>17.1 in c:\\users\\water\\.conda\\envs\\aihc-py39\\lib\\site-packages (from torchmetrics) (24.1)\n",
      "Requirement already satisfied: torch>=2.0.0 in c:\\users\\water\\.conda\\envs\\aihc-py39\\lib\\site-packages (from torchmetrics) (2.5.1+cu121)\n",
      "Requirement already satisfied: lightning-utilities>=0.8.0 in c:\\users\\water\\.conda\\envs\\aihc-py39\\lib\\site-packages (from torchmetrics) (0.11.8)\n",
      "Requirement already satisfied: setuptools in c:\\users\\water\\.conda\\envs\\aihc-py39\\lib\\site-packages (from lightning-utilities>=0.8.0->torchmetrics) (75.1.0)\n",
      "Requirement already satisfied: typing-extensions in c:\\users\\water\\.conda\\envs\\aihc-py39\\lib\\site-packages (from lightning-utilities>=0.8.0->torchmetrics) (4.11.0)\n",
      "Requirement already satisfied: filelock in c:\\users\\water\\.conda\\envs\\aihc-py39\\lib\\site-packages (from torch>=2.0.0->torchmetrics) (3.13.1)\n",
      "Requirement already satisfied: networkx in c:\\users\\water\\.conda\\envs\\aihc-py39\\lib\\site-packages (from torch>=2.0.0->torchmetrics) (3.2.1)\n",
      "Requirement already satisfied: jinja2 in c:\\users\\water\\.conda\\envs\\aihc-py39\\lib\\site-packages (from torch>=2.0.0->torchmetrics) (3.1.4)\n",
      "Requirement already satisfied: fsspec in c:\\users\\water\\.conda\\envs\\aihc-py39\\lib\\site-packages (from torch>=2.0.0->torchmetrics) (2024.2.0)\n",
      "Requirement already satisfied: sympy==1.13.1 in c:\\users\\water\\.conda\\envs\\aihc-py39\\lib\\site-packages (from torch>=2.0.0->torchmetrics) (1.13.1)\n",
      "Requirement already satisfied: mpmath<1.4,>=1.1.0 in c:\\users\\water\\.conda\\envs\\aihc-py39\\lib\\site-packages (from sympy==1.13.1->torch>=2.0.0->torchmetrics) (1.3.0)\n",
      "Requirement already satisfied: MarkupSafe>=2.0 in c:\\users\\water\\.conda\\envs\\aihc-py39\\lib\\site-packages (from jinja2->torch>=2.0.0->torchmetrics) (3.0.1)\n"
     ]
    }
   ],
   "source": [
    "!pip install torchmetrics"
   ]
  },
  {
   "cell_type": "code",
   "execution_count": 2,
   "id": "74a6e9d4",
   "metadata": {},
   "outputs": [],
   "source": [
    "import pandas as pd\n",
    "from sklearn.model_selection import train_test_split\n",
    "from sklearn.metrics import roc_auc_score\n",
    "import torch\n",
    "import torch.nn as nn\n",
    "import torchvision\n",
    "import torchvision.transforms as transforms\n",
    "from torchvision import datasets\n",
    "import matplotlib.pyplot as plt\n",
    "from sklearn.metrics import accuracy_score\n",
    "from sklearn.model_selection import train_test_split\n",
    "import pandas as pd\n",
    "import os\n",
    "import time\n",
    "import numpy as np\n"
   ]
  },
  {
   "cell_type": "code",
   "execution_count": 3,
   "id": "26ecb102",
   "metadata": {},
   "outputs": [],
   "source": [
    "# Load data files\n",
    "cases_df = pd.read_csv('dataset/scin_cases.csv')\n",
    "labels_df = pd.read_csv('dataset/scin_labels.csv')"
   ]
  },
  {
   "cell_type": "code",
   "execution_count": 4,
   "id": "60230b13",
   "metadata": {},
   "outputs": [
    {
     "data": {
      "text/html": [
       "<div>\n",
       "<style scoped>\n",
       "    .dataframe tbody tr th:only-of-type {\n",
       "        vertical-align: middle;\n",
       "    }\n",
       "\n",
       "    .dataframe tbody tr th {\n",
       "        vertical-align: top;\n",
       "    }\n",
       "\n",
       "    .dataframe thead th {\n",
       "        text-align: right;\n",
       "    }\n",
       "</style>\n",
       "<table border=\"1\" class=\"dataframe\">\n",
       "  <thead>\n",
       "    <tr style=\"text-align: right;\">\n",
       "      <th></th>\n",
       "      <th>case_id</th>\n",
       "      <th>source</th>\n",
       "      <th>release</th>\n",
       "      <th>year</th>\n",
       "      <th>age_group</th>\n",
       "      <th>sex_at_birth</th>\n",
       "      <th>fitzpatrick_skin_type</th>\n",
       "      <th>race_ethnicity_american_indian_or_alaska_native</th>\n",
       "      <th>race_ethnicity_asian</th>\n",
       "      <th>race_ethnicity_black_or_african_american</th>\n",
       "      <th>...</th>\n",
       "      <th>related_category</th>\n",
       "      <th>condition_duration</th>\n",
       "      <th>image_1_path</th>\n",
       "      <th>image_2_path</th>\n",
       "      <th>image_3_path</th>\n",
       "      <th>image_1_shot_type</th>\n",
       "      <th>image_2_shot_type</th>\n",
       "      <th>image_3_shot_type</th>\n",
       "      <th>combined_race</th>\n",
       "      <th>race_ethnicity_two_or_more_after_mitigation</th>\n",
       "    </tr>\n",
       "  </thead>\n",
       "  <tbody>\n",
       "    <tr>\n",
       "      <th>0</th>\n",
       "      <td>-1000600354148496558</td>\n",
       "      <td>SCIN</td>\n",
       "      <td>1.0.0</td>\n",
       "      <td>2023</td>\n",
       "      <td>AGE_UNKNOWN</td>\n",
       "      <td>OTHER_OR_UNSPECIFIED</td>\n",
       "      <td>NaN</td>\n",
       "      <td>NaN</td>\n",
       "      <td>NaN</td>\n",
       "      <td>NaN</td>\n",
       "      <td>...</td>\n",
       "      <td>RASH</td>\n",
       "      <td>ONE_DAY</td>\n",
       "      <td>dataset/images/-3205742176803893704.png</td>\n",
       "      <td>NaN</td>\n",
       "      <td>NaN</td>\n",
       "      <td>CLOSE_UP</td>\n",
       "      <td>NaN</td>\n",
       "      <td>NaN</td>\n",
       "      <td>NaN</td>\n",
       "      <td>NaN</td>\n",
       "    </tr>\n",
       "    <tr>\n",
       "      <th>1</th>\n",
       "      <td>-1002039107727665188</td>\n",
       "      <td>SCIN</td>\n",
       "      <td>1.0.0</td>\n",
       "      <td>2023</td>\n",
       "      <td>AGE_UNKNOWN</td>\n",
       "      <td>OTHER_OR_UNSPECIFIED</td>\n",
       "      <td>NaN</td>\n",
       "      <td>NaN</td>\n",
       "      <td>NaN</td>\n",
       "      <td>NaN</td>\n",
       "      <td>...</td>\n",
       "      <td>NaN</td>\n",
       "      <td>NaN</td>\n",
       "      <td>dataset/images/-4762289084741430925.png</td>\n",
       "      <td>NaN</td>\n",
       "      <td>NaN</td>\n",
       "      <td>CLOSE_UP</td>\n",
       "      <td>NaN</td>\n",
       "      <td>NaN</td>\n",
       "      <td>NaN</td>\n",
       "      <td>NaN</td>\n",
       "    </tr>\n",
       "    <tr>\n",
       "      <th>2</th>\n",
       "      <td>-1003358831658393077</td>\n",
       "      <td>SCIN</td>\n",
       "      <td>1.0.0</td>\n",
       "      <td>2023</td>\n",
       "      <td>AGE_18_TO_29</td>\n",
       "      <td>MALE</td>\n",
       "      <td>NONE_IDENTIFIED</td>\n",
       "      <td>NaN</td>\n",
       "      <td>NaN</td>\n",
       "      <td>NaN</td>\n",
       "      <td>...</td>\n",
       "      <td>OTHER_ISSUE_DESCRIPTION</td>\n",
       "      <td>ONE_TO_FOUR_WEEKS</td>\n",
       "      <td>dataset/images/-4027806997035329030.png</td>\n",
       "      <td>NaN</td>\n",
       "      <td>NaN</td>\n",
       "      <td>CLOSE_UP</td>\n",
       "      <td>NaN</td>\n",
       "      <td>NaN</td>\n",
       "      <td>HISPANIC_LATINO_OR_SPANISH_ORIGIN</td>\n",
       "      <td>NaN</td>\n",
       "    </tr>\n",
       "    <tr>\n",
       "      <th>3</th>\n",
       "      <td>-1003826561155964328</td>\n",
       "      <td>SCIN</td>\n",
       "      <td>1.0.0</td>\n",
       "      <td>2023</td>\n",
       "      <td>AGE_UNKNOWN</td>\n",
       "      <td>OTHER_OR_UNSPECIFIED</td>\n",
       "      <td>NaN</td>\n",
       "      <td>NaN</td>\n",
       "      <td>NaN</td>\n",
       "      <td>NaN</td>\n",
       "      <td>...</td>\n",
       "      <td>OTHER_ISSUE_DESCRIPTION</td>\n",
       "      <td>ONE_DAY</td>\n",
       "      <td>dataset/images/-5332065579713135540.png</td>\n",
       "      <td>dataset/images/-6353431708064969797.png</td>\n",
       "      <td>dataset/images/742075435141960831.png</td>\n",
       "      <td>AT_DISTANCE</td>\n",
       "      <td>AT_AN_ANGLE</td>\n",
       "      <td>CLOSE_UP</td>\n",
       "      <td>NaN</td>\n",
       "      <td>NaN</td>\n",
       "    </tr>\n",
       "    <tr>\n",
       "      <th>4</th>\n",
       "      <td>-1003844406100696311</td>\n",
       "      <td>SCIN</td>\n",
       "      <td>1.0.0</td>\n",
       "      <td>2023</td>\n",
       "      <td>AGE_40_TO_49</td>\n",
       "      <td>FEMALE</td>\n",
       "      <td>FST3</td>\n",
       "      <td>NaN</td>\n",
       "      <td>NaN</td>\n",
       "      <td>NaN</td>\n",
       "      <td>...</td>\n",
       "      <td>RASH</td>\n",
       "      <td>ONE_DAY</td>\n",
       "      <td>dataset/images/-3799298995660217860.png</td>\n",
       "      <td>dataset/images/-5881426422999442186.png</td>\n",
       "      <td>dataset/images/5854025080806696361.png</td>\n",
       "      <td>AT_AN_ANGLE</td>\n",
       "      <td>AT_DISTANCE</td>\n",
       "      <td>CLOSE_UP</td>\n",
       "      <td>WHITE</td>\n",
       "      <td>NaN</td>\n",
       "    </tr>\n",
       "  </tbody>\n",
       "</table>\n",
       "<p>5 rows × 57 columns</p>\n",
       "</div>"
      ],
      "text/plain": [
       "               case_id source release  year     age_group  \\\n",
       "0 -1000600354148496558   SCIN   1.0.0  2023   AGE_UNKNOWN   \n",
       "1 -1002039107727665188   SCIN   1.0.0  2023   AGE_UNKNOWN   \n",
       "2 -1003358831658393077   SCIN   1.0.0  2023  AGE_18_TO_29   \n",
       "3 -1003826561155964328   SCIN   1.0.0  2023   AGE_UNKNOWN   \n",
       "4 -1003844406100696311   SCIN   1.0.0  2023  AGE_40_TO_49   \n",
       "\n",
       "           sex_at_birth fitzpatrick_skin_type  \\\n",
       "0  OTHER_OR_UNSPECIFIED                   NaN   \n",
       "1  OTHER_OR_UNSPECIFIED                   NaN   \n",
       "2                  MALE       NONE_IDENTIFIED   \n",
       "3  OTHER_OR_UNSPECIFIED                   NaN   \n",
       "4                FEMALE                  FST3   \n",
       "\n",
       "  race_ethnicity_american_indian_or_alaska_native race_ethnicity_asian  \\\n",
       "0                                             NaN                  NaN   \n",
       "1                                             NaN                  NaN   \n",
       "2                                             NaN                  NaN   \n",
       "3                                             NaN                  NaN   \n",
       "4                                             NaN                  NaN   \n",
       "\n",
       "  race_ethnicity_black_or_african_american  ...         related_category  \\\n",
       "0                                      NaN  ...                     RASH   \n",
       "1                                      NaN  ...                      NaN   \n",
       "2                                      NaN  ...  OTHER_ISSUE_DESCRIPTION   \n",
       "3                                      NaN  ...  OTHER_ISSUE_DESCRIPTION   \n",
       "4                                      NaN  ...                     RASH   \n",
       "\n",
       "  condition_duration                             image_1_path  \\\n",
       "0            ONE_DAY  dataset/images/-3205742176803893704.png   \n",
       "1                NaN  dataset/images/-4762289084741430925.png   \n",
       "2  ONE_TO_FOUR_WEEKS  dataset/images/-4027806997035329030.png   \n",
       "3            ONE_DAY  dataset/images/-5332065579713135540.png   \n",
       "4            ONE_DAY  dataset/images/-3799298995660217860.png   \n",
       "\n",
       "                              image_2_path  \\\n",
       "0                                      NaN   \n",
       "1                                      NaN   \n",
       "2                                      NaN   \n",
       "3  dataset/images/-6353431708064969797.png   \n",
       "4  dataset/images/-5881426422999442186.png   \n",
       "\n",
       "                             image_3_path image_1_shot_type image_2_shot_type  \\\n",
       "0                                     NaN          CLOSE_UP               NaN   \n",
       "1                                     NaN          CLOSE_UP               NaN   \n",
       "2                                     NaN          CLOSE_UP               NaN   \n",
       "3   dataset/images/742075435141960831.png       AT_DISTANCE       AT_AN_ANGLE   \n",
       "4  dataset/images/5854025080806696361.png       AT_AN_ANGLE       AT_DISTANCE   \n",
       "\n",
       "  image_3_shot_type                      combined_race  \\\n",
       "0               NaN                                NaN   \n",
       "1               NaN                                NaN   \n",
       "2               NaN  HISPANIC_LATINO_OR_SPANISH_ORIGIN   \n",
       "3          CLOSE_UP                                NaN   \n",
       "4          CLOSE_UP                              WHITE   \n",
       "\n",
       "  race_ethnicity_two_or_more_after_mitigation  \n",
       "0                                         NaN  \n",
       "1                                         NaN  \n",
       "2                                         NaN  \n",
       "3                                         NaN  \n",
       "4                                         NaN  \n",
       "\n",
       "[5 rows x 57 columns]"
      ]
     },
     "execution_count": 4,
     "metadata": {},
     "output_type": "execute_result"
    }
   ],
   "source": [
    "cases_df.head()"
   ]
  },
  {
   "cell_type": "code",
   "execution_count": 5,
   "id": "d182b8c1",
   "metadata": {},
   "outputs": [
    {
     "data": {
      "text/plain": [
       "Index(['case_id', 'source', 'release', 'year', 'age_group', 'sex_at_birth',\n",
       "       'fitzpatrick_skin_type',\n",
       "       'race_ethnicity_american_indian_or_alaska_native',\n",
       "       'race_ethnicity_asian', 'race_ethnicity_black_or_african_american',\n",
       "       'race_ethnicity_hispanic_latino_or_spanish_origin',\n",
       "       'race_ethnicity_middle_eastern_or_north_african',\n",
       "       'race_ethnicity_native_hawaiian_or_pacific_islander',\n",
       "       'race_ethnicity_white', 'race_ethnicity_other_race',\n",
       "       'race_ethnicity_prefer_not_to_answer', 'textures_raised_or_bumpy',\n",
       "       'textures_flat', 'textures_rough_or_flaky', 'textures_fluid_filled',\n",
       "       'body_parts_head_or_neck', 'body_parts_arm', 'body_parts_palm',\n",
       "       'body_parts_back_of_hand', 'body_parts_torso_front',\n",
       "       'body_parts_torso_back', 'body_parts_genitalia_or_groin',\n",
       "       'body_parts_buttocks', 'body_parts_leg', 'body_parts_foot_top_or_side',\n",
       "       'body_parts_foot_sole', 'body_parts_other',\n",
       "       'condition_symptoms_bothersome_appearance',\n",
       "       'condition_symptoms_bleeding', 'condition_symptoms_increasing_size',\n",
       "       'condition_symptoms_darkening', 'condition_symptoms_itching',\n",
       "       'condition_symptoms_burning', 'condition_symptoms_pain',\n",
       "       'condition_symptoms_no_relevant_experience', 'other_symptoms_fever',\n",
       "       'other_symptoms_chills', 'other_symptoms_fatigue',\n",
       "       'other_symptoms_joint_pain', 'other_symptoms_mouth_sores',\n",
       "       'other_symptoms_shortness_of_breath',\n",
       "       'other_symptoms_no_relevant_symptoms', 'related_category',\n",
       "       'condition_duration', 'image_1_path', 'image_2_path', 'image_3_path',\n",
       "       'image_1_shot_type', 'image_2_shot_type', 'image_3_shot_type',\n",
       "       'combined_race', 'race_ethnicity_two_or_more_after_mitigation'],\n",
       "      dtype='object')"
      ]
     },
     "execution_count": 5,
     "metadata": {},
     "output_type": "execute_result"
    }
   ],
   "source": [
    "cases_df.columns"
   ]
  },
  {
   "cell_type": "code",
   "execution_count": 6,
   "id": "443f1797",
   "metadata": {},
   "outputs": [
    {
     "data": {
      "text/html": [
       "<div>\n",
       "<style scoped>\n",
       "    .dataframe tbody tr th:only-of-type {\n",
       "        vertical-align: middle;\n",
       "    }\n",
       "\n",
       "    .dataframe tbody tr th {\n",
       "        vertical-align: top;\n",
       "    }\n",
       "\n",
       "    .dataframe thead th {\n",
       "        text-align: right;\n",
       "    }\n",
       "</style>\n",
       "<table border=\"1\" class=\"dataframe\">\n",
       "  <thead>\n",
       "    <tr style=\"text-align: right;\">\n",
       "      <th></th>\n",
       "      <th>case_id</th>\n",
       "      <th>dermatologist_gradable_for_skin_condition_1</th>\n",
       "      <th>dermatologist_gradable_for_skin_condition_2</th>\n",
       "      <th>dermatologist_gradable_for_skin_condition_3</th>\n",
       "      <th>dermatologist_skin_condition_on_label_name</th>\n",
       "      <th>dermatologist_skin_condition_confidence</th>\n",
       "      <th>weighted_skin_condition_label</th>\n",
       "      <th>dermatologist_gradable_for_fitzpatrick_skin_type_1</th>\n",
       "      <th>dermatologist_gradable_for_fitzpatrick_skin_type_2</th>\n",
       "      <th>dermatologist_gradable_for_fitzpatrick_skin_type_3</th>\n",
       "      <th>dermatologist_fitzpatrick_skin_type_label_1</th>\n",
       "      <th>dermatologist_fitzpatrick_skin_type_label_2</th>\n",
       "      <th>dermatologist_fitzpatrick_skin_type_label_3</th>\n",
       "      <th>gradable_for_monk_skin_tone_india</th>\n",
       "      <th>gradable_for_monk_skin_tone_us</th>\n",
       "      <th>monk_skin_tone_label_india</th>\n",
       "      <th>monk_skin_tone_label_us</th>\n",
       "    </tr>\n",
       "  </thead>\n",
       "  <tbody>\n",
       "    <tr>\n",
       "      <th>0</th>\n",
       "      <td>-1000600354148496558</td>\n",
       "      <td>DEFAULT_YES_IMAGE_QUALITY_SUFFICIENT</td>\n",
       "      <td>NaN</td>\n",
       "      <td>NaN</td>\n",
       "      <td>['Inflicted skin lesions', 'Eczema', 'Irritant...</td>\n",
       "      <td>[4, 4, 3]</td>\n",
       "      <td>{'Inflicted skin lesions': 0.41, 'Eczema': 0.4...</td>\n",
       "      <td>YES</td>\n",
       "      <td>NaN</td>\n",
       "      <td>NaN</td>\n",
       "      <td>FST2</td>\n",
       "      <td>NaN</td>\n",
       "      <td>NaN</td>\n",
       "      <td>True</td>\n",
       "      <td>True</td>\n",
       "      <td>2.0</td>\n",
       "      <td>1.0</td>\n",
       "    </tr>\n",
       "    <tr>\n",
       "      <th>1</th>\n",
       "      <td>-1002039107727665188</td>\n",
       "      <td>DEFAULT_YES_IMAGE_QUALITY_SUFFICIENT</td>\n",
       "      <td>NaN</td>\n",
       "      <td>NaN</td>\n",
       "      <td>['Prurigo nodularis', 'Actinic Keratosis', 'SC...</td>\n",
       "      <td>[4, 3, 4]</td>\n",
       "      <td>{'Prurigo nodularis': 0.41, 'SCC/SCCIS': 0.41,...</td>\n",
       "      <td>YES</td>\n",
       "      <td>NaN</td>\n",
       "      <td>NaN</td>\n",
       "      <td>FST1</td>\n",
       "      <td>NaN</td>\n",
       "      <td>NaN</td>\n",
       "      <td>True</td>\n",
       "      <td>True</td>\n",
       "      <td>3.0</td>\n",
       "      <td>3.0</td>\n",
       "    </tr>\n",
       "    <tr>\n",
       "      <th>2</th>\n",
       "      <td>-1003358831658393077</td>\n",
       "      <td>DEFAULT_YES_IMAGE_QUALITY_SUFFICIENT</td>\n",
       "      <td>NaN</td>\n",
       "      <td>NaN</td>\n",
       "      <td>['Impetigo', 'Herpes Zoster', 'Bullous dermati...</td>\n",
       "      <td>[2, 1, 1]</td>\n",
       "      <td>{'Impetigo': 0.55, 'Herpes Zoster': 0.23, 'Bul...</td>\n",
       "      <td>YES</td>\n",
       "      <td>NaN</td>\n",
       "      <td>NaN</td>\n",
       "      <td>FST4</td>\n",
       "      <td>NaN</td>\n",
       "      <td>NaN</td>\n",
       "      <td>True</td>\n",
       "      <td>True</td>\n",
       "      <td>3.0</td>\n",
       "      <td>4.0</td>\n",
       "    </tr>\n",
       "    <tr>\n",
       "      <th>3</th>\n",
       "      <td>-1003826561155964328</td>\n",
       "      <td>NO_IMAGE_QUALITY_INSUFFICIENT</td>\n",
       "      <td>NaN</td>\n",
       "      <td>NaN</td>\n",
       "      <td>[]</td>\n",
       "      <td>[]</td>\n",
       "      <td>{}</td>\n",
       "      <td>NO</td>\n",
       "      <td>NaN</td>\n",
       "      <td>NaN</td>\n",
       "      <td>NaN</td>\n",
       "      <td>NaN</td>\n",
       "      <td>NaN</td>\n",
       "      <td>True</td>\n",
       "      <td>True</td>\n",
       "      <td>2.0</td>\n",
       "      <td>4.0</td>\n",
       "    </tr>\n",
       "    <tr>\n",
       "      <th>4</th>\n",
       "      <td>-1003844406100696311</td>\n",
       "      <td>DEFAULT_YES_IMAGE_QUALITY_SUFFICIENT</td>\n",
       "      <td>NaN</td>\n",
       "      <td>NaN</td>\n",
       "      <td>['Lichen planus/lichenoid eruption', 'Follicul...</td>\n",
       "      <td>[1, 1, 1]</td>\n",
       "      <td>{'Lichen planus/lichenoid eruption': 0.33, 'Fo...</td>\n",
       "      <td>YES</td>\n",
       "      <td>NaN</td>\n",
       "      <td>NaN</td>\n",
       "      <td>FST1</td>\n",
       "      <td>NaN</td>\n",
       "      <td>NaN</td>\n",
       "      <td>True</td>\n",
       "      <td>True</td>\n",
       "      <td>1.0</td>\n",
       "      <td>1.0</td>\n",
       "    </tr>\n",
       "  </tbody>\n",
       "</table>\n",
       "</div>"
      ],
      "text/plain": [
       "               case_id dermatologist_gradable_for_skin_condition_1  \\\n",
       "0 -1000600354148496558        DEFAULT_YES_IMAGE_QUALITY_SUFFICIENT   \n",
       "1 -1002039107727665188        DEFAULT_YES_IMAGE_QUALITY_SUFFICIENT   \n",
       "2 -1003358831658393077        DEFAULT_YES_IMAGE_QUALITY_SUFFICIENT   \n",
       "3 -1003826561155964328               NO_IMAGE_QUALITY_INSUFFICIENT   \n",
       "4 -1003844406100696311        DEFAULT_YES_IMAGE_QUALITY_SUFFICIENT   \n",
       "\n",
       "  dermatologist_gradable_for_skin_condition_2  \\\n",
       "0                                         NaN   \n",
       "1                                         NaN   \n",
       "2                                         NaN   \n",
       "3                                         NaN   \n",
       "4                                         NaN   \n",
       "\n",
       "  dermatologist_gradable_for_skin_condition_3  \\\n",
       "0                                         NaN   \n",
       "1                                         NaN   \n",
       "2                                         NaN   \n",
       "3                                         NaN   \n",
       "4                                         NaN   \n",
       "\n",
       "          dermatologist_skin_condition_on_label_name  \\\n",
       "0  ['Inflicted skin lesions', 'Eczema', 'Irritant...   \n",
       "1  ['Prurigo nodularis', 'Actinic Keratosis', 'SC...   \n",
       "2  ['Impetigo', 'Herpes Zoster', 'Bullous dermati...   \n",
       "3                                                 []   \n",
       "4  ['Lichen planus/lichenoid eruption', 'Follicul...   \n",
       "\n",
       "  dermatologist_skin_condition_confidence  \\\n",
       "0                               [4, 4, 3]   \n",
       "1                               [4, 3, 4]   \n",
       "2                               [2, 1, 1]   \n",
       "3                                      []   \n",
       "4                               [1, 1, 1]   \n",
       "\n",
       "                       weighted_skin_condition_label  \\\n",
       "0  {'Inflicted skin lesions': 0.41, 'Eczema': 0.4...   \n",
       "1  {'Prurigo nodularis': 0.41, 'SCC/SCCIS': 0.41,...   \n",
       "2  {'Impetigo': 0.55, 'Herpes Zoster': 0.23, 'Bul...   \n",
       "3                                                 {}   \n",
       "4  {'Lichen planus/lichenoid eruption': 0.33, 'Fo...   \n",
       "\n",
       "  dermatologist_gradable_for_fitzpatrick_skin_type_1  \\\n",
       "0                                                YES   \n",
       "1                                                YES   \n",
       "2                                                YES   \n",
       "3                                                 NO   \n",
       "4                                                YES   \n",
       "\n",
       "  dermatologist_gradable_for_fitzpatrick_skin_type_2  \\\n",
       "0                                                NaN   \n",
       "1                                                NaN   \n",
       "2                                                NaN   \n",
       "3                                                NaN   \n",
       "4                                                NaN   \n",
       "\n",
       "  dermatologist_gradable_for_fitzpatrick_skin_type_3  \\\n",
       "0                                                NaN   \n",
       "1                                                NaN   \n",
       "2                                                NaN   \n",
       "3                                                NaN   \n",
       "4                                                NaN   \n",
       "\n",
       "  dermatologist_fitzpatrick_skin_type_label_1  \\\n",
       "0                                        FST2   \n",
       "1                                        FST1   \n",
       "2                                        FST4   \n",
       "3                                         NaN   \n",
       "4                                        FST1   \n",
       "\n",
       "  dermatologist_fitzpatrick_skin_type_label_2  \\\n",
       "0                                         NaN   \n",
       "1                                         NaN   \n",
       "2                                         NaN   \n",
       "3                                         NaN   \n",
       "4                                         NaN   \n",
       "\n",
       "  dermatologist_fitzpatrick_skin_type_label_3  \\\n",
       "0                                         NaN   \n",
       "1                                         NaN   \n",
       "2                                         NaN   \n",
       "3                                         NaN   \n",
       "4                                         NaN   \n",
       "\n",
       "  gradable_for_monk_skin_tone_india gradable_for_monk_skin_tone_us  \\\n",
       "0                              True                           True   \n",
       "1                              True                           True   \n",
       "2                              True                           True   \n",
       "3                              True                           True   \n",
       "4                              True                           True   \n",
       "\n",
       "   monk_skin_tone_label_india  monk_skin_tone_label_us  \n",
       "0                         2.0                      1.0  \n",
       "1                         3.0                      3.0  \n",
       "2                         3.0                      4.0  \n",
       "3                         2.0                      4.0  \n",
       "4                         1.0                      1.0  "
      ]
     },
     "execution_count": 6,
     "metadata": {},
     "output_type": "execute_result"
    }
   ],
   "source": [
    "labels_df.head()"
   ]
  },
  {
   "cell_type": "code",
   "execution_count": 7,
   "id": "d1c22e23",
   "metadata": {},
   "outputs": [
    {
     "data": {
      "text/plain": [
       "Index(['case_id', 'dermatologist_gradable_for_skin_condition_1',\n",
       "       'dermatologist_gradable_for_skin_condition_2',\n",
       "       'dermatologist_gradable_for_skin_condition_3',\n",
       "       'dermatologist_skin_condition_on_label_name',\n",
       "       'dermatologist_skin_condition_confidence',\n",
       "       'weighted_skin_condition_label',\n",
       "       'dermatologist_gradable_for_fitzpatrick_skin_type_1',\n",
       "       'dermatologist_gradable_for_fitzpatrick_skin_type_2',\n",
       "       'dermatologist_gradable_for_fitzpatrick_skin_type_3',\n",
       "       'dermatologist_fitzpatrick_skin_type_label_1',\n",
       "       'dermatologist_fitzpatrick_skin_type_label_2',\n",
       "       'dermatologist_fitzpatrick_skin_type_label_3',\n",
       "       'gradable_for_monk_skin_tone_india', 'gradable_for_monk_skin_tone_us',\n",
       "       'monk_skin_tone_label_india', 'monk_skin_tone_label_us'],\n",
       "      dtype='object')"
      ]
     },
     "execution_count": 7,
     "metadata": {},
     "output_type": "execute_result"
    }
   ],
   "source": [
    "labels_df.columns"
   ]
  },
  {
   "cell_type": "code",
   "execution_count": 8,
   "id": "4c87236f",
   "metadata": {},
   "outputs": [],
   "source": [
    "# Merge data frames on case_id\n",
    "merged_df = pd.merge(cases_df, labels_df, on='case_id')"
   ]
  },
  {
   "cell_type": "code",
   "execution_count": 9,
   "id": "6500e537",
   "metadata": {},
   "outputs": [
    {
     "data": {
      "text/plain": [
       "Index(['case_id', 'source', 'release', 'year', 'age_group', 'sex_at_birth',\n",
       "       'fitzpatrick_skin_type',\n",
       "       'race_ethnicity_american_indian_or_alaska_native',\n",
       "       'race_ethnicity_asian', 'race_ethnicity_black_or_african_american',\n",
       "       'race_ethnicity_hispanic_latino_or_spanish_origin',\n",
       "       'race_ethnicity_middle_eastern_or_north_african',\n",
       "       'race_ethnicity_native_hawaiian_or_pacific_islander',\n",
       "       'race_ethnicity_white', 'race_ethnicity_other_race',\n",
       "       'race_ethnicity_prefer_not_to_answer', 'textures_raised_or_bumpy',\n",
       "       'textures_flat', 'textures_rough_or_flaky', 'textures_fluid_filled',\n",
       "       'body_parts_head_or_neck', 'body_parts_arm', 'body_parts_palm',\n",
       "       'body_parts_back_of_hand', 'body_parts_torso_front',\n",
       "       'body_parts_torso_back', 'body_parts_genitalia_or_groin',\n",
       "       'body_parts_buttocks', 'body_parts_leg', 'body_parts_foot_top_or_side',\n",
       "       'body_parts_foot_sole', 'body_parts_other',\n",
       "       'condition_symptoms_bothersome_appearance',\n",
       "       'condition_symptoms_bleeding', 'condition_symptoms_increasing_size',\n",
       "       'condition_symptoms_darkening', 'condition_symptoms_itching',\n",
       "       'condition_symptoms_burning', 'condition_symptoms_pain',\n",
       "       'condition_symptoms_no_relevant_experience', 'other_symptoms_fever',\n",
       "       'other_symptoms_chills', 'other_symptoms_fatigue',\n",
       "       'other_symptoms_joint_pain', 'other_symptoms_mouth_sores',\n",
       "       'other_symptoms_shortness_of_breath',\n",
       "       'other_symptoms_no_relevant_symptoms', 'related_category',\n",
       "       'condition_duration', 'image_1_path', 'image_2_path', 'image_3_path',\n",
       "       'image_1_shot_type', 'image_2_shot_type', 'image_3_shot_type',\n",
       "       'combined_race', 'race_ethnicity_two_or_more_after_mitigation',\n",
       "       'dermatologist_gradable_for_skin_condition_1',\n",
       "       'dermatologist_gradable_for_skin_condition_2',\n",
       "       'dermatologist_gradable_for_skin_condition_3',\n",
       "       'dermatologist_skin_condition_on_label_name',\n",
       "       'dermatologist_skin_condition_confidence',\n",
       "       'weighted_skin_condition_label',\n",
       "       'dermatologist_gradable_for_fitzpatrick_skin_type_1',\n",
       "       'dermatologist_gradable_for_fitzpatrick_skin_type_2',\n",
       "       'dermatologist_gradable_for_fitzpatrick_skin_type_3',\n",
       "       'dermatologist_fitzpatrick_skin_type_label_1',\n",
       "       'dermatologist_fitzpatrick_skin_type_label_2',\n",
       "       'dermatologist_fitzpatrick_skin_type_label_3',\n",
       "       'gradable_for_monk_skin_tone_india', 'gradable_for_monk_skin_tone_us',\n",
       "       'monk_skin_tone_label_india', 'monk_skin_tone_label_us'],\n",
       "      dtype='object')"
      ]
     },
     "execution_count": 9,
     "metadata": {},
     "output_type": "execute_result"
    }
   ],
   "source": [
    "merged_df.columns"
   ]
  },
  {
   "cell_type": "code",
   "execution_count": 10,
   "id": "0a5f5892",
   "metadata": {},
   "outputs": [
    {
     "data": {
      "text/plain": [
       "dermatologist_gradable_for_skin_condition_1\n",
       "DEFAULT_YES_IMAGE_QUALITY_SUFFICIENT                     3049\n",
       "NO_IMAGE_QUALITY_INSUFFICIENT                            1925\n",
       "YES_IMAGE_QUALITY_SUFFICIENT_NO_DISCERNIBLE_PATHOLOGY      59\n",
       "Name: count, dtype: int64"
      ]
     },
     "execution_count": 10,
     "metadata": {},
     "output_type": "execute_result"
    }
   ],
   "source": [
    "merged_df['dermatologist_gradable_for_skin_condition_1'].value_counts()"
   ]
  },
  {
   "cell_type": "code",
   "execution_count": 11,
   "id": "6abf5015",
   "metadata": {},
   "outputs": [
    {
     "data": {
      "text/plain": [
       "dermatologist_gradable_for_skin_condition_2\n",
       "DEFAULT_YES_IMAGE_QUALITY_SUFFICIENT                     464\n",
       "NO_IMAGE_QUALITY_INSUFFICIENT                            245\n",
       "YES_IMAGE_QUALITY_SUFFICIENT_NO_DISCERNIBLE_PATHOLOGY      7\n",
       "Name: count, dtype: int64"
      ]
     },
     "execution_count": 11,
     "metadata": {},
     "output_type": "execute_result"
    }
   ],
   "source": [
    "merged_df['dermatologist_gradable_for_skin_condition_2'].value_counts()"
   ]
  },
  {
   "cell_type": "code",
   "execution_count": 12,
   "id": "30a43ee6",
   "metadata": {},
   "outputs": [
    {
     "data": {
      "text/plain": [
       "dermatologist_gradable_for_skin_condition_3\n",
       "DEFAULT_YES_IMAGE_QUALITY_SUFFICIENT                     461\n",
       "NO_IMAGE_QUALITY_INSUFFICIENT                            243\n",
       "YES_IMAGE_QUALITY_SUFFICIENT_NO_DISCERNIBLE_PATHOLOGY     12\n",
       "Name: count, dtype: int64"
      ]
     },
     "execution_count": 12,
     "metadata": {},
     "output_type": "execute_result"
    }
   ],
   "source": [
    "merged_df['dermatologist_gradable_for_skin_condition_3'].value_counts()"
   ]
  },
  {
   "cell_type": "code",
   "execution_count": 13,
   "id": "1f3a47a0",
   "metadata": {},
   "outputs": [
    {
     "data": {
      "text/plain": [
       "dermatologist_skin_condition_confidence\n",
       "[]                          1972\n",
       "[5]                          312\n",
       "[4]                          208\n",
       "[2, 2, 2]                    178\n",
       "[2, 2]                       176\n",
       "                            ... \n",
       "[3, 3, 2, 4, 1, 1]             1\n",
       "[1, 1, 2, 2, 5]                1\n",
       "[1, 4, 1, 4, 2]                1\n",
       "[4, 4, 3, 1, 1]                1\n",
       "[4, 1, 1, 1, 1, 5, 4, 2]       1\n",
       "Name: count, Length: 547, dtype: int64"
      ]
     },
     "execution_count": 13,
     "metadata": {},
     "output_type": "execute_result"
    }
   ],
   "source": [
    "merged_df['dermatologist_skin_condition_confidence'].value_counts()"
   ]
  },
  {
   "cell_type": "code",
   "execution_count": 14,
   "id": "ebe100e0",
   "metadata": {},
   "outputs": [
    {
     "data": {
      "text/plain": [
       "weighted_skin_condition_label\n",
       "{}                                                                                                      1972\n",
       "{'Eczema': 1.0}                                                                                          127\n",
       "{'Urticaria': 1.0}                                                                                        85\n",
       "{'Allergic Contact Dermatitis': 1.0}                                                                      42\n",
       "{'Folliculitis': 1.0}                                                                                     38\n",
       "                                                                                                        ... \n",
       "{'Hidradenitis': 0.8, 'Abscess': 0.2}                                                                      1\n",
       "{'Drug Rash': 0.5, 'Allergic Contact Dermatitis': 0.5}                                                     1\n",
       "{'Rosacea': 0.55, 'Allergic Contact Dermatitis': 0.23, 'Cutaneous lupus': 0.23}                            1\n",
       "{'Chicken pox exanthem': 1.0}                                                                              1\n",
       "{'Leukocytoclastic Vasculitis': 0.55, 'Pigmented purpuric eruption': 0.27, 'Hypersensitivity': 0.18}       1\n",
       "Name: count, Length: 1942, dtype: int64"
      ]
     },
     "execution_count": 14,
     "metadata": {},
     "output_type": "execute_result"
    }
   ],
   "source": [
    "merged_df['weighted_skin_condition_label'].value_counts()"
   ]
  },
  {
   "cell_type": "code",
   "execution_count": 15,
   "id": "23296f5c",
   "metadata": {},
   "outputs": [
    {
     "data": {
      "text/plain": [
       "eczema\n",
       "-1    3896\n",
       " 0     770\n",
       " 1     367\n",
       "Name: count, dtype: int64"
      ]
     },
     "execution_count": 15,
     "metadata": {},
     "output_type": "execute_result"
    }
   ],
   "source": [
    "import pandas as pd\n",
    "import ast\n",
    "\n",
    "def extract_eczema_value(row):\n",
    "    # Convert string to list and dictionary\n",
    "    confidence_list = ast.literal_eval(row['dermatologist_skin_condition_confidence'])\n",
    "    label_dict = ast.literal_eval(row['weighted_skin_condition_label'])\n",
    "\n",
    "    # Initialize eczema value to 0\n",
    "    eczema_value = -1 # not related to eczema or dermatitis\n",
    "\n",
    "    # Iterate over items in label dictionary\n",
    "    for i, (key, value) in enumerate(label_dict.items()):\n",
    "        column_name = f'dermatologist_gradable_for_skin_condition_{i+1}'\n",
    "        \n",
    "#         if i < 3: # only column_name_3 exists\n",
    "#             print(f\"column_name={column_name}, value ={row[column_name]} enumerate i ={i}\")\n",
    "        \n",
    "        # Check if key contains 'Eczema' or 'Dermatitis' and confidence is 4 or 5\n",
    "        if i< 3 and row[column_name] == 'DEFAULT_YES_IMAGE_QUALITY_SUFFICIENT':\n",
    "            if ('eczema' in key.lower() or 'dermatitis' in key.lower()) and confidence_list[i] in [3, 4, 5]:\n",
    "                eczema_value = value # eczema or dermatitis ccategory with positive samples\n",
    "                break\n",
    "            elif ('eczema' in key.lower() or 'dermatitis' in key.lower()) and confidence_list[i] in [1, 2]:\n",
    "                eczema_value = 0 # eczema or dermatitis ccategory but negative\n",
    "                break\n",
    "            else:\n",
    "                eczema_value = -1\n",
    "        else:\n",
    "            eczema_value = -1\n",
    "    \n",
    "    answer = -1\n",
    "    if eczema_value > 0.5:\n",
    "        answer = 1\n",
    "    elif eczema_value >= 0.0:\n",
    "        answer = 0\n",
    "    else:\n",
    "        answer = -1\n",
    "        \n",
    "    return answer\n",
    "\n",
    "# Apply function to dataframe\n",
    "merged_df['eczema'] = merged_df.apply(extract_eczema_value, axis=1)\n",
    "merged_df['eczema'].value_counts()"
   ]
  },
  {
   "cell_type": "code",
   "execution_count": 16,
   "id": "39eaf637",
   "metadata": {},
   "outputs": [
    {
     "data": {
      "text/plain": [
       "eczema\n",
       "-1    3896\n",
       " 0     770\n",
       " 1     367\n",
       "Name: count, dtype: int64"
      ]
     },
     "execution_count": 16,
     "metadata": {},
     "output_type": "execute_result"
    }
   ],
   "source": [
    "merged_df['eczema'].value_counts()"
   ]
  },
  {
   "cell_type": "code",
   "execution_count": 17,
   "id": "ba161ef0",
   "metadata": {},
   "outputs": [
    {
     "data": {
      "text/html": [
       "<div>\n",
       "<style scoped>\n",
       "    .dataframe tbody tr th:only-of-type {\n",
       "        vertical-align: middle;\n",
       "    }\n",
       "\n",
       "    .dataframe tbody tr th {\n",
       "        vertical-align: top;\n",
       "    }\n",
       "\n",
       "    .dataframe thead th {\n",
       "        text-align: right;\n",
       "    }\n",
       "</style>\n",
       "<table border=\"1\" class=\"dataframe\">\n",
       "  <thead>\n",
       "    <tr style=\"text-align: right;\">\n",
       "      <th></th>\n",
       "      <th>dermatologist_skin_condition_confidence</th>\n",
       "      <th>weighted_skin_condition_label</th>\n",
       "      <th>dermatologist_gradable_for_skin_condition_1</th>\n",
       "      <th>dermatologist_gradable_for_skin_condition_2</th>\n",
       "      <th>dermatologist_gradable_for_skin_condition_3</th>\n",
       "      <th>eczema</th>\n",
       "    </tr>\n",
       "  </thead>\n",
       "  <tbody>\n",
       "    <tr>\n",
       "      <th>25</th>\n",
       "      <td>[5]</td>\n",
       "      <td>{'Eczema': 1.0}</td>\n",
       "      <td>DEFAULT_YES_IMAGE_QUALITY_SUFFICIENT</td>\n",
       "      <td>NaN</td>\n",
       "      <td>NaN</td>\n",
       "      <td>1</td>\n",
       "    </tr>\n",
       "    <tr>\n",
       "      <th>28</th>\n",
       "      <td>[3, 1, 1]</td>\n",
       "      <td>{'Infected eczema': 0.55, 'Psoriasis': 0.23, '...</td>\n",
       "      <td>DEFAULT_YES_IMAGE_QUALITY_SUFFICIENT</td>\n",
       "      <td>NaN</td>\n",
       "      <td>NaN</td>\n",
       "      <td>1</td>\n",
       "    </tr>\n",
       "    <tr>\n",
       "      <th>35</th>\n",
       "      <td>[5]</td>\n",
       "      <td>{'Eczema': 1.0}</td>\n",
       "      <td>DEFAULT_YES_IMAGE_QUALITY_SUFFICIENT</td>\n",
       "      <td>NaN</td>\n",
       "      <td>NaN</td>\n",
       "      <td>1</td>\n",
       "    </tr>\n",
       "    <tr>\n",
       "      <th>52</th>\n",
       "      <td>[5]</td>\n",
       "      <td>{'Eczema': 1.0}</td>\n",
       "      <td>DEFAULT_YES_IMAGE_QUALITY_SUFFICIENT</td>\n",
       "      <td>NaN</td>\n",
       "      <td>NaN</td>\n",
       "      <td>1</td>\n",
       "    </tr>\n",
       "    <tr>\n",
       "      <th>56</th>\n",
       "      <td>[5]</td>\n",
       "      <td>{'Chronic dermatitis, NOS': 1.0}</td>\n",
       "      <td>DEFAULT_YES_IMAGE_QUALITY_SUFFICIENT</td>\n",
       "      <td>NaN</td>\n",
       "      <td>NaN</td>\n",
       "      <td>1</td>\n",
       "    </tr>\n",
       "  </tbody>\n",
       "</table>\n",
       "</div>"
      ],
      "text/plain": [
       "   dermatologist_skin_condition_confidence  \\\n",
       "25                                     [5]   \n",
       "28                               [3, 1, 1]   \n",
       "35                                     [5]   \n",
       "52                                     [5]   \n",
       "56                                     [5]   \n",
       "\n",
       "                        weighted_skin_condition_label  \\\n",
       "25                                    {'Eczema': 1.0}   \n",
       "28  {'Infected eczema': 0.55, 'Psoriasis': 0.23, '...   \n",
       "35                                    {'Eczema': 1.0}   \n",
       "52                                    {'Eczema': 1.0}   \n",
       "56                   {'Chronic dermatitis, NOS': 1.0}   \n",
       "\n",
       "   dermatologist_gradable_for_skin_condition_1  \\\n",
       "25        DEFAULT_YES_IMAGE_QUALITY_SUFFICIENT   \n",
       "28        DEFAULT_YES_IMAGE_QUALITY_SUFFICIENT   \n",
       "35        DEFAULT_YES_IMAGE_QUALITY_SUFFICIENT   \n",
       "52        DEFAULT_YES_IMAGE_QUALITY_SUFFICIENT   \n",
       "56        DEFAULT_YES_IMAGE_QUALITY_SUFFICIENT   \n",
       "\n",
       "   dermatologist_gradable_for_skin_condition_2  \\\n",
       "25                                         NaN   \n",
       "28                                         NaN   \n",
       "35                                         NaN   \n",
       "52                                         NaN   \n",
       "56                                         NaN   \n",
       "\n",
       "   dermatologist_gradable_for_skin_condition_3  eczema  \n",
       "25                                         NaN       1  \n",
       "28                                         NaN       1  \n",
       "35                                         NaN       1  \n",
       "52                                         NaN       1  \n",
       "56                                         NaN       1  "
      ]
     },
     "execution_count": 17,
     "metadata": {},
     "output_type": "execute_result"
    }
   ],
   "source": [
    "merged_df[['dermatologist_skin_condition_confidence', 'weighted_skin_condition_label', 'dermatologist_gradable_for_skin_condition_1', 'dermatologist_gradable_for_skin_condition_2','dermatologist_gradable_for_skin_condition_3', 'eczema']][merged_df['eczema'] ==1].head()"
   ]
  },
  {
   "cell_type": "code",
   "execution_count": 18,
   "id": "db25e2d7",
   "metadata": {},
   "outputs": [
    {
     "data": {
      "text/html": [
       "<div>\n",
       "<style scoped>\n",
       "    .dataframe tbody tr th:only-of-type {\n",
       "        vertical-align: middle;\n",
       "    }\n",
       "\n",
       "    .dataframe tbody tr th {\n",
       "        vertical-align: top;\n",
       "    }\n",
       "\n",
       "    .dataframe thead th {\n",
       "        text-align: right;\n",
       "    }\n",
       "</style>\n",
       "<table border=\"1\" class=\"dataframe\">\n",
       "  <thead>\n",
       "    <tr style=\"text-align: right;\">\n",
       "      <th></th>\n",
       "      <th>dermatologist_skin_condition_confidence</th>\n",
       "      <th>weighted_skin_condition_label</th>\n",
       "      <th>dermatologist_gradable_for_skin_condition_1</th>\n",
       "      <th>dermatologist_gradable_for_skin_condition_2</th>\n",
       "      <th>dermatologist_gradable_for_skin_condition_3</th>\n",
       "      <th>eczema</th>\n",
       "    </tr>\n",
       "  </thead>\n",
       "  <tbody>\n",
       "    <tr>\n",
       "      <th>8</th>\n",
       "      <td>[1, 3, 3, 2, 4, 3]</td>\n",
       "      <td>{'Eczema': 0.67, 'Psoriasis': 0.11, 'Acute and...</td>\n",
       "      <td>DEFAULT_YES_IMAGE_QUALITY_SUFFICIENT</td>\n",
       "      <td>DEFAULT_YES_IMAGE_QUALITY_SUFFICIENT</td>\n",
       "      <td>DEFAULT_YES_IMAGE_QUALITY_SUFFICIENT</td>\n",
       "      <td>0</td>\n",
       "    </tr>\n",
       "    <tr>\n",
       "      <th>10</th>\n",
       "      <td>[1, 5, 1]</td>\n",
       "      <td>{'Eczema': 0.55, 'Drug Rash': 0.23, 'Allergic ...</td>\n",
       "      <td>DEFAULT_YES_IMAGE_QUALITY_SUFFICIENT</td>\n",
       "      <td>NaN</td>\n",
       "      <td>NaN</td>\n",
       "      <td>0</td>\n",
       "    </tr>\n",
       "    <tr>\n",
       "      <th>17</th>\n",
       "      <td>[2, 2, 2]</td>\n",
       "      <td>{'Stasis Dermatitis': 0.33, 'Eczema': 0.33, 'A...</td>\n",
       "      <td>DEFAULT_YES_IMAGE_QUALITY_SUFFICIENT</td>\n",
       "      <td>NaN</td>\n",
       "      <td>NaN</td>\n",
       "      <td>0</td>\n",
       "    </tr>\n",
       "    <tr>\n",
       "      <th>18</th>\n",
       "      <td>[4, 2, 4, 1, 2, 2]</td>\n",
       "      <td>{'Tinea Versicolor': 0.61, 'Seborrheic Dermati...</td>\n",
       "      <td>DEFAULT_YES_IMAGE_QUALITY_SUFFICIENT</td>\n",
       "      <td>DEFAULT_YES_IMAGE_QUALITY_SUFFICIENT</td>\n",
       "      <td>DEFAULT_YES_IMAGE_QUALITY_SUFFICIENT</td>\n",
       "      <td>0</td>\n",
       "    </tr>\n",
       "    <tr>\n",
       "      <th>33</th>\n",
       "      <td>[1, 1, 1, 1, 3, 4]</td>\n",
       "      <td>{'Impetigo': 0.17, 'Allergic Contact Dermatiti...</td>\n",
       "      <td>DEFAULT_YES_IMAGE_QUALITY_SUFFICIENT</td>\n",
       "      <td>DEFAULT_YES_IMAGE_QUALITY_SUFFICIENT</td>\n",
       "      <td>DEFAULT_YES_IMAGE_QUALITY_SUFFICIENT</td>\n",
       "      <td>0</td>\n",
       "    </tr>\n",
       "  </tbody>\n",
       "</table>\n",
       "</div>"
      ],
      "text/plain": [
       "   dermatologist_skin_condition_confidence  \\\n",
       "8                       [1, 3, 3, 2, 4, 3]   \n",
       "10                               [1, 5, 1]   \n",
       "17                               [2, 2, 2]   \n",
       "18                      [4, 2, 4, 1, 2, 2]   \n",
       "33                      [1, 1, 1, 1, 3, 4]   \n",
       "\n",
       "                        weighted_skin_condition_label  \\\n",
       "8   {'Eczema': 0.67, 'Psoriasis': 0.11, 'Acute and...   \n",
       "10  {'Eczema': 0.55, 'Drug Rash': 0.23, 'Allergic ...   \n",
       "17  {'Stasis Dermatitis': 0.33, 'Eczema': 0.33, 'A...   \n",
       "18  {'Tinea Versicolor': 0.61, 'Seborrheic Dermati...   \n",
       "33  {'Impetigo': 0.17, 'Allergic Contact Dermatiti...   \n",
       "\n",
       "   dermatologist_gradable_for_skin_condition_1  \\\n",
       "8         DEFAULT_YES_IMAGE_QUALITY_SUFFICIENT   \n",
       "10        DEFAULT_YES_IMAGE_QUALITY_SUFFICIENT   \n",
       "17        DEFAULT_YES_IMAGE_QUALITY_SUFFICIENT   \n",
       "18        DEFAULT_YES_IMAGE_QUALITY_SUFFICIENT   \n",
       "33        DEFAULT_YES_IMAGE_QUALITY_SUFFICIENT   \n",
       "\n",
       "   dermatologist_gradable_for_skin_condition_2  \\\n",
       "8         DEFAULT_YES_IMAGE_QUALITY_SUFFICIENT   \n",
       "10                                         NaN   \n",
       "17                                         NaN   \n",
       "18        DEFAULT_YES_IMAGE_QUALITY_SUFFICIENT   \n",
       "33        DEFAULT_YES_IMAGE_QUALITY_SUFFICIENT   \n",
       "\n",
       "   dermatologist_gradable_for_skin_condition_3  eczema  \n",
       "8         DEFAULT_YES_IMAGE_QUALITY_SUFFICIENT       0  \n",
       "10                                         NaN       0  \n",
       "17                                         NaN       0  \n",
       "18        DEFAULT_YES_IMAGE_QUALITY_SUFFICIENT       0  \n",
       "33        DEFAULT_YES_IMAGE_QUALITY_SUFFICIENT       0  "
      ]
     },
     "execution_count": 18,
     "metadata": {},
     "output_type": "execute_result"
    }
   ],
   "source": [
    "merged_df[['dermatologist_skin_condition_confidence', 'weighted_skin_condition_label', 'dermatologist_gradable_for_skin_condition_1', 'dermatologist_gradable_for_skin_condition_2','dermatologist_gradable_for_skin_condition_3', 'eczema']][merged_df['eczema'] ==0].head()"
   ]
  },
  {
   "cell_type": "code",
   "execution_count": 19,
   "id": "8f3b9784",
   "metadata": {},
   "outputs": [
    {
     "data": {
      "text/plain": [
       "eczema\n",
       "-1    3896\n",
       " 0     770\n",
       " 1     367\n",
       "Name: count, dtype: int64"
      ]
     },
     "execution_count": 19,
     "metadata": {},
     "output_type": "execute_result"
    }
   ],
   "source": [
    "merged_df['eczema'].value_counts()"
   ]
  },
  {
   "cell_type": "code",
   "execution_count": 20,
   "id": "edc6e129",
   "metadata": {},
   "outputs": [
    {
     "data": {
      "text/plain": [
       "eczema\n",
       "0    770\n",
       "1    367\n",
       "Name: count, dtype: int64"
      ]
     },
     "execution_count": 20,
     "metadata": {},
     "output_type": "execute_result"
    }
   ],
   "source": [
    "#ignore non eczema dataset\n",
    "merged_df = merged_df[merged_df['eczema'] != -1] \n",
    "merged_df['eczema'].value_counts()"
   ]
  },
  {
   "cell_type": "code",
   "execution_count": 21,
   "id": "f22f82f4",
   "metadata": {},
   "outputs": [
    {
     "data": {
      "text/html": [
       "<div>\n",
       "<style scoped>\n",
       "    .dataframe tbody tr th:only-of-type {\n",
       "        vertical-align: middle;\n",
       "    }\n",
       "\n",
       "    .dataframe tbody tr th {\n",
       "        vertical-align: top;\n",
       "    }\n",
       "\n",
       "    .dataframe thead th {\n",
       "        text-align: right;\n",
       "    }\n",
       "</style>\n",
       "<table border=\"1\" class=\"dataframe\">\n",
       "  <thead>\n",
       "    <tr style=\"text-align: right;\">\n",
       "      <th></th>\n",
       "      <th>dermatologist_skin_condition_confidence</th>\n",
       "      <th>weighted_skin_condition_label</th>\n",
       "      <th>eczema</th>\n",
       "    </tr>\n",
       "  </thead>\n",
       "  <tbody>\n",
       "    <tr>\n",
       "      <th>8</th>\n",
       "      <td>[1, 3, 3, 2, 4, 3]</td>\n",
       "      <td>{'Eczema': 0.67, 'Psoriasis': 0.11, 'Acute and...</td>\n",
       "      <td>0</td>\n",
       "    </tr>\n",
       "    <tr>\n",
       "      <th>10</th>\n",
       "      <td>[1, 5, 1]</td>\n",
       "      <td>{'Eczema': 0.55, 'Drug Rash': 0.23, 'Allergic ...</td>\n",
       "      <td>0</td>\n",
       "    </tr>\n",
       "    <tr>\n",
       "      <th>17</th>\n",
       "      <td>[2, 2, 2]</td>\n",
       "      <td>{'Stasis Dermatitis': 0.33, 'Eczema': 0.33, 'A...</td>\n",
       "      <td>0</td>\n",
       "    </tr>\n",
       "    <tr>\n",
       "      <th>18</th>\n",
       "      <td>[4, 2, 4, 1, 2, 2]</td>\n",
       "      <td>{'Tinea Versicolor': 0.61, 'Seborrheic Dermati...</td>\n",
       "      <td>0</td>\n",
       "    </tr>\n",
       "    <tr>\n",
       "      <th>25</th>\n",
       "      <td>[5]</td>\n",
       "      <td>{'Eczema': 1.0}</td>\n",
       "      <td>1</td>\n",
       "    </tr>\n",
       "    <tr>\n",
       "      <th>...</th>\n",
       "      <td>...</td>\n",
       "      <td>...</td>\n",
       "      <td>...</td>\n",
       "    </tr>\n",
       "    <tr>\n",
       "      <th>5014</th>\n",
       "      <td>[2, 2]</td>\n",
       "      <td>{'Allergic Contact Dermatitis': 0.5, 'Irritant...</td>\n",
       "      <td>0</td>\n",
       "    </tr>\n",
       "    <tr>\n",
       "      <th>5016</th>\n",
       "      <td>[4]</td>\n",
       "      <td>{'Stasis Dermatitis': 1.0}</td>\n",
       "      <td>1</td>\n",
       "    </tr>\n",
       "    <tr>\n",
       "      <th>5021</th>\n",
       "      <td>[4, 2, 2, 2, 3]</td>\n",
       "      <td>{'Eczema': 0.68, 'Scabies': 0.16, 'Hypersensit...</td>\n",
       "      <td>1</td>\n",
       "    </tr>\n",
       "    <tr>\n",
       "      <th>5024</th>\n",
       "      <td>[3, 4, 2, 5]</td>\n",
       "      <td>{'Stasis Dermatitis': 0.33, 'Pigmented purpuri...</td>\n",
       "      <td>0</td>\n",
       "    </tr>\n",
       "    <tr>\n",
       "      <th>5028</th>\n",
       "      <td>[5, 4, 5]</td>\n",
       "      <td>{'CD - Contact dermatitis': 0.33, 'Allergic Co...</td>\n",
       "      <td>0</td>\n",
       "    </tr>\n",
       "  </tbody>\n",
       "</table>\n",
       "<p>1137 rows × 3 columns</p>\n",
       "</div>"
      ],
      "text/plain": [
       "     dermatologist_skin_condition_confidence  \\\n",
       "8                         [1, 3, 3, 2, 4, 3]   \n",
       "10                                 [1, 5, 1]   \n",
       "17                                 [2, 2, 2]   \n",
       "18                        [4, 2, 4, 1, 2, 2]   \n",
       "25                                       [5]   \n",
       "...                                      ...   \n",
       "5014                                  [2, 2]   \n",
       "5016                                     [4]   \n",
       "5021                         [4, 2, 2, 2, 3]   \n",
       "5024                            [3, 4, 2, 5]   \n",
       "5028                               [5, 4, 5]   \n",
       "\n",
       "                          weighted_skin_condition_label  eczema  \n",
       "8     {'Eczema': 0.67, 'Psoriasis': 0.11, 'Acute and...       0  \n",
       "10    {'Eczema': 0.55, 'Drug Rash': 0.23, 'Allergic ...       0  \n",
       "17    {'Stasis Dermatitis': 0.33, 'Eczema': 0.33, 'A...       0  \n",
       "18    {'Tinea Versicolor': 0.61, 'Seborrheic Dermati...       0  \n",
       "25                                      {'Eczema': 1.0}       1  \n",
       "...                                                 ...     ...  \n",
       "5014  {'Allergic Contact Dermatitis': 0.5, 'Irritant...       0  \n",
       "5016                         {'Stasis Dermatitis': 1.0}       1  \n",
       "5021  {'Eczema': 0.68, 'Scabies': 0.16, 'Hypersensit...       1  \n",
       "5024  {'Stasis Dermatitis': 0.33, 'Pigmented purpuri...       0  \n",
       "5028  {'CD - Contact dermatitis': 0.33, 'Allergic Co...       0  \n",
       "\n",
       "[1137 rows x 3 columns]"
      ]
     },
     "execution_count": 21,
     "metadata": {},
     "output_type": "execute_result"
    }
   ],
   "source": [
    "merged_df[['dermatologist_skin_condition_confidence', 'weighted_skin_condition_label', 'eczema']]"
   ]
  },
  {
   "cell_type": "code",
   "execution_count": 22,
   "id": "9c49c213",
   "metadata": {},
   "outputs": [],
   "source": [
    "def calculate_image_path(row):\n",
    "    if row['image_1_shot_type'] == 'CLOSE_UP' and  row['dermatologist_gradable_for_skin_condition_1'] == 'DEFAULT_YES_IMAGE_QUALITY_SUFFICIENT': #CLOSE_UP, AT_DISTANCE\n",
    "        return ''+row['image_1_path']\n",
    "    elif row['image_2_shot_type'] == 'CLOSE_UP' and  row['dermatologist_gradable_for_skin_condition_2'] == 'DEFAULT_YES_IMAGE_QUALITY_SUFFICIENT':\n",
    "        return ''+row['image_2_path']\n",
    "    elif row['image_3_shot_type'] == 'CLOSE_UP' and  row['dermatologist_gradable_for_skin_condition_3'] == 'DEFAULT_YES_IMAGE_QUALITY_SUFFICIENT':\n",
    "        return str(row['image_3_path'])\n",
    "    else:\n",
    "        return ''  # or any default value if none is found"
   ]
  },
  {
   "cell_type": "code",
   "execution_count": 23,
   "id": "576a8d8c",
   "metadata": {},
   "outputs": [
    {
     "data": {
      "text/plain": [
       "1137"
      ]
     },
     "execution_count": 23,
     "metadata": {},
     "output_type": "execute_result"
    }
   ],
   "source": [
    "# Create image path column\n",
    "merged_df['image_path'] = merged_df.apply(calculate_image_path, axis=1)\n",
    "len(merged_df)"
   ]
  },
  {
   "cell_type": "code",
   "execution_count": 24,
   "id": "ffaeed04",
   "metadata": {},
   "outputs": [
    {
     "data": {
      "text/plain": [
       "805"
      ]
     },
     "execution_count": 24,
     "metadata": {},
     "output_type": "execute_result"
    }
   ],
   "source": [
    "merged_df = merged_df[merged_df['image_path'].apply(os.path.exists)]\n",
    "len(merged_df)"
   ]
  },
  {
   "cell_type": "code",
   "execution_count": 25,
   "id": "b8bf3c1f",
   "metadata": {},
   "outputs": [
    {
     "data": {
      "text/plain": [
       "eczema\n",
       "0    567\n",
       "1    238\n",
       "Name: count, dtype: int64"
      ]
     },
     "execution_count": 25,
     "metadata": {},
     "output_type": "execute_result"
    }
   ],
   "source": [
    "merged_df['eczema'].value_counts()"
   ]
  },
  {
   "cell_type": "code",
   "execution_count": 26,
   "id": "5f738af2",
   "metadata": {},
   "outputs": [
    {
     "data": {
      "text/plain": [
       "'dataset/images/960187272475981264.png'"
      ]
     },
     "execution_count": 26,
     "metadata": {},
     "output_type": "execute_result"
    }
   ],
   "source": [
    "new_df = merged_df[merged_df['eczema'] ==1]['image_path'].reset_index()\n",
    "new_df.loc[1]['image_path']"
   ]
  },
  {
   "cell_type": "code",
   "execution_count": 27,
   "id": "5a97c1c4",
   "metadata": {},
   "outputs": [
    {
     "data": {
      "image/png": "[encoded data removed]",
      "text/plain": [
       "<Figure size 640x480 with 1 Axes>"
      ]
     },
     "metadata": {},
     "output_type": "display_data"
    },
    {
     "data": {
      "text/plain": [
       "torch.Size([192, 192, 3])"
      ]
     },
     "execution_count": 27,
     "metadata": {},
     "output_type": "execute_result"
    }
   ],
   "source": [
    "import torch\n",
    "import matplotlib.pyplot as plt\n",
    "from torchvision import transforms\n",
    "from PIL import Image\n",
    "\n",
    "# Load an image using PIL (you can replace this with your image path)\n",
    "image_path = new_df.loc[50]['image_path']\n",
    "image = Image.open(image_path)\n",
    "\n",
    "# Convert the image to a PyTorch tensor\n",
    "# transform =  transforms.Compose([ transforms.Resize((244, 244)),\n",
    "#                                 transforms.RandomResizedCrop(192, scale=(0.8, 1.0)),\n",
    "#                                 transforms.ToTensor()\n",
    "#                                 ])\n",
    "\n",
    "transform =  transforms.Compose([\n",
    "#         transforms.Resize((512, 512)),\n",
    "#         transforms.ColorJitter(0.5, 0.5, 0.5, 0.1),\n",
    "#         transforms.RandomHorizontalFlip(),\n",
    "        transforms.RandomRotation(15),  \n",
    "        transforms.RandomHorizontalFlip(p=0.3),  # Horizontal flip with 50% probability\n",
    "        transforms.RandomVerticalFlip(p=0.3),   \n",
    "        transforms.RandomResizedCrop(192, scale=(0.8, 1.0)),\n",
    "        transforms.RandomAffine(degrees=0, shear=10),\n",
    "#         transforms.ColorJitter(0.25, 0.25, 0.25, 0.1),\n",
    "        transforms.ToTensor(),\n",
    "        transforms.ConvertImageDtype(torch.float),        \n",
    "#         transforms.Normalize([0.485, 0.456, 0.406], [0.229, 0.224, 0.225]),\n",
    "    ])\n",
    "image_tensor = transform(image)\n",
    "\n",
    "# Convert the image tensor from [C, H, W] to [H, W, C] for displaying\n",
    "image_tensor = image_tensor.permute(1, 2, 0)\n",
    "\n",
    "# Plot the image using matplotlib\n",
    "plt.imshow(image_tensor)\n",
    "plt.axis('off')  # Hide axes for better visual appearance\n",
    "plt.show()\n",
    "image_tensor.shape"
   ]
  },
  {
   "cell_type": "code",
   "execution_count": 28,
   "id": "dfef6ba5",
   "metadata": {},
   "outputs": [
    {
     "data": {
      "text/plain": [
       "torch.Size([192, 192, 3])"
      ]
     },
     "execution_count": 28,
     "metadata": {},
     "output_type": "execute_result"
    }
   ],
   "source": [
    "image_tensor.shape"
   ]
  },
  {
   "cell_type": "code",
   "execution_count": 29,
   "id": "1f9a80be",
   "metadata": {},
   "outputs": [],
   "source": [
    "# Filter out missing labels and images\n",
    "filtered_df = merged_df.dropna(subset=['eczema', 'image_path'])\n",
    "\n",
    "# Split data into training and validation sets\n",
    "train_df, val_df = train_test_split(filtered_df, test_size=0.2, random_state=42)\n"
   ]
  },
  {
   "cell_type": "code",
   "execution_count": 30,
   "id": "37e857db",
   "metadata": {},
   "outputs": [
    {
     "data": {
      "text/plain": [
       "eczema\n",
       "0    457\n",
       "1    187\n",
       "Name: count, dtype: int64"
      ]
     },
     "execution_count": 30,
     "metadata": {},
     "output_type": "execute_result"
    }
   ],
   "source": [
    "train_df['eczema'].value_counts()"
   ]
  },
  {
   "cell_type": "code",
   "execution_count": 31,
   "id": "10d1df20",
   "metadata": {},
   "outputs": [
    {
     "data": {
      "text/plain": [
       "eczema\n",
       "0    110\n",
       "1     51\n",
       "Name: count, dtype: int64"
      ]
     },
     "execution_count": 31,
     "metadata": {},
     "output_type": "execute_result"
    }
   ],
   "source": [
    "val_df['eczema'].value_counts()"
   ]
  },
  {
   "cell_type": "code",
   "execution_count": 32,
   "id": "a1984597",
   "metadata": {},
   "outputs": [],
   "source": [
    "# Import necessary libraries\n",
    "from torch.utils.data import Dataset\n",
    "from PIL import Image\n",
    "import torch\n",
    "\n",
    "# Define custom dataset class\n",
    "class EczemaDataset(Dataset):\n",
    "    def __init__(self, df, transform):\n",
    "        self.df = df\n",
    "        self.transform = transform\n",
    "\n",
    "    def __len__(self):\n",
    "        return len(self.df)\n",
    "\n",
    "    def __getitem__(self, idx):\n",
    "        image_path = self.df.iloc[idx]['image_path']\n",
    "        image = Image.open(image_path).convert('RGB')\n",
    "        label = self.df.iloc[idx]['eczema']\n",
    "\n",
    "        image = self.transform(image)\n",
    "#         label = torch.tensor(label, dtype=torch.float)\n",
    "        label = torch.tensor(label)\n",
    "\n",
    "\n",
    "        return image, label"
   ]
  },
  {
   "cell_type": "code",
   "execution_count": 33,
   "id": "5f6e7e0c",
   "metadata": {},
   "outputs": [],
   "source": [
    "import torchvision.transforms as transforms\n",
    "\n",
    "data_transforms = {\n",
    "    'train': transforms.Compose([\n",
    "        transforms.Resize(256),\n",
    "        transforms.CenterCrop(224),\n",
    "        transforms.RandomRotation(15),  \n",
    "        transforms.RandomHorizontalFlip(p=0.3), \n",
    "        transforms.RandomVerticalFlip(p=0.3),   \n",
    "        transforms.ToTensor(),\n",
    "        transforms.ConvertImageDtype(torch.float),        \n",
    "    ]),\n",
    "    'test': transforms.Compose([\n",
    "        transforms.Resize(256),\n",
    "        transforms.CenterCrop(224),\n",
    "        transforms.ToTensor(),\n",
    "        transforms.ConvertImageDtype(torch.float),\n",
    "    ]),\n",
    "}"
   ]
  },
  {
   "cell_type": "code",
   "execution_count": 34,
   "id": "47307137",
   "metadata": {},
   "outputs": [],
   "source": [
    "import torch.nn as nn\n",
    "import torchvision.models as models\n",
    "\n",
    "# Define model\n",
    "class EczemaClassifier(nn.Module):\n",
    "    def __init__(self):\n",
    "        super(EczemaClassifier, self).__init__()\n",
    "        self.model = torchvision.models.resnet18(weights=torchvision.models.ResNet18_Weights.DEFAULT)\n",
    "#         self.model = torchvision.models.resnet50(weights=torchvision.models.ResNet50_Weights.DEFAULT)\n",
    "#         self.model = torchvision.models.resnet152(weights=torchvision.models.ResNet152_Weights.DEFAULT)\n",
    "        # Freeze layers except for the final one\n",
    "        for param in self.model.parameters():\n",
    "            param.requires_grad = False        \n",
    "\n",
    "        self.model.fc = nn.Linear(self.model.fc.in_features, 2)\n",
    "        self.dropout = nn.Dropout(p=0.5)\n",
    "\n",
    "    def forward(self, x):\n",
    "        x = self.model(x)\n",
    "        x = self.dropout(x)\n",
    "        return x\n"
   ]
  },
  {
   "cell_type": "code",
   "execution_count": 35,
   "id": "5de648b3",
   "metadata": {},
   "outputs": [
    {
     "data": {
      "text/plain": [
       "(644, 161)"
      ]
     },
     "execution_count": 35,
     "metadata": {},
     "output_type": "execute_result"
    }
   ],
   "source": [
    "len(train_df), len(val_df)"
   ]
  },
  {
   "cell_type": "code",
   "execution_count": 36,
   "id": "291324bf",
   "metadata": {},
   "outputs": [],
   "source": [
    "def save_model(model_name, model, epoch, val_acc):\n",
    "    scripted_model = torch.jit.script(model)\n",
    "    torch.jit.save(scripted_model, f'{model_name}-{epoch}-{val_acc:.4f}.pth')"
   ]
  },
  {
   "cell_type": "code",
   "execution_count": 37,
   "id": "2ac1335e",
   "metadata": {},
   "outputs": [
    {
     "name": "stdout",
     "output_type": "stream",
     "text": [
      "device=cuda\n"
     ]
    }
   ],
   "source": [
    "# Train model\n",
    "device = torch.device(\"cuda\" if torch.cuda.is_available() else \"cpu\")\n",
    "print(f'device={device}')\n",
    "\n",
    "from torch.utils.tensorboard import SummaryWriter\n",
    "writer = SummaryWriter()"
   ]
  },
  {
   "cell_type": "code",
   "execution_count": 38,
   "id": "10a7f6c2",
   "metadata": {},
   "outputs": [
    {
     "name": "stdout",
     "output_type": "stream",
     "text": [
      "Class distribution: Counter({0: 457, 1: 187})\n",
      "Number of positive samples: 187\n",
      "Number of negative samples: 457\n",
      "Pos weight calculated: 2.443850267379679\n"
     ]
    }
   ],
   "source": [
    "import torch\n",
    "from collections import Counter\n",
    "\n",
    "# Step 1: Load and prepare your dataset (assuming your dataset is loaded into `train_df`)\n",
    "# Assuming labels are stored in a column named 'label'\n",
    "\n",
    "# Check the distribution of the classes in your dataset\n",
    "class_counts = Counter(train_df['eczema'])\n",
    "print(f\"Class distribution: {class_counts}\")\n",
    "\n",
    "# Step 2: Calculate the number of samples for each class\n",
    "num_positive = class_counts[1]\n",
    "num_negative = class_counts[0]\n",
    "\n",
    "print(f\"Number of positive samples: {num_positive}\")\n",
    "print(f\"Number of negative samples: {num_negative}\")\n",
    "\n",
    "# Step 3: Compute the pos_weight\n",
    "# pos_weight is typically set to the ratio of negative to positive examples\n",
    "pos_weight = num_negative / num_positive\n",
    "print(f\"Pos weight calculated: {pos_weight}\")"
   ]
  },
  {
   "cell_type": "code",
   "execution_count": 39,
   "id": "87369689",
   "metadata": {},
   "outputs": [],
   "source": [
    "def compute_AUC(gt, pred):\n",
    "    AUROCs = []\n",
    "    gt_np = gt.detach().cpu().numpy()\n",
    "    pred_np = pred.detach().cpu().numpy()\n",
    "    AUROC = roc_auc_score(gt_np, pred_np)\n",
    "    return AUROC"
   ]
  },
  {
   "cell_type": "code",
   "execution_count": 40,
   "id": "0327e392",
   "metadata": {},
   "outputs": [],
   "source": [
    "# Create data loaders\n",
    "train_dataset = EczemaDataset(train_df, data_transforms['train'])\n",
    "val_dataset = EczemaDataset(val_df, data_transforms['test'])\n",
    "\n",
    "train_loader = torch.utils.data.DataLoader(train_dataset, batch_size=750, shuffle=True) # 2500\n",
    "val_loader = torch.utils.data.DataLoader(val_dataset, batch_size=256, shuffle=False)"
   ]
  },
  {
   "cell_type": "code",
   "execution_count": 41,
   "id": "387df554",
   "metadata": {},
   "outputs": [
    {
     "name": "stdout",
     "output_type": "stream",
     "text": [
      "pos_weight_tensor=tensor([2.4439], device='cuda:0')\n"
     ]
    }
   ],
   "source": [
    "model = EczemaClassifier().to(device)\n",
    "\n",
    "pos_weight_tensor = torch.tensor([pos_weight]).to(device)\n",
    "print(f\"pos_weight_tensor={pos_weight_tensor}\")\n",
    "criterion = nn.CrossEntropyLoss(weight=torch.tensor([1.0, pos_weight])).to(device)\n",
    "\n",
    "optimizer = torch.optim.Adam(model.parameters(), lr=0.001)\n",
    "\n",
    "best_AUROC = 0.0\n",
    "global_step = 0\n",
    "global_epochs = 0"
   ]
  },
  {
   "cell_type": "code",
   "execution_count": 42,
   "id": "de385eaa",
   "metadata": {},
   "outputs": [
    {
     "name": "stdout",
     "output_type": "stream",
     "text": [
      "Epoch: 1, Training Loss: 0.7609, AUROC_TRAIN:0.5124,  Time: 12.73 seconds \n",
      "Epoch: 2, Training Loss: 0.7450, AUROC_TRAIN:0.5121,  Time: 11.85 seconds \n",
      "Epoch: 3, Training Loss: 0.7741, AUROC_TRAIN:0.5257,  Time: 11.78 seconds, AUROC_VALID:0.4806\n",
      "Epoch: 4, Training Loss: 0.7834, AUROC_TRAIN:0.5070,  Time: 12.55 seconds \n",
      "Epoch: 5, Training Loss: 0.7450, AUROC_TRAIN:0.5373,  Time: 12.17 seconds \n",
      "Epoch: 6, Training Loss: 0.7178, AUROC_TRAIN:0.5492,  Time: 12.80 seconds, AUROC_VALID:0.4827\n"
     ]
    }
   ],
   "source": [
    "for epoch in range(6):\n",
    "    start_time = time.time()  # Start timer\n",
    "    all_gt_labels_train = torch.FloatTensor().to(device)\n",
    "    total_preds_train = torch.FloatTensor().to(device)\n",
    "\n",
    "    model.train()\n",
    "    running_loss = 0.0\n",
    "    for images, labels in train_loader:\n",
    "        global_epochs += 1\n",
    "        images, labels = images.to(device), labels.to(device)\n",
    "        optimizer.zero_grad()\n",
    "        outputs = model(images)\n",
    "        loss = criterion(outputs, labels)\n",
    "        \n",
    "        all_gt_labels_train = torch.cat((all_gt_labels_train, labels), 0)\n",
    "        total_preds_train = torch.cat((total_preds_train, torch.argmax(outputs, dim=1)), 0)\n",
    "        \n",
    "        loss.backward()\n",
    "        optimizer.step()\n",
    "        writer.add_scalar('resnet-Loss/train', loss.item(), global_epochs)\n",
    "                \n",
    "        running_loss += loss.item()\n",
    "\n",
    "    \n",
    "    AUROC_TRAIN = compute_AUC(all_gt_labels_train, total_preds_train)\n",
    "    writer.add_scalar('resnet-Loss/train-AUROC', AUROC_TRAIN, global_epochs)\n",
    "\n",
    "    \n",
    "    end_time = time.time()  # End timer\n",
    "    epoch_time = end_time - start_time\n",
    "    global_step += 1\n",
    "    \n",
    "    if global_step % 3 !=0:\n",
    "        print(f'Epoch: {global_step}, Training Loss: {(running_loss / len(train_loader)):.4f}, AUROC_TRAIN:{AUROC_TRAIN:.4f},  Time: {epoch_time:.2f} seconds ')\n",
    "    else:\n",
    "        model.eval()\n",
    "        with torch.no_grad():\n",
    "            all_gt_labels_val = torch.FloatTensor().to(device)\n",
    "            total_preds_val = torch.FloatTensor().to(device)\n",
    "            \n",
    "            for images, labels in val_loader:\n",
    "                images, labels = images.to(device), labels.to(device)\n",
    "                predicted = model(images)\n",
    "                \n",
    "                all_gt_labels_val = torch.cat((all_gt_labels_val, labels), 0)\n",
    "                total_preds_val = torch.cat((total_preds_val, torch.argmax(predicted, dim=1)), 0)\n",
    "    \n",
    "            AUROC_VAL = compute_AUC(all_gt_labels_val, total_preds_val)\n",
    "            print(f'Epoch: {global_step}, Training Loss: {(running_loss / len(train_loader)):.4f}, AUROC_TRAIN:{AUROC_TRAIN:.4f},  Time: {epoch_time:.2f} seconds, AUROC_VALID:{AUROC_VAL:.4f}')\n",
    "            writer.add_scalar('ResNet152-CrossEntropyLoss/validation-AUROC', AUROC_VAL, global_epochs)\n",
    "            \n",
    "            if best_AUROC < AUROC_VAL:\n",
    "                best_AUROC = AUROC_VAL\n",
    "                save_model('ResNet152-CrossEntropyLoss-Adam-AUROC',model,global_step,AUROC_VAL)                \n",
    "            \n"
   ]
  },
  {
   "cell_type": "code",
   "execution_count": 43,
   "id": "223ac172",
   "metadata": {},
   "outputs": [
    {
     "name": "stdout",
     "output_type": "stream",
     "text": [
      "Epoch: 6, Training Loss: 0.7178, AUROC_TRAIN:0.5492,  Time: 12.80 seconds, AUROC_VALID:0.4827\n"
     ]
    }
   ],
   "source": [
    "model.eval()\n",
    "with torch.no_grad():\n",
    "    all_gt_labels_val = torch.FloatTensor().to(device)\n",
    "    total_preds_val = torch.FloatTensor().to(device)\n",
    "\n",
    "    for images, labels in val_loader:\n",
    "        images, labels = images.to(device), labels.to(device)\n",
    "        predicted = model(images)\n",
    "\n",
    "        all_gt_labels_val = torch.cat((all_gt_labels_val, labels), 0)\n",
    "        total_preds_val = torch.cat((total_preds_val, torch.argmax(predicted, dim=1)), 0)\n",
    "\n",
    "    AUROC_VAL = compute_AUC(all_gt_labels_val, total_preds_val)\n",
    "    print(f'Epoch: {global_step}, Training Loss: {(running_loss / len(train_loader)):.4f}, AUROC_TRAIN:{AUROC_TRAIN:.4f},  Time: {epoch_time:.2f} seconds, AUROC_VALID:{AUROC_VAL:.4f}')\n"
   ]
  },
  {
   "cell_type": "code",
   "execution_count": 44,
   "id": "d1bf7705",
   "metadata": {},
   "outputs": [
    {
     "data": {
      "text/plain": [
       "EczemaClassifier(\n",
       "  (model): ResNet(\n",
       "    (conv1): Conv2d(3, 64, kernel_size=(7, 7), stride=(2, 2), padding=(3, 3), bias=False)\n",
       "    (bn1): BatchNorm2d(64, eps=1e-05, momentum=0.1, affine=True, track_running_stats=True)\n",
       "    (relu): ReLU(inplace=True)\n",
       "    (maxpool): MaxPool2d(kernel_size=3, stride=2, padding=1, dilation=1, ceil_mode=False)\n",
       "    (layer1): Sequential(\n",
       "      (0): BasicBlock(\n",
       "        (conv1): Conv2d(64, 64, kernel_size=(3, 3), stride=(1, 1), padding=(1, 1), bias=False)\n",
       "        (bn1): BatchNorm2d(64, eps=1e-05, momentum=0.1, affine=True, track_running_stats=True)\n",
       "        (relu): ReLU(inplace=True)\n",
       "        (conv2): Conv2d(64, 64, kernel_size=(3, 3), stride=(1, 1), padding=(1, 1), bias=False)\n",
       "        (bn2): BatchNorm2d(64, eps=1e-05, momentum=0.1, affine=True, track_running_stats=True)\n",
       "      )\n",
       "      (1): BasicBlock(\n",
       "        (conv1): Conv2d(64, 64, kernel_size=(3, 3), stride=(1, 1), padding=(1, 1), bias=False)\n",
       "        (bn1): BatchNorm2d(64, eps=1e-05, momentum=0.1, affine=True, track_running_stats=True)\n",
       "        (relu): ReLU(inplace=True)\n",
       "        (conv2): Conv2d(64, 64, kernel_size=(3, 3), stride=(1, 1), padding=(1, 1), bias=False)\n",
       "        (bn2): BatchNorm2d(64, eps=1e-05, momentum=0.1, affine=True, track_running_stats=True)\n",
       "      )\n",
       "    )\n",
       "    (layer2): Sequential(\n",
       "      (0): BasicBlock(\n",
       "        (conv1): Conv2d(64, 128, kernel_size=(3, 3), stride=(2, 2), padding=(1, 1), bias=False)\n",
       "        (bn1): BatchNorm2d(128, eps=1e-05, momentum=0.1, affine=True, track_running_stats=True)\n",
       "        (relu): ReLU(inplace=True)\n",
       "        (conv2): Conv2d(128, 128, kernel_size=(3, 3), stride=(1, 1), padding=(1, 1), bias=False)\n",
       "        (bn2): BatchNorm2d(128, eps=1e-05, momentum=0.1, affine=True, track_running_stats=True)\n",
       "        (downsample): Sequential(\n",
       "          (0): Conv2d(64, 128, kernel_size=(1, 1), stride=(2, 2), bias=False)\n",
       "          (1): BatchNorm2d(128, eps=1e-05, momentum=0.1, affine=True, track_running_stats=True)\n",
       "        )\n",
       "      )\n",
       "      (1): BasicBlock(\n",
       "        (conv1): Conv2d(128, 128, kernel_size=(3, 3), stride=(1, 1), padding=(1, 1), bias=False)\n",
       "        (bn1): BatchNorm2d(128, eps=1e-05, momentum=0.1, affine=True, track_running_stats=True)\n",
       "        (relu): ReLU(inplace=True)\n",
       "        (conv2): Conv2d(128, 128, kernel_size=(3, 3), stride=(1, 1), padding=(1, 1), bias=False)\n",
       "        (bn2): BatchNorm2d(128, eps=1e-05, momentum=0.1, affine=True, track_running_stats=True)\n",
       "      )\n",
       "    )\n",
       "    (layer3): Sequential(\n",
       "      (0): BasicBlock(\n",
       "        (conv1): Conv2d(128, 256, kernel_size=(3, 3), stride=(2, 2), padding=(1, 1), bias=False)\n",
       "        (bn1): BatchNorm2d(256, eps=1e-05, momentum=0.1, affine=True, track_running_stats=True)\n",
       "        (relu): ReLU(inplace=True)\n",
       "        (conv2): Conv2d(256, 256, kernel_size=(3, 3), stride=(1, 1), padding=(1, 1), bias=False)\n",
       "        (bn2): BatchNorm2d(256, eps=1e-05, momentum=0.1, affine=True, track_running_stats=True)\n",
       "        (downsample): Sequential(\n",
       "          (0): Conv2d(128, 256, kernel_size=(1, 1), stride=(2, 2), bias=False)\n",
       "          (1): BatchNorm2d(256, eps=1e-05, momentum=0.1, affine=True, track_running_stats=True)\n",
       "        )\n",
       "      )\n",
       "      (1): BasicBlock(\n",
       "        (conv1): Conv2d(256, 256, kernel_size=(3, 3), stride=(1, 1), padding=(1, 1), bias=False)\n",
       "        (bn1): BatchNorm2d(256, eps=1e-05, momentum=0.1, affine=True, track_running_stats=True)\n",
       "        (relu): ReLU(inplace=True)\n",
       "        (conv2): Conv2d(256, 256, kernel_size=(3, 3), stride=(1, 1), padding=(1, 1), bias=False)\n",
       "        (bn2): BatchNorm2d(256, eps=1e-05, momentum=0.1, affine=True, track_running_stats=True)\n",
       "      )\n",
       "    )\n",
       "    (layer4): Sequential(\n",
       "      (0): BasicBlock(\n",
       "        (conv1): Conv2d(256, 512, kernel_size=(3, 3), stride=(2, 2), padding=(1, 1), bias=False)\n",
       "        (bn1): BatchNorm2d(512, eps=1e-05, momentum=0.1, affine=True, track_running_stats=True)\n",
       "        (relu): ReLU(inplace=True)\n",
       "        (conv2): Conv2d(512, 512, kernel_size=(3, 3), stride=(1, 1), padding=(1, 1), bias=False)\n",
       "        (bn2): BatchNorm2d(512, eps=1e-05, momentum=0.1, affine=True, track_running_stats=True)\n",
       "        (downsample): Sequential(\n",
       "          (0): Conv2d(256, 512, kernel_size=(1, 1), stride=(2, 2), bias=False)\n",
       "          (1): BatchNorm2d(512, eps=1e-05, momentum=0.1, affine=True, track_running_stats=True)\n",
       "        )\n",
       "      )\n",
       "      (1): BasicBlock(\n",
       "        (conv1): Conv2d(512, 512, kernel_size=(3, 3), stride=(1, 1), padding=(1, 1), bias=False)\n",
       "        (bn1): BatchNorm2d(512, eps=1e-05, momentum=0.1, affine=True, track_running_stats=True)\n",
       "        (relu): ReLU(inplace=True)\n",
       "        (conv2): Conv2d(512, 512, kernel_size=(3, 3), stride=(1, 1), padding=(1, 1), bias=False)\n",
       "        (bn2): BatchNorm2d(512, eps=1e-05, momentum=0.1, affine=True, track_running_stats=True)\n",
       "      )\n",
       "    )\n",
       "    (avgpool): AdaptiveAvgPool2d(output_size=(1, 1))\n",
       "    (fc): Linear(in_features=512, out_features=2, bias=True)\n",
       "  )\n",
       "  (dropout): Dropout(p=0.5, inplace=False)\n",
       ")"
      ]
     },
     "execution_count": 44,
     "metadata": {},
     "output_type": "execute_result"
    }
   ],
   "source": [
    "model"
   ]
  }
 ],
 "metadata": {
  "kernelspec": {
   "display_name": "aihc-py39-kernel",
   "language": "python",
   "name": "aihc-py39-kernel"
  },
  "language_info": {
   "codemirror_mode": {
    "name": "ipython",
    "version": 3
   },
   "file_extension": ".py",
   "mimetype": "text/x-python",
   "name": "python",
   "nbconvert_exporter": "python",
   "pygments_lexer": "ipython3",
   "version": "3.9.20"
  }
 },
 "nbformat": 4,
 "nbformat_minor": 5
}
