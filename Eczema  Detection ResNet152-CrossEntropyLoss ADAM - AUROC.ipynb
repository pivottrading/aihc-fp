{
 "cells": [
  {
   "cell_type": "code",
   "execution_count": 1,
   "id": "13249331",
   "metadata": {},
   "outputs": [
    {
     "name": "stdout",
     "output_type": "stream",
     "text": [
      "Requirement already satisfied: torchmetrics in c:\\users\\water\\.conda\\envs\\aihc-py39\\lib\\site-packages (1.6.0)\n",
      "Requirement already satisfied: numpy>1.20.0 in c:\\users\\water\\.conda\\envs\\aihc-py39\\lib\\site-packages (from torchmetrics) (2.0.2)\n",
      "Requirement already satisfied: packaging>17.1 in c:\\users\\water\\.conda\\envs\\aihc-py39\\lib\\site-packages (from torchmetrics) (24.1)\n",
      "Requirement already satisfied: torch>=2.0.0 in c:\\users\\water\\.conda\\envs\\aihc-py39\\lib\\site-packages (from torchmetrics) (2.5.1+cu121)\n",
      "Requirement already satisfied: lightning-utilities>=0.8.0 in c:\\users\\water\\.conda\\envs\\aihc-py39\\lib\\site-packages (from torchmetrics) (0.11.8)\n",
      "Requirement already satisfied: setuptools in c:\\users\\water\\.conda\\envs\\aihc-py39\\lib\\site-packages (from lightning-utilities>=0.8.0->torchmetrics) (75.1.0)\n",
      "Requirement already satisfied: typing-extensions in c:\\users\\water\\.conda\\envs\\aihc-py39\\lib\\site-packages (from lightning-utilities>=0.8.0->torchmetrics) (4.11.0)\n",
      "Requirement already satisfied: filelock in c:\\users\\water\\.conda\\envs\\aihc-py39\\lib\\site-packages (from torch>=2.0.0->torchmetrics) (3.13.1)\n",
      "Requirement already satisfied: networkx in c:\\users\\water\\.conda\\envs\\aihc-py39\\lib\\site-packages (from torch>=2.0.0->torchmetrics) (3.2.1)\n",
      "Requirement already satisfied: jinja2 in c:\\users\\water\\.conda\\envs\\aihc-py39\\lib\\site-packages (from torch>=2.0.0->torchmetrics) (3.1.4)\n",
      "Requirement already satisfied: fsspec in c:\\users\\water\\.conda\\envs\\aihc-py39\\lib\\site-packages (from torch>=2.0.0->torchmetrics) (2024.2.0)\n",
      "Requirement already satisfied: sympy==1.13.1 in c:\\users\\water\\.conda\\envs\\aihc-py39\\lib\\site-packages (from torch>=2.0.0->torchmetrics) (1.13.1)\n",
      "Requirement already satisfied: mpmath<1.4,>=1.1.0 in c:\\users\\water\\.conda\\envs\\aihc-py39\\lib\\site-packages (from sympy==1.13.1->torch>=2.0.0->torchmetrics) (1.3.0)\n",
      "Requirement already satisfied: MarkupSafe>=2.0 in c:\\users\\water\\.conda\\envs\\aihc-py39\\lib\\site-packages (from jinja2->torch>=2.0.0->torchmetrics) (3.0.1)\n"
     ]
    }
   ],
   "source": [
    "!pip install torchmetrics"
   ]
  },
  {
   "cell_type": "code",
   "execution_count": 2,
   "id": "74a6e9d4",
   "metadata": {},
   "outputs": [],
   "source": [
    "import pandas as pd\n",
    "from sklearn.model_selection import train_test_split\n",
    "from sklearn.metrics import roc_auc_score\n",
    "import torch\n",
    "import torch.nn as nn\n",
    "import torchvision\n",
    "import torchvision.transforms as transforms\n",
    "from torchvision import datasets\n",
    "import matplotlib.pyplot as plt\n",
    "from sklearn.metrics import accuracy_score\n",
    "from sklearn.model_selection import train_test_split\n",
    "import pandas as pd\n",
    "import os\n",
    "import time\n",
    "\n",
    "# Load data files\n",
    "cases_df = pd.read_csv('dataset/scin_cases.csv')\n",
    "labels_df = pd.read_csv('dataset/scin_labels.csv')\n",
    "\n",
    "# Merge data frames on case_id\n",
    "merged_df = pd.merge(cases_df, labels_df, on='case_id')"
   ]
  },
  {
   "cell_type": "code",
   "execution_count": 3,
   "id": "6500e537",
   "metadata": {},
   "outputs": [
    {
     "data": {
      "text/plain": [
       "Index(['case_id', 'source', 'release', 'year', 'age_group', 'sex_at_birth',\n",
       "       'fitzpatrick_skin_type',\n",
       "       'race_ethnicity_american_indian_or_alaska_native',\n",
       "       'race_ethnicity_asian', 'race_ethnicity_black_or_african_american',\n",
       "       'race_ethnicity_hispanic_latino_or_spanish_origin',\n",
       "       'race_ethnicity_middle_eastern_or_north_african',\n",
       "       'race_ethnicity_native_hawaiian_or_pacific_islander',\n",
       "       'race_ethnicity_white', 'race_ethnicity_other_race',\n",
       "       'race_ethnicity_prefer_not_to_answer', 'textures_raised_or_bumpy',\n",
       "       'textures_flat', 'textures_rough_or_flaky', 'textures_fluid_filled',\n",
       "       'body_parts_head_or_neck', 'body_parts_arm', 'body_parts_palm',\n",
       "       'body_parts_back_of_hand', 'body_parts_torso_front',\n",
       "       'body_parts_torso_back', 'body_parts_genitalia_or_groin',\n",
       "       'body_parts_buttocks', 'body_parts_leg', 'body_parts_foot_top_or_side',\n",
       "       'body_parts_foot_sole', 'body_parts_other',\n",
       "       'condition_symptoms_bothersome_appearance',\n",
       "       'condition_symptoms_bleeding', 'condition_symptoms_increasing_size',\n",
       "       'condition_symptoms_darkening', 'condition_symptoms_itching',\n",
       "       'condition_symptoms_burning', 'condition_symptoms_pain',\n",
       "       'condition_symptoms_no_relevant_experience', 'other_symptoms_fever',\n",
       "       'other_symptoms_chills', 'other_symptoms_fatigue',\n",
       "       'other_symptoms_joint_pain', 'other_symptoms_mouth_sores',\n",
       "       'other_symptoms_shortness_of_breath',\n",
       "       'other_symptoms_no_relevant_symptoms', 'related_category',\n",
       "       'condition_duration', 'image_1_path', 'image_2_path', 'image_3_path',\n",
       "       'image_1_shot_type', 'image_2_shot_type', 'image_3_shot_type',\n",
       "       'combined_race', 'race_ethnicity_two_or_more_after_mitigation',\n",
       "       'dermatologist_gradable_for_skin_condition_1',\n",
       "       'dermatologist_gradable_for_skin_condition_2',\n",
       "       'dermatologist_gradable_for_skin_condition_3',\n",
       "       'dermatologist_skin_condition_on_label_name',\n",
       "       'dermatologist_skin_condition_confidence',\n",
       "       'weighted_skin_condition_label',\n",
       "       'dermatologist_gradable_for_fitzpatrick_skin_type_1',\n",
       "       'dermatologist_gradable_for_fitzpatrick_skin_type_2',\n",
       "       'dermatologist_gradable_for_fitzpatrick_skin_type_3',\n",
       "       'dermatologist_fitzpatrick_skin_type_label_1',\n",
       "       'dermatologist_fitzpatrick_skin_type_label_2',\n",
       "       'dermatologist_fitzpatrick_skin_type_label_3',\n",
       "       'gradable_for_monk_skin_tone_india', 'gradable_for_monk_skin_tone_us',\n",
       "       'monk_skin_tone_label_india', 'monk_skin_tone_label_us'],\n",
       "      dtype='object')"
      ]
     },
     "execution_count": 3,
     "metadata": {},
     "output_type": "execute_result"
    }
   ],
   "source": [
    "merged_df.columns"
   ]
  },
  {
   "cell_type": "code",
   "execution_count": 4,
   "id": "0a5f5892",
   "metadata": {},
   "outputs": [
    {
     "data": {
      "text/plain": [
       "dermatologist_gradable_for_skin_condition_1\n",
       "DEFAULT_YES_IMAGE_QUALITY_SUFFICIENT                     3049\n",
       "NO_IMAGE_QUALITY_INSUFFICIENT                            1925\n",
       "YES_IMAGE_QUALITY_SUFFICIENT_NO_DISCERNIBLE_PATHOLOGY      59\n",
       "Name: count, dtype: int64"
      ]
     },
     "execution_count": 4,
     "metadata": {},
     "output_type": "execute_result"
    }
   ],
   "source": [
    "merged_df['dermatologist_gradable_for_skin_condition_1'].value_counts()"
   ]
  },
  {
   "cell_type": "code",
   "execution_count": 5,
   "id": "6abf5015",
   "metadata": {},
   "outputs": [
    {
     "data": {
      "text/plain": [
       "dermatologist_gradable_for_skin_condition_2\n",
       "DEFAULT_YES_IMAGE_QUALITY_SUFFICIENT                     464\n",
       "NO_IMAGE_QUALITY_INSUFFICIENT                            245\n",
       "YES_IMAGE_QUALITY_SUFFICIENT_NO_DISCERNIBLE_PATHOLOGY      7\n",
       "Name: count, dtype: int64"
      ]
     },
     "execution_count": 5,
     "metadata": {},
     "output_type": "execute_result"
    }
   ],
   "source": [
    "merged_df['dermatologist_gradable_for_skin_condition_2'].value_counts()"
   ]
  },
  {
   "cell_type": "code",
   "execution_count": 6,
   "id": "30a43ee6",
   "metadata": {},
   "outputs": [
    {
     "data": {
      "text/plain": [
       "dermatologist_gradable_for_skin_condition_3\n",
       "DEFAULT_YES_IMAGE_QUALITY_SUFFICIENT                     461\n",
       "NO_IMAGE_QUALITY_INSUFFICIENT                            243\n",
       "YES_IMAGE_QUALITY_SUFFICIENT_NO_DISCERNIBLE_PATHOLOGY     12\n",
       "Name: count, dtype: int64"
      ]
     },
     "execution_count": 6,
     "metadata": {},
     "output_type": "execute_result"
    }
   ],
   "source": [
    "merged_df['dermatologist_gradable_for_skin_condition_3'].value_counts()"
   ]
  },
  {
   "cell_type": "code",
   "execution_count": 7,
   "id": "1f3a47a0",
   "metadata": {},
   "outputs": [
    {
     "data": {
      "text/plain": [
       "dermatologist_skin_condition_confidence\n",
       "[]                          1972\n",
       "[5]                          312\n",
       "[4]                          208\n",
       "[2, 2, 2]                    178\n",
       "[2, 2]                       176\n",
       "                            ... \n",
       "[3, 3, 2, 4, 1, 1]             1\n",
       "[1, 1, 2, 2, 5]                1\n",
       "[1, 4, 1, 4, 2]                1\n",
       "[4, 4, 3, 1, 1]                1\n",
       "[4, 1, 1, 1, 1, 5, 4, 2]       1\n",
       "Name: count, Length: 547, dtype: int64"
      ]
     },
     "execution_count": 7,
     "metadata": {},
     "output_type": "execute_result"
    }
   ],
   "source": [
    "merged_df['dermatologist_skin_condition_confidence'].value_counts()"
   ]
  },
  {
   "cell_type": "code",
   "execution_count": 8,
   "id": "ebe100e0",
   "metadata": {},
   "outputs": [
    {
     "data": {
      "text/plain": [
       "weighted_skin_condition_label\n",
       "{}                                                                                                      1972\n",
       "{'Eczema': 1.0}                                                                                          127\n",
       "{'Urticaria': 1.0}                                                                                        85\n",
       "{'Allergic Contact Dermatitis': 1.0}                                                                      42\n",
       "{'Folliculitis': 1.0}                                                                                     38\n",
       "                                                                                                        ... \n",
       "{'Hidradenitis': 0.8, 'Abscess': 0.2}                                                                      1\n",
       "{'Drug Rash': 0.5, 'Allergic Contact Dermatitis': 0.5}                                                     1\n",
       "{'Rosacea': 0.55, 'Allergic Contact Dermatitis': 0.23, 'Cutaneous lupus': 0.23}                            1\n",
       "{'Chicken pox exanthem': 1.0}                                                                              1\n",
       "{'Leukocytoclastic Vasculitis': 0.55, 'Pigmented purpuric eruption': 0.27, 'Hypersensitivity': 0.18}       1\n",
       "Name: count, Length: 1942, dtype: int64"
      ]
     },
     "execution_count": 8,
     "metadata": {},
     "output_type": "execute_result"
    }
   ],
   "source": [
    "merged_df['weighted_skin_condition_label'].value_counts()"
   ]
  },
  {
   "cell_type": "code",
   "execution_count": 9,
   "id": "23296f5c",
   "metadata": {},
   "outputs": [
    {
     "data": {
      "text/plain": [
       "eczema\n",
       "-1    3896\n",
       " 0     770\n",
       " 1     367\n",
       "Name: count, dtype: int64"
      ]
     },
     "execution_count": 9,
     "metadata": {},
     "output_type": "execute_result"
    }
   ],
   "source": [
    "import pandas as pd\n",
    "import ast\n",
    "\n",
    "def extract_eczema_value(row):\n",
    "    # Convert string to list and dictionary\n",
    "    confidence_list = ast.literal_eval(row['dermatologist_skin_condition_confidence'])\n",
    "    label_dict = ast.literal_eval(row['weighted_skin_condition_label'])\n",
    "\n",
    "    # Initialize eczema value to 0\n",
    "    eczema_value = -1 # not related to eczema or dermatitis\n",
    "\n",
    "    # Iterate over items in label dictionary\n",
    "    for i, (key, value) in enumerate(label_dict.items()):\n",
    "        column_name = f'dermatologist_gradable_for_skin_condition_{i+1}'\n",
    "        \n",
    "#         if i < 3: # only column_name_3 exists\n",
    "#             print(f\"column_name={column_name}, value ={row[column_name]} enumerate i ={i}\")\n",
    "        \n",
    "        # Check if key contains 'Eczema' or 'Dermatitis' and confidence is 4 or 5\n",
    "        if i< 3 and row[column_name] == 'DEFAULT_YES_IMAGE_QUALITY_SUFFICIENT':\n",
    "            if ('eczema' in key.lower() or 'dermatitis' in key.lower()) and confidence_list[i] in [3, 4, 5]:\n",
    "                eczema_value = value # eczema or dermatitis ccategory with positive samples\n",
    "                break\n",
    "            elif ('eczema' in key.lower() or 'dermatitis' in key.lower()) and confidence_list[i] in [1, 2]:\n",
    "                eczema_value = 0 # eczema or dermatitis ccategory but negative\n",
    "                break\n",
    "            else:\n",
    "                eczema_value = -1\n",
    "        else:\n",
    "            eczema_value = -1\n",
    "    \n",
    "    answer = -1\n",
    "    if eczema_value > 0.5:\n",
    "        answer = 1\n",
    "    elif eczema_value >= 0.0:\n",
    "        answer = 0\n",
    "    else:\n",
    "        answer = -1\n",
    "        \n",
    "    return answer\n",
    "\n",
    "# Apply function to dataframe\n",
    "merged_df['eczema'] = merged_df.apply(extract_eczema_value, axis=1)\n",
    "merged_df['eczema'].value_counts()"
   ]
  },
  {
   "cell_type": "code",
   "execution_count": 10,
   "id": "39eaf637",
   "metadata": {},
   "outputs": [
    {
     "data": {
      "text/plain": [
       "eczema\n",
       "-1    3896\n",
       " 0     770\n",
       " 1     367\n",
       "Name: count, dtype: int64"
      ]
     },
     "execution_count": 10,
     "metadata": {},
     "output_type": "execute_result"
    }
   ],
   "source": [
    "merged_df['eczema'].value_counts()"
   ]
  },
  {
   "cell_type": "code",
   "execution_count": 11,
   "id": "ba161ef0",
   "metadata": {},
   "outputs": [
    {
     "data": {
      "text/html": [
       "<div>\n",
       "<style scoped>\n",
       "    .dataframe tbody tr th:only-of-type {\n",
       "        vertical-align: middle;\n",
       "    }\n",
       "\n",
       "    .dataframe tbody tr th {\n",
       "        vertical-align: top;\n",
       "    }\n",
       "\n",
       "    .dataframe thead th {\n",
       "        text-align: right;\n",
       "    }\n",
       "</style>\n",
       "<table border=\"1\" class=\"dataframe\">\n",
       "  <thead>\n",
       "    <tr style=\"text-align: right;\">\n",
       "      <th></th>\n",
       "      <th>dermatologist_skin_condition_confidence</th>\n",
       "      <th>weighted_skin_condition_label</th>\n",
       "      <th>dermatologist_gradable_for_skin_condition_1</th>\n",
       "      <th>dermatologist_gradable_for_skin_condition_2</th>\n",
       "      <th>dermatologist_gradable_for_skin_condition_3</th>\n",
       "      <th>eczema</th>\n",
       "    </tr>\n",
       "  </thead>\n",
       "  <tbody>\n",
       "    <tr>\n",
       "      <th>25</th>\n",
       "      <td>[5]</td>\n",
       "      <td>{'Eczema': 1.0}</td>\n",
       "      <td>DEFAULT_YES_IMAGE_QUALITY_SUFFICIENT</td>\n",
       "      <td>NaN</td>\n",
       "      <td>NaN</td>\n",
       "      <td>1</td>\n",
       "    </tr>\n",
       "    <tr>\n",
       "      <th>28</th>\n",
       "      <td>[3, 1, 1]</td>\n",
       "      <td>{'Infected eczema': 0.55, 'Psoriasis': 0.23, '...</td>\n",
       "      <td>DEFAULT_YES_IMAGE_QUALITY_SUFFICIENT</td>\n",
       "      <td>NaN</td>\n",
       "      <td>NaN</td>\n",
       "      <td>1</td>\n",
       "    </tr>\n",
       "    <tr>\n",
       "      <th>35</th>\n",
       "      <td>[5]</td>\n",
       "      <td>{'Eczema': 1.0}</td>\n",
       "      <td>DEFAULT_YES_IMAGE_QUALITY_SUFFICIENT</td>\n",
       "      <td>NaN</td>\n",
       "      <td>NaN</td>\n",
       "      <td>1</td>\n",
       "    </tr>\n",
       "    <tr>\n",
       "      <th>52</th>\n",
       "      <td>[5]</td>\n",
       "      <td>{'Eczema': 1.0}</td>\n",
       "      <td>DEFAULT_YES_IMAGE_QUALITY_SUFFICIENT</td>\n",
       "      <td>NaN</td>\n",
       "      <td>NaN</td>\n",
       "      <td>1</td>\n",
       "    </tr>\n",
       "    <tr>\n",
       "      <th>56</th>\n",
       "      <td>[5]</td>\n",
       "      <td>{'Chronic dermatitis, NOS': 1.0}</td>\n",
       "      <td>DEFAULT_YES_IMAGE_QUALITY_SUFFICIENT</td>\n",
       "      <td>NaN</td>\n",
       "      <td>NaN</td>\n",
       "      <td>1</td>\n",
       "    </tr>\n",
       "  </tbody>\n",
       "</table>\n",
       "</div>"
      ],
      "text/plain": [
       "   dermatologist_skin_condition_confidence  \\\n",
       "25                                     [5]   \n",
       "28                               [3, 1, 1]   \n",
       "35                                     [5]   \n",
       "52                                     [5]   \n",
       "56                                     [5]   \n",
       "\n",
       "                        weighted_skin_condition_label  \\\n",
       "25                                    {'Eczema': 1.0}   \n",
       "28  {'Infected eczema': 0.55, 'Psoriasis': 0.23, '...   \n",
       "35                                    {'Eczema': 1.0}   \n",
       "52                                    {'Eczema': 1.0}   \n",
       "56                   {'Chronic dermatitis, NOS': 1.0}   \n",
       "\n",
       "   dermatologist_gradable_for_skin_condition_1  \\\n",
       "25        DEFAULT_YES_IMAGE_QUALITY_SUFFICIENT   \n",
       "28        DEFAULT_YES_IMAGE_QUALITY_SUFFICIENT   \n",
       "35        DEFAULT_YES_IMAGE_QUALITY_SUFFICIENT   \n",
       "52        DEFAULT_YES_IMAGE_QUALITY_SUFFICIENT   \n",
       "56        DEFAULT_YES_IMAGE_QUALITY_SUFFICIENT   \n",
       "\n",
       "   dermatologist_gradable_for_skin_condition_2  \\\n",
       "25                                         NaN   \n",
       "28                                         NaN   \n",
       "35                                         NaN   \n",
       "52                                         NaN   \n",
       "56                                         NaN   \n",
       "\n",
       "   dermatologist_gradable_for_skin_condition_3  eczema  \n",
       "25                                         NaN       1  \n",
       "28                                         NaN       1  \n",
       "35                                         NaN       1  \n",
       "52                                         NaN       1  \n",
       "56                                         NaN       1  "
      ]
     },
     "execution_count": 11,
     "metadata": {},
     "output_type": "execute_result"
    }
   ],
   "source": [
    "merged_df[['dermatologist_skin_condition_confidence', 'weighted_skin_condition_label', 'dermatologist_gradable_for_skin_condition_1', 'dermatologist_gradable_for_skin_condition_2','dermatologist_gradable_for_skin_condition_3', 'eczema']][merged_df['eczema'] ==1].head()"
   ]
  },
  {
   "cell_type": "code",
   "execution_count": 12,
   "id": "db25e2d7",
   "metadata": {},
   "outputs": [
    {
     "data": {
      "text/html": [
       "<div>\n",
       "<style scoped>\n",
       "    .dataframe tbody tr th:only-of-type {\n",
       "        vertical-align: middle;\n",
       "    }\n",
       "\n",
       "    .dataframe tbody tr th {\n",
       "        vertical-align: top;\n",
       "    }\n",
       "\n",
       "    .dataframe thead th {\n",
       "        text-align: right;\n",
       "    }\n",
       "</style>\n",
       "<table border=\"1\" class=\"dataframe\">\n",
       "  <thead>\n",
       "    <tr style=\"text-align: right;\">\n",
       "      <th></th>\n",
       "      <th>dermatologist_skin_condition_confidence</th>\n",
       "      <th>weighted_skin_condition_label</th>\n",
       "      <th>dermatologist_gradable_for_skin_condition_1</th>\n",
       "      <th>dermatologist_gradable_for_skin_condition_2</th>\n",
       "      <th>dermatologist_gradable_for_skin_condition_3</th>\n",
       "      <th>eczema</th>\n",
       "    </tr>\n",
       "  </thead>\n",
       "  <tbody>\n",
       "    <tr>\n",
       "      <th>8</th>\n",
       "      <td>[1, 3, 3, 2, 4, 3]</td>\n",
       "      <td>{'Eczema': 0.67, 'Psoriasis': 0.11, 'Acute and...</td>\n",
       "      <td>DEFAULT_YES_IMAGE_QUALITY_SUFFICIENT</td>\n",
       "      <td>DEFAULT_YES_IMAGE_QUALITY_SUFFICIENT</td>\n",
       "      <td>DEFAULT_YES_IMAGE_QUALITY_SUFFICIENT</td>\n",
       "      <td>0</td>\n",
       "    </tr>\n",
       "    <tr>\n",
       "      <th>10</th>\n",
       "      <td>[1, 5, 1]</td>\n",
       "      <td>{'Eczema': 0.55, 'Drug Rash': 0.23, 'Allergic ...</td>\n",
       "      <td>DEFAULT_YES_IMAGE_QUALITY_SUFFICIENT</td>\n",
       "      <td>NaN</td>\n",
       "      <td>NaN</td>\n",
       "      <td>0</td>\n",
       "    </tr>\n",
       "    <tr>\n",
       "      <th>17</th>\n",
       "      <td>[2, 2, 2]</td>\n",
       "      <td>{'Stasis Dermatitis': 0.33, 'Eczema': 0.33, 'A...</td>\n",
       "      <td>DEFAULT_YES_IMAGE_QUALITY_SUFFICIENT</td>\n",
       "      <td>NaN</td>\n",
       "      <td>NaN</td>\n",
       "      <td>0</td>\n",
       "    </tr>\n",
       "    <tr>\n",
       "      <th>18</th>\n",
       "      <td>[4, 2, 4, 1, 2, 2]</td>\n",
       "      <td>{'Tinea Versicolor': 0.61, 'Seborrheic Dermati...</td>\n",
       "      <td>DEFAULT_YES_IMAGE_QUALITY_SUFFICIENT</td>\n",
       "      <td>DEFAULT_YES_IMAGE_QUALITY_SUFFICIENT</td>\n",
       "      <td>DEFAULT_YES_IMAGE_QUALITY_SUFFICIENT</td>\n",
       "      <td>0</td>\n",
       "    </tr>\n",
       "    <tr>\n",
       "      <th>33</th>\n",
       "      <td>[1, 1, 1, 1, 3, 4]</td>\n",
       "      <td>{'Impetigo': 0.17, 'Allergic Contact Dermatiti...</td>\n",
       "      <td>DEFAULT_YES_IMAGE_QUALITY_SUFFICIENT</td>\n",
       "      <td>DEFAULT_YES_IMAGE_QUALITY_SUFFICIENT</td>\n",
       "      <td>DEFAULT_YES_IMAGE_QUALITY_SUFFICIENT</td>\n",
       "      <td>0</td>\n",
       "    </tr>\n",
       "  </tbody>\n",
       "</table>\n",
       "</div>"
      ],
      "text/plain": [
       "   dermatologist_skin_condition_confidence  \\\n",
       "8                       [1, 3, 3, 2, 4, 3]   \n",
       "10                               [1, 5, 1]   \n",
       "17                               [2, 2, 2]   \n",
       "18                      [4, 2, 4, 1, 2, 2]   \n",
       "33                      [1, 1, 1, 1, 3, 4]   \n",
       "\n",
       "                        weighted_skin_condition_label  \\\n",
       "8   {'Eczema': 0.67, 'Psoriasis': 0.11, 'Acute and...   \n",
       "10  {'Eczema': 0.55, 'Drug Rash': 0.23, 'Allergic ...   \n",
       "17  {'Stasis Dermatitis': 0.33, 'Eczema': 0.33, 'A...   \n",
       "18  {'Tinea Versicolor': 0.61, 'Seborrheic Dermati...   \n",
       "33  {'Impetigo': 0.17, 'Allergic Contact Dermatiti...   \n",
       "\n",
       "   dermatologist_gradable_for_skin_condition_1  \\\n",
       "8         DEFAULT_YES_IMAGE_QUALITY_SUFFICIENT   \n",
       "10        DEFAULT_YES_IMAGE_QUALITY_SUFFICIENT   \n",
       "17        DEFAULT_YES_IMAGE_QUALITY_SUFFICIENT   \n",
       "18        DEFAULT_YES_IMAGE_QUALITY_SUFFICIENT   \n",
       "33        DEFAULT_YES_IMAGE_QUALITY_SUFFICIENT   \n",
       "\n",
       "   dermatologist_gradable_for_skin_condition_2  \\\n",
       "8         DEFAULT_YES_IMAGE_QUALITY_SUFFICIENT   \n",
       "10                                         NaN   \n",
       "17                                         NaN   \n",
       "18        DEFAULT_YES_IMAGE_QUALITY_SUFFICIENT   \n",
       "33        DEFAULT_YES_IMAGE_QUALITY_SUFFICIENT   \n",
       "\n",
       "   dermatologist_gradable_for_skin_condition_3  eczema  \n",
       "8         DEFAULT_YES_IMAGE_QUALITY_SUFFICIENT       0  \n",
       "10                                         NaN       0  \n",
       "17                                         NaN       0  \n",
       "18        DEFAULT_YES_IMAGE_QUALITY_SUFFICIENT       0  \n",
       "33        DEFAULT_YES_IMAGE_QUALITY_SUFFICIENT       0  "
      ]
     },
     "execution_count": 12,
     "metadata": {},
     "output_type": "execute_result"
    }
   ],
   "source": [
    "merged_df[['dermatologist_skin_condition_confidence', 'weighted_skin_condition_label', 'dermatologist_gradable_for_skin_condition_1', 'dermatologist_gradable_for_skin_condition_2','dermatologist_gradable_for_skin_condition_3', 'eczema']][merged_df['eczema'] ==0].head()"
   ]
  },
  {
   "cell_type": "code",
   "execution_count": 13,
   "id": "8f3b9784",
   "metadata": {},
   "outputs": [
    {
     "data": {
      "text/plain": [
       "eczema\n",
       "-1    3896\n",
       " 0     770\n",
       " 1     367\n",
       "Name: count, dtype: int64"
      ]
     },
     "execution_count": 13,
     "metadata": {},
     "output_type": "execute_result"
    }
   ],
   "source": [
    "merged_df['eczema'].value_counts()"
   ]
  },
  {
   "cell_type": "code",
   "execution_count": 14,
   "id": "edc6e129",
   "metadata": {},
   "outputs": [
    {
     "data": {
      "text/plain": [
       "eczema\n",
       "0    770\n",
       "1    367\n",
       "Name: count, dtype: int64"
      ]
     },
     "execution_count": 14,
     "metadata": {},
     "output_type": "execute_result"
    }
   ],
   "source": [
    "#ignore non eczema dataset\n",
    "merged_df = merged_df[merged_df['eczema'] != -1] \n",
    "merged_df['eczema'].value_counts()"
   ]
  },
  {
   "cell_type": "code",
   "execution_count": 15,
   "id": "f22f82f4",
   "metadata": {},
   "outputs": [
    {
     "data": {
      "text/html": [
       "<div>\n",
       "<style scoped>\n",
       "    .dataframe tbody tr th:only-of-type {\n",
       "        vertical-align: middle;\n",
       "    }\n",
       "\n",
       "    .dataframe tbody tr th {\n",
       "        vertical-align: top;\n",
       "    }\n",
       "\n",
       "    .dataframe thead th {\n",
       "        text-align: right;\n",
       "    }\n",
       "</style>\n",
       "<table border=\"1\" class=\"dataframe\">\n",
       "  <thead>\n",
       "    <tr style=\"text-align: right;\">\n",
       "      <th></th>\n",
       "      <th>dermatologist_skin_condition_confidence</th>\n",
       "      <th>weighted_skin_condition_label</th>\n",
       "      <th>eczema</th>\n",
       "    </tr>\n",
       "  </thead>\n",
       "  <tbody>\n",
       "    <tr>\n",
       "      <th>8</th>\n",
       "      <td>[1, 3, 3, 2, 4, 3]</td>\n",
       "      <td>{'Eczema': 0.67, 'Psoriasis': 0.11, 'Acute and...</td>\n",
       "      <td>0</td>\n",
       "    </tr>\n",
       "    <tr>\n",
       "      <th>10</th>\n",
       "      <td>[1, 5, 1]</td>\n",
       "      <td>{'Eczema': 0.55, 'Drug Rash': 0.23, 'Allergic ...</td>\n",
       "      <td>0</td>\n",
       "    </tr>\n",
       "    <tr>\n",
       "      <th>17</th>\n",
       "      <td>[2, 2, 2]</td>\n",
       "      <td>{'Stasis Dermatitis': 0.33, 'Eczema': 0.33, 'A...</td>\n",
       "      <td>0</td>\n",
       "    </tr>\n",
       "    <tr>\n",
       "      <th>18</th>\n",
       "      <td>[4, 2, 4, 1, 2, 2]</td>\n",
       "      <td>{'Tinea Versicolor': 0.61, 'Seborrheic Dermati...</td>\n",
       "      <td>0</td>\n",
       "    </tr>\n",
       "    <tr>\n",
       "      <th>25</th>\n",
       "      <td>[5]</td>\n",
       "      <td>{'Eczema': 1.0}</td>\n",
       "      <td>1</td>\n",
       "    </tr>\n",
       "    <tr>\n",
       "      <th>...</th>\n",
       "      <td>...</td>\n",
       "      <td>...</td>\n",
       "      <td>...</td>\n",
       "    </tr>\n",
       "    <tr>\n",
       "      <th>5014</th>\n",
       "      <td>[2, 2]</td>\n",
       "      <td>{'Allergic Contact Dermatitis': 0.5, 'Irritant...</td>\n",
       "      <td>0</td>\n",
       "    </tr>\n",
       "    <tr>\n",
       "      <th>5016</th>\n",
       "      <td>[4]</td>\n",
       "      <td>{'Stasis Dermatitis': 1.0}</td>\n",
       "      <td>1</td>\n",
       "    </tr>\n",
       "    <tr>\n",
       "      <th>5021</th>\n",
       "      <td>[4, 2, 2, 2, 3]</td>\n",
       "      <td>{'Eczema': 0.68, 'Scabies': 0.16, 'Hypersensit...</td>\n",
       "      <td>1</td>\n",
       "    </tr>\n",
       "    <tr>\n",
       "      <th>5024</th>\n",
       "      <td>[3, 4, 2, 5]</td>\n",
       "      <td>{'Stasis Dermatitis': 0.33, 'Pigmented purpuri...</td>\n",
       "      <td>0</td>\n",
       "    </tr>\n",
       "    <tr>\n",
       "      <th>5028</th>\n",
       "      <td>[5, 4, 5]</td>\n",
       "      <td>{'CD - Contact dermatitis': 0.33, 'Allergic Co...</td>\n",
       "      <td>0</td>\n",
       "    </tr>\n",
       "  </tbody>\n",
       "</table>\n",
       "<p>1137 rows × 3 columns</p>\n",
       "</div>"
      ],
      "text/plain": [
       "     dermatologist_skin_condition_confidence  \\\n",
       "8                         [1, 3, 3, 2, 4, 3]   \n",
       "10                                 [1, 5, 1]   \n",
       "17                                 [2, 2, 2]   \n",
       "18                        [4, 2, 4, 1, 2, 2]   \n",
       "25                                       [5]   \n",
       "...                                      ...   \n",
       "5014                                  [2, 2]   \n",
       "5016                                     [4]   \n",
       "5021                         [4, 2, 2, 2, 3]   \n",
       "5024                            [3, 4, 2, 5]   \n",
       "5028                               [5, 4, 5]   \n",
       "\n",
       "                          weighted_skin_condition_label  eczema  \n",
       "8     {'Eczema': 0.67, 'Psoriasis': 0.11, 'Acute and...       0  \n",
       "10    {'Eczema': 0.55, 'Drug Rash': 0.23, 'Allergic ...       0  \n",
       "17    {'Stasis Dermatitis': 0.33, 'Eczema': 0.33, 'A...       0  \n",
       "18    {'Tinea Versicolor': 0.61, 'Seborrheic Dermati...       0  \n",
       "25                                      {'Eczema': 1.0}       1  \n",
       "...                                                 ...     ...  \n",
       "5014  {'Allergic Contact Dermatitis': 0.5, 'Irritant...       0  \n",
       "5016                         {'Stasis Dermatitis': 1.0}       1  \n",
       "5021  {'Eczema': 0.68, 'Scabies': 0.16, 'Hypersensit...       1  \n",
       "5024  {'Stasis Dermatitis': 0.33, 'Pigmented purpuri...       0  \n",
       "5028  {'CD - Contact dermatitis': 0.33, 'Allergic Co...       0  \n",
       "\n",
       "[1137 rows x 3 columns]"
      ]
     },
     "execution_count": 15,
     "metadata": {},
     "output_type": "execute_result"
    }
   ],
   "source": [
    "merged_df[['dermatologist_skin_condition_confidence', 'weighted_skin_condition_label', 'eczema']]"
   ]
  },
  {
   "cell_type": "code",
   "execution_count": 16,
   "id": "9c49c213",
   "metadata": {},
   "outputs": [],
   "source": [
    "def calculate_image_path(row):\n",
    "    if row['image_1_shot_type'] == 'CLOSE_UP' and  row['dermatologist_gradable_for_skin_condition_1'] == 'DEFAULT_YES_IMAGE_QUALITY_SUFFICIENT': #CLOSE_UP, AT_DISTANCE\n",
    "        return ''+row['image_1_path']\n",
    "    elif row['image_2_shot_type'] == 'CLOSE_UP' and  row['dermatologist_gradable_for_skin_condition_2'] == 'DEFAULT_YES_IMAGE_QUALITY_SUFFICIENT':\n",
    "        return ''+row['image_2_path']\n",
    "    elif row['image_3_shot_type'] == 'CLOSE_UP' and  row['dermatologist_gradable_for_skin_condition_3'] == 'DEFAULT_YES_IMAGE_QUALITY_SUFFICIENT':\n",
    "        return str(row['image_3_path'])\n",
    "    else:\n",
    "        return ''  # or any default value if none is found"
   ]
  },
  {
   "cell_type": "code",
   "execution_count": 17,
   "id": "576a8d8c",
   "metadata": {},
   "outputs": [
    {
     "data": {
      "text/plain": [
       "1137"
      ]
     },
     "execution_count": 17,
     "metadata": {},
     "output_type": "execute_result"
    }
   ],
   "source": [
    "# Create image path column\n",
    "merged_df['image_path'] = merged_df.apply(calculate_image_path, axis=1)\n",
    "len(merged_df)"
   ]
  },
  {
   "cell_type": "code",
   "execution_count": 18,
   "id": "ffaeed04",
   "metadata": {},
   "outputs": [
    {
     "data": {
      "text/plain": [
       "805"
      ]
     },
     "execution_count": 18,
     "metadata": {},
     "output_type": "execute_result"
    }
   ],
   "source": [
    "merged_df = merged_df[merged_df['image_path'].apply(os.path.exists)]\n",
    "len(merged_df)"
   ]
  },
  {
   "cell_type": "code",
   "execution_count": 19,
   "id": "b8bf3c1f",
   "metadata": {},
   "outputs": [
    {
     "data": {
      "text/plain": [
       "eczema\n",
       "0    567\n",
       "1    238\n",
       "Name: count, dtype: int64"
      ]
     },
     "execution_count": 19,
     "metadata": {},
     "output_type": "execute_result"
    }
   ],
   "source": [
    "merged_df['eczema'].value_counts()"
   ]
  },
  {
   "cell_type": "code",
   "execution_count": 20,
   "id": "5f738af2",
   "metadata": {},
   "outputs": [
    {
     "data": {
      "text/plain": [
       "'dataset/images/960187272475981264.png'"
      ]
     },
     "execution_count": 20,
     "metadata": {},
     "output_type": "execute_result"
    }
   ],
   "source": [
    "new_df = merged_df[merged_df['eczema'] ==1]['image_path'].reset_index()\n",
    "new_df.loc[1]['image_path']"
   ]
  },
  {
   "cell_type": "code",
   "execution_count": 21,
   "id": "5a97c1c4",
   "metadata": {},
   "outputs": [
    {
     "data": {
      "image/png": "[encoded data removed]",
      "text/plain": [
       "<Figure size 640x480 with 1 Axes>"
      ]
     },
     "metadata": {},
     "output_type": "display_data"
    },
    {
     "data": {
      "text/plain": [
       "torch.Size([192, 192, 3])"
      ]
     },
     "execution_count": 21,
     "metadata": {},
     "output_type": "execute_result"
    }
   ],
   "source": [
    "import torch\n",
    "import matplotlib.pyplot as plt\n",
    "from torchvision import transforms\n",
    "from PIL import Image\n",
    "\n",
    "# Load an image using PIL (you can replace this with your image path)\n",
    "image_path = new_df.loc[50]['image_path']\n",
    "image = Image.open(image_path)\n",
    "\n",
    "# Convert the image to a PyTorch tensor\n",
    "# transform =  transforms.Compose([ transforms.Resize((244, 244)),\n",
    "#                                 transforms.RandomResizedCrop(192, scale=(0.8, 1.0)),\n",
    "#                                 transforms.ToTensor()\n",
    "#                                 ])\n",
    "\n",
    "transform =  transforms.Compose([\n",
    "#         transforms.Resize((512, 512)),\n",
    "#         transforms.ColorJitter(0.5, 0.5, 0.5, 0.1),\n",
    "#         transforms.RandomHorizontalFlip(),\n",
    "        transforms.RandomRotation(15),  \n",
    "        transforms.RandomHorizontalFlip(p=0.3),  # Horizontal flip with 50% probability\n",
    "        transforms.RandomVerticalFlip(p=0.3),   \n",
    "        transforms.RandomResizedCrop(192, scale=(0.8, 1.0)),\n",
    "        transforms.RandomAffine(degrees=0, shear=10),\n",
    "#         transforms.ColorJitter(0.25, 0.25, 0.25, 0.1),\n",
    "        transforms.ToTensor(),\n",
    "        transforms.ConvertImageDtype(torch.float),        \n",
    "#         transforms.Normalize([0.485, 0.456, 0.406], [0.229, 0.224, 0.225]),\n",
    "    ])\n",
    "image_tensor = transform(image)\n",
    "\n",
    "# Convert the image tensor from [C, H, W] to [H, W, C] for displaying\n",
    "image_tensor = image_tensor.permute(1, 2, 0)\n",
    "\n",
    "# Plot the image using matplotlib\n",
    "plt.imshow(image_tensor)\n",
    "plt.axis('off')  # Hide axes for better visual appearance\n",
    "plt.show()\n",
    "image_tensor.shape"
   ]
  },
  {
   "cell_type": "code",
   "execution_count": 22,
   "id": "dfef6ba5",
   "metadata": {},
   "outputs": [
    {
     "data": {
      "text/plain": [
       "torch.Size([192, 192, 3])"
      ]
     },
     "execution_count": 22,
     "metadata": {},
     "output_type": "execute_result"
    }
   ],
   "source": [
    "image_tensor.shape"
   ]
  },
  {
   "cell_type": "code",
   "execution_count": 23,
   "id": "1f9a80be",
   "metadata": {},
   "outputs": [],
   "source": [
    "# Filter out missing labels and images\n",
    "filtered_df = merged_df.dropna(subset=['eczema', 'image_path'])\n",
    "\n",
    "# Split data into training and validation sets\n",
    "train_df, val_df = train_test_split(filtered_df, test_size=0.2, random_state=42)\n"
   ]
  },
  {
   "cell_type": "code",
   "execution_count": 24,
   "id": "37e857db",
   "metadata": {},
   "outputs": [
    {
     "data": {
      "text/plain": [
       "eczema\n",
       "0    457\n",
       "1    187\n",
       "Name: count, dtype: int64"
      ]
     },
     "execution_count": 24,
     "metadata": {},
     "output_type": "execute_result"
    }
   ],
   "source": [
    "train_df['eczema'].value_counts()"
   ]
  },
  {
   "cell_type": "code",
   "execution_count": 25,
   "id": "10d1df20",
   "metadata": {},
   "outputs": [
    {
     "data": {
      "text/plain": [
       "eczema\n",
       "0    110\n",
       "1     51\n",
       "Name: count, dtype: int64"
      ]
     },
     "execution_count": 25,
     "metadata": {},
     "output_type": "execute_result"
    }
   ],
   "source": [
    "val_df['eczema'].value_counts()"
   ]
  },
  {
   "cell_type": "code",
   "execution_count": 26,
   "id": "a1984597",
   "metadata": {},
   "outputs": [],
   "source": [
    "# Import necessary libraries\n",
    "from torch.utils.data import Dataset\n",
    "from PIL import Image\n",
    "import torch\n",
    "\n",
    "# Define custom dataset class\n",
    "class EczemaDataset(Dataset):\n",
    "    def __init__(self, df, transform):\n",
    "        self.df = df\n",
    "        self.transform = transform\n",
    "\n",
    "    def __len__(self):\n",
    "        return len(self.df)\n",
    "\n",
    "    def __getitem__(self, idx):\n",
    "        image_path = self.df.iloc[idx]['image_path']\n",
    "        image = Image.open(image_path).convert('RGB')\n",
    "        label = self.df.iloc[idx]['eczema']\n",
    "\n",
    "        image = self.transform(image)\n",
    "#         label = torch.tensor(label, dtype=torch.float)\n",
    "        label = torch.tensor(label)\n",
    "\n",
    "\n",
    "        return image, label"
   ]
  },
  {
   "cell_type": "code",
   "execution_count": 27,
   "id": "5f6e7e0c",
   "metadata": {},
   "outputs": [],
   "source": [
    "import torchvision.transforms as transforms\n",
    "\n",
    "data_transforms = {\n",
    "    'train': transforms.Compose([\n",
    "        transforms.Resize(256),\n",
    "        transforms.CenterCrop(224),\n",
    "        transforms.RandomRotation(15),  \n",
    "        transforms.RandomHorizontalFlip(p=0.3),  # Horizontal flip with 50% probability\n",
    "        transforms.RandomVerticalFlip(p=0.3),   \n",
    "        transforms.ToTensor(),\n",
    "        transforms.ConvertImageDtype(torch.float),        \n",
    "#         transforms.Normalize([0.485, 0.456, 0.406], [0.229, 0.224, 0.225])\n",
    "    ]),\n",
    "    'val': transforms.Compose([\n",
    "        transforms.Resize(256),\n",
    "        transforms.CenterCrop(224),\n",
    "        transforms.ToTensor(),\n",
    "        transforms.ConvertImageDtype(torch.float),\n",
    "#         transforms.Normalize([0.485, 0.456, 0.406], [0.229, 0.224, 0.225])\n",
    "    ]),\n",
    "}"
   ]
  },
  {
   "cell_type": "code",
   "execution_count": 28,
   "id": "47307137",
   "metadata": {},
   "outputs": [],
   "source": [
    "import torch.nn as nn\n",
    "import torchvision.models as models\n",
    "\n",
    "# Define model\n",
    "class EczemaClassifier(nn.Module):\n",
    "    def __init__(self):\n",
    "        super(EczemaClassifier, self).__init__()\n",
    "#         self.model = torchvision.models.resnet18(weights=torchvision.models.ResNet18_Weights.DEFAULT)\n",
    "#         self.model = torchvision.models.resnet50(weights=torchvision.models.ResNet50_Weights.DEFAULT)\n",
    "        self.model = torchvision.models.resnet152(weights=torchvision.models.ResNet152_Weights.DEFAULT)\n",
    "        # Freeze layers except for the final one\n",
    "        for param in self.model.parameters():\n",
    "            param.requires_grad = False        \n",
    "\n",
    "        self.model.fc = nn.Linear(self.model.fc.in_features, 2)\n",
    "        self.dropout = nn.Dropout(p=0.2)\n",
    "\n",
    "    def forward(self, x):\n",
    "        x = self.model(x)\n",
    "        x = self.dropout(x)\n",
    "        return x"
   ]
  },
  {
   "cell_type": "code",
   "execution_count": 29,
   "id": "5de648b3",
   "metadata": {},
   "outputs": [
    {
     "data": {
      "text/plain": [
       "(644, 161)"
      ]
     },
     "execution_count": 29,
     "metadata": {},
     "output_type": "execute_result"
    }
   ],
   "source": [
    "len(train_df), len(val_df)"
   ]
  },
  {
   "cell_type": "code",
   "execution_count": 30,
   "id": "291324bf",
   "metadata": {},
   "outputs": [],
   "source": [
    "def save_model(model_name, model, epoch, val_acc):\n",
    "    scripted_model = torch.jit.script(model)\n",
    "    torch.jit.save(scripted_model, f'{model_name}-{epoch}-{val_acc:.4f}.pth')"
   ]
  },
  {
   "cell_type": "code",
   "execution_count": 31,
   "id": "2ac1335e",
   "metadata": {},
   "outputs": [
    {
     "name": "stdout",
     "output_type": "stream",
     "text": [
      "device=cuda\n"
     ]
    }
   ],
   "source": [
    "# Train model\n",
    "device = torch.device(\"cuda\" if torch.cuda.is_available() else \"cpu\")\n",
    "print(f'device={device}')\n",
    "\n",
    "from torch.utils.tensorboard import SummaryWriter\n",
    "writer = SummaryWriter()"
   ]
  },
  {
   "cell_type": "code",
   "execution_count": 32,
   "id": "10a7f6c2",
   "metadata": {},
   "outputs": [
    {
     "name": "stdout",
     "output_type": "stream",
     "text": [
      "Class distribution: Counter({0: 457, 1: 187})\n",
      "Number of positive samples: 187\n",
      "Number of negative samples: 457\n",
      "Pos weight calculated: 2.443850267379679\n"
     ]
    }
   ],
   "source": [
    "import torch\n",
    "from collections import Counter\n",
    "\n",
    "# Step 1: Load and prepare your dataset (assuming your dataset is loaded into `train_df`)\n",
    "# Assuming labels are stored in a column named 'label'\n",
    "\n",
    "# Check the distribution of the classes in your dataset\n",
    "class_counts = Counter(train_df['eczema'])\n",
    "print(f\"Class distribution: {class_counts}\")\n",
    "\n",
    "# Step 2: Calculate the number of samples for each class\n",
    "num_positive = class_counts[1]\n",
    "num_negative = class_counts[0]\n",
    "\n",
    "print(f\"Number of positive samples: {num_positive}\")\n",
    "print(f\"Number of negative samples: {num_negative}\")\n",
    "\n",
    "# Step 3: Compute the pos_weight\n",
    "# pos_weight is typically set to the ratio of negative to positive examples\n",
    "pos_weight = num_negative / num_positive\n",
    "print(f\"Pos weight calculated: {pos_weight}\")"
   ]
  },
  {
   "cell_type": "code",
   "execution_count": 33,
   "id": "87369689",
   "metadata": {},
   "outputs": [],
   "source": [
    "def compute_AUC(gt, pred):\n",
    "    AUROCs = []\n",
    "    gt_np = gt.detach().cpu().numpy()\n",
    "    pred_np = pred.detach().cpu().numpy()\n",
    "    AUROC = roc_auc_score(gt_np, pred_np)\n",
    "    return AUROC"
   ]
  },
  {
   "cell_type": "code",
   "execution_count": 34,
   "id": "0327e392",
   "metadata": {},
   "outputs": [],
   "source": [
    "# Create data loaders\n",
    "train_dataset = EczemaDataset(train_df, data_transforms['train'])\n",
    "val_dataset = EczemaDataset(val_df, data_transforms['val'])\n",
    "\n",
    "train_loader = torch.utils.data.DataLoader(train_dataset, batch_size=750, shuffle=True) # 2500\n",
    "val_loader = torch.utils.data.DataLoader(val_dataset, batch_size=256, shuffle=False)"
   ]
  },
  {
   "cell_type": "code",
   "execution_count": 35,
   "id": "387df554",
   "metadata": {},
   "outputs": [
    {
     "name": "stdout",
     "output_type": "stream",
     "text": [
      "pos_weight_tensor=tensor([2.4439], device='cuda:0')\n"
     ]
    }
   ],
   "source": [
    "model = EczemaClassifier().to(device)\n",
    "\n",
    "pos_weight_tensor = torch.tensor([pos_weight]).to(device)\n",
    "print(f\"pos_weight_tensor={pos_weight_tensor}\")\n",
    "criterion = nn.CrossEntropyLoss(weight=torch.tensor([1.0, pos_weight])).to(device)\n",
    "\n",
    "optimizer = torch.optim.Adam(model.parameters(), lr=0.001)\n",
    "\n",
    "best_AUROC = 0.0\n",
    "global_step = 0\n",
    "global_epochs = 0"
   ]
  },
  {
   "cell_type": "code",
   "execution_count": 36,
   "id": "de385eaa",
   "metadata": {},
   "outputs": [
    {
     "name": "stdout",
     "output_type": "stream",
     "text": [
      "Epoch: 1, Training Loss: 0.6916, AUROC_TRAIN:0.5215,  Time: 43.43 seconds \n",
      "Epoch: 2, Training Loss: 0.6973, AUROC_TRAIN:0.4759,  Time: 24.86 seconds \n",
      "Epoch: 3, Training Loss: 0.6913, AUROC_TRAIN:0.5324,  Time: 20.21 seconds, AUROC_VALID:0.3992\n",
      "Epoch: 4, Training Loss: 0.6925, AUROC_TRAIN:0.5176,  Time: 21.13 seconds \n",
      "Epoch: 5, Training Loss: 0.6713, AUROC_TRAIN:0.5890,  Time: 20.62 seconds \n",
      "Epoch: 6, Training Loss: 0.6614, AUROC_TRAIN:0.5822,  Time: 20.77 seconds, AUROC_VALID:0.4013\n",
      "Epoch: 7, Training Loss: 0.6630, AUROC_TRAIN:0.6149,  Time: 21.10 seconds \n",
      "Epoch: 8, Training Loss: 0.6635, AUROC_TRAIN:0.6147,  Time: 20.53 seconds \n",
      "Epoch: 9, Training Loss: 0.6501, AUROC_TRAIN:0.6327,  Time: 19.94 seconds, AUROC_VALID:0.4447\n",
      "Epoch: 10, Training Loss: 0.6523, AUROC_TRAIN:0.6248,  Time: 21.05 seconds \n",
      "Epoch: 11, Training Loss: 0.6480, AUROC_TRAIN:0.6349,  Time: 20.20 seconds \n",
      "Epoch: 12, Training Loss: 0.6408, AUROC_TRAIN:0.6490,  Time: 20.35 seconds, AUROC_VALID:0.4370\n",
      "Epoch: 13, Training Loss: 0.6327, AUROC_TRAIN:0.6655,  Time: 21.43 seconds \n",
      "Epoch: 14, Training Loss: 0.6355, AUROC_TRAIN:0.6614,  Time: 20.70 seconds \n",
      "Epoch: 15, Training Loss: 0.6277, AUROC_TRAIN:0.6686,  Time: 20.53 seconds, AUROC_VALID:0.4432\n",
      "Epoch: 16, Training Loss: 0.6404, AUROC_TRAIN:0.6384,  Time: 20.73 seconds \n",
      "Epoch: 17, Training Loss: 0.6128, AUROC_TRAIN:0.6779,  Time: 21.39 seconds \n",
      "Epoch: 18, Training Loss: 0.6199, AUROC_TRAIN:0.6854,  Time: 20.67 seconds, AUROC_VALID:0.4813\n",
      "Epoch: 19, Training Loss: 0.6123, AUROC_TRAIN:0.6876,  Time: 21.05 seconds \n",
      "Epoch: 20, Training Loss: 0.6135, AUROC_TRAIN:0.6937,  Time: 20.64 seconds \n",
      "Epoch: 21, Training Loss: 0.6140, AUROC_TRAIN:0.6976,  Time: 21.12 seconds, AUROC_VALID:0.4509\n",
      "Epoch: 22, Training Loss: 0.6108, AUROC_TRAIN:0.7054,  Time: 21.45 seconds \n",
      "Epoch: 23, Training Loss: 0.5980, AUROC_TRAIN:0.6864,  Time: 20.39 seconds \n",
      "Epoch: 24, Training Loss: 0.6061, AUROC_TRAIN:0.6933,  Time: 20.00 seconds, AUROC_VALID:0.4806\n",
      "Epoch: 25, Training Loss: 0.5948, AUROC_TRAIN:0.7190,  Time: 21.33 seconds \n",
      "Epoch: 26, Training Loss: 0.5947, AUROC_TRAIN:0.7099,  Time: 19.86 seconds \n",
      "Epoch: 27, Training Loss: 0.6032, AUROC_TRAIN:0.6960,  Time: 20.90 seconds, AUROC_VALID:0.4746\n",
      "Epoch: 28, Training Loss: 0.5895, AUROC_TRAIN:0.7197,  Time: 20.35 seconds \n",
      "Epoch: 29, Training Loss: 0.5941, AUROC_TRAIN:0.7028,  Time: 21.00 seconds \n",
      "Epoch: 30, Training Loss: 0.5764, AUROC_TRAIN:0.7485,  Time: 21.60 seconds, AUROC_VALID:0.4631\n",
      "Epoch: 31, Training Loss: 0.5890, AUROC_TRAIN:0.6830,  Time: 22.85 seconds \n",
      "Epoch: 32, Training Loss: 0.5871, AUROC_TRAIN:0.7261,  Time: 20.66 seconds \n",
      "Epoch: 33, Training Loss: 0.5785, AUROC_TRAIN:0.7331,  Time: 20.73 seconds, AUROC_VALID:0.4865\n",
      "Epoch: 34, Training Loss: 0.5683, AUROC_TRAIN:0.7314,  Time: 20.82 seconds \n",
      "Epoch: 35, Training Loss: 0.5779, AUROC_TRAIN:0.7433,  Time: 20.01 seconds \n",
      "Epoch: 36, Training Loss: 0.5794, AUROC_TRAIN:0.7313,  Time: 20.97 seconds, AUROC_VALID:0.4865\n",
      "Epoch: 37, Training Loss: 0.5628, AUROC_TRAIN:0.7341,  Time: 20.94 seconds \n",
      "Epoch: 38, Training Loss: 0.5643, AUROC_TRAIN:0.7350,  Time: 20.85 seconds \n",
      "Epoch: 39, Training Loss: 0.5645, AUROC_TRAIN:0.7570,  Time: 20.77 seconds, AUROC_VALID:0.4676\n",
      "Epoch: 40, Training Loss: 0.5534, AUROC_TRAIN:0.7545,  Time: 20.93 seconds \n",
      "Epoch: 41, Training Loss: 0.5537, AUROC_TRAIN:0.7339,  Time: 21.04 seconds \n",
      "Epoch: 42, Training Loss: 0.5568, AUROC_TRAIN:0.7566,  Time: 20.79 seconds, AUROC_VALID:0.4834\n",
      "Epoch: 43, Training Loss: 0.5606, AUROC_TRAIN:0.7438,  Time: 20.89 seconds \n",
      "Epoch: 44, Training Loss: 0.5441, AUROC_TRAIN:0.7462,  Time: 20.81 seconds \n",
      "Epoch: 45, Training Loss: 0.5411, AUROC_TRAIN:0.7859,  Time: 20.66 seconds, AUROC_VALID:0.4918\n",
      "Epoch: 46, Training Loss: 0.5394, AUROC_TRAIN:0.7952,  Time: 115.50 seconds \n",
      "Epoch: 47, Training Loss: 0.5340, AUROC_TRAIN:0.7683,  Time: 115.62 seconds \n",
      "Epoch: 48, Training Loss: 0.5413, AUROC_TRAIN:0.7890,  Time: 115.05 seconds, AUROC_VALID:0.4782\n",
      "Epoch: 49, Training Loss: 0.5480, AUROC_TRAIN:0.7672,  Time: 115.36 seconds \n",
      "Epoch: 50, Training Loss: 0.5375, AUROC_TRAIN:0.7781,  Time: 116.08 seconds \n",
      "Epoch: 51, Training Loss: 0.5456, AUROC_TRAIN:0.7711,  Time: 114.83 seconds, AUROC_VALID:0.4817\n",
      "Epoch: 52, Training Loss: 0.5342, AUROC_TRAIN:0.7621,  Time: 115.36 seconds \n",
      "Epoch: 53, Training Loss: 0.5305, AUROC_TRAIN:0.7742,  Time: 117.69 seconds \n",
      "Epoch: 54, Training Loss: 0.5403, AUROC_TRAIN:0.7677,  Time: 114.29 seconds, AUROC_VALID:0.4712\n",
      "Epoch: 55, Training Loss: 0.5089, AUROC_TRAIN:0.7974,  Time: 114.63 seconds \n",
      "Epoch: 56, Training Loss: 0.5268, AUROC_TRAIN:0.7920,  Time: 117.11 seconds \n",
      "Epoch: 57, Training Loss: 0.5174, AUROC_TRAIN:0.7776,  Time: 114.14 seconds, AUROC_VALID:0.4834\n",
      "Epoch: 58, Training Loss: 0.5391, AUROC_TRAIN:0.7806,  Time: 119.43 seconds \n",
      "Epoch: 59, Training Loss: 0.5237, AUROC_TRAIN:0.7695,  Time: 127.37 seconds \n",
      "Epoch: 60, Training Loss: 0.5286, AUROC_TRAIN:0.7785,  Time: 115.09 seconds, AUROC_VALID:0.5121\n",
      "Epoch: 61, Training Loss: 0.5229, AUROC_TRAIN:0.7866,  Time: 20.67 seconds \n",
      "Epoch: 62, Training Loss: 0.5158, AUROC_TRAIN:0.7960,  Time: 20.79 seconds \n",
      "Epoch: 63, Training Loss: 0.5156, AUROC_TRAIN:0.7718,  Time: 20.98 seconds, AUROC_VALID:0.4985\n",
      "Epoch: 64, Training Loss: 0.5154, AUROC_TRAIN:0.7762,  Time: 20.58 seconds \n",
      "Epoch: 65, Training Loss: 0.5048, AUROC_TRAIN:0.7832,  Time: 20.57 seconds \n",
      "Epoch: 66, Training Loss: 0.5189, AUROC_TRAIN:0.7766,  Time: 20.62 seconds, AUROC_VALID:0.5212\n",
      "Epoch: 67, Training Loss: 0.4972, AUROC_TRAIN:0.7964,  Time: 20.92 seconds \n",
      "Epoch: 68, Training Loss: 0.5048, AUROC_TRAIN:0.7877,  Time: 20.54 seconds \n",
      "Epoch: 69, Training Loss: 0.5084, AUROC_TRAIN:0.8093,  Time: 20.40 seconds, AUROC_VALID:0.5160\n",
      "Epoch: 70, Training Loss: 0.5106, AUROC_TRAIN:0.7965,  Time: 20.59 seconds \n",
      "Epoch: 71, Training Loss: 0.5072, AUROC_TRAIN:0.7757,  Time: 19.96 seconds \n",
      "Epoch: 72, Training Loss: 0.5090, AUROC_TRAIN:0.7742,  Time: 19.99 seconds, AUROC_VALID:0.5212\n",
      "Epoch: 73, Training Loss: 0.5121, AUROC_TRAIN:0.7923,  Time: 20.13 seconds \n",
      "Epoch: 74, Training Loss: 0.5009, AUROC_TRAIN:0.8045,  Time: 20.26 seconds \n",
      "Epoch: 75, Training Loss: 0.5162, AUROC_TRAIN:0.7921,  Time: 20.11 seconds, AUROC_VALID:0.4978\n",
      "Epoch: 76, Training Loss: 0.4952, AUROC_TRAIN:0.7883,  Time: 20.03 seconds \n",
      "Epoch: 77, Training Loss: 0.5137, AUROC_TRAIN:0.7822,  Time: 20.19 seconds \n",
      "Epoch: 78, Training Loss: 0.5132, AUROC_TRAIN:0.7802,  Time: 20.46 seconds, AUROC_VALID:0.5114\n",
      "Epoch: 79, Training Loss: 0.4940, AUROC_TRAIN:0.8101,  Time: 25.41 seconds \n",
      "Epoch: 80, Training Loss: 0.4923, AUROC_TRAIN:0.7880,  Time: 21.42 seconds \n",
      "Epoch: 81, Training Loss: 0.4933, AUROC_TRAIN:0.7872,  Time: 22.08 seconds, AUROC_VALID:0.5114\n",
      "Epoch: 82, Training Loss: 0.4868, AUROC_TRAIN:0.8222,  Time: 20.42 seconds \n",
      "Epoch: 83, Training Loss: 0.4772, AUROC_TRAIN:0.8231,  Time: 19.74 seconds \n",
      "Epoch: 84, Training Loss: 0.4942, AUROC_TRAIN:0.7883,  Time: 20.55 seconds, AUROC_VALID:0.5107\n",
      "Epoch: 85, Training Loss: 0.4917, AUROC_TRAIN:0.8117,  Time: 20.89 seconds \n",
      "Epoch: 86, Training Loss: 0.4916, AUROC_TRAIN:0.8212,  Time: 20.22 seconds \n",
      "Epoch: 87, Training Loss: 0.4813, AUROC_TRAIN:0.8039,  Time: 20.07 seconds, AUROC_VALID:0.5258\n",
      "Epoch: 88, Training Loss: 0.4833, AUROC_TRAIN:0.8028,  Time: 20.35 seconds \n",
      "Epoch: 89, Training Loss: 0.4941, AUROC_TRAIN:0.7904,  Time: 19.20 seconds \n",
      "Epoch: 90, Training Loss: 0.4819, AUROC_TRAIN:0.8286,  Time: 20.59 seconds, AUROC_VALID:0.5121\n",
      "Epoch: 91, Training Loss: 0.4845, AUROC_TRAIN:0.8210,  Time: 20.35 seconds \n",
      "Epoch: 92, Training Loss: 0.4796, AUROC_TRAIN:0.8247,  Time: 20.42 seconds \n",
      "Epoch: 93, Training Loss: 0.4603, AUROC_TRAIN:0.8344,  Time: 20.43 seconds, AUROC_VALID:0.5114\n",
      "Epoch: 94, Training Loss: 0.4788, AUROC_TRAIN:0.8264,  Time: 20.57 seconds \n",
      "Epoch: 95, Training Loss: 0.4777, AUROC_TRAIN:0.8191,  Time: 23.05 seconds \n",
      "Epoch: 96, Training Loss: 0.4743, AUROC_TRAIN:0.8100,  Time: 32.94 seconds, AUROC_VALID:0.4911\n",
      "Epoch: 97, Training Loss: 0.4815, AUROC_TRAIN:0.7964,  Time: 20.53 seconds \n",
      "Epoch: 98, Training Loss: 0.4821, AUROC_TRAIN:0.8155,  Time: 19.63 seconds \n",
      "Epoch: 99, Training Loss: 0.4626, AUROC_TRAIN:0.8054,  Time: 18.99 seconds, AUROC_VALID:0.5083\n",
      "Epoch: 100, Training Loss: 0.4861, AUROC_TRAIN:0.7988,  Time: 19.33 seconds \n"
     ]
    },
    {
     "name": "stdout",
     "output_type": "stream",
     "text": [
      "Epoch: 101, Training Loss: 0.4599, AUROC_TRAIN:0.8242,  Time: 19.97 seconds \n",
      "Epoch: 102, Training Loss: 0.4701, AUROC_TRAIN:0.8056,  Time: 20.15 seconds, AUROC_VALID:0.4985\n",
      "Epoch: 103, Training Loss: 0.4738, AUROC_TRAIN:0.7983,  Time: 21.08 seconds \n",
      "Epoch: 104, Training Loss: 0.4699, AUROC_TRAIN:0.8116,  Time: 20.48 seconds \n",
      "Epoch: 105, Training Loss: 0.4642, AUROC_TRAIN:0.8314,  Time: 20.26 seconds, AUROC_VALID:0.5016\n",
      "Epoch: 106, Training Loss: 0.4509, AUROC_TRAIN:0.8084,  Time: 20.33 seconds \n",
      "Epoch: 107, Training Loss: 0.4577, AUROC_TRAIN:0.8341,  Time: 19.47 seconds \n",
      "Epoch: 108, Training Loss: 0.4747, AUROC_TRAIN:0.8138,  Time: 19.58 seconds, AUROC_VALID:0.4873\n",
      "Epoch: 109, Training Loss: 0.4510, AUROC_TRAIN:0.8143,  Time: 21.11 seconds \n",
      "Epoch: 110, Training Loss: 0.4546, AUROC_TRAIN:0.8449,  Time: 20.23 seconds \n",
      "Epoch: 111, Training Loss: 0.4636, AUROC_TRAIN:0.8337,  Time: 20.57 seconds, AUROC_VALID:0.4887\n",
      "Epoch: 112, Training Loss: 0.4493, AUROC_TRAIN:0.8388,  Time: 20.39 seconds \n",
      "Epoch: 113, Training Loss: 0.4601, AUROC_TRAIN:0.7999,  Time: 20.36 seconds \n",
      "Epoch: 114, Training Loss: 0.4441, AUROC_TRAIN:0.8445,  Time: 20.20 seconds, AUROC_VALID:0.4782\n",
      "Epoch: 115, Training Loss: 0.4654, AUROC_TRAIN:0.7883,  Time: 20.78 seconds \n",
      "Epoch: 116, Training Loss: 0.4575, AUROC_TRAIN:0.7861,  Time: 20.58 seconds \n",
      "Epoch: 117, Training Loss: 0.4497, AUROC_TRAIN:0.8437,  Time: 20.18 seconds, AUROC_VALID:0.4963\n",
      "Epoch: 118, Training Loss: 0.4633, AUROC_TRAIN:0.8115,  Time: 20.15 seconds \n",
      "Epoch: 119, Training Loss: 0.4603, AUROC_TRAIN:0.8146,  Time: 20.80 seconds \n",
      "Epoch: 120, Training Loss: 0.4620, AUROC_TRAIN:0.8185,  Time: 20.15 seconds, AUROC_VALID:0.4782\n",
      "Epoch: 121, Training Loss: 0.4438, AUROC_TRAIN:0.8233,  Time: 20.26 seconds \n",
      "Epoch: 122, Training Loss: 0.4669, AUROC_TRAIN:0.8026,  Time: 20.28 seconds \n",
      "Epoch: 123, Training Loss: 0.4490, AUROC_TRAIN:0.8462,  Time: 19.76 seconds, AUROC_VALID:0.4939\n",
      "Epoch: 124, Training Loss: 0.4598, AUROC_TRAIN:0.8202,  Time: 20.54 seconds \n",
      "Epoch: 125, Training Loss: 0.4359, AUROC_TRAIN:0.8455,  Time: 20.37 seconds \n",
      "Epoch: 126, Training Loss: 0.4564, AUROC_TRAIN:0.8196,  Time: 20.60 seconds, AUROC_VALID:0.4775\n",
      "Epoch: 127, Training Loss: 0.4390, AUROC_TRAIN:0.8278,  Time: 20.55 seconds \n",
      "Epoch: 128, Training Loss: 0.4454, AUROC_TRAIN:0.8278,  Time: 20.78 seconds \n",
      "Epoch: 129, Training Loss: 0.4250, AUROC_TRAIN:0.8501,  Time: 20.42 seconds, AUROC_VALID:0.4708\n",
      "Epoch: 130, Training Loss: 0.4625, AUROC_TRAIN:0.7907,  Time: 20.16 seconds \n",
      "Epoch: 131, Training Loss: 0.4428, AUROC_TRAIN:0.8424,  Time: 21.00 seconds \n",
      "Epoch: 132, Training Loss: 0.4246, AUROC_TRAIN:0.8321,  Time: 20.79 seconds, AUROC_VALID:0.4827\n",
      "Epoch: 133, Training Loss: 0.4306, AUROC_TRAIN:0.8516,  Time: 21.19 seconds \n",
      "Epoch: 134, Training Loss: 0.4445, AUROC_TRAIN:0.8214,  Time: 20.15 seconds \n",
      "Epoch: 135, Training Loss: 0.4560, AUROC_TRAIN:0.8325,  Time: 20.59 seconds, AUROC_VALID:0.5030\n",
      "Epoch: 136, Training Loss: 0.4430, AUROC_TRAIN:0.8258,  Time: 20.74 seconds \n",
      "Epoch: 137, Training Loss: 0.4375, AUROC_TRAIN:0.8236,  Time: 20.49 seconds \n",
      "Epoch: 138, Training Loss: 0.4385, AUROC_TRAIN:0.8256,  Time: 19.88 seconds, AUROC_VALID:0.4715\n",
      "Epoch: 139, Training Loss: 0.4267, AUROC_TRAIN:0.8499,  Time: 20.69 seconds \n",
      "Epoch: 140, Training Loss: 0.4369, AUROC_TRAIN:0.8439,  Time: 20.06 seconds \n",
      "Epoch: 141, Training Loss: 0.4376, AUROC_TRAIN:0.8352,  Time: 19.76 seconds, AUROC_VALID:0.4617\n",
      "Epoch: 142, Training Loss: 0.4534, AUROC_TRAIN:0.8021,  Time: 20.53 seconds \n",
      "Epoch: 143, Training Loss: 0.4544, AUROC_TRAIN:0.8179,  Time: 20.73 seconds \n",
      "Epoch: 144, Training Loss: 0.4487, AUROC_TRAIN:0.8327,  Time: 20.08 seconds, AUROC_VALID:0.4775\n",
      "Epoch: 145, Training Loss: 0.4303, AUROC_TRAIN:0.8248,  Time: 20.55 seconds \n",
      "Epoch: 146, Training Loss: 0.4351, AUROC_TRAIN:0.8259,  Time: 20.57 seconds \n",
      "Epoch: 147, Training Loss: 0.4392, AUROC_TRAIN:0.8284,  Time: 20.19 seconds, AUROC_VALID:0.4676\n",
      "Epoch: 148, Training Loss: 0.4451, AUROC_TRAIN:0.8212,  Time: 20.92 seconds \n",
      "Epoch: 149, Training Loss: 0.4544, AUROC_TRAIN:0.8482,  Time: 20.02 seconds \n",
      "Epoch: 150, Training Loss: 0.4153, AUROC_TRAIN:0.8400,  Time: 20.39 seconds, AUROC_VALID:0.4722\n",
      "Epoch: 151, Training Loss: 0.4270, AUROC_TRAIN:0.8432,  Time: 20.34 seconds \n",
      "Epoch: 152, Training Loss: 0.4135, AUROC_TRAIN:0.8586,  Time: 20.21 seconds \n",
      "Epoch: 153, Training Loss: 0.4383, AUROC_TRAIN:0.8560,  Time: 22.96 seconds, AUROC_VALID:0.4873\n",
      "Epoch: 154, Training Loss: 0.4175, AUROC_TRAIN:0.8239,  Time: 20.33 seconds \n",
      "Epoch: 155, Training Loss: 0.4157, AUROC_TRAIN:0.8539,  Time: 20.61 seconds \n",
      "Epoch: 156, Training Loss: 0.4281, AUROC_TRAIN:0.8223,  Time: 20.77 seconds, AUROC_VALID:0.4918\n",
      "Epoch: 157, Training Loss: 0.4321, AUROC_TRAIN:0.8287,  Time: 23.90 seconds \n",
      "Epoch: 158, Training Loss: 0.4288, AUROC_TRAIN:0.8381,  Time: 19.53 seconds \n",
      "Epoch: 159, Training Loss: 0.4547, AUROC_TRAIN:0.8150,  Time: 20.01 seconds, AUROC_VALID:0.4722\n",
      "Epoch: 160, Training Loss: 0.4116, AUROC_TRAIN:0.8263,  Time: 20.71 seconds \n",
      "Epoch: 161, Training Loss: 0.4284, AUROC_TRAIN:0.8347,  Time: 22.39 seconds \n",
      "Epoch: 162, Training Loss: 0.4438, AUROC_TRAIN:0.8292,  Time: 21.80 seconds, AUROC_VALID:0.5016\n",
      "Epoch: 163, Training Loss: 0.4450, AUROC_TRAIN:0.8397,  Time: 20.32 seconds \n",
      "Epoch: 164, Training Loss: 0.4204, AUROC_TRAIN:0.8050,  Time: 20.03 seconds \n",
      "Epoch: 165, Training Loss: 0.4535, AUROC_TRAIN:0.8053,  Time: 19.78 seconds, AUROC_VALID:0.5030\n",
      "Epoch: 166, Training Loss: 0.4248, AUROC_TRAIN:0.8408,  Time: 20.47 seconds \n",
      "Epoch: 167, Training Loss: 0.4056, AUROC_TRAIN:0.8591,  Time: 20.42 seconds \n",
      "Epoch: 168, Training Loss: 0.4193, AUROC_TRAIN:0.8388,  Time: 20.56 seconds, AUROC_VALID:0.4963\n",
      "Epoch: 169, Training Loss: 0.4215, AUROC_TRAIN:0.8543,  Time: 20.24 seconds \n",
      "Epoch: 170, Training Loss: 0.4286, AUROC_TRAIN:0.8283,  Time: 20.42 seconds \n",
      "Epoch: 171, Training Loss: 0.4050, AUROC_TRAIN:0.8484,  Time: 20.40 seconds, AUROC_VALID:0.4963\n",
      "Epoch: 172, Training Loss: 0.4164, AUROC_TRAIN:0.8438,  Time: 20.51 seconds \n",
      "Epoch: 173, Training Loss: 0.4318, AUROC_TRAIN:0.8148,  Time: 20.23 seconds \n",
      "Epoch: 174, Training Loss: 0.4322, AUROC_TRAIN:0.8335,  Time: 20.37 seconds, AUROC_VALID:0.4925\n",
      "Epoch: 175, Training Loss: 0.4194, AUROC_TRAIN:0.8427,  Time: 20.63 seconds \n",
      "Epoch: 176, Training Loss: 0.4181, AUROC_TRAIN:0.8445,  Time: 19.86 seconds \n",
      "Epoch: 177, Training Loss: 0.4253, AUROC_TRAIN:0.8129,  Time: 20.56 seconds, AUROC_VALID:0.4865\n",
      "Epoch: 178, Training Loss: 0.4133, AUROC_TRAIN:0.8404,  Time: 20.57 seconds \n",
      "Epoch: 179, Training Loss: 0.4023, AUROC_TRAIN:0.8526,  Time: 20.58 seconds \n",
      "Epoch: 180, Training Loss: 0.4187, AUROC_TRAIN:0.8631,  Time: 20.78 seconds, AUROC_VALID:0.4767\n",
      "Epoch: 181, Training Loss: 0.4233, AUROC_TRAIN:0.8597,  Time: 20.72 seconds \n",
      "Epoch: 182, Training Loss: 0.4167, AUROC_TRAIN:0.8534,  Time: 20.56 seconds \n",
      "Epoch: 183, Training Loss: 0.4030, AUROC_TRAIN:0.8501,  Time: 20.64 seconds, AUROC_VALID:0.4631\n",
      "Epoch: 184, Training Loss: 0.4278, AUROC_TRAIN:0.8165,  Time: 20.54 seconds \n",
      "Epoch: 185, Training Loss: 0.4008, AUROC_TRAIN:0.8626,  Time: 20.19 seconds \n",
      "Epoch: 186, Training Loss: 0.4142, AUROC_TRAIN:0.8595,  Time: 20.39 seconds, AUROC_VALID:0.4873\n",
      "Epoch: 187, Training Loss: 0.4095, AUROC_TRAIN:0.8584,  Time: 20.39 seconds \n",
      "Epoch: 188, Training Loss: 0.4104, AUROC_TRAIN:0.8748,  Time: 20.36 seconds \n",
      "Epoch: 189, Training Loss: 0.4072, AUROC_TRAIN:0.8620,  Time: 20.19 seconds, AUROC_VALID:0.4820\n",
      "Epoch: 190, Training Loss: 0.4112, AUROC_TRAIN:0.8369,  Time: 23.71 seconds \n",
      "Epoch: 191, Training Loss: 0.4115, AUROC_TRAIN:0.8485,  Time: 20.38 seconds \n",
      "Epoch: 192, Training Loss: 0.4272, AUROC_TRAIN:0.8352,  Time: 20.40 seconds, AUROC_VALID:0.4873\n",
      "Epoch: 193, Training Loss: 0.4053, AUROC_TRAIN:0.8338,  Time: 20.74 seconds \n",
      "Epoch: 194, Training Loss: 0.4051, AUROC_TRAIN:0.8554,  Time: 20.54 seconds \n",
      "Epoch: 195, Training Loss: 0.4028, AUROC_TRAIN:0.8595,  Time: 20.22 seconds, AUROC_VALID:0.4865\n",
      "Epoch: 196, Training Loss: 0.3800, AUROC_TRAIN:0.8774,  Time: 20.92 seconds \n",
      "Epoch: 197, Training Loss: 0.4054, AUROC_TRAIN:0.8510,  Time: 20.99 seconds \n",
      "Epoch: 198, Training Loss: 0.4189, AUROC_TRAIN:0.8552,  Time: 20.39 seconds, AUROC_VALID:0.5069\n",
      "Epoch: 199, Training Loss: 0.3973, AUROC_TRAIN:0.8580,  Time: 20.74 seconds \n"
     ]
    },
    {
     "name": "stdout",
     "output_type": "stream",
     "text": [
      "Epoch: 200, Training Loss: 0.4105, AUROC_TRAIN:0.8564,  Time: 20.66 seconds \n",
      "Epoch: 201, Training Loss: 0.3965, AUROC_TRAIN:0.8651,  Time: 20.96 seconds, AUROC_VALID:0.5069\n",
      "Epoch: 202, Training Loss: 0.4071, AUROC_TRAIN:0.8416,  Time: 20.93 seconds \n",
      "Epoch: 203, Training Loss: 0.4108, AUROC_TRAIN:0.8351,  Time: 20.41 seconds \n",
      "Epoch: 204, Training Loss: 0.4130, AUROC_TRAIN:0.8289,  Time: 21.19 seconds, AUROC_VALID:0.4971\n",
      "Epoch: 205, Training Loss: 0.4147, AUROC_TRAIN:0.8414,  Time: 21.30 seconds \n",
      "Epoch: 206, Training Loss: 0.4156, AUROC_TRAIN:0.8479,  Time: 20.80 seconds \n",
      "Epoch: 207, Training Loss: 0.3948, AUROC_TRAIN:0.8535,  Time: 20.99 seconds, AUROC_VALID:0.4971\n",
      "Epoch: 208, Training Loss: 0.4166, AUROC_TRAIN:0.8453,  Time: 20.95 seconds \n",
      "Epoch: 209, Training Loss: 0.4239, AUROC_TRAIN:0.8168,  Time: 20.78 seconds \n",
      "Epoch: 210, Training Loss: 0.4042, AUROC_TRAIN:0.8540,  Time: 20.80 seconds, AUROC_VALID:0.5167\n",
      "Epoch: 211, Training Loss: 0.3820, AUROC_TRAIN:0.8636,  Time: 21.13 seconds \n",
      "Epoch: 212, Training Loss: 0.3825, AUROC_TRAIN:0.8579,  Time: 20.41 seconds \n",
      "Epoch: 213, Training Loss: 0.4125, AUROC_TRAIN:0.8296,  Time: 21.17 seconds, AUROC_VALID:0.5061\n",
      "Epoch: 214, Training Loss: 0.4005, AUROC_TRAIN:0.8515,  Time: 21.02 seconds \n",
      "Epoch: 215, Training Loss: 0.4276, AUROC_TRAIN:0.8326,  Time: 20.58 seconds \n",
      "Epoch: 216, Training Loss: 0.3947, AUROC_TRAIN:0.8550,  Time: 20.58 seconds, AUROC_VALID:0.5016\n",
      "Epoch: 217, Training Loss: 0.4055, AUROC_TRAIN:0.8363,  Time: 20.69 seconds \n",
      "Epoch: 218, Training Loss: 0.4017, AUROC_TRAIN:0.8416,  Time: 20.71 seconds \n",
      "Epoch: 219, Training Loss: 0.4143, AUROC_TRAIN:0.8117,  Time: 21.18 seconds, AUROC_VALID:0.5016\n",
      "Epoch: 220, Training Loss: 0.4137, AUROC_TRAIN:0.8405,  Time: 21.18 seconds \n",
      "Epoch: 221, Training Loss: 0.3967, AUROC_TRAIN:0.8489,  Time: 20.94 seconds \n",
      "Epoch: 222, Training Loss: 0.3766, AUROC_TRAIN:0.8758,  Time: 20.82 seconds, AUROC_VALID:0.5016\n",
      "Epoch: 223, Training Loss: 0.3991, AUROC_TRAIN:0.8526,  Time: 20.88 seconds \n",
      "Epoch: 224, Training Loss: 0.3868, AUROC_TRAIN:0.8592,  Time: 21.06 seconds \n",
      "Epoch: 225, Training Loss: 0.3926, AUROC_TRAIN:0.8432,  Time: 20.37 seconds, AUROC_VALID:0.5016\n",
      "Epoch: 226, Training Loss: 0.4094, AUROC_TRAIN:0.8494,  Time: 20.79 seconds \n",
      "Epoch: 227, Training Loss: 0.3897, AUROC_TRAIN:0.8501,  Time: 20.80 seconds \n",
      "Epoch: 228, Training Loss: 0.4102, AUROC_TRAIN:0.8509,  Time: 20.81 seconds, AUROC_VALID:0.4925\n",
      "Epoch: 229, Training Loss: 0.3894, AUROC_TRAIN:0.8738,  Time: 20.92 seconds \n",
      "Epoch: 230, Training Loss: 0.4092, AUROC_TRAIN:0.8319,  Time: 20.21 seconds \n",
      "Epoch: 231, Training Loss: 0.4001, AUROC_TRAIN:0.8492,  Time: 20.79 seconds, AUROC_VALID:0.4971\n",
      "Epoch: 232, Training Loss: 0.3737, AUROC_TRAIN:0.8840,  Time: 21.07 seconds \n",
      "Epoch: 233, Training Loss: 0.3931, AUROC_TRAIN:0.8411,  Time: 20.85 seconds \n",
      "Epoch: 234, Training Loss: 0.3685, AUROC_TRAIN:0.8767,  Time: 20.54 seconds, AUROC_VALID:0.4971\n",
      "Epoch: 235, Training Loss: 0.3992, AUROC_TRAIN:0.8562,  Time: 20.66 seconds \n",
      "Epoch: 236, Training Loss: 0.3768, AUROC_TRAIN:0.8601,  Time: 20.40 seconds \n",
      "Epoch: 237, Training Loss: 0.4061, AUROC_TRAIN:0.8320,  Time: 20.40 seconds, AUROC_VALID:0.5069\n",
      "Epoch: 238, Training Loss: 0.3930, AUROC_TRAIN:0.8500,  Time: 20.90 seconds \n",
      "Epoch: 239, Training Loss: 0.3772, AUROC_TRAIN:0.8653,  Time: 20.40 seconds \n",
      "Epoch: 240, Training Loss: 0.3908, AUROC_TRAIN:0.8427,  Time: 20.79 seconds, AUROC_VALID:0.5069\n",
      "Epoch: 241, Training Loss: 0.3836, AUROC_TRAIN:0.8752,  Time: 20.71 seconds \n",
      "Epoch: 242, Training Loss: 0.3893, AUROC_TRAIN:0.8450,  Time: 20.02 seconds \n",
      "Epoch: 243, Training Loss: 0.3953, AUROC_TRAIN:0.8492,  Time: 20.77 seconds, AUROC_VALID:0.5069\n",
      "Epoch: 244, Training Loss: 0.3834, AUROC_TRAIN:0.8686,  Time: 19.87 seconds \n",
      "Epoch: 245, Training Loss: 0.3827, AUROC_TRAIN:0.8490,  Time: 20.46 seconds \n",
      "Epoch: 246, Training Loss: 0.3801, AUROC_TRAIN:0.8708,  Time: 20.95 seconds, AUROC_VALID:0.4971\n",
      "Epoch: 247, Training Loss: 0.3968, AUROC_TRAIN:0.8223,  Time: 21.19 seconds \n",
      "Epoch: 248, Training Loss: 0.3948, AUROC_TRAIN:0.8675,  Time: 20.77 seconds \n",
      "Epoch: 249, Training Loss: 0.3799, AUROC_TRAIN:0.8428,  Time: 20.62 seconds, AUROC_VALID:0.4820\n",
      "Epoch: 250, Training Loss: 0.3762, AUROC_TRAIN:0.8648,  Time: 20.54 seconds \n"
     ]
    }
   ],
   "source": [
    "for epoch in range(250):\n",
    "    start_time = time.time()  # Start timer\n",
    "    all_gt_labels_train = torch.FloatTensor().to(device)\n",
    "    total_preds_train = torch.FloatTensor().to(device)\n",
    "\n",
    "    model.train()\n",
    "    running_loss = 0.0\n",
    "    for images, labels in train_loader:\n",
    "        global_epochs += 1\n",
    "        images, labels = images.to(device), labels.to(device)\n",
    "        optimizer.zero_grad()\n",
    "        outputs = model(images)\n",
    "        loss = criterion(outputs, labels)\n",
    "        \n",
    "        all_gt_labels_train = torch.cat((all_gt_labels_train, labels), 0)\n",
    "        total_preds_train = torch.cat((total_preds_train, torch.argmax(outputs, dim=1)), 0)\n",
    "        \n",
    "        loss.backward()\n",
    "        optimizer.step()\n",
    "        writer.add_scalar('resnet-Loss/train', loss.item(), global_epochs)\n",
    "                \n",
    "        running_loss += loss.item()\n",
    "\n",
    "    \n",
    "    AUROC_TRAIN = compute_AUC(all_gt_labels_train, total_preds_train)\n",
    "    writer.add_scalar('resnet-Loss/train-AUROC', AUROC_TRAIN, global_epochs)\n",
    "\n",
    "    \n",
    "    end_time = time.time()  # End timer\n",
    "    epoch_time = end_time - start_time\n",
    "    global_step += 1\n",
    "    \n",
    "    if global_step % 3 !=0:\n",
    "        print(f'Epoch: {global_step}, Training Loss: {(running_loss / len(train_loader)):.4f}, AUROC_TRAIN:{AUROC_TRAIN:.4f},  Time: {epoch_time:.2f} seconds ')\n",
    "    else:\n",
    "        model.eval()\n",
    "        with torch.no_grad():\n",
    "            all_gt_labels_val = torch.FloatTensor().to(device)\n",
    "            total_preds_val = torch.FloatTensor().to(device)\n",
    "            \n",
    "            for images, labels in val_loader:\n",
    "                images, labels = images.to(device), labels.to(device)\n",
    "                predicted = model(images)\n",
    "                \n",
    "                all_gt_labels_val = torch.cat((all_gt_labels_val, labels), 0)\n",
    "                total_preds_val = torch.cat((total_preds_val, torch.argmax(predicted, dim=1)), 0)\n",
    "    \n",
    "            AUROC_VAL = compute_AUC(all_gt_labels_val, total_preds_val)\n",
    "            print(f'Epoch: {global_step}, Training Loss: {(running_loss / len(train_loader)):.4f}, AUROC_TRAIN:{AUROC_TRAIN:.4f},  Time: {epoch_time:.2f} seconds, AUROC_VALID:{AUROC_VAL:.4f}')\n",
    "            writer.add_scalar('resnet-Loss/validation-AUROC', AUROC_VAL, global_epochs)\n",
    "            \n",
    "            if best_AUROC < AUROC_VAL:\n",
    "                best_AUROC = AUROC_VAL\n",
    "                save_model('ResNet50-CrossEntropyLoss-Adam',model,global_step,AUROC_VAL)                \n",
    "            \n"
   ]
  },
  {
   "cell_type": "code",
   "execution_count": 37,
   "id": "c9eba936",
   "metadata": {},
   "outputs": [],
   "source": [
    "# scripted_model = torch.jit.script(model)\n",
    "# torch.jit.save(scripted_model, 'resnet18-model-eczema-0.7815.pth')"
   ]
  },
  {
   "cell_type": "code",
   "execution_count": 38,
   "id": "740f19b2",
   "metadata": {},
   "outputs": [],
   "source": [
    "# loaded_model = loaded_model = torch.jit.load('resnet18-model-eczema-0.7815.pth')"
   ]
  },
  {
   "cell_type": "code",
   "execution_count": null,
   "id": "da16f512",
   "metadata": {},
   "outputs": [],
   "source": []
  },
  {
   "cell_type": "code",
   "execution_count": null,
   "id": "7d783155",
   "metadata": {},
   "outputs": [],
   "source": []
  }
 ],
 "metadata": {
  "kernelspec": {
   "display_name": "aihc-py39-kernel",
   "language": "python",
   "name": "aihc-py39-kernel"
  },
  "language_info": {
   "codemirror_mode": {
    "name": "ipython",
    "version": 3
   },
   "file_extension": ".py",
   "mimetype": "text/x-python",
   "name": "python",
   "nbconvert_exporter": "python",
   "pygments_lexer": "ipython3",
   "version": "3.9.20"
  }
 },
 "nbformat": 4,
 "nbformat_minor": 5
}
