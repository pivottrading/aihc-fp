{
 "cells": [
  {
   "cell_type": "code",
   "execution_count": 1,
   "id": "13249331",
   "metadata": {},
   "outputs": [
    {
     "name": "stdout",
     "output_type": "stream",
     "text": [
      "Requirement already satisfied: torchmetrics in c:\\users\\water\\.conda\\envs\\aihc-py39\\lib\\site-packages (1.6.0)\n",
      "Requirement already satisfied: numpy>1.20.0 in c:\\users\\water\\.conda\\envs\\aihc-py39\\lib\\site-packages (from torchmetrics) (2.0.2)\n",
      "Requirement already satisfied: packaging>17.1 in c:\\users\\water\\.conda\\envs\\aihc-py39\\lib\\site-packages (from torchmetrics) (24.1)\n",
      "Requirement already satisfied: torch>=2.0.0 in c:\\users\\water\\.conda\\envs\\aihc-py39\\lib\\site-packages (from torchmetrics) (2.5.1+cu121)\n",
      "Requirement already satisfied: lightning-utilities>=0.8.0 in c:\\users\\water\\.conda\\envs\\aihc-py39\\lib\\site-packages (from torchmetrics) (0.11.8)\n",
      "Requirement already satisfied: setuptools in c:\\users\\water\\.conda\\envs\\aihc-py39\\lib\\site-packages (from lightning-utilities>=0.8.0->torchmetrics) (75.1.0)\n",
      "Requirement already satisfied: typing-extensions in c:\\users\\water\\.conda\\envs\\aihc-py39\\lib\\site-packages (from lightning-utilities>=0.8.0->torchmetrics) (4.11.0)\n",
      "Requirement already satisfied: filelock in c:\\users\\water\\.conda\\envs\\aihc-py39\\lib\\site-packages (from torch>=2.0.0->torchmetrics) (3.13.1)\n",
      "Requirement already satisfied: networkx in c:\\users\\water\\.conda\\envs\\aihc-py39\\lib\\site-packages (from torch>=2.0.0->torchmetrics) (3.2.1)\n",
      "Requirement already satisfied: jinja2 in c:\\users\\water\\.conda\\envs\\aihc-py39\\lib\\site-packages (from torch>=2.0.0->torchmetrics) (3.1.4)\n",
      "Requirement already satisfied: fsspec in c:\\users\\water\\.conda\\envs\\aihc-py39\\lib\\site-packages (from torch>=2.0.0->torchmetrics) (2024.2.0)\n",
      "Requirement already satisfied: sympy==1.13.1 in c:\\users\\water\\.conda\\envs\\aihc-py39\\lib\\site-packages (from torch>=2.0.0->torchmetrics) (1.13.1)\n",
      "Requirement already satisfied: mpmath<1.4,>=1.1.0 in c:\\users\\water\\.conda\\envs\\aihc-py39\\lib\\site-packages (from sympy==1.13.1->torch>=2.0.0->torchmetrics) (1.3.0)\n",
      "Requirement already satisfied: MarkupSafe>=2.0 in c:\\users\\water\\.conda\\envs\\aihc-py39\\lib\\site-packages (from jinja2->torch>=2.0.0->torchmetrics) (3.0.1)\n"
     ]
    }
   ],
   "source": [
    "!pip install torchmetrics"
   ]
  },
  {
   "cell_type": "code",
   "execution_count": 2,
   "id": "74a6e9d4",
   "metadata": {},
   "outputs": [],
   "source": [
    "import pandas as pd\n",
    "from sklearn.model_selection import train_test_split\n",
    "import torch\n",
    "import torch.nn as nn\n",
    "import torchvision\n",
    "import torchvision.transforms as transforms\n",
    "from torchvision import datasets\n",
    "import matplotlib.pyplot as plt\n",
    "from sklearn.metrics import accuracy_score\n",
    "from sklearn.model_selection import train_test_split\n",
    "import pandas as pd\n",
    "import os\n",
    "import time\n",
    "\n",
    "# Load data files\n",
    "cases_df = pd.read_csv('dataset/scin_cases.csv')\n",
    "labels_df = pd.read_csv('dataset/scin_labels.csv')\n",
    "\n",
    "# Merge data frames on case_id\n",
    "merged_df = pd.merge(cases_df, labels_df, on='case_id')"
   ]
  },
  {
   "cell_type": "code",
   "execution_count": 3,
   "id": "d9c8e30d",
   "metadata": {},
   "outputs": [
    {
     "data": {
      "text/plain": [
       "Index(['case_id', 'source', 'release', 'year', 'age_group', 'sex_at_birth',\n",
       "       'fitzpatrick_skin_type',\n",
       "       'race_ethnicity_american_indian_or_alaska_native',\n",
       "       'race_ethnicity_asian', 'race_ethnicity_black_or_african_american',\n",
       "       'race_ethnicity_hispanic_latino_or_spanish_origin',\n",
       "       'race_ethnicity_middle_eastern_or_north_african',\n",
       "       'race_ethnicity_native_hawaiian_or_pacific_islander',\n",
       "       'race_ethnicity_white', 'race_ethnicity_other_race',\n",
       "       'race_ethnicity_prefer_not_to_answer', 'textures_raised_or_bumpy',\n",
       "       'textures_flat', 'textures_rough_or_flaky', 'textures_fluid_filled',\n",
       "       'body_parts_head_or_neck', 'body_parts_arm', 'body_parts_palm',\n",
       "       'body_parts_back_of_hand', 'body_parts_torso_front',\n",
       "       'body_parts_torso_back', 'body_parts_genitalia_or_groin',\n",
       "       'body_parts_buttocks', 'body_parts_leg', 'body_parts_foot_top_or_side',\n",
       "       'body_parts_foot_sole', 'body_parts_other',\n",
       "       'condition_symptoms_bothersome_appearance',\n",
       "       'condition_symptoms_bleeding', 'condition_symptoms_increasing_size',\n",
       "       'condition_symptoms_darkening', 'condition_symptoms_itching',\n",
       "       'condition_symptoms_burning', 'condition_symptoms_pain',\n",
       "       'condition_symptoms_no_relevant_experience', 'other_symptoms_fever',\n",
       "       'other_symptoms_chills', 'other_symptoms_fatigue',\n",
       "       'other_symptoms_joint_pain', 'other_symptoms_mouth_sores',\n",
       "       'other_symptoms_shortness_of_breath',\n",
       "       'other_symptoms_no_relevant_symptoms', 'related_category',\n",
       "       'condition_duration', 'image_1_path', 'image_2_path', 'image_3_path',\n",
       "       'image_1_shot_type', 'image_2_shot_type', 'image_3_shot_type',\n",
       "       'combined_race', 'race_ethnicity_two_or_more_after_mitigation',\n",
       "       'dermatologist_gradable_for_skin_condition_1',\n",
       "       'dermatologist_gradable_for_skin_condition_2',\n",
       "       'dermatologist_gradable_for_skin_condition_3',\n",
       "       'dermatologist_skin_condition_on_label_name',\n",
       "       'dermatologist_skin_condition_confidence',\n",
       "       'weighted_skin_condition_label',\n",
       "       'dermatologist_gradable_for_fitzpatrick_skin_type_1',\n",
       "       'dermatologist_gradable_for_fitzpatrick_skin_type_2',\n",
       "       'dermatologist_gradable_for_fitzpatrick_skin_type_3',\n",
       "       'dermatologist_fitzpatrick_skin_type_label_1',\n",
       "       'dermatologist_fitzpatrick_skin_type_label_2',\n",
       "       'dermatologist_fitzpatrick_skin_type_label_3',\n",
       "       'gradable_for_monk_skin_tone_india', 'gradable_for_monk_skin_tone_us',\n",
       "       'monk_skin_tone_label_india', 'monk_skin_tone_label_us'],\n",
       "      dtype='object')"
      ]
     },
     "execution_count": 3,
     "metadata": {},
     "output_type": "execute_result"
    }
   ],
   "source": [
    "merged_df.columns"
   ]
  },
  {
   "cell_type": "code",
   "execution_count": 4,
   "id": "dd38f7a6",
   "metadata": {},
   "outputs": [
    {
     "data": {
      "text/plain": [
       "dermatologist_gradable_for_skin_condition_1\n",
       "DEFAULT_YES_IMAGE_QUALITY_SUFFICIENT                     3049\n",
       "NO_IMAGE_QUALITY_INSUFFICIENT                            1925\n",
       "YES_IMAGE_QUALITY_SUFFICIENT_NO_DISCERNIBLE_PATHOLOGY      59\n",
       "Name: count, dtype: int64"
      ]
     },
     "execution_count": 4,
     "metadata": {},
     "output_type": "execute_result"
    }
   ],
   "source": [
    "merged_df['dermatologist_gradable_for_skin_condition_1'].value_counts()"
   ]
  },
  {
   "cell_type": "code",
   "execution_count": 5,
   "id": "900086dd",
   "metadata": {},
   "outputs": [
    {
     "data": {
      "text/plain": [
       "dermatologist_gradable_for_skin_condition_2\n",
       "DEFAULT_YES_IMAGE_QUALITY_SUFFICIENT                     464\n",
       "NO_IMAGE_QUALITY_INSUFFICIENT                            245\n",
       "YES_IMAGE_QUALITY_SUFFICIENT_NO_DISCERNIBLE_PATHOLOGY      7\n",
       "Name: count, dtype: int64"
      ]
     },
     "execution_count": 5,
     "metadata": {},
     "output_type": "execute_result"
    }
   ],
   "source": [
    "merged_df['dermatologist_gradable_for_skin_condition_2'].value_counts()"
   ]
  },
  {
   "cell_type": "code",
   "execution_count": 6,
   "id": "53607c4d",
   "metadata": {},
   "outputs": [
    {
     "data": {
      "text/plain": [
       "dermatologist_gradable_for_skin_condition_3\n",
       "DEFAULT_YES_IMAGE_QUALITY_SUFFICIENT                     461\n",
       "NO_IMAGE_QUALITY_INSUFFICIENT                            243\n",
       "YES_IMAGE_QUALITY_SUFFICIENT_NO_DISCERNIBLE_PATHOLOGY     12\n",
       "Name: count, dtype: int64"
      ]
     },
     "execution_count": 6,
     "metadata": {},
     "output_type": "execute_result"
    }
   ],
   "source": [
    "merged_df['dermatologist_gradable_for_skin_condition_3'].value_counts()"
   ]
  },
  {
   "cell_type": "code",
   "execution_count": 7,
   "id": "dd8447c0",
   "metadata": {},
   "outputs": [
    {
     "data": {
      "text/plain": [
       "dermatologist_skin_condition_confidence\n",
       "[]                          1972\n",
       "[5]                          312\n",
       "[4]                          208\n",
       "[2, 2, 2]                    178\n",
       "[2, 2]                       176\n",
       "                            ... \n",
       "[3, 3, 2, 4, 1, 1]             1\n",
       "[1, 1, 2, 2, 5]                1\n",
       "[1, 4, 1, 4, 2]                1\n",
       "[4, 4, 3, 1, 1]                1\n",
       "[4, 1, 1, 1, 1, 5, 4, 2]       1\n",
       "Name: count, Length: 547, dtype: int64"
      ]
     },
     "execution_count": 7,
     "metadata": {},
     "output_type": "execute_result"
    }
   ],
   "source": [
    "merged_df['dermatologist_skin_condition_confidence'].value_counts()"
   ]
  },
  {
   "cell_type": "code",
   "execution_count": 8,
   "id": "d9d8c0ad",
   "metadata": {},
   "outputs": [
    {
     "data": {
      "text/plain": [
       "weighted_skin_condition_label\n",
       "{}                                                                                                      1972\n",
       "{'Eczema': 1.0}                                                                                          127\n",
       "{'Urticaria': 1.0}                                                                                        85\n",
       "{'Allergic Contact Dermatitis': 1.0}                                                                      42\n",
       "{'Folliculitis': 1.0}                                                                                     38\n",
       "                                                                                                        ... \n",
       "{'Hidradenitis': 0.8, 'Abscess': 0.2}                                                                      1\n",
       "{'Drug Rash': 0.5, 'Allergic Contact Dermatitis': 0.5}                                                     1\n",
       "{'Rosacea': 0.55, 'Allergic Contact Dermatitis': 0.23, 'Cutaneous lupus': 0.23}                            1\n",
       "{'Chicken pox exanthem': 1.0}                                                                              1\n",
       "{'Leukocytoclastic Vasculitis': 0.55, 'Pigmented purpuric eruption': 0.27, 'Hypersensitivity': 0.18}       1\n",
       "Name: count, Length: 1942, dtype: int64"
      ]
     },
     "execution_count": 8,
     "metadata": {},
     "output_type": "execute_result"
    }
   ],
   "source": [
    "merged_df['weighted_skin_condition_label'].value_counts()"
   ]
  },
  {
   "cell_type": "code",
   "execution_count": null,
   "id": "a95d3f87",
   "metadata": {},
   "outputs": [],
   "source": []
  },
  {
   "cell_type": "code",
   "execution_count": 9,
   "id": "23296f5c",
   "metadata": {},
   "outputs": [],
   "source": [
    "# # Create Eczema label\n",
    "# eczema_identifiers = ['Eczema','eczema'] #, 'Dermatitis', 'dermatitis'\n",
    "\n",
    "# eczema_labels = merged_df['dermatologist_skin_condition_on_label_name'].apply(lambda x: 1 if any(each in x for each in eczema_identifiers) else 0)\n",
    "\n",
    "# # Add label to merged DataFrame\n",
    "# merged_df['eczema'] = eczema_labels\n",
    "# merged_df['eczema'].value_counts()"
   ]
  },
  {
   "cell_type": "code",
   "execution_count": 10,
   "id": "e6509278",
   "metadata": {},
   "outputs": [
    {
     "data": {
      "text/html": [
       "<div>\n",
       "<style scoped>\n",
       "    .dataframe tbody tr th:only-of-type {\n",
       "        vertical-align: middle;\n",
       "    }\n",
       "\n",
       "    .dataframe tbody tr th {\n",
       "        vertical-align: top;\n",
       "    }\n",
       "\n",
       "    .dataframe thead th {\n",
       "        text-align: right;\n",
       "    }\n",
       "</style>\n",
       "<table border=\"1\" class=\"dataframe\">\n",
       "  <thead>\n",
       "    <tr style=\"text-align: right;\">\n",
       "      <th></th>\n",
       "      <th>dermatologist_skin_condition_confidence</th>\n",
       "      <th>weighted_skin_condition_label</th>\n",
       "      <th>dermatologist_gradable_for_skin_condition_1</th>\n",
       "      <th>dermatologist_gradable_for_skin_condition_2</th>\n",
       "      <th>dermatologist_gradable_for_skin_condition_3</th>\n",
       "    </tr>\n",
       "  </thead>\n",
       "  <tbody>\n",
       "    <tr>\n",
       "      <th>0</th>\n",
       "      <td>[4, 4, 3]</td>\n",
       "      <td>{'Inflicted skin lesions': 0.41, 'Eczema': 0.4...</td>\n",
       "      <td>DEFAULT_YES_IMAGE_QUALITY_SUFFICIENT</td>\n",
       "      <td>NaN</td>\n",
       "      <td>NaN</td>\n",
       "    </tr>\n",
       "    <tr>\n",
       "      <th>1</th>\n",
       "      <td>[4, 3, 4]</td>\n",
       "      <td>{'Prurigo nodularis': 0.41, 'SCC/SCCIS': 0.41,...</td>\n",
       "      <td>DEFAULT_YES_IMAGE_QUALITY_SUFFICIENT</td>\n",
       "      <td>NaN</td>\n",
       "      <td>NaN</td>\n",
       "    </tr>\n",
       "    <tr>\n",
       "      <th>2</th>\n",
       "      <td>[2, 1, 1]</td>\n",
       "      <td>{'Impetigo': 0.55, 'Herpes Zoster': 0.23, 'Bul...</td>\n",
       "      <td>DEFAULT_YES_IMAGE_QUALITY_SUFFICIENT</td>\n",
       "      <td>NaN</td>\n",
       "      <td>NaN</td>\n",
       "    </tr>\n",
       "    <tr>\n",
       "      <th>3</th>\n",
       "      <td>[]</td>\n",
       "      <td>{}</td>\n",
       "      <td>NO_IMAGE_QUALITY_INSUFFICIENT</td>\n",
       "      <td>NaN</td>\n",
       "      <td>NaN</td>\n",
       "    </tr>\n",
       "    <tr>\n",
       "      <th>4</th>\n",
       "      <td>[1, 1, 1]</td>\n",
       "      <td>{'Lichen planus/lichenoid eruption': 0.33, 'Fo...</td>\n",
       "      <td>DEFAULT_YES_IMAGE_QUALITY_SUFFICIENT</td>\n",
       "      <td>NaN</td>\n",
       "      <td>NaN</td>\n",
       "    </tr>\n",
       "  </tbody>\n",
       "</table>\n",
       "</div>"
      ],
      "text/plain": [
       "  dermatologist_skin_condition_confidence  \\\n",
       "0                               [4, 4, 3]   \n",
       "1                               [4, 3, 4]   \n",
       "2                               [2, 1, 1]   \n",
       "3                                      []   \n",
       "4                               [1, 1, 1]   \n",
       "\n",
       "                       weighted_skin_condition_label  \\\n",
       "0  {'Inflicted skin lesions': 0.41, 'Eczema': 0.4...   \n",
       "1  {'Prurigo nodularis': 0.41, 'SCC/SCCIS': 0.41,...   \n",
       "2  {'Impetigo': 0.55, 'Herpes Zoster': 0.23, 'Bul...   \n",
       "3                                                 {}   \n",
       "4  {'Lichen planus/lichenoid eruption': 0.33, 'Fo...   \n",
       "\n",
       "  dermatologist_gradable_for_skin_condition_1  \\\n",
       "0        DEFAULT_YES_IMAGE_QUALITY_SUFFICIENT   \n",
       "1        DEFAULT_YES_IMAGE_QUALITY_SUFFICIENT   \n",
       "2        DEFAULT_YES_IMAGE_QUALITY_SUFFICIENT   \n",
       "3               NO_IMAGE_QUALITY_INSUFFICIENT   \n",
       "4        DEFAULT_YES_IMAGE_QUALITY_SUFFICIENT   \n",
       "\n",
       "  dermatologist_gradable_for_skin_condition_2  \\\n",
       "0                                         NaN   \n",
       "1                                         NaN   \n",
       "2                                         NaN   \n",
       "3                                         NaN   \n",
       "4                                         NaN   \n",
       "\n",
       "  dermatologist_gradable_for_skin_condition_3  \n",
       "0                                         NaN  \n",
       "1                                         NaN  \n",
       "2                                         NaN  \n",
       "3                                         NaN  \n",
       "4                                         NaN  "
      ]
     },
     "execution_count": 10,
     "metadata": {},
     "output_type": "execute_result"
    }
   ],
   "source": [
    "merged_df[['dermatologist_skin_condition_confidence', 'weighted_skin_condition_label', 'dermatologist_gradable_for_skin_condition_1', 'dermatologist_gradable_for_skin_condition_2','dermatologist_gradable_for_skin_condition_3']].head()"
   ]
  },
  {
   "cell_type": "code",
   "execution_count": 11,
   "id": "0487160e",
   "metadata": {},
   "outputs": [
    {
     "data": {
      "text/plain": [
       "eczema\n",
       "-1    3896\n",
       " 0     770\n",
       " 1     367\n",
       "Name: count, dtype: int64"
      ]
     },
     "execution_count": 11,
     "metadata": {},
     "output_type": "execute_result"
    }
   ],
   "source": [
    "import pandas as pd\n",
    "import ast\n",
    "\n",
    "def extract_eczema_value(row):\n",
    "    # Convert string to list and dictionary\n",
    "    confidence_list = ast.literal_eval(row['dermatologist_skin_condition_confidence'])\n",
    "    label_dict = ast.literal_eval(row['weighted_skin_condition_label'])\n",
    "\n",
    "    # Initialize eczema value to 0\n",
    "    eczema_value = -1 # not related to eczema or dermatitis\n",
    "\n",
    "    # Iterate over items in label dictionary\n",
    "    for i, (key, value) in enumerate(label_dict.items()):\n",
    "        column_name = f'dermatologist_gradable_for_skin_condition_{i+1}'\n",
    "        \n",
    "#         if i < 3: # only column_name_3 exists\n",
    "#             print(f\"column_name={column_name}, value ={row[column_name]} enumerate i ={i}\")\n",
    "        \n",
    "        # Check if key contains 'Eczema' or 'Dermatitis' and confidence is 4 or 5\n",
    "        if i< 3 and row[column_name] == 'DEFAULT_YES_IMAGE_QUALITY_SUFFICIENT':\n",
    "            if ('eczema' in key.lower() or 'dermatitis' in key.lower()) and confidence_list[i] in [3, 4, 5]:\n",
    "                eczema_value = value # eczema or dermatitis ccategory with positive samples\n",
    "                break\n",
    "            elif ('eczema' in key.lower() or 'dermatitis' in key.lower()) and confidence_list[i] in [1, 2]:\n",
    "                eczema_value = 0 # eczema or dermatitis ccategory but negative\n",
    "                break\n",
    "            else:\n",
    "                eczema_value = -1\n",
    "        else:\n",
    "            eczema_value = -1\n",
    "    \n",
    "    answer = -1\n",
    "    if eczema_value > 0.5:\n",
    "        answer = 1\n",
    "    elif eczema_value >= 0.0:\n",
    "        answer = 0\n",
    "    else:\n",
    "        answer = -1\n",
    "        \n",
    "    return answer\n",
    "\n",
    "# Apply function to dataframe\n",
    "merged_df['eczema'] = merged_df.apply(extract_eczema_value, axis=1)\n",
    "merged_df['eczema'].value_counts()"
   ]
  },
  {
   "cell_type": "code",
   "execution_count": 12,
   "id": "42454769",
   "metadata": {},
   "outputs": [
    {
     "data": {
      "text/html": [
       "<div>\n",
       "<style scoped>\n",
       "    .dataframe tbody tr th:only-of-type {\n",
       "        vertical-align: middle;\n",
       "    }\n",
       "\n",
       "    .dataframe tbody tr th {\n",
       "        vertical-align: top;\n",
       "    }\n",
       "\n",
       "    .dataframe thead th {\n",
       "        text-align: right;\n",
       "    }\n",
       "</style>\n",
       "<table border=\"1\" class=\"dataframe\">\n",
       "  <thead>\n",
       "    <tr style=\"text-align: right;\">\n",
       "      <th></th>\n",
       "      <th>dermatologist_skin_condition_confidence</th>\n",
       "      <th>weighted_skin_condition_label</th>\n",
       "      <th>eczema</th>\n",
       "    </tr>\n",
       "  </thead>\n",
       "  <tbody>\n",
       "    <tr>\n",
       "      <th>0</th>\n",
       "      <td>[4, 4, 3]</td>\n",
       "      <td>{'Inflicted skin lesions': 0.41, 'Eczema': 0.4...</td>\n",
       "      <td>-1</td>\n",
       "    </tr>\n",
       "    <tr>\n",
       "      <th>1</th>\n",
       "      <td>[4, 3, 4]</td>\n",
       "      <td>{'Prurigo nodularis': 0.41, 'SCC/SCCIS': 0.41,...</td>\n",
       "      <td>-1</td>\n",
       "    </tr>\n",
       "    <tr>\n",
       "      <th>2</th>\n",
       "      <td>[2, 1, 1]</td>\n",
       "      <td>{'Impetigo': 0.55, 'Herpes Zoster': 0.23, 'Bul...</td>\n",
       "      <td>-1</td>\n",
       "    </tr>\n",
       "    <tr>\n",
       "      <th>3</th>\n",
       "      <td>[]</td>\n",
       "      <td>{}</td>\n",
       "      <td>-1</td>\n",
       "    </tr>\n",
       "    <tr>\n",
       "      <th>4</th>\n",
       "      <td>[1, 1, 1]</td>\n",
       "      <td>{'Lichen planus/lichenoid eruption': 0.33, 'Fo...</td>\n",
       "      <td>-1</td>\n",
       "    </tr>\n",
       "  </tbody>\n",
       "</table>\n",
       "</div>"
      ],
      "text/plain": [
       "  dermatologist_skin_condition_confidence  \\\n",
       "0                               [4, 4, 3]   \n",
       "1                               [4, 3, 4]   \n",
       "2                               [2, 1, 1]   \n",
       "3                                      []   \n",
       "4                               [1, 1, 1]   \n",
       "\n",
       "                       weighted_skin_condition_label  eczema  \n",
       "0  {'Inflicted skin lesions': 0.41, 'Eczema': 0.4...      -1  \n",
       "1  {'Prurigo nodularis': 0.41, 'SCC/SCCIS': 0.41,...      -1  \n",
       "2  {'Impetigo': 0.55, 'Herpes Zoster': 0.23, 'Bul...      -1  \n",
       "3                                                 {}      -1  \n",
       "4  {'Lichen planus/lichenoid eruption': 0.33, 'Fo...      -1  "
      ]
     },
     "execution_count": 12,
     "metadata": {},
     "output_type": "execute_result"
    }
   ],
   "source": [
    "merged_df[['dermatologist_skin_condition_confidence', 'weighted_skin_condition_label', 'eczema']].head()"
   ]
  },
  {
   "cell_type": "code",
   "execution_count": 13,
   "id": "d0f7580a",
   "metadata": {},
   "outputs": [
    {
     "data": {
      "text/html": [
       "<div>\n",
       "<style scoped>\n",
       "    .dataframe tbody tr th:only-of-type {\n",
       "        vertical-align: middle;\n",
       "    }\n",
       "\n",
       "    .dataframe tbody tr th {\n",
       "        vertical-align: top;\n",
       "    }\n",
       "\n",
       "    .dataframe thead th {\n",
       "        text-align: right;\n",
       "    }\n",
       "</style>\n",
       "<table border=\"1\" class=\"dataframe\">\n",
       "  <thead>\n",
       "    <tr style=\"text-align: right;\">\n",
       "      <th></th>\n",
       "      <th>dermatologist_skin_condition_confidence</th>\n",
       "      <th>weighted_skin_condition_label</th>\n",
       "      <th>eczema</th>\n",
       "    </tr>\n",
       "  </thead>\n",
       "  <tbody>\n",
       "    <tr>\n",
       "      <th>25</th>\n",
       "      <td>[5]</td>\n",
       "      <td>{'Eczema': 1.0}</td>\n",
       "      <td>1</td>\n",
       "    </tr>\n",
       "    <tr>\n",
       "      <th>28</th>\n",
       "      <td>[3, 1, 1]</td>\n",
       "      <td>{'Infected eczema': 0.55, 'Psoriasis': 0.23, '...</td>\n",
       "      <td>1</td>\n",
       "    </tr>\n",
       "    <tr>\n",
       "      <th>35</th>\n",
       "      <td>[5]</td>\n",
       "      <td>{'Eczema': 1.0}</td>\n",
       "      <td>1</td>\n",
       "    </tr>\n",
       "    <tr>\n",
       "      <th>52</th>\n",
       "      <td>[5]</td>\n",
       "      <td>{'Eczema': 1.0}</td>\n",
       "      <td>1</td>\n",
       "    </tr>\n",
       "    <tr>\n",
       "      <th>56</th>\n",
       "      <td>[5]</td>\n",
       "      <td>{'Chronic dermatitis, NOS': 1.0}</td>\n",
       "      <td>1</td>\n",
       "    </tr>\n",
       "  </tbody>\n",
       "</table>\n",
       "</div>"
      ],
      "text/plain": [
       "   dermatologist_skin_condition_confidence  \\\n",
       "25                                     [5]   \n",
       "28                               [3, 1, 1]   \n",
       "35                                     [5]   \n",
       "52                                     [5]   \n",
       "56                                     [5]   \n",
       "\n",
       "                        weighted_skin_condition_label  eczema  \n",
       "25                                    {'Eczema': 1.0}       1  \n",
       "28  {'Infected eczema': 0.55, 'Psoriasis': 0.23, '...       1  \n",
       "35                                    {'Eczema': 1.0}       1  \n",
       "52                                    {'Eczema': 1.0}       1  \n",
       "56                   {'Chronic dermatitis, NOS': 1.0}       1  "
      ]
     },
     "execution_count": 13,
     "metadata": {},
     "output_type": "execute_result"
    }
   ],
   "source": [
    "merged_df[['dermatologist_skin_condition_confidence', 'weighted_skin_condition_label', 'eczema']][merged_df['eczema'] ==1].head()"
   ]
  },
  {
   "cell_type": "code",
   "execution_count": 14,
   "id": "b366ce5d",
   "metadata": {},
   "outputs": [
    {
     "data": {
      "text/html": [
       "<div>\n",
       "<style scoped>\n",
       "    .dataframe tbody tr th:only-of-type {\n",
       "        vertical-align: middle;\n",
       "    }\n",
       "\n",
       "    .dataframe tbody tr th {\n",
       "        vertical-align: top;\n",
       "    }\n",
       "\n",
       "    .dataframe thead th {\n",
       "        text-align: right;\n",
       "    }\n",
       "</style>\n",
       "<table border=\"1\" class=\"dataframe\">\n",
       "  <thead>\n",
       "    <tr style=\"text-align: right;\">\n",
       "      <th></th>\n",
       "      <th>dermatologist_skin_condition_confidence</th>\n",
       "      <th>weighted_skin_condition_label</th>\n",
       "      <th>dermatologist_gradable_for_skin_condition_1</th>\n",
       "      <th>dermatologist_gradable_for_skin_condition_2</th>\n",
       "      <th>dermatologist_gradable_for_skin_condition_3</th>\n",
       "      <th>eczema</th>\n",
       "    </tr>\n",
       "  </thead>\n",
       "  <tbody>\n",
       "    <tr>\n",
       "      <th>8</th>\n",
       "      <td>[1, 3, 3, 2, 4, 3]</td>\n",
       "      <td>{'Eczema': 0.67, 'Psoriasis': 0.11, 'Acute and...</td>\n",
       "      <td>DEFAULT_YES_IMAGE_QUALITY_SUFFICIENT</td>\n",
       "      <td>DEFAULT_YES_IMAGE_QUALITY_SUFFICIENT</td>\n",
       "      <td>DEFAULT_YES_IMAGE_QUALITY_SUFFICIENT</td>\n",
       "      <td>0</td>\n",
       "    </tr>\n",
       "    <tr>\n",
       "      <th>10</th>\n",
       "      <td>[1, 5, 1]</td>\n",
       "      <td>{'Eczema': 0.55, 'Drug Rash': 0.23, 'Allergic ...</td>\n",
       "      <td>DEFAULT_YES_IMAGE_QUALITY_SUFFICIENT</td>\n",
       "      <td>NaN</td>\n",
       "      <td>NaN</td>\n",
       "      <td>0</td>\n",
       "    </tr>\n",
       "    <tr>\n",
       "      <th>17</th>\n",
       "      <td>[2, 2, 2]</td>\n",
       "      <td>{'Stasis Dermatitis': 0.33, 'Eczema': 0.33, 'A...</td>\n",
       "      <td>DEFAULT_YES_IMAGE_QUALITY_SUFFICIENT</td>\n",
       "      <td>NaN</td>\n",
       "      <td>NaN</td>\n",
       "      <td>0</td>\n",
       "    </tr>\n",
       "    <tr>\n",
       "      <th>18</th>\n",
       "      <td>[4, 2, 4, 1, 2, 2]</td>\n",
       "      <td>{'Tinea Versicolor': 0.61, 'Seborrheic Dermati...</td>\n",
       "      <td>DEFAULT_YES_IMAGE_QUALITY_SUFFICIENT</td>\n",
       "      <td>DEFAULT_YES_IMAGE_QUALITY_SUFFICIENT</td>\n",
       "      <td>DEFAULT_YES_IMAGE_QUALITY_SUFFICIENT</td>\n",
       "      <td>0</td>\n",
       "    </tr>\n",
       "    <tr>\n",
       "      <th>33</th>\n",
       "      <td>[1, 1, 1, 1, 3, 4]</td>\n",
       "      <td>{'Impetigo': 0.17, 'Allergic Contact Dermatiti...</td>\n",
       "      <td>DEFAULT_YES_IMAGE_QUALITY_SUFFICIENT</td>\n",
       "      <td>DEFAULT_YES_IMAGE_QUALITY_SUFFICIENT</td>\n",
       "      <td>DEFAULT_YES_IMAGE_QUALITY_SUFFICIENT</td>\n",
       "      <td>0</td>\n",
       "    </tr>\n",
       "  </tbody>\n",
       "</table>\n",
       "</div>"
      ],
      "text/plain": [
       "   dermatologist_skin_condition_confidence  \\\n",
       "8                       [1, 3, 3, 2, 4, 3]   \n",
       "10                               [1, 5, 1]   \n",
       "17                               [2, 2, 2]   \n",
       "18                      [4, 2, 4, 1, 2, 2]   \n",
       "33                      [1, 1, 1, 1, 3, 4]   \n",
       "\n",
       "                        weighted_skin_condition_label  \\\n",
       "8   {'Eczema': 0.67, 'Psoriasis': 0.11, 'Acute and...   \n",
       "10  {'Eczema': 0.55, 'Drug Rash': 0.23, 'Allergic ...   \n",
       "17  {'Stasis Dermatitis': 0.33, 'Eczema': 0.33, 'A...   \n",
       "18  {'Tinea Versicolor': 0.61, 'Seborrheic Dermati...   \n",
       "33  {'Impetigo': 0.17, 'Allergic Contact Dermatiti...   \n",
       "\n",
       "   dermatologist_gradable_for_skin_condition_1  \\\n",
       "8         DEFAULT_YES_IMAGE_QUALITY_SUFFICIENT   \n",
       "10        DEFAULT_YES_IMAGE_QUALITY_SUFFICIENT   \n",
       "17        DEFAULT_YES_IMAGE_QUALITY_SUFFICIENT   \n",
       "18        DEFAULT_YES_IMAGE_QUALITY_SUFFICIENT   \n",
       "33        DEFAULT_YES_IMAGE_QUALITY_SUFFICIENT   \n",
       "\n",
       "   dermatologist_gradable_for_skin_condition_2  \\\n",
       "8         DEFAULT_YES_IMAGE_QUALITY_SUFFICIENT   \n",
       "10                                         NaN   \n",
       "17                                         NaN   \n",
       "18        DEFAULT_YES_IMAGE_QUALITY_SUFFICIENT   \n",
       "33        DEFAULT_YES_IMAGE_QUALITY_SUFFICIENT   \n",
       "\n",
       "   dermatologist_gradable_for_skin_condition_3  eczema  \n",
       "8         DEFAULT_YES_IMAGE_QUALITY_SUFFICIENT       0  \n",
       "10                                         NaN       0  \n",
       "17                                         NaN       0  \n",
       "18        DEFAULT_YES_IMAGE_QUALITY_SUFFICIENT       0  \n",
       "33        DEFAULT_YES_IMAGE_QUALITY_SUFFICIENT       0  "
      ]
     },
     "execution_count": 14,
     "metadata": {},
     "output_type": "execute_result"
    }
   ],
   "source": [
    "merged_df[['dermatologist_skin_condition_confidence', 'weighted_skin_condition_label', 'dermatologist_gradable_for_skin_condition_1', 'dermatologist_gradable_for_skin_condition_2','dermatologist_gradable_for_skin_condition_3', 'eczema']][merged_df['eczema'] ==0].head()"
   ]
  },
  {
   "cell_type": "code",
   "execution_count": 15,
   "id": "a9276aad",
   "metadata": {},
   "outputs": [
    {
     "data": {
      "text/plain": [
       "eczema\n",
       "-1    3896\n",
       " 0     770\n",
       " 1     367\n",
       "Name: count, dtype: int64"
      ]
     },
     "execution_count": 15,
     "metadata": {},
     "output_type": "execute_result"
    }
   ],
   "source": [
    "merged_df['eczema'].value_counts()"
   ]
  },
  {
   "cell_type": "code",
   "execution_count": 16,
   "id": "8a9566d1",
   "metadata": {},
   "outputs": [
    {
     "data": {
      "text/plain": [
       "eczema\n",
       "0    770\n",
       "1    367\n",
       "Name: count, dtype: int64"
      ]
     },
     "execution_count": 16,
     "metadata": {},
     "output_type": "execute_result"
    }
   ],
   "source": [
    "#ignore non eczema dataset\n",
    "merged_df = merged_df[merged_df['eczema'] != -1] \n",
    "merged_df['eczema'].value_counts()"
   ]
  },
  {
   "cell_type": "code",
   "execution_count": 17,
   "id": "ba161ef0",
   "metadata": {},
   "outputs": [
    {
     "data": {
      "text/html": [
       "<div>\n",
       "<style scoped>\n",
       "    .dataframe tbody tr th:only-of-type {\n",
       "        vertical-align: middle;\n",
       "    }\n",
       "\n",
       "    .dataframe tbody tr th {\n",
       "        vertical-align: top;\n",
       "    }\n",
       "\n",
       "    .dataframe thead th {\n",
       "        text-align: right;\n",
       "    }\n",
       "</style>\n",
       "<table border=\"1\" class=\"dataframe\">\n",
       "  <thead>\n",
       "    <tr style=\"text-align: right;\">\n",
       "      <th></th>\n",
       "      <th>dermatologist_skin_condition_on_label_name</th>\n",
       "      <th>eczema</th>\n",
       "    </tr>\n",
       "  </thead>\n",
       "  <tbody>\n",
       "    <tr>\n",
       "      <th>8</th>\n",
       "      <td>['Psoriasis', 'Eczema', 'Eczema', 'Acute and c...</td>\n",
       "      <td>0</td>\n",
       "    </tr>\n",
       "    <tr>\n",
       "      <th>10</th>\n",
       "      <td>['Drug Rash', 'Eczema', 'Allergic Contact Derm...</td>\n",
       "      <td>0</td>\n",
       "    </tr>\n",
       "    <tr>\n",
       "      <th>17</th>\n",
       "      <td>['Stasis Dermatitis', 'Eczema', 'Allergic Cont...</td>\n",
       "      <td>0</td>\n",
       "    </tr>\n",
       "    <tr>\n",
       "      <th>18</th>\n",
       "      <td>['Tinea Versicolor', 'Seborrheic Dermatitis', ...</td>\n",
       "      <td>0</td>\n",
       "    </tr>\n",
       "    <tr>\n",
       "      <th>25</th>\n",
       "      <td>['Eczema']</td>\n",
       "      <td>1</td>\n",
       "    </tr>\n",
       "    <tr>\n",
       "      <th>...</th>\n",
       "      <td>...</td>\n",
       "      <td>...</td>\n",
       "    </tr>\n",
       "    <tr>\n",
       "      <th>5014</th>\n",
       "      <td>['Allergic Contact Dermatitis', 'Irritant Cont...</td>\n",
       "      <td>0</td>\n",
       "    </tr>\n",
       "    <tr>\n",
       "      <th>5016</th>\n",
       "      <td>['Stasis Dermatitis']</td>\n",
       "      <td>1</td>\n",
       "    </tr>\n",
       "    <tr>\n",
       "      <th>5021</th>\n",
       "      <td>['Eczema', 'Scabies', 'Hypersensitivity', 'Ecz...</td>\n",
       "      <td>1</td>\n",
       "    </tr>\n",
       "    <tr>\n",
       "      <th>5024</th>\n",
       "      <td>['Pigmented purpuric eruption', 'Stasis Dermat...</td>\n",
       "      <td>0</td>\n",
       "    </tr>\n",
       "    <tr>\n",
       "      <th>5028</th>\n",
       "      <td>['CD - Contact dermatitis', 'Allergic Contact ...</td>\n",
       "      <td>0</td>\n",
       "    </tr>\n",
       "  </tbody>\n",
       "</table>\n",
       "<p>1137 rows × 2 columns</p>\n",
       "</div>"
      ],
      "text/plain": [
       "             dermatologist_skin_condition_on_label_name  eczema\n",
       "8     ['Psoriasis', 'Eczema', 'Eczema', 'Acute and c...       0\n",
       "10    ['Drug Rash', 'Eczema', 'Allergic Contact Derm...       0\n",
       "17    ['Stasis Dermatitis', 'Eczema', 'Allergic Cont...       0\n",
       "18    ['Tinea Versicolor', 'Seborrheic Dermatitis', ...       0\n",
       "25                                           ['Eczema']       1\n",
       "...                                                 ...     ...\n",
       "5014  ['Allergic Contact Dermatitis', 'Irritant Cont...       0\n",
       "5016                              ['Stasis Dermatitis']       1\n",
       "5021  ['Eczema', 'Scabies', 'Hypersensitivity', 'Ecz...       1\n",
       "5024  ['Pigmented purpuric eruption', 'Stasis Dermat...       0\n",
       "5028  ['CD - Contact dermatitis', 'Allergic Contact ...       0\n",
       "\n",
       "[1137 rows x 2 columns]"
      ]
     },
     "execution_count": 17,
     "metadata": {},
     "output_type": "execute_result"
    }
   ],
   "source": [
    "merged_df[['dermatologist_skin_condition_on_label_name', 'eczema']]"
   ]
  },
  {
   "cell_type": "code",
   "execution_count": 18,
   "id": "8f3b9784",
   "metadata": {},
   "outputs": [
    {
     "data": {
      "text/plain": [
       "eczema\n",
       "0    770\n",
       "1    367\n",
       "Name: count, dtype: int64"
      ]
     },
     "execution_count": 18,
     "metadata": {},
     "output_type": "execute_result"
    }
   ],
   "source": [
    "merged_df['eczema'].value_counts()"
   ]
  },
  {
   "cell_type": "code",
   "execution_count": 19,
   "id": "0e9c4d30",
   "metadata": {},
   "outputs": [
    {
     "data": {
      "text/plain": [
       "image_1_shot_type\n",
       "CLOSE_UP       628\n",
       "AT_AN_ANGLE    294\n",
       "AT_DISTANCE    215\n",
       "Name: count, dtype: int64"
      ]
     },
     "execution_count": 19,
     "metadata": {},
     "output_type": "execute_result"
    }
   ],
   "source": [
    "merged_df['image_1_shot_type'].value_counts()"
   ]
  },
  {
   "cell_type": "code",
   "execution_count": 20,
   "id": "9c49c213",
   "metadata": {},
   "outputs": [],
   "source": [
    "def calculate_image_path(row):\n",
    "    if row['image_1_shot_type'] == 'CLOSE_UP': #CLOSE_UP, AT_DISTANCE\n",
    "        return ''+row['image_1_path']\n",
    "    elif row['image_2_shot_type'] == 'CLOSE_UP':\n",
    "        return ''+row['image_2_path']\n",
    "    elif row['image_3_shot_type'] == 'CLOSE_UP':\n",
    "        return str(row['image_3_path'])\n",
    "    else:\n",
    "        return ''  # or any default value if none is found"
   ]
  },
  {
   "cell_type": "code",
   "execution_count": 21,
   "id": "576a8d8c",
   "metadata": {},
   "outputs": [
    {
     "data": {
      "text/plain": [
       "1137"
      ]
     },
     "execution_count": 21,
     "metadata": {},
     "output_type": "execute_result"
    }
   ],
   "source": [
    "# Create image path column\n",
    "merged_df['image_path'] = merged_df.apply(calculate_image_path, axis=1)\n",
    "len(merged_df)"
   ]
  },
  {
   "cell_type": "code",
   "execution_count": 22,
   "id": "ffaeed04",
   "metadata": {},
   "outputs": [
    {
     "data": {
      "text/plain": [
       "1136"
      ]
     },
     "execution_count": 22,
     "metadata": {},
     "output_type": "execute_result"
    }
   ],
   "source": [
    "merged_df = merged_df[merged_df['image_path'].apply(os.path.exists)]\n",
    "len(merged_df)"
   ]
  },
  {
   "cell_type": "code",
   "execution_count": 23,
   "id": "b8bf3c1f",
   "metadata": {},
   "outputs": [
    {
     "data": {
      "text/plain": [
       "eczema\n",
       "0    770\n",
       "1    366\n",
       "Name: count, dtype: int64"
      ]
     },
     "execution_count": 23,
     "metadata": {},
     "output_type": "execute_result"
    }
   ],
   "source": [
    "merged_df['eczema'].value_counts()"
   ]
  },
  {
   "cell_type": "code",
   "execution_count": 24,
   "id": "5f738af2",
   "metadata": {},
   "outputs": [
    {
     "data": {
      "text/plain": [
       "'dataset/images/960187272475981264.png'"
      ]
     },
     "execution_count": 24,
     "metadata": {},
     "output_type": "execute_result"
    }
   ],
   "source": [
    "new_df = merged_df[merged_df['eczema'] ==1]['image_path'].reset_index()\n",
    "new_df.loc[1]['image_path']"
   ]
  },
  {
   "cell_type": "code",
   "execution_count": 25,
   "id": "5a97c1c4",
   "metadata": {},
   "outputs": [
    {
     "data": {
      "image/png": "[encoded data removed]",
      "text/plain": [
       "<Figure size 640x480 with 1 Axes>"
      ]
     },
     "metadata": {},
     "output_type": "display_data"
    },
    {
     "data": {
      "text/plain": [
       "torch.Size([1043, 748, 3])"
      ]
     },
     "execution_count": 25,
     "metadata": {},
     "output_type": "execute_result"
    }
   ],
   "source": [
    "import torch\n",
    "import matplotlib.pyplot as plt\n",
    "from torchvision import transforms\n",
    "from PIL import Image\n",
    "\n",
    "# Load an image using PIL (you can replace this with your image path)\n",
    "image_path = new_df.loc[10]['image_path']\n",
    "image = Image.open(image_path)\n",
    "\n",
    "transform =  transforms.Compose([\n",
    "#         transforms.Resize((512, 512)),\n",
    "#         transforms.ColorJitter(0.5, 0.5, 0.5, 0.1),\n",
    "#         transforms.RandomHorizontalFlip(),\n",
    "        transforms.RandomRotation(15),  \n",
    "        transforms.RandomHorizontalFlip(p=0.3),  # Horizontal flip with 50% probability\n",
    "        transforms.RandomVerticalFlip(p=0.3),   \n",
    "#         transforms.RandomResizedCrop(192, scale=(0.8, 1.0)),\n",
    "        transforms.RandomAffine(degrees=0, shear=10),\n",
    "#         transforms.ColorJitter(0.25, 0.25, 0.25, 0.1),\n",
    "        transforms.ToTensor(),\n",
    "        transforms.ConvertImageDtype(torch.float),        \n",
    "#         transforms.Normalize([0.485, 0.456, 0.406], [0.229, 0.224, 0.225]),\n",
    "    ])\n",
    "image_tensor = transform(image)\n",
    "\n",
    "# Convert the image tensor from [C, H, W] to [H, W, C] for displaying\n",
    "image_tensor = image_tensor.permute(1, 2, 0)\n",
    "\n",
    "# Plot the image using matplotlib\n",
    "plt.imshow(image_tensor)\n",
    "plt.axis('off')  # Hide axes for better visual appearance\n",
    "plt.show()\n",
    "image_tensor.shape"
   ]
  },
  {
   "cell_type": "code",
   "execution_count": 26,
   "id": "dfef6ba5",
   "metadata": {},
   "outputs": [
    {
     "data": {
      "text/plain": [
       "torch.Size([1043, 748, 3])"
      ]
     },
     "execution_count": 26,
     "metadata": {},
     "output_type": "execute_result"
    }
   ],
   "source": [
    "image_tensor.shape"
   ]
  },
  {
   "cell_type": "code",
   "execution_count": 27,
   "id": "1f9a80be",
   "metadata": {},
   "outputs": [],
   "source": [
    "# Filter out missing labels and images\n",
    "filtered_df = merged_df.dropna(subset=['eczema', 'image_path'])\n",
    "\n",
    "# Split data into training and validation sets\n",
    "train_df, val_df = train_test_split(filtered_df, test_size=0.2, random_state=42)\n"
   ]
  },
  {
   "cell_type": "code",
   "execution_count": 28,
   "id": "a1984597",
   "metadata": {},
   "outputs": [],
   "source": [
    "# Import necessary libraries\n",
    "from torch.utils.data import Dataset\n",
    "from PIL import Image\n",
    "import torch\n",
    "\n",
    "# Define custom dataset class\n",
    "class EczemaDataset(Dataset):\n",
    "    def __init__(self, df, transform):\n",
    "        self.df = df\n",
    "        self.transform = transform\n",
    "\n",
    "    def __len__(self):\n",
    "        return len(self.df)\n",
    "\n",
    "    def __getitem__(self, idx):\n",
    "        image_path = self.df.iloc[idx]['image_path']\n",
    "        image = Image.open(image_path).convert('RGB')\n",
    "        label = self.df.iloc[idx]['eczema']\n",
    "\n",
    "        image = self.transform(image)\n",
    "        label = torch.tensor(label,dtype=torch.float)\n",
    "\n",
    "        return image, label"
   ]
  },
  {
   "cell_type": "code",
   "execution_count": 29,
   "id": "5f6e7e0c",
   "metadata": {},
   "outputs": [],
   "source": [
    "import torchvision.transforms as transforms\n",
    "\n",
    "data_transforms = {\n",
    "    'train': transforms.Compose([\n",
    "        transforms.Resize((144, 144)),\n",
    "#         transforms.ColorJitter(0.5, 0.5, 0.5, 0.1),\n",
    "#         transforms.RandomHorizontalFlip(),\n",
    "        \n",
    "        transforms.RandomRotation(15),  \n",
    "        transforms.RandomHorizontalFlip(p=0.3),  # Horizontal flip with 50% probability\n",
    "        transforms.RandomVerticalFlip(p=0.3),   \n",
    "        transforms.RandomResizedCrop(144, scale=(0.8, 1.0)),\n",
    "        transforms.RandomAffine(degrees=0, shear=10),\n",
    "        \n",
    "        transforms.ToTensor(),\n",
    "        transforms.ConvertImageDtype(torch.float),        \n",
    "#         transforms.Normalize([0.485, 0.456, 0.406], [0.229, 0.224, 0.225]),\n",
    "    ]),\n",
    "    'val': transforms.Compose([\n",
    "        transforms.Resize((144, 144)),\n",
    "        transforms.ToTensor(),\n",
    "        transforms.ConvertImageDtype(torch.float),\n",
    "#         transforms.Normalize([0.485, 0.456, 0.406], [0.229, 0.224, 0.225]),\n",
    "    ]),\n",
    "}"
   ]
  },
  {
   "cell_type": "code",
   "execution_count": 30,
   "id": "e8d51013",
   "metadata": {},
   "outputs": [],
   "source": [
    "import torch\n",
    "def spatial_argmax(logit):\n",
    "    \"\"\"\n",
    "    Compute the soft-argmax of a heatmap\n",
    "    :param logit: A tensor of size BS x H x W\n",
    "    :return: A tensor of size BS x 2 the soft-argmax in normalized coordinates (-1 .. 1)\n",
    "    \"\"\"\n",
    "    weights = F.softmax(logit.view(logit.size(0), -1), dim=-1).view_as(logit)\n",
    "    return torch.stack(((weights.sum(1) * torch.linspace(-1, 1, logit.size(2)).to(logit.device)[None]).sum(1),\n",
    "                        (weights.sum(2) * torch.linspace(-1, 1, logit.size(1)).to(logit.device)[None]).sum(1)), 1)\n",
    "\n"
   ]
  },
  {
   "cell_type": "code",
   "execution_count": 31,
   "id": "bdf94ecb",
   "metadata": {},
   "outputs": [],
   "source": [
    "class Block(torch.nn.Module):\n",
    "    def __init__(self, n_input, n_output, kernel_size=3, stride=2):\n",
    "        super().__init__()\n",
    "        self.c1 = torch.nn.Conv2d(n_input, n_output, kernel_size=kernel_size, padding=kernel_size // 2, stride=stride, bias=False)\n",
    "        self.bn1 = torch.nn.BatchNorm2d(n_output)\n",
    "        self.c2 = torch.nn.Conv2d(n_output, n_output, kernel_size=kernel_size, padding=kernel_size // 2, bias=False)\n",
    "        self.bn2 = torch.nn.BatchNorm2d(n_output)\n",
    "        self.c3 = torch.nn.Conv2d(n_output, n_output, kernel_size=kernel_size, padding=kernel_size // 2, bias=False)\n",
    "        self.bn3 = torch.nn.BatchNorm2d(n_output)\n",
    "        self.skip = torch.nn.Conv2d(n_input, n_output, kernel_size=1, stride=stride)\n",
    "        self.dropout = torch.nn.Dropout2d(p=0.2)\n",
    "\n",
    "    def forward(self, x):\n",
    "        return self.dropout(torch.relu(self.bn3(self.c3(torch.relu(self.bn2(self.c2(torch.relu(self.bn1(self.c1(x)))))))) + self.skip(x)))\n",
    "\n",
    "\n",
    "class UpBlock(torch.nn.Module):\n",
    "    def __init__(self, n_input, n_output, kernel_size=3, stride=2):\n",
    "        super().__init__()\n",
    "        self.c1 = torch.nn.ConvTranspose2d(n_input, n_output, kernel_size=kernel_size, padding=kernel_size // 2, stride=stride, output_padding=1)\n",
    "\n",
    "    def forward(self, x):\n",
    "        return torch.relu(self.c1(x))\n"
   ]
  },
  {
   "cell_type": "code",
   "execution_count": 32,
   "id": "d8c2ebdf",
   "metadata": {},
   "outputs": [],
   "source": [
    "class EczemaClassifier(nn.Module):\n",
    "    def __init__(self, layers=[32, 64, 128, 256, 512], n_output_channels=1, kernel_size=3, use_skip=True):\n",
    "        super().__init__()\n",
    "        c = 3  # The number of input channels (RGB images)\n",
    "        self.use_skip = use_skip\n",
    "        self.n_conv = len(layers)\n",
    "        skip_layer_size = [3] + layers[:-1]\n",
    "\n",
    "        # Convolutional layers (downward)\n",
    "        for i, l in enumerate(layers):\n",
    "            self.add_module('conv%d' % i, Block(c, l, kernel_size, 2))\n",
    "            c = l\n",
    "\n",
    "        # Transposed convolution layers (upward)\n",
    "        for i, l in list(enumerate(layers))[::-1]:\n",
    "            self.add_module('upconv%d' % i, UpBlock(c, l, kernel_size, 2))\n",
    "            c = l\n",
    "            if self.use_skip:\n",
    "                c += skip_layer_size[i]\n",
    "\n",
    "        # Final classifier layer (output a single value per image)\n",
    "        self.classifier = torch.nn.Conv2d(c, 1, 1)\n",
    "        self.pool = torch.nn.AdaptiveAvgPool2d((1, 1))\n",
    "\n",
    "    def forward(self, x):\n",
    "        # No normalization here; use the raw input\n",
    "        z = x  # Input is used as-is, without any pre-processing\n",
    "        up_activation = []\n",
    "\n",
    "        # Pass through down-sampling convolutions\n",
    "        for i in range(self.n_conv):\n",
    "            up_activation.append(z)\n",
    "            z = self._modules['conv%d' % i](z)\n",
    "\n",
    "        # Pass through up-sampling convolutions\n",
    "        for i in reversed(range(self.n_conv)):\n",
    "            z = self._modules['upconv%d' % i](z)\n",
    "            z = z[:, :, :up_activation[i].size(2), :up_activation[i].size(3)]\n",
    "            if self.use_skip:\n",
    "                z = torch.cat([z, up_activation[i]], dim=1)\n",
    "\n",
    "        # Final classification layer\n",
    "        classifier_output = self.classifier(z)\n",
    "        classifier_output = self.pool(classifier_output)\n",
    "        classifier_output = classifier_output.view(-1, 1)  # Reshape to (batch_size, 1) for binary classification\n",
    "        classifier_output = torch.sigmoid(classifier_output)  # Sigmoid for binary classification\n",
    "\n",
    "        return classifier_output\n",
    "\n",
    "    \n",
    "    \n",
    "# class EczemaClassifier(nn.Module):\n",
    "#     def __init__(self, layers=[32, 64, 128,256], n_output_channels=1, kernel_size=3, use_skip=True):\n",
    "#         super().__init__()\n",
    "#         self.input_mean = torch.Tensor([0.485, 0.456, 0.406])\n",
    "#         self.input_std = torch.Tensor([0.229, 0.224, 0.225])\n",
    "#         c = 3\n",
    "#         self.use_skip = use_skip\n",
    "#         self.n_conv = len(layers)\n",
    "#         skip_layer_size = [3] + layers[:-1]\n",
    "#         for i, l in enumerate(layers):\n",
    "#             self.add_module('conv%d' % i, Block(c, l, kernel_size, 2))\n",
    "#             c = l\n",
    "#         for i, l in list(enumerate(layers))[::-1]:\n",
    "#             self.add_module('upconv%d' % i, UpBlock(c, l, kernel_size, 2))\n",
    "#             c = l\n",
    "#             if self.use_skip:\n",
    "#                 c += skip_layer_size[i]\n",
    "#         # Update the final classifier layer to output 1 channel (single logit per image)\n",
    "#         self.classifier = torch.nn.Conv2d(c, 1, 1)\n",
    "#         self.pool = torch.nn.AdaptiveAvgPool2d((1, 1))\n",
    "\n",
    "#     def forward(self, x):\n",
    "#         z = (x - self.input_mean[None, :, None, None].to(x.device)) / self.input_std[None, :, None, None].to(x.device)\n",
    "#         up_activation = []\n",
    "#         for i in range(self.n_conv):\n",
    "#             up_activation.append(z)\n",
    "#             z = self._modules['conv%d'%i](z)\n",
    "\n",
    "#         for i in reversed(range(self.n_conv)):\n",
    "#             z = self._modules['upconv%d'%i](z)\n",
    "#             z = z[:, :, :up_activation[i].size(2), :up_activation[i].size(3)]\n",
    "#             if self.use_skip:\n",
    "#                 z = torch.cat([z, up_activation[i]], dim=1)\n",
    "#         classifier_output = self.classifier(z)\n",
    "#         classifier_output = self.pool(classifier_output)\n",
    "#         classifier_output = classifier_output.view(-1, 1)  # Reshape to (batch_size, 1) for binary classification\n",
    "#         classifier_output = torch.sigmoid(classifier_output) \n",
    "#         return classifier_output\n"
   ]
  },
  {
   "cell_type": "code",
   "execution_count": 33,
   "id": "5de648b3",
   "metadata": {},
   "outputs": [
    {
     "data": {
      "text/plain": [
       "(908, 228)"
      ]
     },
     "execution_count": 33,
     "metadata": {},
     "output_type": "execute_result"
    }
   ],
   "source": [
    "len(train_df), len(val_df)"
   ]
  },
  {
   "cell_type": "code",
   "execution_count": 34,
   "id": "4141b992",
   "metadata": {},
   "outputs": [
    {
     "data": {
      "text/plain": [
       "eczema\n",
       "0    619\n",
       "1    289\n",
       "Name: count, dtype: int64"
      ]
     },
     "execution_count": 34,
     "metadata": {},
     "output_type": "execute_result"
    }
   ],
   "source": [
    "train_df['eczema'].value_counts()"
   ]
  },
  {
   "cell_type": "code",
   "execution_count": 35,
   "id": "cee7712f",
   "metadata": {},
   "outputs": [
    {
     "data": {
      "text/plain": [
       "eczema\n",
       "0    151\n",
       "1     77\n",
       "Name: count, dtype: int64"
      ]
     },
     "execution_count": 35,
     "metadata": {},
     "output_type": "execute_result"
    }
   ],
   "source": [
    "val_df['eczema'].value_counts()"
   ]
  },
  {
   "cell_type": "code",
   "execution_count": 36,
   "id": "291324bf",
   "metadata": {},
   "outputs": [],
   "source": [
    "def save_model(model, epoch, val_acc):\n",
    "    scripted_model = torch.jit.script(model)\n",
    "    torch.jit.save(scripted_model, f'resnet18-model-eczema-{epoch}-{val_acc:.4f}.pth')"
   ]
  },
  {
   "cell_type": "code",
   "execution_count": null,
   "id": "0327e392",
   "metadata": {},
   "outputs": [],
   "source": []
  },
  {
   "cell_type": "code",
   "execution_count": 37,
   "id": "406b0ccb",
   "metadata": {},
   "outputs": [
    {
     "name": "stdout",
     "output_type": "stream",
     "text": [
      "Class distribution: Counter({0: 619, 1: 289})\n",
      "Number of positive samples: 289\n",
      "Number of negative samples: 619\n",
      "Pos weight calculated: 2.141868512110727\n"
     ]
    }
   ],
   "source": [
    "import torch\n",
    "from collections import Counter\n",
    "\n",
    "# Step 1: Load and prepare your dataset (assuming your dataset is loaded into `train_df`)\n",
    "# Assuming labels are stored in a column named 'label'\n",
    "\n",
    "# Check the distribution of the classes in your dataset\n",
    "class_counts = Counter(train_df['eczema'])\n",
    "print(f\"Class distribution: {class_counts}\")\n",
    "\n",
    "# Step 2: Calculate the number of samples for each class\n",
    "num_positive = class_counts[1]\n",
    "num_negative = class_counts[0]\n",
    "\n",
    "print(f\"Number of positive samples: {num_positive}\")\n",
    "print(f\"Number of negative samples: {num_negative}\")\n",
    "\n",
    "# Step 3: Compute the pos_weight\n",
    "# pos_weight is typically set to the ratio of negative to positive examples\n",
    "pos_weight = num_negative / num_positive\n",
    "print(f\"Pos weight calculated: {pos_weight}\")"
   ]
  },
  {
   "cell_type": "code",
   "execution_count": 38,
   "id": "3823f276",
   "metadata": {},
   "outputs": [
    {
     "name": "stdout",
     "output_type": "stream",
     "text": [
      "device=cuda\n",
      "EczemaClassifier(\n",
      "  (conv0): Block(\n",
      "    (c1): Conv2d(3, 32, kernel_size=(3, 3), stride=(2, 2), padding=(1, 1), bias=False)\n",
      "    (bn1): BatchNorm2d(32, eps=1e-05, momentum=0.1, affine=True, track_running_stats=True)\n",
      "    (c2): Conv2d(32, 32, kernel_size=(3, 3), stride=(1, 1), padding=(1, 1), bias=False)\n",
      "    (bn2): BatchNorm2d(32, eps=1e-05, momentum=0.1, affine=True, track_running_stats=True)\n",
      "    (c3): Conv2d(32, 32, kernel_size=(3, 3), stride=(1, 1), padding=(1, 1), bias=False)\n",
      "    (bn3): BatchNorm2d(32, eps=1e-05, momentum=0.1, affine=True, track_running_stats=True)\n",
      "    (skip): Conv2d(3, 32, kernel_size=(1, 1), stride=(2, 2))\n",
      "    (dropout): Dropout2d(p=0.2, inplace=False)\n",
      "  )\n",
      "  (conv1): Block(\n",
      "    (c1): Conv2d(32, 64, kernel_size=(3, 3), stride=(2, 2), padding=(1, 1), bias=False)\n",
      "    (bn1): BatchNorm2d(64, eps=1e-05, momentum=0.1, affine=True, track_running_stats=True)\n",
      "    (c2): Conv2d(64, 64, kernel_size=(3, 3), stride=(1, 1), padding=(1, 1), bias=False)\n",
      "    (bn2): BatchNorm2d(64, eps=1e-05, momentum=0.1, affine=True, track_running_stats=True)\n",
      "    (c3): Conv2d(64, 64, kernel_size=(3, 3), stride=(1, 1), padding=(1, 1), bias=False)\n",
      "    (bn3): BatchNorm2d(64, eps=1e-05, momentum=0.1, affine=True, track_running_stats=True)\n",
      "    (skip): Conv2d(32, 64, kernel_size=(1, 1), stride=(2, 2))\n",
      "    (dropout): Dropout2d(p=0.2, inplace=False)\n",
      "  )\n",
      "  (conv2): Block(\n",
      "    (c1): Conv2d(64, 128, kernel_size=(3, 3), stride=(2, 2), padding=(1, 1), bias=False)\n",
      "    (bn1): BatchNorm2d(128, eps=1e-05, momentum=0.1, affine=True, track_running_stats=True)\n",
      "    (c2): Conv2d(128, 128, kernel_size=(3, 3), stride=(1, 1), padding=(1, 1), bias=False)\n",
      "    (bn2): BatchNorm2d(128, eps=1e-05, momentum=0.1, affine=True, track_running_stats=True)\n",
      "    (c3): Conv2d(128, 128, kernel_size=(3, 3), stride=(1, 1), padding=(1, 1), bias=False)\n",
      "    (bn3): BatchNorm2d(128, eps=1e-05, momentum=0.1, affine=True, track_running_stats=True)\n",
      "    (skip): Conv2d(64, 128, kernel_size=(1, 1), stride=(2, 2))\n",
      "    (dropout): Dropout2d(p=0.2, inplace=False)\n",
      "  )\n",
      "  (conv3): Block(\n",
      "    (c1): Conv2d(128, 256, kernel_size=(3, 3), stride=(2, 2), padding=(1, 1), bias=False)\n",
      "    (bn1): BatchNorm2d(256, eps=1e-05, momentum=0.1, affine=True, track_running_stats=True)\n",
      "    (c2): Conv2d(256, 256, kernel_size=(3, 3), stride=(1, 1), padding=(1, 1), bias=False)\n",
      "    (bn2): BatchNorm2d(256, eps=1e-05, momentum=0.1, affine=True, track_running_stats=True)\n",
      "    (c3): Conv2d(256, 256, kernel_size=(3, 3), stride=(1, 1), padding=(1, 1), bias=False)\n",
      "    (bn3): BatchNorm2d(256, eps=1e-05, momentum=0.1, affine=True, track_running_stats=True)\n",
      "    (skip): Conv2d(128, 256, kernel_size=(1, 1), stride=(2, 2))\n",
      "    (dropout): Dropout2d(p=0.2, inplace=False)\n",
      "  )\n",
      "  (conv4): Block(\n",
      "    (c1): Conv2d(256, 512, kernel_size=(3, 3), stride=(2, 2), padding=(1, 1), bias=False)\n",
      "    (bn1): BatchNorm2d(512, eps=1e-05, momentum=0.1, affine=True, track_running_stats=True)\n",
      "    (c2): Conv2d(512, 512, kernel_size=(3, 3), stride=(1, 1), padding=(1, 1), bias=False)\n",
      "    (bn2): BatchNorm2d(512, eps=1e-05, momentum=0.1, affine=True, track_running_stats=True)\n",
      "    (c3): Conv2d(512, 512, kernel_size=(3, 3), stride=(1, 1), padding=(1, 1), bias=False)\n",
      "    (bn3): BatchNorm2d(512, eps=1e-05, momentum=0.1, affine=True, track_running_stats=True)\n",
      "    (skip): Conv2d(256, 512, kernel_size=(1, 1), stride=(2, 2))\n",
      "    (dropout): Dropout2d(p=0.2, inplace=False)\n",
      "  )\n",
      "  (upconv4): UpBlock(\n",
      "    (c1): ConvTranspose2d(512, 512, kernel_size=(3, 3), stride=(2, 2), padding=(1, 1), output_padding=(1, 1))\n",
      "  )\n",
      "  (upconv3): UpBlock(\n",
      "    (c1): ConvTranspose2d(768, 256, kernel_size=(3, 3), stride=(2, 2), padding=(1, 1), output_padding=(1, 1))\n",
      "  )\n",
      "  (upconv2): UpBlock(\n",
      "    (c1): ConvTranspose2d(384, 128, kernel_size=(3, 3), stride=(2, 2), padding=(1, 1), output_padding=(1, 1))\n",
      "  )\n",
      "  (upconv1): UpBlock(\n",
      "    (c1): ConvTranspose2d(192, 64, kernel_size=(3, 3), stride=(2, 2), padding=(1, 1), output_padding=(1, 1))\n",
      "  )\n",
      "  (upconv0): UpBlock(\n",
      "    (c1): ConvTranspose2d(96, 32, kernel_size=(3, 3), stride=(2, 2), padding=(1, 1), output_padding=(1, 1))\n",
      "  )\n",
      "  (classifier): Conv2d(35, 1, kernel_size=(1, 1), stride=(1, 1))\n",
      "  (pool): AdaptiveAvgPool2d(output_size=(1, 1))\n",
      ")\n"
     ]
    }
   ],
   "source": [
    "# Train model\n",
    "device = torch.device(\"cuda\" if torch.cuda.is_available() else \"cpu\")\n",
    "print(f'device={device}')\n",
    "\n",
    "model = EczemaClassifier().to(device)\n",
    "print(model)"
   ]
  },
  {
   "cell_type": "code",
   "execution_count": 39,
   "id": "55822ff0",
   "metadata": {},
   "outputs": [],
   "source": [
    "from torchmetrics.classification import ConfusionMatrix, Accuracy\n",
    "conf_mat = ConfusionMatrix(num_classes=2, task=\"BINARY\").to(device)\n",
    "accuracy_mat = Accuracy(num_classes=2, task=\"BINARY\").to(device)\n",
    "\n",
    "\n",
    "from torch.utils.tensorboard import SummaryWriter\n",
    "writer = SummaryWriter()\n",
    "\n",
    "global_step = 0\n",
    "global_epochs = 0"
   ]
  },
  {
   "cell_type": "code",
   "execution_count": 40,
   "id": "bb6ed69d",
   "metadata": {},
   "outputs": [],
   "source": [
    "# Create data loaders\n",
    "train_dataset = EczemaDataset(train_df, data_transforms['train'])\n",
    "val_dataset = EczemaDataset(val_df, data_transforms['val'])\n",
    "\n",
    "train_loader = torch.utils.data.DataLoader(train_dataset, batch_size=256, shuffle=True) # 2500\n",
    "val_loader = torch.utils.data.DataLoader(val_dataset, batch_size=256, shuffle=False)"
   ]
  },
  {
   "cell_type": "code",
   "execution_count": 41,
   "id": "59e5182f",
   "metadata": {},
   "outputs": [
    {
     "name": "stdout",
     "output_type": "stream",
     "text": [
      "pos_weight_tensor=tensor([2.1419], device='cuda:0')\n"
     ]
    }
   ],
   "source": [
    "optimizer = torch.optim.Adam(model.parameters(), lr=1e-4)\n",
    "\n",
    "# Step 4: Create class weights tensor and move it to the correct device (GPU or CPU)\n",
    "pos_weight_tensor = torch.tensor([pos_weight]).to(device)\n",
    "print(f\"pos_weight_tensor={pos_weight_tensor}\")\n",
    "# Step 5: Use the pos_weight in BCEWithLogitsLoss\n",
    "criterion = torch.nn.BCEWithLogitsLoss(pos_weight=pos_weight_tensor)\n",
    "\n",
    "scheduler = torch.optim.lr_scheduler.StepLR(optimizer, step_size=5, gamma=0.1)"
   ]
  },
  {
   "cell_type": "code",
   "execution_count": 42,
   "id": "de385eaa",
   "metadata": {},
   "outputs": [
    {
     "name": "stdout",
     "output_type": "stream",
     "text": [
      "Epoch: 1, Training Loss: 0.989484041929245, Time: 40.85 seconds \n",
      "Epoch: 2, Training Loss: 0.9882367998361588, Time: 29.13 seconds \n",
      "Epoch: 3, Training Loss: 0.9855912029743195, Time: 26.35 seconds \n",
      "Epoch: 4, Training Loss: 0.9827002733945847, Time: 26.39 seconds \n",
      "Epoch: 5, Training Loss: 0.9765456318855286, Time: 25.85 seconds ,Val Accuracy: 0.6623\n",
      "Epoch: 6, Training Loss: 0.9682481735944748, Time: 35.40 seconds \n",
      "Epoch: 7, Training Loss: 0.9663511663675308, Time: 49.70 seconds \n",
      "Epoch: 8, Training Loss: 0.9655702114105225, Time: 50.61 seconds \n",
      "Epoch: 9, Training Loss: 0.9632617831230164, Time: 43.59 seconds \n",
      "Epoch: 10, Training Loss: 0.9580353051424026, Time: 37.32 seconds ,Val Accuracy: 0.6623\n",
      "Confusion Matrix:\n",
      "tensor([[151,   0],\n",
      "        [ 77,   0]], device='cuda:0')\n",
      "TP: 0, TN: 151, FP: 0, FN: 77\n"
     ]
    },
    {
     "ename": "KeyboardInterrupt",
     "evalue": "",
     "output_type": "error",
     "traceback": [
      "\u001b[1;31m---------------------------------------------------------------------------\u001b[0m",
      "\u001b[1;31mKeyboardInterrupt\u001b[0m                         Traceback (most recent call last)",
      "Cell \u001b[1;32mIn[42], line 7\u001b[0m\n\u001b[0;32m      5\u001b[0m model\u001b[38;5;241m.\u001b[39mtrain()\n\u001b[0;32m      6\u001b[0m running_loss \u001b[38;5;241m=\u001b[39m \u001b[38;5;241m0.0\u001b[39m\n\u001b[1;32m----> 7\u001b[0m \u001b[38;5;28;01mfor\u001b[39;00m images, labels \u001b[38;5;129;01min\u001b[39;00m train_loader:\n\u001b[0;32m      8\u001b[0m     images, labels \u001b[38;5;241m=\u001b[39m images\u001b[38;5;241m.\u001b[39mto(device), labels\u001b[38;5;241m.\u001b[39mto(device)\n\u001b[0;32m     10\u001b[0m     labels \u001b[38;5;241m=\u001b[39m labels\u001b[38;5;241m.\u001b[39munsqueeze(\u001b[38;5;241m1\u001b[39m)\n",
      "File \u001b[1;32m~\\.conda\\envs\\aihc-py39\\lib\\site-packages\\torch\\utils\\data\\dataloader.py:701\u001b[0m, in \u001b[0;36m_BaseDataLoaderIter.__next__\u001b[1;34m(self)\u001b[0m\n\u001b[0;32m    698\u001b[0m \u001b[38;5;28;01mif\u001b[39;00m \u001b[38;5;28mself\u001b[39m\u001b[38;5;241m.\u001b[39m_sampler_iter \u001b[38;5;129;01mis\u001b[39;00m \u001b[38;5;28;01mNone\u001b[39;00m:\n\u001b[0;32m    699\u001b[0m     \u001b[38;5;66;03m# TODO(https://github.com/pytorch/pytorch/issues/76750)\u001b[39;00m\n\u001b[0;32m    700\u001b[0m     \u001b[38;5;28mself\u001b[39m\u001b[38;5;241m.\u001b[39m_reset()  \u001b[38;5;66;03m# type: ignore[call-arg]\u001b[39;00m\n\u001b[1;32m--> 701\u001b[0m data \u001b[38;5;241m=\u001b[39m \u001b[38;5;28;43mself\u001b[39;49m\u001b[38;5;241;43m.\u001b[39;49m\u001b[43m_next_data\u001b[49m\u001b[43m(\u001b[49m\u001b[43m)\u001b[49m\n\u001b[0;32m    702\u001b[0m \u001b[38;5;28mself\u001b[39m\u001b[38;5;241m.\u001b[39m_num_yielded \u001b[38;5;241m+\u001b[39m\u001b[38;5;241m=\u001b[39m \u001b[38;5;241m1\u001b[39m\n\u001b[0;32m    703\u001b[0m \u001b[38;5;28;01mif\u001b[39;00m (\n\u001b[0;32m    704\u001b[0m     \u001b[38;5;28mself\u001b[39m\u001b[38;5;241m.\u001b[39m_dataset_kind \u001b[38;5;241m==\u001b[39m _DatasetKind\u001b[38;5;241m.\u001b[39mIterable\n\u001b[0;32m    705\u001b[0m     \u001b[38;5;129;01mand\u001b[39;00m \u001b[38;5;28mself\u001b[39m\u001b[38;5;241m.\u001b[39m_IterableDataset_len_called \u001b[38;5;129;01mis\u001b[39;00m \u001b[38;5;129;01mnot\u001b[39;00m \u001b[38;5;28;01mNone\u001b[39;00m\n\u001b[0;32m    706\u001b[0m     \u001b[38;5;129;01mand\u001b[39;00m \u001b[38;5;28mself\u001b[39m\u001b[38;5;241m.\u001b[39m_num_yielded \u001b[38;5;241m>\u001b[39m \u001b[38;5;28mself\u001b[39m\u001b[38;5;241m.\u001b[39m_IterableDataset_len_called\n\u001b[0;32m    707\u001b[0m ):\n",
      "File \u001b[1;32m~\\.conda\\envs\\aihc-py39\\lib\\site-packages\\torch\\utils\\data\\dataloader.py:757\u001b[0m, in \u001b[0;36m_SingleProcessDataLoaderIter._next_data\u001b[1;34m(self)\u001b[0m\n\u001b[0;32m    755\u001b[0m \u001b[38;5;28;01mdef\u001b[39;00m \u001b[38;5;21m_next_data\u001b[39m(\u001b[38;5;28mself\u001b[39m):\n\u001b[0;32m    756\u001b[0m     index \u001b[38;5;241m=\u001b[39m \u001b[38;5;28mself\u001b[39m\u001b[38;5;241m.\u001b[39m_next_index()  \u001b[38;5;66;03m# may raise StopIteration\u001b[39;00m\n\u001b[1;32m--> 757\u001b[0m     data \u001b[38;5;241m=\u001b[39m \u001b[38;5;28;43mself\u001b[39;49m\u001b[38;5;241;43m.\u001b[39;49m\u001b[43m_dataset_fetcher\u001b[49m\u001b[38;5;241;43m.\u001b[39;49m\u001b[43mfetch\u001b[49m\u001b[43m(\u001b[49m\u001b[43mindex\u001b[49m\u001b[43m)\u001b[49m  \u001b[38;5;66;03m# may raise StopIteration\u001b[39;00m\n\u001b[0;32m    758\u001b[0m     \u001b[38;5;28;01mif\u001b[39;00m \u001b[38;5;28mself\u001b[39m\u001b[38;5;241m.\u001b[39m_pin_memory:\n\u001b[0;32m    759\u001b[0m         data \u001b[38;5;241m=\u001b[39m _utils\u001b[38;5;241m.\u001b[39mpin_memory\u001b[38;5;241m.\u001b[39mpin_memory(data, \u001b[38;5;28mself\u001b[39m\u001b[38;5;241m.\u001b[39m_pin_memory_device)\n",
      "File \u001b[1;32m~\\.conda\\envs\\aihc-py39\\lib\\site-packages\\torch\\utils\\data\\_utils\\fetch.py:52\u001b[0m, in \u001b[0;36m_MapDatasetFetcher.fetch\u001b[1;34m(self, possibly_batched_index)\u001b[0m\n\u001b[0;32m     50\u001b[0m         data \u001b[38;5;241m=\u001b[39m \u001b[38;5;28mself\u001b[39m\u001b[38;5;241m.\u001b[39mdataset\u001b[38;5;241m.\u001b[39m__getitems__(possibly_batched_index)\n\u001b[0;32m     51\u001b[0m     \u001b[38;5;28;01melse\u001b[39;00m:\n\u001b[1;32m---> 52\u001b[0m         data \u001b[38;5;241m=\u001b[39m [\u001b[38;5;28mself\u001b[39m\u001b[38;5;241m.\u001b[39mdataset[idx] \u001b[38;5;28;01mfor\u001b[39;00m idx \u001b[38;5;129;01min\u001b[39;00m possibly_batched_index]\n\u001b[0;32m     53\u001b[0m \u001b[38;5;28;01melse\u001b[39;00m:\n\u001b[0;32m     54\u001b[0m     data \u001b[38;5;241m=\u001b[39m \u001b[38;5;28mself\u001b[39m\u001b[38;5;241m.\u001b[39mdataset[possibly_batched_index]\n",
      "File \u001b[1;32m~\\.conda\\envs\\aihc-py39\\lib\\site-packages\\torch\\utils\\data\\_utils\\fetch.py:52\u001b[0m, in \u001b[0;36m<listcomp>\u001b[1;34m(.0)\u001b[0m\n\u001b[0;32m     50\u001b[0m         data \u001b[38;5;241m=\u001b[39m \u001b[38;5;28mself\u001b[39m\u001b[38;5;241m.\u001b[39mdataset\u001b[38;5;241m.\u001b[39m__getitems__(possibly_batched_index)\n\u001b[0;32m     51\u001b[0m     \u001b[38;5;28;01melse\u001b[39;00m:\n\u001b[1;32m---> 52\u001b[0m         data \u001b[38;5;241m=\u001b[39m [\u001b[38;5;28;43mself\u001b[39;49m\u001b[38;5;241;43m.\u001b[39;49m\u001b[43mdataset\u001b[49m\u001b[43m[\u001b[49m\u001b[43midx\u001b[49m\u001b[43m]\u001b[49m \u001b[38;5;28;01mfor\u001b[39;00m idx \u001b[38;5;129;01min\u001b[39;00m possibly_batched_index]\n\u001b[0;32m     53\u001b[0m \u001b[38;5;28;01melse\u001b[39;00m:\n\u001b[0;32m     54\u001b[0m     data \u001b[38;5;241m=\u001b[39m \u001b[38;5;28mself\u001b[39m\u001b[38;5;241m.\u001b[39mdataset[possibly_batched_index]\n",
      "Cell \u001b[1;32mIn[28], line 17\u001b[0m, in \u001b[0;36mEczemaDataset.__getitem__\u001b[1;34m(self, idx)\u001b[0m\n\u001b[0;32m     15\u001b[0m \u001b[38;5;28;01mdef\u001b[39;00m \u001b[38;5;21m__getitem__\u001b[39m(\u001b[38;5;28mself\u001b[39m, idx):\n\u001b[0;32m     16\u001b[0m     image_path \u001b[38;5;241m=\u001b[39m \u001b[38;5;28mself\u001b[39m\u001b[38;5;241m.\u001b[39mdf\u001b[38;5;241m.\u001b[39miloc[idx][\u001b[38;5;124m'\u001b[39m\u001b[38;5;124mimage_path\u001b[39m\u001b[38;5;124m'\u001b[39m]\n\u001b[1;32m---> 17\u001b[0m     image \u001b[38;5;241m=\u001b[39m \u001b[43mImage\u001b[49m\u001b[38;5;241;43m.\u001b[39;49m\u001b[43mopen\u001b[49m\u001b[43m(\u001b[49m\u001b[43mimage_path\u001b[49m\u001b[43m)\u001b[49m\u001b[38;5;241;43m.\u001b[39;49m\u001b[43mconvert\u001b[49m\u001b[43m(\u001b[49m\u001b[38;5;124;43m'\u001b[39;49m\u001b[38;5;124;43mRGB\u001b[39;49m\u001b[38;5;124;43m'\u001b[39;49m\u001b[43m)\u001b[49m\n\u001b[0;32m     18\u001b[0m     label \u001b[38;5;241m=\u001b[39m \u001b[38;5;28mself\u001b[39m\u001b[38;5;241m.\u001b[39mdf\u001b[38;5;241m.\u001b[39miloc[idx][\u001b[38;5;124m'\u001b[39m\u001b[38;5;124meczema\u001b[39m\u001b[38;5;124m'\u001b[39m]\n\u001b[0;32m     20\u001b[0m     image \u001b[38;5;241m=\u001b[39m \u001b[38;5;28mself\u001b[39m\u001b[38;5;241m.\u001b[39mtransform(image)\n",
      "File \u001b[1;32m~\\.conda\\envs\\aihc-py39\\lib\\site-packages\\PIL\\Image.py:922\u001b[0m, in \u001b[0;36mImage.convert\u001b[1;34m(self, mode, matrix, dither, palette, colors)\u001b[0m\n\u001b[0;32m    874\u001b[0m \u001b[38;5;28;01mdef\u001b[39;00m \u001b[38;5;21mconvert\u001b[39m(\n\u001b[0;32m    875\u001b[0m     \u001b[38;5;28mself\u001b[39m, mode\u001b[38;5;241m=\u001b[39m\u001b[38;5;28;01mNone\u001b[39;00m, matrix\u001b[38;5;241m=\u001b[39m\u001b[38;5;28;01mNone\u001b[39;00m, dither\u001b[38;5;241m=\u001b[39m\u001b[38;5;28;01mNone\u001b[39;00m, palette\u001b[38;5;241m=\u001b[39mPalette\u001b[38;5;241m.\u001b[39mWEB, colors\u001b[38;5;241m=\u001b[39m\u001b[38;5;241m256\u001b[39m\n\u001b[0;32m    876\u001b[0m ):\n\u001b[0;32m    877\u001b[0m \u001b[38;5;250m    \u001b[39m\u001b[38;5;124;03m\"\"\"\u001b[39;00m\n\u001b[0;32m    878\u001b[0m \u001b[38;5;124;03m    Returns a converted copy of this image. For the \"P\" mode, this\u001b[39;00m\n\u001b[0;32m    879\u001b[0m \u001b[38;5;124;03m    method translates pixels through the palette.  If mode is\u001b[39;00m\n\u001b[1;32m   (...)\u001b[0m\n\u001b[0;32m    919\u001b[0m \u001b[38;5;124;03m    :returns: An :py:class:`~PIL.Image.Image` object.\u001b[39;00m\n\u001b[0;32m    920\u001b[0m \u001b[38;5;124;03m    \"\"\"\u001b[39;00m\n\u001b[1;32m--> 922\u001b[0m     \u001b[38;5;28;43mself\u001b[39;49m\u001b[38;5;241;43m.\u001b[39;49m\u001b[43mload\u001b[49m\u001b[43m(\u001b[49m\u001b[43m)\u001b[49m\n\u001b[0;32m    924\u001b[0m     has_transparency \u001b[38;5;241m=\u001b[39m \u001b[38;5;124m\"\u001b[39m\u001b[38;5;124mtransparency\u001b[39m\u001b[38;5;124m\"\u001b[39m \u001b[38;5;129;01min\u001b[39;00m \u001b[38;5;28mself\u001b[39m\u001b[38;5;241m.\u001b[39minfo\n\u001b[0;32m    925\u001b[0m     \u001b[38;5;28;01mif\u001b[39;00m \u001b[38;5;129;01mnot\u001b[39;00m mode \u001b[38;5;129;01mand\u001b[39;00m \u001b[38;5;28mself\u001b[39m\u001b[38;5;241m.\u001b[39mmode \u001b[38;5;241m==\u001b[39m \u001b[38;5;124m\"\u001b[39m\u001b[38;5;124mP\u001b[39m\u001b[38;5;124m\"\u001b[39m:\n\u001b[0;32m    926\u001b[0m         \u001b[38;5;66;03m# determine default mode\u001b[39;00m\n",
      "File \u001b[1;32m~\\.conda\\envs\\aihc-py39\\lib\\site-packages\\PIL\\ImageFile.py:291\u001b[0m, in \u001b[0;36mImageFile.load\u001b[1;34m(self)\u001b[0m\n\u001b[0;32m    288\u001b[0m         \u001b[38;5;28;01mraise\u001b[39;00m \u001b[38;5;167;01mOSError\u001b[39;00m(msg)\n\u001b[0;32m    290\u001b[0m b \u001b[38;5;241m=\u001b[39m b \u001b[38;5;241m+\u001b[39m s\n\u001b[1;32m--> 291\u001b[0m n, err_code \u001b[38;5;241m=\u001b[39m \u001b[43mdecoder\u001b[49m\u001b[38;5;241;43m.\u001b[39;49m\u001b[43mdecode\u001b[49m\u001b[43m(\u001b[49m\u001b[43mb\u001b[49m\u001b[43m)\u001b[49m\n\u001b[0;32m    292\u001b[0m \u001b[38;5;28;01mif\u001b[39;00m n \u001b[38;5;241m<\u001b[39m \u001b[38;5;241m0\u001b[39m:\n\u001b[0;32m    293\u001b[0m     \u001b[38;5;28;01mbreak\u001b[39;00m\n",
      "\u001b[1;31mKeyboardInterrupt\u001b[0m: "
     ]
    }
   ],
   "source": [
    "import torch.nn.functional as F\n",
    "for epoch in range(40):\n",
    "    start_time = time.time()  # Start timer\n",
    "\n",
    "    model.train()\n",
    "    running_loss = 0.0\n",
    "    for images, labels in train_loader:\n",
    "        images, labels = images.to(device), labels.to(device)\n",
    "        \n",
    "        labels = labels.unsqueeze(1)\n",
    "        \n",
    "        optimizer.zero_grad()\n",
    "        outputs = model(images)\n",
    "        loss = criterion(outputs, labels)\n",
    "        global_epochs +=1\n",
    "        writer.add_scalar('Loss/train', loss.item(), global_epochs)\n",
    "        loss.backward()\n",
    "        optimizer.step()\n",
    "\n",
    "        running_loss += loss.item()\n",
    "\n",
    "    #scheduler step()\n",
    "    scheduler.step()\n",
    "        \n",
    "    end_time = time.time()  # End timer\n",
    "    epoch_time = end_time - start_time\n",
    "    global_step += 1\n",
    "    \n",
    "    if global_step % 5 !=0:\n",
    "        print(f'Epoch: {global_step}, Training Loss: {running_loss / len(train_loader)}, Time: {epoch_time:.2f} seconds ')\n",
    "    else:\n",
    "        conf_mat.reset()\n",
    "        accuracy_mat.reset()\n",
    "        model.eval()\n",
    "        with torch.no_grad():\n",
    "            for images, target in val_loader:\n",
    "                images, target = images.to(device), target.to(device)\n",
    "                target = target.unsqueeze(1)\n",
    "                \n",
    "                outputs = model(images)\n",
    "                predicted = (outputs > 0.5).float()\n",
    "    \n",
    "                conf_mat.update(predicted, target)\n",
    "                accuracy_mat.update(predicted, target)\n",
    "            val_acc = accuracy_mat.compute()\n",
    "            print(f'Epoch: {global_step}, Training Loss: {running_loss / len(train_loader)}, Time: {epoch_time:.2f} seconds ,Val Accuracy: {val_acc:.4f}')\n",
    "            if global_step % 10 ==0:\n",
    "                print('Confusion Matrix:')\n",
    "                print(conf_mat.compute())\n",
    "                print(f'TP: {conf_mat.compute()[1,1]}, TN: {conf_mat.compute()[0,0]}, FP: {conf_mat.compute()[0,1]}, FN: {conf_mat.compute()[1,0]}')\n",
    "\n",
    "#             save_model(model,global_step,val_acc)"
   ]
  },
  {
   "cell_type": "code",
   "execution_count": null,
   "id": "e6cc7cb3",
   "metadata": {},
   "outputs": [],
   "source": [
    "import numpy as np\n",
    "from sklearn.metrics import precision_score, recall_score, f1_score, accuracy_score, confusion_matrix, roc_auc_score\n",
    "\n",
    "\n",
    "model.eval()  # Set the model to evaluation mode\n",
    "all_preds = []\n",
    "all_labels = []\n",
    "\n",
    "with torch.no_grad():  # No need to track gradients during evaluation\n",
    "    for images, labels in val_loader:\n",
    "        images, labels = images.to(device), labels.to(device)\n",
    "\n",
    "        # Get model predictions\n",
    "        outputs = model(images)\n",
    "        \n",
    "        # Convert logits to predicted class (0 or 1) using a threshold of 0.5\n",
    "        preds = (outputs > 0.5).float()  # 0.5 threshold for binary classification\n",
    "\n",
    "        # Append predictions and labels to lists\n",
    "        all_preds.append(preds.cpu().numpy())\n",
    "        all_labels.append(labels.cpu().numpy())\n",
    "\n",
    "# Convert lists to numpy arrays\n",
    "all_preds = np.concatenate(all_preds, axis=0)\n",
    "\n",
    "all_labels = np.concatenate(all_labels, axis=0)\n",
    "\n",
    "# Calculate metrics\n",
    "accuracy = accuracy_score(all_labels, all_preds)\n",
    "precision = precision_score(all_labels, all_preds)\n",
    "recall = recall_score(all_labels, all_preds)\n",
    "f1 = f1_score(all_labels, all_preds)\n",
    "\n",
    "# ROC-AUC for binary classification\n",
    "auc = roc_auc_score(all_labels, all_preds)\n",
    "\n",
    "# Confusion matrix\n",
    "cm = confusion_matrix(all_labels, all_preds)\n",
    "\n",
    "# Print out the metrics\n",
    "print(f\"Accuracy: {accuracy:.4f}\")\n",
    "print(f\"Precision: {precision:.4f}\")\n",
    "print(f\"Recall: {recall:.4f}\")\n",
    "print(f\"F1 Score: {f1:.4f}\")\n",
    "print(f\"ROC AUC: {auc:.4f}\")\n",
    "print(f\"Confusion Matrix:\\n{cm}\")"
   ]
  },
  {
   "cell_type": "code",
   "execution_count": null,
   "id": "38bfc70a",
   "metadata": {},
   "outputs": [],
   "source": [
    "# model.eval()\n",
    "# with torch.no_grad():\n",
    "#     correct = 0\n",
    "#     for images, labels in val_loader:\n",
    "#         images, labels = images.to(device), labels.to(device)\n",
    "#         outputs = model(images)\n",
    "#         _, predicted = torch.max(outputs, 1)\n",
    "#         correct += (predicted == labels).sum().item()\n",
    "#     val_accuracy = correct / len(val_df)\n",
    "#     print(f'Val Accuracy: {val_accuracy:.4f}')"
   ]
  },
  {
   "cell_type": "code",
   "execution_count": null,
   "id": "b04b30b1",
   "metadata": {},
   "outputs": [],
   "source": [
    "!pip install torchmetrics"
   ]
  },
  {
   "cell_type": "code",
   "execution_count": null,
   "id": "494a23cc",
   "metadata": {},
   "outputs": [],
   "source": [
    "from torchmetrics.classification import ConfusionMatrix, Accuracy\n",
    "\n",
    "conf_mat = ConfusionMatrix(num_classes=2, task=\"BINARY\").to(device)\n",
    "accuracy = Accuracy(num_classes=2, task=\"BINARY\").to(device)\n",
    "\n",
    "conf_mat.reset()\n",
    "accuracy_mat.reset()\n",
    "model.eval()\n",
    "with torch.no_grad():\n",
    "    for images, target in val_loader:\n",
    "        images, target = images.to(device), target.to(device)\n",
    "        target = target.unsqueeze(1)\n",
    "\n",
    "        outputs = model(images)\n",
    "        predicted = (outputs > 0.5).float()\n",
    "\n",
    "        conf_mat.update(predicted, target)\n",
    "        accuracy_mat.update(predicted, target)\n",
    "    val_acc = accuracy_mat.compute()\n",
    "    print(f'Epoch {global_step}, Val Accuracy: {val_acc:.4f}')\n",
    "    print('Confusion Matrix:')\n",
    "    print(conf_mat.compute())\n",
    "    print(f'TP: {conf_mat.compute()[1,1]}, TN: {conf_mat.compute()[0,0]}, FP: {conf_mat.compute()[0,1]}, FN: {conf_mat.compute()[1,0]}')\n"
   ]
  },
  {
   "cell_type": "code",
   "execution_count": null,
   "id": "c9eba936",
   "metadata": {},
   "outputs": [],
   "source": [
    "# scripted_model = torch.jit.script(model)\n",
    "# torch.jit.save(scripted_model, 'resnet18-model-eczema-0.7815.pth')"
   ]
  },
  {
   "cell_type": "code",
   "execution_count": null,
   "id": "740f19b2",
   "metadata": {},
   "outputs": [],
   "source": [
    "# loaded_model = loaded_model = torch.jit.load('resnet18-model-eczema-0.7815.pth')"
   ]
  },
  {
   "cell_type": "code",
   "execution_count": null,
   "id": "da16f512",
   "metadata": {},
   "outputs": [],
   "source": []
  }
 ],
 "metadata": {
  "kernelspec": {
   "display_name": "aihc-py39-kernel",
   "language": "python",
   "name": "aihc-py39-kernel"
  },
  "language_info": {
   "codemirror_mode": {
    "name": "ipython",
    "version": 3
   },
   "file_extension": ".py",
   "mimetype": "text/x-python",
   "name": "python",
   "nbconvert_exporter": "python",
   "pygments_lexer": "ipython3",
   "version": "3.9.20"
  }
 },
 "nbformat": 4,
 "nbformat_minor": 5
}
