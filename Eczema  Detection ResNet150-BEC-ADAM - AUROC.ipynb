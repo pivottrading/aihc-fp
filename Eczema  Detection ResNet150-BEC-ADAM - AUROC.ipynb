{
 "cells": [
  {
   "cell_type": "code",
   "execution_count": 1,
   "id": "13249331",
   "metadata": {},
   "outputs": [
    {
     "name": "stdout",
     "output_type": "stream",
     "text": [
      "Requirement already satisfied: torchmetrics in c:\\users\\water\\.conda\\envs\\aihc-py39\\lib\\site-packages (1.6.0)\n",
      "Requirement already satisfied: numpy>1.20.0 in c:\\users\\water\\.conda\\envs\\aihc-py39\\lib\\site-packages (from torchmetrics) (2.0.2)\n",
      "Requirement already satisfied: packaging>17.1 in c:\\users\\water\\.conda\\envs\\aihc-py39\\lib\\site-packages (from torchmetrics) (24.1)\n",
      "Requirement already satisfied: torch>=2.0.0 in c:\\users\\water\\.conda\\envs\\aihc-py39\\lib\\site-packages (from torchmetrics) (2.5.1+cu121)\n",
      "Requirement already satisfied: lightning-utilities>=0.8.0 in c:\\users\\water\\.conda\\envs\\aihc-py39\\lib\\site-packages (from torchmetrics) (0.11.8)\n",
      "Requirement already satisfied: setuptools in c:\\users\\water\\.conda\\envs\\aihc-py39\\lib\\site-packages (from lightning-utilities>=0.8.0->torchmetrics) (75.1.0)\n",
      "Requirement already satisfied: typing-extensions in c:\\users\\water\\.conda\\envs\\aihc-py39\\lib\\site-packages (from lightning-utilities>=0.8.0->torchmetrics) (4.11.0)\n",
      "Requirement already satisfied: filelock in c:\\users\\water\\.conda\\envs\\aihc-py39\\lib\\site-packages (from torch>=2.0.0->torchmetrics) (3.13.1)\n",
      "Requirement already satisfied: networkx in c:\\users\\water\\.conda\\envs\\aihc-py39\\lib\\site-packages (from torch>=2.0.0->torchmetrics) (3.2.1)\n",
      "Requirement already satisfied: jinja2 in c:\\users\\water\\.conda\\envs\\aihc-py39\\lib\\site-packages (from torch>=2.0.0->torchmetrics) (3.1.4)\n",
      "Requirement already satisfied: fsspec in c:\\users\\water\\.conda\\envs\\aihc-py39\\lib\\site-packages (from torch>=2.0.0->torchmetrics) (2024.2.0)\n",
      "Requirement already satisfied: sympy==1.13.1 in c:\\users\\water\\.conda\\envs\\aihc-py39\\lib\\site-packages (from torch>=2.0.0->torchmetrics) (1.13.1)\n",
      "Requirement already satisfied: mpmath<1.4,>=1.1.0 in c:\\users\\water\\.conda\\envs\\aihc-py39\\lib\\site-packages (from sympy==1.13.1->torch>=2.0.0->torchmetrics) (1.3.0)\n",
      "Requirement already satisfied: MarkupSafe>=2.0 in c:\\users\\water\\.conda\\envs\\aihc-py39\\lib\\site-packages (from jinja2->torch>=2.0.0->torchmetrics) (3.0.1)\n"
     ]
    }
   ],
   "source": [
    "!pip install torchmetrics"
   ]
  },
  {
   "cell_type": "code",
   "execution_count": 2,
   "id": "74a6e9d4",
   "metadata": {},
   "outputs": [],
   "source": [
    "import pandas as pd\n",
    "from sklearn.model_selection import train_test_split\n",
    "from sklearn.metrics import roc_auc_score\n",
    "import torch\n",
    "import torch.nn as nn\n",
    "import torchvision\n",
    "import torchvision.transforms as transforms\n",
    "from torchvision import datasets\n",
    "import matplotlib.pyplot as plt\n",
    "from sklearn.metrics import accuracy_score\n",
    "from sklearn.model_selection import train_test_split\n",
    "import pandas as pd\n",
    "import os\n",
    "import time\n",
    "\n",
    "# Load data files\n",
    "cases_df = pd.read_csv('dataset/scin_cases.csv')\n",
    "labels_df = pd.read_csv('dataset/scin_labels.csv')\n",
    "\n",
    "# Merge data frames on case_id\n",
    "merged_df = pd.merge(cases_df, labels_df, on='case_id')"
   ]
  },
  {
   "cell_type": "code",
   "execution_count": 3,
   "id": "6500e537",
   "metadata": {},
   "outputs": [
    {
     "data": {
      "text/plain": [
       "Index(['case_id', 'source', 'release', 'year', 'age_group', 'sex_at_birth',\n",
       "       'fitzpatrick_skin_type',\n",
       "       'race_ethnicity_american_indian_or_alaska_native',\n",
       "       'race_ethnicity_asian', 'race_ethnicity_black_or_african_american',\n",
       "       'race_ethnicity_hispanic_latino_or_spanish_origin',\n",
       "       'race_ethnicity_middle_eastern_or_north_african',\n",
       "       'race_ethnicity_native_hawaiian_or_pacific_islander',\n",
       "       'race_ethnicity_white', 'race_ethnicity_other_race',\n",
       "       'race_ethnicity_prefer_not_to_answer', 'textures_raised_or_bumpy',\n",
       "       'textures_flat', 'textures_rough_or_flaky', 'textures_fluid_filled',\n",
       "       'body_parts_head_or_neck', 'body_parts_arm', 'body_parts_palm',\n",
       "       'body_parts_back_of_hand', 'body_parts_torso_front',\n",
       "       'body_parts_torso_back', 'body_parts_genitalia_or_groin',\n",
       "       'body_parts_buttocks', 'body_parts_leg', 'body_parts_foot_top_or_side',\n",
       "       'body_parts_foot_sole', 'body_parts_other',\n",
       "       'condition_symptoms_bothersome_appearance',\n",
       "       'condition_symptoms_bleeding', 'condition_symptoms_increasing_size',\n",
       "       'condition_symptoms_darkening', 'condition_symptoms_itching',\n",
       "       'condition_symptoms_burning', 'condition_symptoms_pain',\n",
       "       'condition_symptoms_no_relevant_experience', 'other_symptoms_fever',\n",
       "       'other_symptoms_chills', 'other_symptoms_fatigue',\n",
       "       'other_symptoms_joint_pain', 'other_symptoms_mouth_sores',\n",
       "       'other_symptoms_shortness_of_breath',\n",
       "       'other_symptoms_no_relevant_symptoms', 'related_category',\n",
       "       'condition_duration', 'image_1_path', 'image_2_path', 'image_3_path',\n",
       "       'image_1_shot_type', 'image_2_shot_type', 'image_3_shot_type',\n",
       "       'combined_race', 'race_ethnicity_two_or_more_after_mitigation',\n",
       "       'dermatologist_gradable_for_skin_condition_1',\n",
       "       'dermatologist_gradable_for_skin_condition_2',\n",
       "       'dermatologist_gradable_for_skin_condition_3',\n",
       "       'dermatologist_skin_condition_on_label_name',\n",
       "       'dermatologist_skin_condition_confidence',\n",
       "       'weighted_skin_condition_label',\n",
       "       'dermatologist_gradable_for_fitzpatrick_skin_type_1',\n",
       "       'dermatologist_gradable_for_fitzpatrick_skin_type_2',\n",
       "       'dermatologist_gradable_for_fitzpatrick_skin_type_3',\n",
       "       'dermatologist_fitzpatrick_skin_type_label_1',\n",
       "       'dermatologist_fitzpatrick_skin_type_label_2',\n",
       "       'dermatologist_fitzpatrick_skin_type_label_3',\n",
       "       'gradable_for_monk_skin_tone_india', 'gradable_for_monk_skin_tone_us',\n",
       "       'monk_skin_tone_label_india', 'monk_skin_tone_label_us'],\n",
       "      dtype='object')"
      ]
     },
     "execution_count": 3,
     "metadata": {},
     "output_type": "execute_result"
    }
   ],
   "source": [
    "merged_df.columns"
   ]
  },
  {
   "cell_type": "code",
   "execution_count": 4,
   "id": "0a5f5892",
   "metadata": {},
   "outputs": [
    {
     "data": {
      "text/plain": [
       "dermatologist_gradable_for_skin_condition_1\n",
       "DEFAULT_YES_IMAGE_QUALITY_SUFFICIENT                     3049\n",
       "NO_IMAGE_QUALITY_INSUFFICIENT                            1925\n",
       "YES_IMAGE_QUALITY_SUFFICIENT_NO_DISCERNIBLE_PATHOLOGY      59\n",
       "Name: count, dtype: int64"
      ]
     },
     "execution_count": 4,
     "metadata": {},
     "output_type": "execute_result"
    }
   ],
   "source": [
    "merged_df['dermatologist_gradable_for_skin_condition_1'].value_counts()"
   ]
  },
  {
   "cell_type": "code",
   "execution_count": 5,
   "id": "6abf5015",
   "metadata": {},
   "outputs": [
    {
     "data": {
      "text/plain": [
       "dermatologist_gradable_for_skin_condition_2\n",
       "DEFAULT_YES_IMAGE_QUALITY_SUFFICIENT                     464\n",
       "NO_IMAGE_QUALITY_INSUFFICIENT                            245\n",
       "YES_IMAGE_QUALITY_SUFFICIENT_NO_DISCERNIBLE_PATHOLOGY      7\n",
       "Name: count, dtype: int64"
      ]
     },
     "execution_count": 5,
     "metadata": {},
     "output_type": "execute_result"
    }
   ],
   "source": [
    "merged_df['dermatologist_gradable_for_skin_condition_2'].value_counts()"
   ]
  },
  {
   "cell_type": "code",
   "execution_count": 6,
   "id": "30a43ee6",
   "metadata": {},
   "outputs": [
    {
     "data": {
      "text/plain": [
       "dermatologist_gradable_for_skin_condition_3\n",
       "DEFAULT_YES_IMAGE_QUALITY_SUFFICIENT                     461\n",
       "NO_IMAGE_QUALITY_INSUFFICIENT                            243\n",
       "YES_IMAGE_QUALITY_SUFFICIENT_NO_DISCERNIBLE_PATHOLOGY     12\n",
       "Name: count, dtype: int64"
      ]
     },
     "execution_count": 6,
     "metadata": {},
     "output_type": "execute_result"
    }
   ],
   "source": [
    "merged_df['dermatologist_gradable_for_skin_condition_3'].value_counts()"
   ]
  },
  {
   "cell_type": "code",
   "execution_count": 7,
   "id": "1f3a47a0",
   "metadata": {},
   "outputs": [
    {
     "data": {
      "text/plain": [
       "dermatologist_skin_condition_confidence\n",
       "[]                          1972\n",
       "[5]                          312\n",
       "[4]                          208\n",
       "[2, 2, 2]                    178\n",
       "[2, 2]                       176\n",
       "                            ... \n",
       "[3, 3, 2, 4, 1, 1]             1\n",
       "[1, 1, 2, 2, 5]                1\n",
       "[1, 4, 1, 4, 2]                1\n",
       "[4, 4, 3, 1, 1]                1\n",
       "[4, 1, 1, 1, 1, 5, 4, 2]       1\n",
       "Name: count, Length: 547, dtype: int64"
      ]
     },
     "execution_count": 7,
     "metadata": {},
     "output_type": "execute_result"
    }
   ],
   "source": [
    "merged_df['dermatologist_skin_condition_confidence'].value_counts()"
   ]
  },
  {
   "cell_type": "code",
   "execution_count": 8,
   "id": "ebe100e0",
   "metadata": {},
   "outputs": [
    {
     "data": {
      "text/plain": [
       "weighted_skin_condition_label\n",
       "{}                                                                                                      1972\n",
       "{'Eczema': 1.0}                                                                                          127\n",
       "{'Urticaria': 1.0}                                                                                        85\n",
       "{'Allergic Contact Dermatitis': 1.0}                                                                      42\n",
       "{'Folliculitis': 1.0}                                                                                     38\n",
       "                                                                                                        ... \n",
       "{'Hidradenitis': 0.8, 'Abscess': 0.2}                                                                      1\n",
       "{'Drug Rash': 0.5, 'Allergic Contact Dermatitis': 0.5}                                                     1\n",
       "{'Rosacea': 0.55, 'Allergic Contact Dermatitis': 0.23, 'Cutaneous lupus': 0.23}                            1\n",
       "{'Chicken pox exanthem': 1.0}                                                                              1\n",
       "{'Leukocytoclastic Vasculitis': 0.55, 'Pigmented purpuric eruption': 0.27, 'Hypersensitivity': 0.18}       1\n",
       "Name: count, Length: 1942, dtype: int64"
      ]
     },
     "execution_count": 8,
     "metadata": {},
     "output_type": "execute_result"
    }
   ],
   "source": [
    "merged_df['weighted_skin_condition_label'].value_counts()"
   ]
  },
  {
   "cell_type": "code",
   "execution_count": 9,
   "id": "23296f5c",
   "metadata": {},
   "outputs": [
    {
     "data": {
      "text/plain": [
       "eczema\n",
       "-1    3896\n",
       " 0     770\n",
       " 1     367\n",
       "Name: count, dtype: int64"
      ]
     },
     "execution_count": 9,
     "metadata": {},
     "output_type": "execute_result"
    }
   ],
   "source": [
    "import pandas as pd\n",
    "import ast\n",
    "\n",
    "def extract_eczema_value(row):\n",
    "    # Convert string to list and dictionary\n",
    "    confidence_list = ast.literal_eval(row['dermatologist_skin_condition_confidence'])\n",
    "    label_dict = ast.literal_eval(row['weighted_skin_condition_label'])\n",
    "\n",
    "    # Initialize eczema value to 0\n",
    "    eczema_value = -1 # not related to eczema or dermatitis\n",
    "\n",
    "    # Iterate over items in label dictionary\n",
    "    for i, (key, value) in enumerate(label_dict.items()):\n",
    "        column_name = f'dermatologist_gradable_for_skin_condition_{i+1}'\n",
    "        \n",
    "#         if i < 3: # only column_name_3 exists\n",
    "#             print(f\"column_name={column_name}, value ={row[column_name]} enumerate i ={i}\")\n",
    "        \n",
    "        # Check if key contains 'Eczema' or 'Dermatitis' and confidence is 4 or 5\n",
    "        if i< 3 and row[column_name] == 'DEFAULT_YES_IMAGE_QUALITY_SUFFICIENT':\n",
    "            if ('eczema' in key.lower() or 'dermatitis' in key.lower()) and confidence_list[i] in [3, 4, 5]:\n",
    "                eczema_value = value # eczema or dermatitis ccategory with positive samples\n",
    "                break\n",
    "            elif ('eczema' in key.lower() or 'dermatitis' in key.lower()) and confidence_list[i] in [1, 2]:\n",
    "                eczema_value = 0 # eczema or dermatitis ccategory but negative\n",
    "                break\n",
    "            else:\n",
    "                eczema_value = -1\n",
    "        else:\n",
    "            eczema_value = -1\n",
    "    \n",
    "    answer = -1\n",
    "    if eczema_value > 0.5:\n",
    "        answer = 1\n",
    "    elif eczema_value >= 0.0:\n",
    "        answer = 0\n",
    "    else:\n",
    "        answer = -1\n",
    "        \n",
    "    return answer\n",
    "\n",
    "# Apply function to dataframe\n",
    "merged_df['eczema'] = merged_df.apply(extract_eczema_value, axis=1)\n",
    "merged_df['eczema'].value_counts()"
   ]
  },
  {
   "cell_type": "code",
   "execution_count": 10,
   "id": "39eaf637",
   "metadata": {},
   "outputs": [
    {
     "data": {
      "text/plain": [
       "eczema\n",
       "-1    3896\n",
       " 0     770\n",
       " 1     367\n",
       "Name: count, dtype: int64"
      ]
     },
     "execution_count": 10,
     "metadata": {},
     "output_type": "execute_result"
    }
   ],
   "source": [
    "merged_df['eczema'].value_counts()"
   ]
  },
  {
   "cell_type": "code",
   "execution_count": 11,
   "id": "ba161ef0",
   "metadata": {},
   "outputs": [
    {
     "data": {
      "text/html": [
       "<div>\n",
       "<style scoped>\n",
       "    .dataframe tbody tr th:only-of-type {\n",
       "        vertical-align: middle;\n",
       "    }\n",
       "\n",
       "    .dataframe tbody tr th {\n",
       "        vertical-align: top;\n",
       "    }\n",
       "\n",
       "    .dataframe thead th {\n",
       "        text-align: right;\n",
       "    }\n",
       "</style>\n",
       "<table border=\"1\" class=\"dataframe\">\n",
       "  <thead>\n",
       "    <tr style=\"text-align: right;\">\n",
       "      <th></th>\n",
       "      <th>dermatologist_skin_condition_confidence</th>\n",
       "      <th>weighted_skin_condition_label</th>\n",
       "      <th>dermatologist_gradable_for_skin_condition_1</th>\n",
       "      <th>dermatologist_gradable_for_skin_condition_2</th>\n",
       "      <th>dermatologist_gradable_for_skin_condition_3</th>\n",
       "      <th>eczema</th>\n",
       "    </tr>\n",
       "  </thead>\n",
       "  <tbody>\n",
       "    <tr>\n",
       "      <th>25</th>\n",
       "      <td>[5]</td>\n",
       "      <td>{'Eczema': 1.0}</td>\n",
       "      <td>DEFAULT_YES_IMAGE_QUALITY_SUFFICIENT</td>\n",
       "      <td>NaN</td>\n",
       "      <td>NaN</td>\n",
       "      <td>1</td>\n",
       "    </tr>\n",
       "    <tr>\n",
       "      <th>28</th>\n",
       "      <td>[3, 1, 1]</td>\n",
       "      <td>{'Infected eczema': 0.55, 'Psoriasis': 0.23, '...</td>\n",
       "      <td>DEFAULT_YES_IMAGE_QUALITY_SUFFICIENT</td>\n",
       "      <td>NaN</td>\n",
       "      <td>NaN</td>\n",
       "      <td>1</td>\n",
       "    </tr>\n",
       "    <tr>\n",
       "      <th>35</th>\n",
       "      <td>[5]</td>\n",
       "      <td>{'Eczema': 1.0}</td>\n",
       "      <td>DEFAULT_YES_IMAGE_QUALITY_SUFFICIENT</td>\n",
       "      <td>NaN</td>\n",
       "      <td>NaN</td>\n",
       "      <td>1</td>\n",
       "    </tr>\n",
       "    <tr>\n",
       "      <th>52</th>\n",
       "      <td>[5]</td>\n",
       "      <td>{'Eczema': 1.0}</td>\n",
       "      <td>DEFAULT_YES_IMAGE_QUALITY_SUFFICIENT</td>\n",
       "      <td>NaN</td>\n",
       "      <td>NaN</td>\n",
       "      <td>1</td>\n",
       "    </tr>\n",
       "    <tr>\n",
       "      <th>56</th>\n",
       "      <td>[5]</td>\n",
       "      <td>{'Chronic dermatitis, NOS': 1.0}</td>\n",
       "      <td>DEFAULT_YES_IMAGE_QUALITY_SUFFICIENT</td>\n",
       "      <td>NaN</td>\n",
       "      <td>NaN</td>\n",
       "      <td>1</td>\n",
       "    </tr>\n",
       "  </tbody>\n",
       "</table>\n",
       "</div>"
      ],
      "text/plain": [
       "   dermatologist_skin_condition_confidence  \\\n",
       "25                                     [5]   \n",
       "28                               [3, 1, 1]   \n",
       "35                                     [5]   \n",
       "52                                     [5]   \n",
       "56                                     [5]   \n",
       "\n",
       "                        weighted_skin_condition_label  \\\n",
       "25                                    {'Eczema': 1.0}   \n",
       "28  {'Infected eczema': 0.55, 'Psoriasis': 0.23, '...   \n",
       "35                                    {'Eczema': 1.0}   \n",
       "52                                    {'Eczema': 1.0}   \n",
       "56                   {'Chronic dermatitis, NOS': 1.0}   \n",
       "\n",
       "   dermatologist_gradable_for_skin_condition_1  \\\n",
       "25        DEFAULT_YES_IMAGE_QUALITY_SUFFICIENT   \n",
       "28        DEFAULT_YES_IMAGE_QUALITY_SUFFICIENT   \n",
       "35        DEFAULT_YES_IMAGE_QUALITY_SUFFICIENT   \n",
       "52        DEFAULT_YES_IMAGE_QUALITY_SUFFICIENT   \n",
       "56        DEFAULT_YES_IMAGE_QUALITY_SUFFICIENT   \n",
       "\n",
       "   dermatologist_gradable_for_skin_condition_2  \\\n",
       "25                                         NaN   \n",
       "28                                         NaN   \n",
       "35                                         NaN   \n",
       "52                                         NaN   \n",
       "56                                         NaN   \n",
       "\n",
       "   dermatologist_gradable_for_skin_condition_3  eczema  \n",
       "25                                         NaN       1  \n",
       "28                                         NaN       1  \n",
       "35                                         NaN       1  \n",
       "52                                         NaN       1  \n",
       "56                                         NaN       1  "
      ]
     },
     "execution_count": 11,
     "metadata": {},
     "output_type": "execute_result"
    }
   ],
   "source": [
    "merged_df[['dermatologist_skin_condition_confidence', 'weighted_skin_condition_label', 'dermatologist_gradable_for_skin_condition_1', 'dermatologist_gradable_for_skin_condition_2','dermatologist_gradable_for_skin_condition_3', 'eczema']][merged_df['eczema'] ==1].head()"
   ]
  },
  {
   "cell_type": "code",
   "execution_count": 12,
   "id": "db25e2d7",
   "metadata": {},
   "outputs": [
    {
     "data": {
      "text/html": [
       "<div>\n",
       "<style scoped>\n",
       "    .dataframe tbody tr th:only-of-type {\n",
       "        vertical-align: middle;\n",
       "    }\n",
       "\n",
       "    .dataframe tbody tr th {\n",
       "        vertical-align: top;\n",
       "    }\n",
       "\n",
       "    .dataframe thead th {\n",
       "        text-align: right;\n",
       "    }\n",
       "</style>\n",
       "<table border=\"1\" class=\"dataframe\">\n",
       "  <thead>\n",
       "    <tr style=\"text-align: right;\">\n",
       "      <th></th>\n",
       "      <th>dermatologist_skin_condition_confidence</th>\n",
       "      <th>weighted_skin_condition_label</th>\n",
       "      <th>dermatologist_gradable_for_skin_condition_1</th>\n",
       "      <th>dermatologist_gradable_for_skin_condition_2</th>\n",
       "      <th>dermatologist_gradable_for_skin_condition_3</th>\n",
       "      <th>eczema</th>\n",
       "    </tr>\n",
       "  </thead>\n",
       "  <tbody>\n",
       "    <tr>\n",
       "      <th>8</th>\n",
       "      <td>[1, 3, 3, 2, 4, 3]</td>\n",
       "      <td>{'Eczema': 0.67, 'Psoriasis': 0.11, 'Acute and...</td>\n",
       "      <td>DEFAULT_YES_IMAGE_QUALITY_SUFFICIENT</td>\n",
       "      <td>DEFAULT_YES_IMAGE_QUALITY_SUFFICIENT</td>\n",
       "      <td>DEFAULT_YES_IMAGE_QUALITY_SUFFICIENT</td>\n",
       "      <td>0</td>\n",
       "    </tr>\n",
       "    <tr>\n",
       "      <th>10</th>\n",
       "      <td>[1, 5, 1]</td>\n",
       "      <td>{'Eczema': 0.55, 'Drug Rash': 0.23, 'Allergic ...</td>\n",
       "      <td>DEFAULT_YES_IMAGE_QUALITY_SUFFICIENT</td>\n",
       "      <td>NaN</td>\n",
       "      <td>NaN</td>\n",
       "      <td>0</td>\n",
       "    </tr>\n",
       "    <tr>\n",
       "      <th>17</th>\n",
       "      <td>[2, 2, 2]</td>\n",
       "      <td>{'Stasis Dermatitis': 0.33, 'Eczema': 0.33, 'A...</td>\n",
       "      <td>DEFAULT_YES_IMAGE_QUALITY_SUFFICIENT</td>\n",
       "      <td>NaN</td>\n",
       "      <td>NaN</td>\n",
       "      <td>0</td>\n",
       "    </tr>\n",
       "    <tr>\n",
       "      <th>18</th>\n",
       "      <td>[4, 2, 4, 1, 2, 2]</td>\n",
       "      <td>{'Tinea Versicolor': 0.61, 'Seborrheic Dermati...</td>\n",
       "      <td>DEFAULT_YES_IMAGE_QUALITY_SUFFICIENT</td>\n",
       "      <td>DEFAULT_YES_IMAGE_QUALITY_SUFFICIENT</td>\n",
       "      <td>DEFAULT_YES_IMAGE_QUALITY_SUFFICIENT</td>\n",
       "      <td>0</td>\n",
       "    </tr>\n",
       "    <tr>\n",
       "      <th>33</th>\n",
       "      <td>[1, 1, 1, 1, 3, 4]</td>\n",
       "      <td>{'Impetigo': 0.17, 'Allergic Contact Dermatiti...</td>\n",
       "      <td>DEFAULT_YES_IMAGE_QUALITY_SUFFICIENT</td>\n",
       "      <td>DEFAULT_YES_IMAGE_QUALITY_SUFFICIENT</td>\n",
       "      <td>DEFAULT_YES_IMAGE_QUALITY_SUFFICIENT</td>\n",
       "      <td>0</td>\n",
       "    </tr>\n",
       "  </tbody>\n",
       "</table>\n",
       "</div>"
      ],
      "text/plain": [
       "   dermatologist_skin_condition_confidence  \\\n",
       "8                       [1, 3, 3, 2, 4, 3]   \n",
       "10                               [1, 5, 1]   \n",
       "17                               [2, 2, 2]   \n",
       "18                      [4, 2, 4, 1, 2, 2]   \n",
       "33                      [1, 1, 1, 1, 3, 4]   \n",
       "\n",
       "                        weighted_skin_condition_label  \\\n",
       "8   {'Eczema': 0.67, 'Psoriasis': 0.11, 'Acute and...   \n",
       "10  {'Eczema': 0.55, 'Drug Rash': 0.23, 'Allergic ...   \n",
       "17  {'Stasis Dermatitis': 0.33, 'Eczema': 0.33, 'A...   \n",
       "18  {'Tinea Versicolor': 0.61, 'Seborrheic Dermati...   \n",
       "33  {'Impetigo': 0.17, 'Allergic Contact Dermatiti...   \n",
       "\n",
       "   dermatologist_gradable_for_skin_condition_1  \\\n",
       "8         DEFAULT_YES_IMAGE_QUALITY_SUFFICIENT   \n",
       "10        DEFAULT_YES_IMAGE_QUALITY_SUFFICIENT   \n",
       "17        DEFAULT_YES_IMAGE_QUALITY_SUFFICIENT   \n",
       "18        DEFAULT_YES_IMAGE_QUALITY_SUFFICIENT   \n",
       "33        DEFAULT_YES_IMAGE_QUALITY_SUFFICIENT   \n",
       "\n",
       "   dermatologist_gradable_for_skin_condition_2  \\\n",
       "8         DEFAULT_YES_IMAGE_QUALITY_SUFFICIENT   \n",
       "10                                         NaN   \n",
       "17                                         NaN   \n",
       "18        DEFAULT_YES_IMAGE_QUALITY_SUFFICIENT   \n",
       "33        DEFAULT_YES_IMAGE_QUALITY_SUFFICIENT   \n",
       "\n",
       "   dermatologist_gradable_for_skin_condition_3  eczema  \n",
       "8         DEFAULT_YES_IMAGE_QUALITY_SUFFICIENT       0  \n",
       "10                                         NaN       0  \n",
       "17                                         NaN       0  \n",
       "18        DEFAULT_YES_IMAGE_QUALITY_SUFFICIENT       0  \n",
       "33        DEFAULT_YES_IMAGE_QUALITY_SUFFICIENT       0  "
      ]
     },
     "execution_count": 12,
     "metadata": {},
     "output_type": "execute_result"
    }
   ],
   "source": [
    "merged_df[['dermatologist_skin_condition_confidence', 'weighted_skin_condition_label', 'dermatologist_gradable_for_skin_condition_1', 'dermatologist_gradable_for_skin_condition_2','dermatologist_gradable_for_skin_condition_3', 'eczema']][merged_df['eczema'] ==0].head()"
   ]
  },
  {
   "cell_type": "code",
   "execution_count": 13,
   "id": "8f3b9784",
   "metadata": {},
   "outputs": [
    {
     "data": {
      "text/plain": [
       "eczema\n",
       "-1    3896\n",
       " 0     770\n",
       " 1     367\n",
       "Name: count, dtype: int64"
      ]
     },
     "execution_count": 13,
     "metadata": {},
     "output_type": "execute_result"
    }
   ],
   "source": [
    "merged_df['eczema'].value_counts()"
   ]
  },
  {
   "cell_type": "code",
   "execution_count": 14,
   "id": "edc6e129",
   "metadata": {},
   "outputs": [
    {
     "data": {
      "text/plain": [
       "eczema\n",
       "0    770\n",
       "1    367\n",
       "Name: count, dtype: int64"
      ]
     },
     "execution_count": 14,
     "metadata": {},
     "output_type": "execute_result"
    }
   ],
   "source": [
    "#ignore non eczema dataset\n",
    "merged_df = merged_df[merged_df['eczema'] != -1] \n",
    "merged_df['eczema'].value_counts()"
   ]
  },
  {
   "cell_type": "code",
   "execution_count": 15,
   "id": "f22f82f4",
   "metadata": {},
   "outputs": [
    {
     "data": {
      "text/html": [
       "<div>\n",
       "<style scoped>\n",
       "    .dataframe tbody tr th:only-of-type {\n",
       "        vertical-align: middle;\n",
       "    }\n",
       "\n",
       "    .dataframe tbody tr th {\n",
       "        vertical-align: top;\n",
       "    }\n",
       "\n",
       "    .dataframe thead th {\n",
       "        text-align: right;\n",
       "    }\n",
       "</style>\n",
       "<table border=\"1\" class=\"dataframe\">\n",
       "  <thead>\n",
       "    <tr style=\"text-align: right;\">\n",
       "      <th></th>\n",
       "      <th>dermatologist_skin_condition_confidence</th>\n",
       "      <th>weighted_skin_condition_label</th>\n",
       "      <th>eczema</th>\n",
       "    </tr>\n",
       "  </thead>\n",
       "  <tbody>\n",
       "    <tr>\n",
       "      <th>8</th>\n",
       "      <td>[1, 3, 3, 2, 4, 3]</td>\n",
       "      <td>{'Eczema': 0.67, 'Psoriasis': 0.11, 'Acute and...</td>\n",
       "      <td>0</td>\n",
       "    </tr>\n",
       "    <tr>\n",
       "      <th>10</th>\n",
       "      <td>[1, 5, 1]</td>\n",
       "      <td>{'Eczema': 0.55, 'Drug Rash': 0.23, 'Allergic ...</td>\n",
       "      <td>0</td>\n",
       "    </tr>\n",
       "    <tr>\n",
       "      <th>17</th>\n",
       "      <td>[2, 2, 2]</td>\n",
       "      <td>{'Stasis Dermatitis': 0.33, 'Eczema': 0.33, 'A...</td>\n",
       "      <td>0</td>\n",
       "    </tr>\n",
       "    <tr>\n",
       "      <th>18</th>\n",
       "      <td>[4, 2, 4, 1, 2, 2]</td>\n",
       "      <td>{'Tinea Versicolor': 0.61, 'Seborrheic Dermati...</td>\n",
       "      <td>0</td>\n",
       "    </tr>\n",
       "    <tr>\n",
       "      <th>25</th>\n",
       "      <td>[5]</td>\n",
       "      <td>{'Eczema': 1.0}</td>\n",
       "      <td>1</td>\n",
       "    </tr>\n",
       "    <tr>\n",
       "      <th>...</th>\n",
       "      <td>...</td>\n",
       "      <td>...</td>\n",
       "      <td>...</td>\n",
       "    </tr>\n",
       "    <tr>\n",
       "      <th>5014</th>\n",
       "      <td>[2, 2]</td>\n",
       "      <td>{'Allergic Contact Dermatitis': 0.5, 'Irritant...</td>\n",
       "      <td>0</td>\n",
       "    </tr>\n",
       "    <tr>\n",
       "      <th>5016</th>\n",
       "      <td>[4]</td>\n",
       "      <td>{'Stasis Dermatitis': 1.0}</td>\n",
       "      <td>1</td>\n",
       "    </tr>\n",
       "    <tr>\n",
       "      <th>5021</th>\n",
       "      <td>[4, 2, 2, 2, 3]</td>\n",
       "      <td>{'Eczema': 0.68, 'Scabies': 0.16, 'Hypersensit...</td>\n",
       "      <td>1</td>\n",
       "    </tr>\n",
       "    <tr>\n",
       "      <th>5024</th>\n",
       "      <td>[3, 4, 2, 5]</td>\n",
       "      <td>{'Stasis Dermatitis': 0.33, 'Pigmented purpuri...</td>\n",
       "      <td>0</td>\n",
       "    </tr>\n",
       "    <tr>\n",
       "      <th>5028</th>\n",
       "      <td>[5, 4, 5]</td>\n",
       "      <td>{'CD - Contact dermatitis': 0.33, 'Allergic Co...</td>\n",
       "      <td>0</td>\n",
       "    </tr>\n",
       "  </tbody>\n",
       "</table>\n",
       "<p>1137 rows × 3 columns</p>\n",
       "</div>"
      ],
      "text/plain": [
       "     dermatologist_skin_condition_confidence  \\\n",
       "8                         [1, 3, 3, 2, 4, 3]   \n",
       "10                                 [1, 5, 1]   \n",
       "17                                 [2, 2, 2]   \n",
       "18                        [4, 2, 4, 1, 2, 2]   \n",
       "25                                       [5]   \n",
       "...                                      ...   \n",
       "5014                                  [2, 2]   \n",
       "5016                                     [4]   \n",
       "5021                         [4, 2, 2, 2, 3]   \n",
       "5024                            [3, 4, 2, 5]   \n",
       "5028                               [5, 4, 5]   \n",
       "\n",
       "                          weighted_skin_condition_label  eczema  \n",
       "8     {'Eczema': 0.67, 'Psoriasis': 0.11, 'Acute and...       0  \n",
       "10    {'Eczema': 0.55, 'Drug Rash': 0.23, 'Allergic ...       0  \n",
       "17    {'Stasis Dermatitis': 0.33, 'Eczema': 0.33, 'A...       0  \n",
       "18    {'Tinea Versicolor': 0.61, 'Seborrheic Dermati...       0  \n",
       "25                                      {'Eczema': 1.0}       1  \n",
       "...                                                 ...     ...  \n",
       "5014  {'Allergic Contact Dermatitis': 0.5, 'Irritant...       0  \n",
       "5016                         {'Stasis Dermatitis': 1.0}       1  \n",
       "5021  {'Eczema': 0.68, 'Scabies': 0.16, 'Hypersensit...       1  \n",
       "5024  {'Stasis Dermatitis': 0.33, 'Pigmented purpuri...       0  \n",
       "5028  {'CD - Contact dermatitis': 0.33, 'Allergic Co...       0  \n",
       "\n",
       "[1137 rows x 3 columns]"
      ]
     },
     "execution_count": 15,
     "metadata": {},
     "output_type": "execute_result"
    }
   ],
   "source": [
    "merged_df[['dermatologist_skin_condition_confidence', 'weighted_skin_condition_label', 'eczema']]"
   ]
  },
  {
   "cell_type": "code",
   "execution_count": 16,
   "id": "9c49c213",
   "metadata": {},
   "outputs": [],
   "source": [
    "def calculate_image_path(row):\n",
    "    if row['image_1_shot_type'] == 'CLOSE_UP' and  row['dermatologist_gradable_for_skin_condition_1'] == 'DEFAULT_YES_IMAGE_QUALITY_SUFFICIENT': #CLOSE_UP, AT_DISTANCE\n",
    "        return ''+row['image_1_path']\n",
    "    elif row['image_2_shot_type'] == 'CLOSE_UP' and  row['dermatologist_gradable_for_skin_condition_2'] == 'DEFAULT_YES_IMAGE_QUALITY_SUFFICIENT':\n",
    "        return ''+row['image_2_path']\n",
    "    elif row['image_3_shot_type'] == 'CLOSE_UP' and  row['dermatologist_gradable_for_skin_condition_3'] == 'DEFAULT_YES_IMAGE_QUALITY_SUFFICIENT':\n",
    "        return str(row['image_3_path'])\n",
    "    else:\n",
    "        return ''  # or any default value if none is found"
   ]
  },
  {
   "cell_type": "code",
   "execution_count": 17,
   "id": "576a8d8c",
   "metadata": {},
   "outputs": [
    {
     "data": {
      "text/plain": [
       "1137"
      ]
     },
     "execution_count": 17,
     "metadata": {},
     "output_type": "execute_result"
    }
   ],
   "source": [
    "# Create image path column\n",
    "merged_df['image_path'] = merged_df.apply(calculate_image_path, axis=1)\n",
    "len(merged_df)"
   ]
  },
  {
   "cell_type": "code",
   "execution_count": 18,
   "id": "ffaeed04",
   "metadata": {},
   "outputs": [
    {
     "data": {
      "text/plain": [
       "805"
      ]
     },
     "execution_count": 18,
     "metadata": {},
     "output_type": "execute_result"
    }
   ],
   "source": [
    "merged_df = merged_df[merged_df['image_path'].apply(os.path.exists)]\n",
    "len(merged_df)"
   ]
  },
  {
   "cell_type": "code",
   "execution_count": 19,
   "id": "b8bf3c1f",
   "metadata": {},
   "outputs": [
    {
     "data": {
      "text/plain": [
       "eczema\n",
       "0    567\n",
       "1    238\n",
       "Name: count, dtype: int64"
      ]
     },
     "execution_count": 19,
     "metadata": {},
     "output_type": "execute_result"
    }
   ],
   "source": [
    "merged_df['eczema'].value_counts()"
   ]
  },
  {
   "cell_type": "code",
   "execution_count": 20,
   "id": "5f738af2",
   "metadata": {},
   "outputs": [
    {
     "data": {
      "text/plain": [
       "'dataset/images/960187272475981264.png'"
      ]
     },
     "execution_count": 20,
     "metadata": {},
     "output_type": "execute_result"
    }
   ],
   "source": [
    "new_df = merged_df[merged_df['eczema'] ==1]['image_path'].reset_index()\n",
    "new_df.loc[1]['image_path']"
   ]
  },
  {
   "cell_type": "code",
   "execution_count": 21,
   "id": "5a97c1c4",
   "metadata": {},
   "outputs": [
    {
     "data": {
      "image/png": "[encoded data removed]",
      "text/plain": [
       "<Figure size 640x480 with 1 Axes>"
      ]
     },
     "metadata": {},
     "output_type": "display_data"
    },
    {
     "data": {
      "text/plain": [
       "torch.Size([192, 192, 3])"
      ]
     },
     "execution_count": 21,
     "metadata": {},
     "output_type": "execute_result"
    }
   ],
   "source": [
    "import torch\n",
    "import matplotlib.pyplot as plt\n",
    "from torchvision import transforms\n",
    "from PIL import Image\n",
    "\n",
    "# Load an image using PIL (you can replace this with your image path)\n",
    "image_path = new_df.loc[50]['image_path']\n",
    "image = Image.open(image_path)\n",
    "\n",
    "# Convert the image to a PyTorch tensor\n",
    "# transform =  transforms.Compose([ transforms.Resize((244, 244)),\n",
    "#                                 transforms.RandomResizedCrop(192, scale=(0.8, 1.0)),\n",
    "#                                 transforms.ToTensor()\n",
    "#                                 ])\n",
    "\n",
    "transform =  transforms.Compose([\n",
    "#         transforms.Resize((512, 512)),\n",
    "#         transforms.ColorJitter(0.5, 0.5, 0.5, 0.1),\n",
    "#         transforms.RandomHorizontalFlip(),\n",
    "        transforms.RandomRotation(15),  \n",
    "        transforms.RandomHorizontalFlip(p=0.3),  # Horizontal flip with 50% probability\n",
    "        transforms.RandomVerticalFlip(p=0.3),   \n",
    "        transforms.RandomResizedCrop(192, scale=(0.8, 1.0)),\n",
    "        transforms.RandomAffine(degrees=0, shear=10),\n",
    "#         transforms.ColorJitter(0.25, 0.25, 0.25, 0.1),\n",
    "        transforms.ToTensor(),\n",
    "        transforms.ConvertImageDtype(torch.float),        \n",
    "#         transforms.Normalize([0.485, 0.456, 0.406], [0.229, 0.224, 0.225]),\n",
    "    ])\n",
    "image_tensor = transform(image)\n",
    "\n",
    "# Convert the image tensor from [C, H, W] to [H, W, C] for displaying\n",
    "image_tensor = image_tensor.permute(1, 2, 0)\n",
    "\n",
    "# Plot the image using matplotlib\n",
    "plt.imshow(image_tensor)\n",
    "plt.axis('off')  # Hide axes for better visual appearance\n",
    "plt.show()\n",
    "image_tensor.shape"
   ]
  },
  {
   "cell_type": "code",
   "execution_count": 22,
   "id": "dfef6ba5",
   "metadata": {},
   "outputs": [
    {
     "data": {
      "text/plain": [
       "torch.Size([192, 192, 3])"
      ]
     },
     "execution_count": 22,
     "metadata": {},
     "output_type": "execute_result"
    }
   ],
   "source": [
    "image_tensor.shape"
   ]
  },
  {
   "cell_type": "code",
   "execution_count": 23,
   "id": "1f9a80be",
   "metadata": {},
   "outputs": [],
   "source": [
    "# Filter out missing labels and images\n",
    "filtered_df = merged_df.dropna(subset=['eczema', 'image_path'])\n",
    "\n",
    "# Split data into training and validation sets\n",
    "train_df, val_df = train_test_split(filtered_df, test_size=0.2, random_state=42)\n"
   ]
  },
  {
   "cell_type": "code",
   "execution_count": 24,
   "id": "37e857db",
   "metadata": {},
   "outputs": [
    {
     "data": {
      "text/plain": [
       "eczema\n",
       "0    457\n",
       "1    187\n",
       "Name: count, dtype: int64"
      ]
     },
     "execution_count": 24,
     "metadata": {},
     "output_type": "execute_result"
    }
   ],
   "source": [
    "train_df['eczema'].value_counts()"
   ]
  },
  {
   "cell_type": "code",
   "execution_count": 25,
   "id": "10d1df20",
   "metadata": {},
   "outputs": [
    {
     "data": {
      "text/plain": [
       "eczema\n",
       "0    110\n",
       "1     51\n",
       "Name: count, dtype: int64"
      ]
     },
     "execution_count": 25,
     "metadata": {},
     "output_type": "execute_result"
    }
   ],
   "source": [
    "val_df['eczema'].value_counts()"
   ]
  },
  {
   "cell_type": "code",
   "execution_count": 26,
   "id": "a1984597",
   "metadata": {},
   "outputs": [],
   "source": [
    "# Import necessary libraries\n",
    "from torch.utils.data import Dataset\n",
    "from PIL import Image\n",
    "import torch\n",
    "\n",
    "# Define custom dataset class\n",
    "class EczemaDataset(Dataset):\n",
    "    def __init__(self, df, transform):\n",
    "        self.df = df\n",
    "        self.transform = transform\n",
    "\n",
    "    def __len__(self):\n",
    "        return len(self.df)\n",
    "\n",
    "    def __getitem__(self, idx):\n",
    "        image_path = self.df.iloc[idx]['image_path']\n",
    "        image = Image.open(image_path).convert('RGB')\n",
    "        label = self.df.iloc[idx]['eczema']\n",
    "\n",
    "        image = self.transform(image)\n",
    "        label = torch.tensor(label, dtype=torch.float)\n",
    "#         label = torch.tensor(label)\n",
    "\n",
    "\n",
    "        return image, label"
   ]
  },
  {
   "cell_type": "code",
   "execution_count": 27,
   "id": "5f6e7e0c",
   "metadata": {},
   "outputs": [],
   "source": [
    "import torchvision.transforms as transforms\n",
    "\n",
    "data_transforms = {\n",
    "    'train': transforms.Compose([\n",
    "        transforms.Resize(256),\n",
    "        transforms.CenterCrop(224),\n",
    "        transforms.RandomRotation(15),  \n",
    "        transforms.RandomHorizontalFlip(p=0.3),  # Horizontal flip with 50% probability\n",
    "        transforms.RandomVerticalFlip(p=0.3),   \n",
    "        transforms.ToTensor(),\n",
    "        transforms.ConvertImageDtype(torch.float),        \n",
    "#         transforms.Normalize([0.485, 0.456, 0.406], [0.229, 0.224, 0.225])\n",
    "    ]),\n",
    "    'val': transforms.Compose([\n",
    "        transforms.Resize(256),\n",
    "        transforms.CenterCrop(224),\n",
    "        transforms.ToTensor(),\n",
    "        transforms.ConvertImageDtype(torch.float),\n",
    "#         transforms.Normalize([0.485, 0.456, 0.406], [0.229, 0.224, 0.225])\n",
    "    ]),\n",
    "}"
   ]
  },
  {
   "cell_type": "code",
   "execution_count": 28,
   "id": "47307137",
   "metadata": {},
   "outputs": [],
   "source": [
    "import torch.nn as nn\n",
    "import torchvision.models as models\n",
    "\n",
    "# Define model\n",
    "class EczemaClassifier(nn.Module):\n",
    "    def __init__(self):\n",
    "        super(EczemaClassifier, self).__init__()\n",
    "#         self.model = torchvision.models.resnet18(weights=torchvision.models.ResNet18_Weights.DEFAULT)\n",
    "        self.model = torchvision.models.resnet152(weights=torchvision.models.ResNet152_Weights.DEFAULT)\n",
    "        # Freeze layers except for the final one\n",
    "        for param in self.model.parameters():\n",
    "            param.requires_grad = False        \n",
    "\n",
    "        self.model.fc = nn.Linear(self.model.fc.in_features, 1)\n",
    "        self.dropout = nn.Dropout(p=0.2)\n",
    "\n",
    "    def forward(self, x):\n",
    "        x = self.model(x)\n",
    "        x = self.dropout(x)\n",
    "        return x"
   ]
  },
  {
   "cell_type": "code",
   "execution_count": 29,
   "id": "5de648b3",
   "metadata": {},
   "outputs": [
    {
     "data": {
      "text/plain": [
       "(644, 161)"
      ]
     },
     "execution_count": 29,
     "metadata": {},
     "output_type": "execute_result"
    }
   ],
   "source": [
    "len(train_df), len(val_df)"
   ]
  },
  {
   "cell_type": "code",
   "execution_count": 30,
   "id": "291324bf",
   "metadata": {},
   "outputs": [],
   "source": [
    "def save_model(model_name, model, epoch, val_acc):\n",
    "    scripted_model = torch.jit.script(model)\n",
    "    torch.jit.save(scripted_model, f'{model_name}-{epoch}-{val_acc:.4f}.pth')"
   ]
  },
  {
   "cell_type": "code",
   "execution_count": 31,
   "id": "2ac1335e",
   "metadata": {},
   "outputs": [
    {
     "name": "stdout",
     "output_type": "stream",
     "text": [
      "device=cuda\n"
     ]
    }
   ],
   "source": [
    "# Train model\n",
    "device = torch.device(\"cuda\" if torch.cuda.is_available() else \"cpu\")\n",
    "print(f'device={device}')\n",
    "\n",
    "from torch.utils.tensorboard import SummaryWriter\n",
    "writer = SummaryWriter()"
   ]
  },
  {
   "cell_type": "code",
   "execution_count": 32,
   "id": "10a7f6c2",
   "metadata": {},
   "outputs": [
    {
     "name": "stdout",
     "output_type": "stream",
     "text": [
      "Class distribution: Counter({0: 457, 1: 187})\n",
      "Number of positive samples: 187\n",
      "Number of negative samples: 457\n",
      "Pos weight calculated: 2.443850267379679\n"
     ]
    }
   ],
   "source": [
    "import torch\n",
    "from collections import Counter\n",
    "\n",
    "# Step 1: Load and prepare your dataset (assuming your dataset is loaded into `train_df`)\n",
    "# Assuming labels are stored in a column named 'label'\n",
    "\n",
    "# Check the distribution of the classes in your dataset\n",
    "class_counts = Counter(train_df['eczema'])\n",
    "print(f\"Class distribution: {class_counts}\")\n",
    "\n",
    "# Step 2: Calculate the number of samples for each class\n",
    "num_positive = class_counts[1]\n",
    "num_negative = class_counts[0]\n",
    "\n",
    "print(f\"Number of positive samples: {num_positive}\")\n",
    "print(f\"Number of negative samples: {num_negative}\")\n",
    "\n",
    "# Step 3: Compute the pos_weight\n",
    "# pos_weight is typically set to the ratio of negative to positive examples\n",
    "pos_weight = num_negative / num_positive\n",
    "print(f\"Pos weight calculated: {pos_weight}\")"
   ]
  },
  {
   "cell_type": "code",
   "execution_count": 33,
   "id": "87369689",
   "metadata": {},
   "outputs": [],
   "source": [
    "def compute_AUC(gt, pred):\n",
    "    AUROCs = []\n",
    "    gt_np = gt.detach().cpu().numpy()\n",
    "    pred_np = pred.detach().cpu().numpy()\n",
    "    AUROC = roc_auc_score(gt_np, pred_np)\n",
    "    return AUROC"
   ]
  },
  {
   "cell_type": "code",
   "execution_count": 34,
   "id": "0327e392",
   "metadata": {},
   "outputs": [],
   "source": [
    "# Create data loaders\n",
    "train_dataset = EczemaDataset(train_df, data_transforms['train'])\n",
    "val_dataset = EczemaDataset(val_df, data_transforms['val'])\n",
    "\n",
    "train_loader = torch.utils.data.DataLoader(train_dataset, batch_size=750, shuffle=True) # 750\n",
    "val_loader = torch.utils.data.DataLoader(val_dataset, batch_size=256, shuffle=False) #256"
   ]
  },
  {
   "cell_type": "code",
   "execution_count": 35,
   "id": "387df554",
   "metadata": {},
   "outputs": [
    {
     "name": "stdout",
     "output_type": "stream",
     "text": [
      "pos_weight_tensor=tensor([2.4439], device='cuda:0')\n"
     ]
    }
   ],
   "source": [
    "model = EczemaClassifier().to(device)\n",
    "\n",
    "pos_weight_tensor = torch.tensor([pos_weight]).to(device)\n",
    "print(f\"pos_weight_tensor={pos_weight_tensor}\")\n",
    "criterion = torch.nn.BCEWithLogitsLoss(pos_weight=pos_weight_tensor)\n",
    "\n",
    "optimizer = torch.optim.Adam(model.parameters(), lr=0.01)\n",
    "\n",
    "best_AUROC = 0.0\n",
    "global_step = 0\n",
    "global_epochs = 0"
   ]
  },
  {
   "cell_type": "code",
   "execution_count": 36,
   "id": "de385eaa",
   "metadata": {},
   "outputs": [
    {
     "name": "stdout",
     "output_type": "stream",
     "text": [
      "Epoch: 1, Training Loss: 0.9904, AUROC_TRAIN:0.4985,  Time: 25.02 seconds \n",
      "Epoch: 2, Training Loss: 1.0275, AUROC_TRAIN:0.5999,  Time: 17.29 seconds \n",
      "Epoch: 3, Training Loss: 1.3047, AUROC_TRAIN:0.5346, Time: 16.67 seconds, AUROC_VALID:0.4806\n",
      "Epoch: 4, Training Loss: 0.9725, AUROC_TRAIN:0.6234,  Time: 18.35 seconds \n",
      "Epoch: 5, Training Loss: 1.0709, AUROC_TRAIN:0.5831,  Time: 17.67 seconds \n",
      "Epoch: 6, Training Loss: 1.0889, AUROC_TRAIN:0.6257, Time: 17.38 seconds, AUROC_VALID:0.4882\n",
      "Epoch: 7, Training Loss: 0.9348, AUROC_TRAIN:0.6804,  Time: 17.81 seconds \n",
      "Epoch: 8, Training Loss: 0.9528, AUROC_TRAIN:0.6641,  Time: 17.07 seconds \n",
      "Epoch: 9, Training Loss: 1.0143, AUROC_TRAIN:0.6466, Time: 17.42 seconds, AUROC_VALID:0.4811\n",
      "Epoch: 10, Training Loss: 0.9490, AUROC_TRAIN:0.6864,  Time: 17.19 seconds \n",
      "Epoch: 11, Training Loss: 0.8939, AUROC_TRAIN:0.7048,  Time: 16.76 seconds \n",
      "Epoch: 12, Training Loss: 0.9055, AUROC_TRAIN:0.7211, Time: 17.19 seconds, AUROC_VALID:0.4658\n",
      "Epoch: 13, Training Loss: 0.9436, AUROC_TRAIN:0.6937,  Time: 16.97 seconds \n",
      "Epoch: 14, Training Loss: 0.9031, AUROC_TRAIN:0.7251,  Time: 16.76 seconds \n",
      "Epoch: 15, Training Loss: 0.8492, AUROC_TRAIN:0.7602, Time: 16.79 seconds, AUROC_VALID:0.4483\n",
      "Epoch: 16, Training Loss: 0.8768, AUROC_TRAIN:0.7342,  Time: 16.63 seconds \n",
      "Epoch: 17, Training Loss: 0.8884, AUROC_TRAIN:0.7319,  Time: 17.13 seconds \n",
      "Epoch: 18, Training Loss: 0.8610, AUROC_TRAIN:0.7418, Time: 16.79 seconds, AUROC_VALID:0.4496\n",
      "Epoch: 19, Training Loss: 0.8705, AUROC_TRAIN:0.7230,  Time: 17.26 seconds \n",
      "Epoch: 20, Training Loss: 0.8479, AUROC_TRAIN:0.7629,  Time: 17.43 seconds \n",
      "Epoch: 21, Training Loss: 0.8357, AUROC_TRAIN:0.7889, Time: 17.31 seconds, AUROC_VALID:0.4572\n",
      "Epoch: 22, Training Loss: 0.8350, AUROC_TRAIN:0.7707,  Time: 17.47 seconds \n",
      "Epoch: 23, Training Loss: 0.8302, AUROC_TRAIN:0.7883,  Time: 16.63 seconds \n",
      "Epoch: 24, Training Loss: 0.8201, AUROC_TRAIN:0.7818, Time: 17.39 seconds, AUROC_VALID:0.4661\n",
      "Epoch: 25, Training Loss: 0.8121, AUROC_TRAIN:0.8020,  Time: 17.23 seconds \n",
      "Epoch: 26, Training Loss: 0.7946, AUROC_TRAIN:0.8013,  Time: 17.11 seconds \n",
      "Epoch: 27, Training Loss: 0.8094, AUROC_TRAIN:0.7962, Time: 17.13 seconds, AUROC_VALID:0.4622\n",
      "Epoch: 28, Training Loss: 0.7855, AUROC_TRAIN:0.8163,  Time: 17.28 seconds \n",
      "Epoch: 29, Training Loss: 0.8021, AUROC_TRAIN:0.8001,  Time: 16.90 seconds \n",
      "Epoch: 30, Training Loss: 0.7851, AUROC_TRAIN:0.8117, Time: 16.74 seconds, AUROC_VALID:0.4560\n",
      "Epoch: 31, Training Loss: 0.7863, AUROC_TRAIN:0.8118,  Time: 17.15 seconds \n",
      "Epoch: 32, Training Loss: 0.8058, AUROC_TRAIN:0.7958,  Time: 16.75 seconds \n",
      "Epoch: 33, Training Loss: 0.7921, AUROC_TRAIN:0.7953, Time: 17.07 seconds, AUROC_VALID:0.4524\n",
      "Epoch: 34, Training Loss: 0.7842, AUROC_TRAIN:0.8155,  Time: 16.71 seconds \n",
      "Epoch: 35, Training Loss: 0.7462, AUROC_TRAIN:0.8429,  Time: 17.02 seconds \n",
      "Epoch: 36, Training Loss: 0.7504, AUROC_TRAIN:0.8418, Time: 16.97 seconds, AUROC_VALID:0.4497\n",
      "Epoch: 37, Training Loss: 0.7536, AUROC_TRAIN:0.8454,  Time: 16.54 seconds \n",
      "Epoch: 38, Training Loss: 0.7350, AUROC_TRAIN:0.8514,  Time: 19.38 seconds \n",
      "Epoch: 39, Training Loss: 0.7459, AUROC_TRAIN:0.8487, Time: 19.18 seconds, AUROC_VALID:0.4588\n",
      "Epoch: 40, Training Loss: 0.7574, AUROC_TRAIN:0.8313,  Time: 21.89 seconds \n",
      "Epoch: 41, Training Loss: 0.7446, AUROC_TRAIN:0.8389,  Time: 16.80 seconds \n",
      "Epoch: 42, Training Loss: 0.6979, AUROC_TRAIN:0.8730, Time: 17.28 seconds, AUROC_VALID:0.4586\n",
      "Epoch: 43, Training Loss: 0.7205, AUROC_TRAIN:0.8682,  Time: 17.03 seconds \n",
      "Epoch: 44, Training Loss: 0.7331, AUROC_TRAIN:0.8525,  Time: 16.57 seconds \n",
      "Epoch: 45, Training Loss: 0.7115, AUROC_TRAIN:0.8612, Time: 18.29 seconds, AUROC_VALID:0.4676\n",
      "Epoch: 46, Training Loss: 0.7069, AUROC_TRAIN:0.8617,  Time: 17.14 seconds \n",
      "Epoch: 47, Training Loss: 0.7392, AUROC_TRAIN:0.8324,  Time: 18.14 seconds \n",
      "Epoch: 48, Training Loss: 0.7208, AUROC_TRAIN:0.8513, Time: 16.85 seconds, AUROC_VALID:0.4734\n",
      "Epoch: 49, Training Loss: 0.7028, AUROC_TRAIN:0.8645,  Time: 17.27 seconds \n",
      "Epoch: 50, Training Loss: 0.7002, AUROC_TRAIN:0.8667,  Time: 17.56 seconds \n",
      "Epoch: 51, Training Loss: 0.7121, AUROC_TRAIN:0.8565, Time: 17.91 seconds, AUROC_VALID:0.4704\n",
      "Epoch: 52, Training Loss: 0.7120, AUROC_TRAIN:0.8540,  Time: 18.35 seconds \n",
      "Epoch: 53, Training Loss: 0.7436, AUROC_TRAIN:0.8280,  Time: 17.27 seconds \n",
      "Epoch: 54, Training Loss: 0.7125, AUROC_TRAIN:0.8649, Time: 17.41 seconds, AUROC_VALID:0.4692\n",
      "Epoch: 55, Training Loss: 0.6956, AUROC_TRAIN:0.8732,  Time: 17.37 seconds \n",
      "Epoch: 56, Training Loss: 0.7138, AUROC_TRAIN:0.8524,  Time: 16.87 seconds \n",
      "Epoch: 57, Training Loss: 0.7026, AUROC_TRAIN:0.8733, Time: 16.67 seconds, AUROC_VALID:0.4733\n",
      "Epoch: 58, Training Loss: 0.6867, AUROC_TRAIN:0.8683,  Time: 17.35 seconds \n",
      "Epoch: 59, Training Loss: 0.6447, AUROC_TRAIN:0.8931,  Time: 17.30 seconds \n",
      "Epoch: 60, Training Loss: 0.7304, AUROC_TRAIN:0.8370, Time: 17.13 seconds, AUROC_VALID:0.4788\n",
      "Epoch: 61, Training Loss: 0.6852, AUROC_TRAIN:0.8706,  Time: 17.02 seconds \n",
      "Epoch: 62, Training Loss: 0.6885, AUROC_TRAIN:0.8637,  Time: 16.77 seconds \n",
      "Epoch: 63, Training Loss: 0.7081, AUROC_TRAIN:0.8495, Time: 16.90 seconds, AUROC_VALID:0.4845\n",
      "Epoch: 64, Training Loss: 0.6617, AUROC_TRAIN:0.8768,  Time: 16.39 seconds \n",
      "Epoch: 65, Training Loss: 0.6574, AUROC_TRAIN:0.8873,  Time: 16.42 seconds \n",
      "Epoch: 66, Training Loss: 0.6773, AUROC_TRAIN:0.8748, Time: 16.59 seconds, AUROC_VALID:0.4875\n",
      "Epoch: 67, Training Loss: 0.6706, AUROC_TRAIN:0.8659,  Time: 17.03 seconds \n",
      "Epoch: 68, Training Loss: 0.6376, AUROC_TRAIN:0.9004,  Time: 16.81 seconds \n",
      "Epoch: 69, Training Loss: 0.6955, AUROC_TRAIN:0.8500, Time: 16.38 seconds, AUROC_VALID:0.4923\n",
      "Epoch: 70, Training Loss: 0.6731, AUROC_TRAIN:0.8813,  Time: 16.63 seconds \n",
      "Epoch: 71, Training Loss: 0.6597, AUROC_TRAIN:0.8787,  Time: 16.80 seconds \n",
      "Epoch: 72, Training Loss: 0.6671, AUROC_TRAIN:0.8762, Time: 16.60 seconds, AUROC_VALID:0.4904\n",
      "Epoch: 73, Training Loss: 0.6668, AUROC_TRAIN:0.8724,  Time: 16.65 seconds \n",
      "Epoch: 74, Training Loss: 0.6714, AUROC_TRAIN:0.8712,  Time: 16.32 seconds \n",
      "Epoch: 75, Training Loss: 0.6681, AUROC_TRAIN:0.8672, Time: 16.42 seconds, AUROC_VALID:0.4868\n",
      "Epoch: 76, Training Loss: 0.6484, AUROC_TRAIN:0.8918,  Time: 16.43 seconds \n",
      "Epoch: 77, Training Loss: 0.6557, AUROC_TRAIN:0.8829,  Time: 16.18 seconds \n",
      "Epoch: 78, Training Loss: 0.6435, AUROC_TRAIN:0.8828, Time: 16.20 seconds, AUROC_VALID:0.4834\n",
      "Epoch: 79, Training Loss: 0.6465, AUROC_TRAIN:0.8837,  Time: 16.26 seconds \n",
      "Epoch: 80, Training Loss: 0.6150, AUROC_TRAIN:0.8967,  Time: 16.55 seconds \n",
      "Epoch: 81, Training Loss: 0.6089, AUROC_TRAIN:0.9101, Time: 16.17 seconds, AUROC_VALID:0.4825\n",
      "Epoch: 82, Training Loss: 0.6572, AUROC_TRAIN:0.8793,  Time: 16.61 seconds \n",
      "Epoch: 83, Training Loss: 0.6482, AUROC_TRAIN:0.8753,  Time: 16.19 seconds \n",
      "Epoch: 84, Training Loss: 0.6799, AUROC_TRAIN:0.8586, Time: 16.47 seconds, AUROC_VALID:0.4838\n",
      "Epoch: 85, Training Loss: 0.6039, AUROC_TRAIN:0.9090,  Time: 16.63 seconds \n",
      "Epoch: 86, Training Loss: 0.6500, AUROC_TRAIN:0.8787,  Time: 16.81 seconds \n",
      "Epoch: 87, Training Loss: 0.6256, AUROC_TRAIN:0.9010, Time: 16.84 seconds, AUROC_VALID:0.4799\n",
      "Epoch: 88, Training Loss: 0.6548, AUROC_TRAIN:0.8754,  Time: 16.71 seconds \n",
      "Epoch: 89, Training Loss: 0.6276, AUROC_TRAIN:0.8921,  Time: 15.77 seconds \n",
      "Epoch: 90, Training Loss: 0.6505, AUROC_TRAIN:0.8699, Time: 16.36 seconds, AUROC_VALID:0.4768\n",
      "Epoch: 91, Training Loss: 0.6460, AUROC_TRAIN:0.8864,  Time: 16.33 seconds \n",
      "Epoch: 92, Training Loss: 0.6110, AUROC_TRAIN:0.9005,  Time: 16.19 seconds \n",
      "Epoch: 93, Training Loss: 0.6190, AUROC_TRAIN:0.8945, Time: 16.41 seconds, AUROC_VALID:0.4816\n",
      "Epoch: 94, Training Loss: 0.6170, AUROC_TRAIN:0.8974,  Time: 16.52 seconds \n",
      "Epoch: 95, Training Loss: 0.6267, AUROC_TRAIN:0.8847,  Time: 16.09 seconds \n",
      "Epoch: 96, Training Loss: 0.6327, AUROC_TRAIN:0.8789, Time: 16.64 seconds, AUROC_VALID:0.4793\n",
      "Epoch: 97, Training Loss: 0.6400, AUROC_TRAIN:0.8943,  Time: 16.70 seconds \n",
      "Epoch: 98, Training Loss: 0.5977, AUROC_TRAIN:0.9094,  Time: 16.46 seconds \n",
      "Epoch: 99, Training Loss: 0.6168, AUROC_TRAIN:0.8983, Time: 16.20 seconds, AUROC_VALID:0.4790\n",
      "Epoch: 100, Training Loss: 0.6048, AUROC_TRAIN:0.9016,  Time: 16.81 seconds \n",
      "Epoch: 101, Training Loss: 0.6179, AUROC_TRAIN:0.8942,  Time: 16.45 seconds \n"
     ]
    },
    {
     "name": "stdout",
     "output_type": "stream",
     "text": [
      "Epoch: 102, Training Loss: 0.6268, AUROC_TRAIN:0.8824, Time: 16.49 seconds, AUROC_VALID:0.4786\n",
      "Epoch: 103, Training Loss: 0.5805, AUROC_TRAIN:0.9201,  Time: 16.88 seconds \n",
      "Epoch: 104, Training Loss: 0.6057, AUROC_TRAIN:0.8947,  Time: 16.55 seconds \n",
      "Epoch: 105, Training Loss: 0.6139, AUROC_TRAIN:0.8902, Time: 16.50 seconds, AUROC_VALID:0.4772\n",
      "Epoch: 106, Training Loss: 0.6095, AUROC_TRAIN:0.9023,  Time: 17.00 seconds \n",
      "Epoch: 107, Training Loss: 0.6041, AUROC_TRAIN:0.8963,  Time: 16.68 seconds \n",
      "Epoch: 108, Training Loss: 0.5897, AUROC_TRAIN:0.9101, Time: 16.63 seconds, AUROC_VALID:0.4772\n",
      "Epoch: 109, Training Loss: 0.6146, AUROC_TRAIN:0.8946,  Time: 16.54 seconds \n",
      "Epoch: 110, Training Loss: 0.5925, AUROC_TRAIN:0.9015,  Time: 16.48 seconds \n",
      "Epoch: 111, Training Loss: 0.6210, AUROC_TRAIN:0.8894, Time: 16.34 seconds, AUROC_VALID:0.4781\n",
      "Epoch: 112, Training Loss: 0.5869, AUROC_TRAIN:0.9095,  Time: 16.57 seconds \n",
      "Epoch: 113, Training Loss: 0.5929, AUROC_TRAIN:0.9087,  Time: 16.63 seconds \n",
      "Epoch: 114, Training Loss: 0.5834, AUROC_TRAIN:0.9010, Time: 16.60 seconds, AUROC_VALID:0.4772\n",
      "Epoch: 115, Training Loss: 0.6142, AUROC_TRAIN:0.8937,  Time: 16.69 seconds \n",
      "Epoch: 116, Training Loss: 0.6017, AUROC_TRAIN:0.8922,  Time: 16.65 seconds \n",
      "Epoch: 117, Training Loss: 0.6145, AUROC_TRAIN:0.8973, Time: 16.28 seconds, AUROC_VALID:0.4775\n",
      "Epoch: 118, Training Loss: 0.5700, AUROC_TRAIN:0.9173,  Time: 16.79 seconds \n",
      "Epoch: 119, Training Loss: 0.5973, AUROC_TRAIN:0.9036,  Time: 16.65 seconds \n",
      "Epoch: 120, Training Loss: 0.5890, AUROC_TRAIN:0.9001, Time: 17.08 seconds, AUROC_VALID:0.4788\n",
      "Epoch: 121, Training Loss: 0.5996, AUROC_TRAIN:0.8939,  Time: 16.02 seconds \n",
      "Epoch: 122, Training Loss: 0.6285, AUROC_TRAIN:0.8813,  Time: 16.68 seconds \n",
      "Epoch: 123, Training Loss: 0.5959, AUROC_TRAIN:0.9044, Time: 16.70 seconds, AUROC_VALID:0.4799\n",
      "Epoch: 124, Training Loss: 0.5606, AUROC_TRAIN:0.9155,  Time: 16.75 seconds \n",
      "Epoch: 125, Training Loss: 0.6149, AUROC_TRAIN:0.8892,  Time: 15.97 seconds \n",
      "Epoch: 126, Training Loss: 0.5612, AUROC_TRAIN:0.9159, Time: 14.98 seconds, AUROC_VALID:0.4784\n",
      "Epoch: 127, Training Loss: 0.5752, AUROC_TRAIN:0.9010,  Time: 17.04 seconds \n",
      "Epoch: 128, Training Loss: 0.5953, AUROC_TRAIN:0.8967,  Time: 16.83 seconds \n",
      "Epoch: 129, Training Loss: 0.5900, AUROC_TRAIN:0.8966, Time: 15.75 seconds, AUROC_VALID:0.4795\n",
      "Epoch: 130, Training Loss: 0.6136, AUROC_TRAIN:0.8870,  Time: 17.03 seconds \n",
      "Epoch: 131, Training Loss: 0.6102, AUROC_TRAIN:0.8925,  Time: 16.60 seconds \n",
      "Epoch: 132, Training Loss: 0.5801, AUROC_TRAIN:0.9076, Time: 16.67 seconds, AUROC_VALID:0.4838\n",
      "Epoch: 133, Training Loss: 0.5907, AUROC_TRAIN:0.8959,  Time: 16.64 seconds \n",
      "Epoch: 134, Training Loss: 0.5896, AUROC_TRAIN:0.9017,  Time: 16.71 seconds \n",
      "Epoch: 135, Training Loss: 0.6009, AUROC_TRAIN:0.8898, Time: 16.42 seconds, AUROC_VALID:0.4843\n",
      "Epoch: 136, Training Loss: 0.5935, AUROC_TRAIN:0.8965,  Time: 16.68 seconds \n",
      "Epoch: 137, Training Loss: 0.5995, AUROC_TRAIN:0.8968,  Time: 16.83 seconds \n",
      "Epoch: 138, Training Loss: 0.5402, AUROC_TRAIN:0.9277, Time: 16.28 seconds, AUROC_VALID:0.4854\n",
      "Epoch: 139, Training Loss: 0.5747, AUROC_TRAIN:0.9099,  Time: 17.21 seconds \n",
      "Epoch: 140, Training Loss: 0.5711, AUROC_TRAIN:0.9081,  Time: 16.87 seconds \n",
      "Epoch: 141, Training Loss: 0.5638, AUROC_TRAIN:0.9118, Time: 16.71 seconds, AUROC_VALID:0.4850\n",
      "Epoch: 142, Training Loss: 0.5606, AUROC_TRAIN:0.9075,  Time: 22.40 seconds \n",
      "Epoch: 143, Training Loss: 0.5753, AUROC_TRAIN:0.9062,  Time: 22.87 seconds \n",
      "Epoch: 144, Training Loss: 0.5585, AUROC_TRAIN:0.9123, Time: 22.37 seconds, AUROC_VALID:0.4861\n",
      "Epoch: 145, Training Loss: 0.5322, AUROC_TRAIN:0.9267,  Time: 16.65 seconds \n",
      "Epoch: 146, Training Loss: 0.5581, AUROC_TRAIN:0.9050,  Time: 16.99 seconds \n",
      "Epoch: 147, Training Loss: 0.5668, AUROC_TRAIN:0.9096, Time: 16.20 seconds, AUROC_VALID:0.4857\n",
      "Epoch: 148, Training Loss: 0.5607, AUROC_TRAIN:0.9138,  Time: 17.04 seconds \n",
      "Epoch: 149, Training Loss: 0.5394, AUROC_TRAIN:0.9151,  Time: 16.56 seconds \n",
      "Epoch: 150, Training Loss: 0.5875, AUROC_TRAIN:0.8968, Time: 17.03 seconds, AUROC_VALID:0.4831\n",
      "Epoch: 151, Training Loss: 0.5103, AUROC_TRAIN:0.9345,  Time: 16.42 seconds \n",
      "Epoch: 152, Training Loss: 0.5473, AUROC_TRAIN:0.9174,  Time: 16.17 seconds \n",
      "Epoch: 153, Training Loss: 0.5654, AUROC_TRAIN:0.9128, Time: 16.57 seconds, AUROC_VALID:0.4861\n",
      "Epoch: 154, Training Loss: 0.6009, AUROC_TRAIN:0.8858,  Time: 16.63 seconds \n",
      "Epoch: 155, Training Loss: 0.5636, AUROC_TRAIN:0.9045,  Time: 15.97 seconds \n",
      "Epoch: 156, Training Loss: 0.5896, AUROC_TRAIN:0.8944, Time: 16.61 seconds, AUROC_VALID:0.4781\n",
      "Epoch: 157, Training Loss: 0.6022, AUROC_TRAIN:0.8861,  Time: 16.58 seconds \n",
      "Epoch: 158, Training Loss: 0.5742, AUROC_TRAIN:0.9059,  Time: 16.80 seconds \n",
      "Epoch: 159, Training Loss: 0.5327, AUROC_TRAIN:0.9233, Time: 16.37 seconds, AUROC_VALID:0.4824\n",
      "Epoch: 160, Training Loss: 0.5471, AUROC_TRAIN:0.9146,  Time: 16.49 seconds \n",
      "Epoch: 161, Training Loss: 0.5516, AUROC_TRAIN:0.9113,  Time: 16.37 seconds \n",
      "Epoch: 162, Training Loss: 0.5490, AUROC_TRAIN:0.9151, Time: 16.19 seconds, AUROC_VALID:0.4765\n",
      "Epoch: 163, Training Loss: 0.5246, AUROC_TRAIN:0.9259,  Time: 16.86 seconds \n",
      "Epoch: 164, Training Loss: 0.5814, AUROC_TRAIN:0.9052,  Time: 16.38 seconds \n",
      "Epoch: 165, Training Loss: 0.5637, AUROC_TRAIN:0.9093, Time: 16.77 seconds, AUROC_VALID:0.4747\n",
      "Epoch: 166, Training Loss: 0.5166, AUROC_TRAIN:0.9273,  Time: 16.47 seconds \n",
      "Epoch: 167, Training Loss: 0.5443, AUROC_TRAIN:0.9208,  Time: 17.01 seconds \n",
      "Epoch: 168, Training Loss: 0.5566, AUROC_TRAIN:0.9093, Time: 16.78 seconds, AUROC_VALID:0.4761\n",
      "Epoch: 169, Training Loss: 0.5488, AUROC_TRAIN:0.9157,  Time: 16.62 seconds \n",
      "Epoch: 170, Training Loss: 0.5508, AUROC_TRAIN:0.9130,  Time: 16.82 seconds \n",
      "Epoch: 171, Training Loss: 0.5717, AUROC_TRAIN:0.8966, Time: 16.14 seconds, AUROC_VALID:0.4743\n",
      "Epoch: 172, Training Loss: 0.5573, AUROC_TRAIN:0.9050,  Time: 16.96 seconds \n",
      "Epoch: 173, Training Loss: 0.5591, AUROC_TRAIN:0.9002,  Time: 16.60 seconds \n",
      "Epoch: 174, Training Loss: 0.5428, AUROC_TRAIN:0.9127, Time: 16.45 seconds, AUROC_VALID:0.4811\n",
      "Epoch: 175, Training Loss: 0.5918, AUROC_TRAIN:0.8931,  Time: 17.32 seconds \n",
      "Epoch: 176, Training Loss: 0.5610, AUROC_TRAIN:0.9091,  Time: 16.46 seconds \n",
      "Epoch: 177, Training Loss: 0.5679, AUROC_TRAIN:0.9021, Time: 16.61 seconds, AUROC_VALID:0.4797\n",
      "Epoch: 178, Training Loss: 0.5334, AUROC_TRAIN:0.9209,  Time: 16.74 seconds \n",
      "Epoch: 179, Training Loss: 0.5730, AUROC_TRAIN:0.8995,  Time: 16.78 seconds \n",
      "Epoch: 180, Training Loss: 0.5393, AUROC_TRAIN:0.9140, Time: 16.40 seconds, AUROC_VALID:0.4733\n",
      "Epoch: 181, Training Loss: 0.5431, AUROC_TRAIN:0.9192,  Time: 16.84 seconds \n",
      "Epoch: 182, Training Loss: 0.5532, AUROC_TRAIN:0.9066,  Time: 16.83 seconds \n",
      "Epoch: 183, Training Loss: 0.5447, AUROC_TRAIN:0.9205, Time: 16.96 seconds, AUROC_VALID:0.4692\n",
      "Epoch: 184, Training Loss: 0.5437, AUROC_TRAIN:0.9150,  Time: 17.26 seconds \n",
      "Epoch: 185, Training Loss: 0.5854, AUROC_TRAIN:0.8948,  Time: 17.02 seconds \n",
      "Epoch: 186, Training Loss: 0.5586, AUROC_TRAIN:0.9092, Time: 17.15 seconds, AUROC_VALID:0.4656\n",
      "Epoch: 187, Training Loss: 0.5679, AUROC_TRAIN:0.8986,  Time: 17.07 seconds \n",
      "Epoch: 188, Training Loss: 0.5217, AUROC_TRAIN:0.9215,  Time: 16.81 seconds \n",
      "Epoch: 189, Training Loss: 0.5681, AUROC_TRAIN:0.8998, Time: 16.80 seconds, AUROC_VALID:0.4656\n",
      "Epoch: 190, Training Loss: 0.5326, AUROC_TRAIN:0.9171,  Time: 16.92 seconds \n",
      "Epoch: 191, Training Loss: 0.5820, AUROC_TRAIN:0.8951,  Time: 16.77 seconds \n",
      "Epoch: 192, Training Loss: 0.5446, AUROC_TRAIN:0.9132, Time: 16.90 seconds, AUROC_VALID:0.4620\n",
      "Epoch: 193, Training Loss: 0.5116, AUROC_TRAIN:0.9296,  Time: 16.62 seconds \n",
      "Epoch: 194, Training Loss: 0.5140, AUROC_TRAIN:0.9278,  Time: 16.23 seconds \n",
      "Epoch: 195, Training Loss: 0.5410, AUROC_TRAIN:0.9163, Time: 16.21 seconds, AUROC_VALID:0.4686\n",
      "Epoch: 196, Training Loss: 0.5165, AUROC_TRAIN:0.9199,  Time: 16.09 seconds \n",
      "Epoch: 197, Training Loss: 0.5389, AUROC_TRAIN:0.9181,  Time: 16.33 seconds \n",
      "Epoch: 198, Training Loss: 0.5471, AUROC_TRAIN:0.9140, Time: 16.68 seconds, AUROC_VALID:0.4699\n",
      "Epoch: 199, Training Loss: 0.5445, AUROC_TRAIN:0.9165,  Time: 16.76 seconds \n",
      "Epoch: 200, Training Loss: 0.5407, AUROC_TRAIN:0.9141,  Time: 16.62 seconds \n"
     ]
    },
    {
     "name": "stdout",
     "output_type": "stream",
     "text": [
      "Epoch: 201, Training Loss: 0.5221, AUROC_TRAIN:0.9275, Time: 16.70 seconds, AUROC_VALID:0.4672\n",
      "Epoch: 202, Training Loss: 0.5496, AUROC_TRAIN:0.9081,  Time: 16.92 seconds \n",
      "Epoch: 203, Training Loss: 0.4988, AUROC_TRAIN:0.9272,  Time: 16.44 seconds \n",
      "Epoch: 204, Training Loss: 0.4886, AUROC_TRAIN:0.9339, Time: 16.59 seconds, AUROC_VALID:0.4642\n",
      "Epoch: 205, Training Loss: 0.5362, AUROC_TRAIN:0.9192,  Time: 16.47 seconds \n",
      "Epoch: 206, Training Loss: 0.5113, AUROC_TRAIN:0.9205,  Time: 16.69 seconds \n",
      "Epoch: 207, Training Loss: 0.5254, AUROC_TRAIN:0.9189, Time: 16.53 seconds, AUROC_VALID:0.4633\n",
      "Epoch: 208, Training Loss: 0.4998, AUROC_TRAIN:0.9243,  Time: 16.80 seconds \n",
      "Epoch: 209, Training Loss: 0.5360, AUROC_TRAIN:0.9158,  Time: 16.45 seconds \n",
      "Epoch: 210, Training Loss: 0.5078, AUROC_TRAIN:0.9266, Time: 16.38 seconds, AUROC_VALID:0.4635\n",
      "Epoch: 211, Training Loss: 0.4996, AUROC_TRAIN:0.9301,  Time: 16.33 seconds \n",
      "Epoch: 212, Training Loss: 0.5213, AUROC_TRAIN:0.9228,  Time: 16.63 seconds \n",
      "Epoch: 213, Training Loss: 0.5092, AUROC_TRAIN:0.9259, Time: 16.61 seconds, AUROC_VALID:0.4615\n",
      "Epoch: 214, Training Loss: 0.5041, AUROC_TRAIN:0.9289,  Time: 16.48 seconds \n",
      "Epoch: 215, Training Loss: 0.5531, AUROC_TRAIN:0.9057,  Time: 16.65 seconds \n",
      "Epoch: 216, Training Loss: 0.5631, AUROC_TRAIN:0.9022, Time: 15.96 seconds, AUROC_VALID:0.4645\n",
      "Epoch: 217, Training Loss: 0.5414, AUROC_TRAIN:0.9106,  Time: 16.19 seconds \n",
      "Epoch: 218, Training Loss: 0.5219, AUROC_TRAIN:0.9191,  Time: 16.82 seconds \n",
      "Epoch: 219, Training Loss: 0.5389, AUROC_TRAIN:0.9087, Time: 16.75 seconds, AUROC_VALID:0.4610\n",
      "Epoch: 220, Training Loss: 0.5359, AUROC_TRAIN:0.9151,  Time: 16.90 seconds \n",
      "Epoch: 221, Training Loss: 0.5187, AUROC_TRAIN:0.9225,  Time: 16.52 seconds \n",
      "Epoch: 222, Training Loss: 0.5396, AUROC_TRAIN:0.9122, Time: 16.08 seconds, AUROC_VALID:0.4624\n",
      "Epoch: 223, Training Loss: 0.5587, AUROC_TRAIN:0.8974,  Time: 16.86 seconds \n",
      "Epoch: 224, Training Loss: 0.4980, AUROC_TRAIN:0.9272,  Time: 16.48 seconds \n",
      "Epoch: 225, Training Loss: 0.5287, AUROC_TRAIN:0.9122, Time: 16.51 seconds, AUROC_VALID:0.4602\n",
      "Epoch: 226, Training Loss: 0.5397, AUROC_TRAIN:0.9097,  Time: 16.66 seconds \n",
      "Epoch: 227, Training Loss: 0.5172, AUROC_TRAIN:0.9170,  Time: 16.48 seconds \n",
      "Epoch: 228, Training Loss: 0.5426, AUROC_TRAIN:0.9061, Time: 16.43 seconds, AUROC_VALID:0.4583\n",
      "Epoch: 229, Training Loss: 0.5248, AUROC_TRAIN:0.9114,  Time: 16.68 seconds \n",
      "Epoch: 230, Training Loss: 0.5653, AUROC_TRAIN:0.9013,  Time: 16.62 seconds \n",
      "Epoch: 231, Training Loss: 0.5326, AUROC_TRAIN:0.9190, Time: 16.52 seconds, AUROC_VALID:0.4572\n",
      "Epoch: 232, Training Loss: 0.5380, AUROC_TRAIN:0.9093,  Time: 16.33 seconds \n",
      "Epoch: 233, Training Loss: 0.5412, AUROC_TRAIN:0.9058,  Time: 16.55 seconds \n",
      "Epoch: 234, Training Loss: 0.5047, AUROC_TRAIN:0.9270, Time: 16.62 seconds, AUROC_VALID:0.4560\n",
      "Epoch: 235, Training Loss: 0.5184, AUROC_TRAIN:0.9216,  Time: 16.32 seconds \n",
      "Epoch: 236, Training Loss: 0.5149, AUROC_TRAIN:0.9197,  Time: 16.73 seconds \n",
      "Epoch: 237, Training Loss: 0.5699, AUROC_TRAIN:0.8972, Time: 16.19 seconds, AUROC_VALID:0.4569\n",
      "Epoch: 238, Training Loss: 0.5181, AUROC_TRAIN:0.9195,  Time: 16.02 seconds \n",
      "Epoch: 239, Training Loss: 0.5119, AUROC_TRAIN:0.9244,  Time: 16.88 seconds \n",
      "Epoch: 240, Training Loss: 0.5529, AUROC_TRAIN:0.9106, Time: 17.06 seconds, AUROC_VALID:0.4606\n",
      "Epoch: 241, Training Loss: 0.4906, AUROC_TRAIN:0.9322,  Time: 16.92 seconds \n",
      "Epoch: 242, Training Loss: 0.5188, AUROC_TRAIN:0.9176,  Time: 16.77 seconds \n",
      "Epoch: 243, Training Loss: 0.5240, AUROC_TRAIN:0.9215, Time: 16.57 seconds, AUROC_VALID:0.4638\n",
      "Epoch: 244, Training Loss: 0.4819, AUROC_TRAIN:0.9336,  Time: 16.45 seconds \n",
      "Epoch: 245, Training Loss: 0.5219, AUROC_TRAIN:0.9169,  Time: 16.08 seconds \n",
      "Epoch: 246, Training Loss: 0.5034, AUROC_TRAIN:0.9283, Time: 15.92 seconds, AUROC_VALID:0.4611\n",
      "Epoch: 247, Training Loss: 0.5126, AUROC_TRAIN:0.9231,  Time: 16.54 seconds \n",
      "Epoch: 248, Training Loss: 0.5298, AUROC_TRAIN:0.9108,  Time: 16.73 seconds \n",
      "Epoch: 249, Training Loss: 0.5244, AUROC_TRAIN:0.9142, Time: 16.32 seconds, AUROC_VALID:0.4601\n",
      "Epoch: 250, Training Loss: 0.5275, AUROC_TRAIN:0.9170,  Time: 16.77 seconds \n"
     ]
    }
   ],
   "source": [
    "for epoch in range(250):\n",
    "    start_time = time.time()  # Start timer\n",
    "    all_gt_labels_train = torch.FloatTensor().to(device)\n",
    "    total_preds_train = torch.FloatTensor().to(device)\n",
    "\n",
    "    model.train()\n",
    "    running_loss = 0.0\n",
    "    for images, labels in train_loader:\n",
    "#         labels = labels.unsqueeze(1)\n",
    "        global_epochs += 1\n",
    "        images, labels = images.to(device), labels.to(device)\n",
    "        optimizer.zero_grad()\n",
    "        outputs = model(images).squeeze()\n",
    "\n",
    "        all_gt_labels_train = torch.cat((all_gt_labels_train, labels), 0)\n",
    "        total_preds_train = torch.cat((total_preds_train, outputs), 0)\n",
    "\n",
    "        loss = criterion(outputs, labels)\n",
    "        loss.backward()\n",
    "        optimizer.step()\n",
    "        writer.add_scalar('resnet-Loss/train', loss.item(), global_epochs)\n",
    "                \n",
    "        running_loss += loss.item()\n",
    "    \n",
    "    AUROC_TRAIN = compute_AUC(all_gt_labels_train, total_preds_train)\n",
    "#     AUROC_TRAIN = compute_AUC(all_gt_labels_train, torch.softmax(total_preds_train, dim=1)[:, 1])\n",
    "    writer.add_scalar('resnet-Loss/train-AUROC', AUROC_TRAIN, global_epochs)\n",
    "\n",
    "    \n",
    "    end_time = time.time()  # End timer\n",
    "    epoch_time = end_time - start_time\n",
    "    global_step += 1\n",
    "    \n",
    "    if global_step % 3 !=0:\n",
    "        print(f'Epoch: {global_step}, Training Loss: {(running_loss / len(train_loader)):.4f}, AUROC_TRAIN:{AUROC_TRAIN:.4f},  Time: {epoch_time:.2f} seconds ')\n",
    "    else:\n",
    "        model.eval()\n",
    "        with torch.no_grad():\n",
    "            all_gt_labels_val = torch.FloatTensor().to(device)\n",
    "            total_preds_val = torch.FloatTensor().to(device)\n",
    "            \n",
    "            for images, labels in val_loader:\n",
    "                images, labels = images.to(device), labels.to(device)\n",
    "                predicted = model(images).squeeze()\n",
    "                all_gt_labels_val = torch.cat((all_gt_labels_val, labels), 0)\n",
    "                total_preds_val = torch.cat((total_preds_val, predicted), 0)\n",
    "\n",
    "            AUROC_VAL = compute_AUC(all_gt_labels_val, total_preds_val)\n",
    "#             AUROC_VAL = compute_AUC(all_gt_labels_val, torch.softmax(total_preds_val, dim=1)[:, 1])\n",
    "            if best_AUROC < AUROC_VAL:\n",
    "                best_AUROC = AUROC_VAL\n",
    "                #change model output file name\n",
    "                save_model('ResNet18-BCE-adam-no-scheduler',model,global_step,AUROC_VAL)                \n",
    "                \n",
    "            print(f'Epoch: {global_step}, Training Loss: {(running_loss / len(train_loader)):.4f}, AUROC_TRAIN:{AUROC_TRAIN:.4f}, Time: {epoch_time:.2f} seconds, AUROC_VALID:{AUROC_VAL:.4f}')\n",
    "            writer.add_scalar('resnet-Loss/validation-AUROC', AUROC_VAL, global_epochs)"
   ]
  },
  {
   "cell_type": "code",
   "execution_count": 37,
   "id": "c9eba936",
   "metadata": {},
   "outputs": [],
   "source": [
    "# scripted_model = torch.jit.script(model)\n",
    "# torch.jit.save(scripted_model, 'resnet18-model-eczema-0.7815.pth')"
   ]
  },
  {
   "cell_type": "code",
   "execution_count": 38,
   "id": "740f19b2",
   "metadata": {},
   "outputs": [],
   "source": [
    "# loaded_model = loaded_model = torch.jit.load('resnet18-model-eczema-0.7815.pth')"
   ]
  },
  {
   "cell_type": "code",
   "execution_count": null,
   "id": "da16f512",
   "metadata": {},
   "outputs": [],
   "source": []
  },
  {
   "cell_type": "code",
   "execution_count": null,
   "id": "7d783155",
   "metadata": {},
   "outputs": [],
   "source": []
  }
 ],
 "metadata": {
  "kernelspec": {
   "display_name": "aihc-py39-kernel",
   "language": "python",
   "name": "aihc-py39-kernel"
  },
  "language_info": {
   "codemirror_mode": {
    "name": "ipython",
    "version": 3
   },
   "file_extension": ".py",
   "mimetype": "text/x-python",
   "name": "python",
   "nbconvert_exporter": "python",
   "pygments_lexer": "ipython3",
   "version": "3.9.20"
  }
 },
 "nbformat": 4,
 "nbformat_minor": 5
}
